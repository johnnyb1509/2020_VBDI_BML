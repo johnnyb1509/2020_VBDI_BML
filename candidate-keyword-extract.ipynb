{
 "cells": [
  {
   "cell_type": "code",
   "execution_count": 1,
   "metadata": {},
   "outputs": [],
   "source": [
    "from underthesea import pos_tag, chunk, word_tokenize\n",
    "from nltk import RegexpParser, Tree\n",
    "import pandas as pd\n",
    "import numpy as np"
   ]
  },
  {
   "cell_type": "code",
   "execution_count": 34,
   "metadata": {},
   "outputs": [],
   "source": [
    "from vncorenlp import VnCoreNLP\n",
    "annotator = VnCoreNLP(\"./VnCoreNLP-master/VnCoreNLP-1.1.1.jar\", annotators=\"wseg,pos\", max_heap_size='-Xmx500m') \n",
    "\n",
    "def vnpos(text): # part-of-speech tagging\n",
    "    annotated_text = annotator.annotate(text)\n",
    "    pos = []\n",
    "    for dic in annotated_text['sentences'][0]:\n",
    "#         if dic['posTag'] not in ['L','M','E','C','Cc','I','T','Y','Z','X','CH']:\n",
    "          pos.append(tuple([dic['form'], dic['posTag']]))\n",
    "        \n",
    "    return pos"
   ]
  },
  {
   "cell_type": "code",
   "execution_count": 2,
   "metadata": {},
   "outputs": [],
   "source": [
    "fix = pd.read_csv('./data/noise.csv')['Unnamed: 0'].values # index của các bài báo chứa data bị lỗi"
   ]
  },
  {
   "cell_type": "code",
   "execution_count": 3,
   "metadata": {},
   "outputs": [],
   "source": [
    "def preprocess(s): #loại bỏ punctuation\n",
    "    return s.replace(':','').replace(',','').replace('“','').replace('”','').replace('(','').replace(')','').replace('-','')"
   ]
  },
  {
   "cell_type": "code",
   "execution_count": 4,
   "metadata": {},
   "outputs": [
    {
     "data": {
      "text/plain": [
       "0    . tên người thực hiện giao dịch phạm nhật vượn...\n",
       "1    tổ chức thực hiện giao dịch công ty cổ phần cơ...\n",
       "2    số lượng tại thời điểm  công văn cvssiho xác n...\n",
       "3    đơn vị tỷ vnđ khoản mục quý iii tháng giá trị ...\n",
       "4    đơn vị vnd stt chỉ tiêu quý  lũy kế tháng đầu ...\n",
       "Name: NewsFullContent, dtype: object"
      ]
     },
     "execution_count": 4,
     "metadata": {},
     "output_type": "execute_result"
    }
   ],
   "source": [
    "df = pd.read_csv('./data/filtered_news.csv').drop('Unnamed: 0', axis=1)\n",
    "text = df.NewsFullContent.apply(lambda s: preprocess(str(s))).replace('', np.nan)\n",
    "# text = df.NewsFullContent.replace('', np.nan)\n",
    "text = text[text.notna()] # loại bỏ các dòng NewsFullContent rỗng\n",
    "text.head()"
   ]
  },
  {
   "cell_type": "code",
   "execution_count": 5,
   "metadata": {},
   "outputs": [
    {
     "name": "stdout",
     "output_type": "stream",
     "text": [
      "                                         NewsFullContent\n",
      "0      . tên người thực hiện giao dịch phạm nhật vượn...\n",
      "1      tổ chức thực hiện giao dịch công ty cổ phần cơ...\n",
      "2      số lượng tại thời điểm  công văn cvssiho xác n...\n",
      "3      đơn vị tỷ vnđ khoản mục quý iii tháng giá trị ...\n",
      "4      đơn vị vnd stt chỉ tiêu quý  lũy kế tháng đầu ...\n",
      "...                                                  ...\n",
      "15687  cổ phiếu ctg  có dấu hiệu mua chủ động với khố...\n",
      "15688  cổ phiếu ssi  có dấu hiệu bán chủ động với khố...\n",
      "15689  cổ phiếu pnj  có dấu hiệu bán chủ động với khố...\n",
      "15690  chốt phiên giao dịch ngày  cổ phiếu vcb dừng ở...\n",
      "15691  hội đồng quản trị công ty cổ phần tập đoàn mas...\n",
      "\n",
      "[15692 rows x 1 columns]\n"
     ]
    }
   ],
   "source": [
    "text = text.reset_index().drop('index', axis=1).drop(index=fix, axis=0).reset_index().drop('index', axis=1) #loại bỏ các bài báo chứa data bị lỗi\n",
    "print(text)"
   ]
  },
  {
   "cell_type": "markdown",
   "metadata": {},
   "source": [
    "# Candidate keyword extraction"
   ]
  },
  {
   "cell_type": "code",
   "execution_count": 37,
   "metadata": {},
   "outputs": [
    {
     "name": "stdout",
     "output_type": "stream",
     "text": [
      "Tổng công ty Điện lực Dầu khí Việt Nam (PV Power – POW) đang thực hiện các bước để thực hiện thoái vốn tại CTCP Máy - Thiết bị Dầu khí (PV Machino – PVM). PV Power đang thuê định giá và tư vấn thoái vốn, ông Hồ Công Kỳ cho biết tại ĐHĐCĐ bất thường tổ chức ngày. \"Trên cơ sở kết quả tư vấn, HĐQT sẽ xem xét phương thức thoái vốn cụ thể. Chúng tôi sẽ triển khai minh bạch và tuân thủ quy định pháp luật. Các tổ chức định giá sẽ phải nắm bắt đầy đủ tình hình tài sản của PVM, kể cả các bất động sản\", ông Kỳ nói thêm. Việc thoái vốn tại PV Machino được nhiều cổ đông PV Power quan tâm tại ĐHĐCĐ bất thường hôm nay. Bản thân PV Power đang là công ty mẹ, sở hữu cổ phần, tương ứng gần tỷ đồng trên vốn điều lệ. Ông Hồ Công Kỳ cho biết, PV Power mua PVM dưới mệnh giá, thoái vốn lợi nhuận ít nhất vài trăm tỷ (chia sẻ bên thềm đại hội). Chủ tịch POW không hẳn không có lý khi giá trên sàn của PVM hiện đã vượt mức đồng. Nhưng cổ đông POW đang kỳ vọng nhiều hơn dựa trên những tài sản của PV Machino hiện có, bao gồm bất động sản tại công ty này và tiềm năng của các công ty liên doanh liên kết. Ông Hồ Công Kỳ cho biết công ty sẽ xem xét đầy đủ các phương án thoái vốn để có thể đem lại hiệu quả cao nhất. Cổ phiếu PVM từng có thời điểm rớt xuống mức giá đồng trong năm nay, tuy nhiên trong hơn tháng gần đây đạt mức tăng hết sức ấn tượng, lên gần gấp đôi. Trong phiên giao dịch ngày, PVM bất ngờ xuất hiện giao dịch khớp lệnh đột biến triệu cổ phiếu mức giá sàn đồng. Điều này gây chú ý bởi trước đó, thanh khoản của cổ phiếu này chỉ vỏn vẹn vài nghìn đơn vị mỗi phiên. Kể từ giao dịch \"khủng\", PVM bước vào đà tăng giá mạnh mẽ, bên cạnh đó thanh khoản được cải thiện rõ rệt. Trên thực tế, thoái vốn tại PV Machino nằm trong đề án tái cấu trúc PV Power đã được ĐHĐCĐ thường niên phê duyệt. PVM cũng nằm trong danh sách mà PV Power phải thoái vốn trong giai đoạn. Tuy nhiên vừa qua HĐTV PVN đã cho phép POW nếu không thể hoàn thành trong năm có thể chuyển sang. POW hiện còn khoản đầu tư nắm dưới nằm trong diện tái cơ cấu, theo ông Hồ Công Kỳ.\n"
     ]
    }
   ],
   "source": [
    "with open('./data/text.txt', 'r', encoding=\"utf8\") as f:\n",
    "    text = f.read()\n",
    "print(text)"
   ]
  },
  {
   "cell_type": "code",
   "execution_count": 44,
   "metadata": {},
   "outputs": [
    {
     "data": {
      "text/plain": [
       "'Tổng công ty Điện lực Dầu khí Việt Nam PV Power POW đang thực hiện các bước để thực hiện thoái vốn tại CTCP Máy Thiết bị Dầu khí PV Machino PVM. PV Power đang thuê định giá và tư vấn thoái vốn, ông Hồ Công Kỳ cho biết tại ĐHĐCĐ bất thường tổ chức ngày. Trên cơ sở kết quả tư vấn, HĐQT sẽ xem xét phương thức thoái vốn cụ thể. Chúng tôi sẽ triển khai minh bạch và tuân thủ quy định pháp luật. Các tổ chức định giá sẽ phải nắm bắt đầy đủ tình hình tài sản của PVM, kể cả các bất động sản, ông Kỳ nói thêm. Việc thoái vốn tại PV Machino được nhiều cổ đông PV Power quan tâm tại ĐHĐCĐ bất thường hôm nay. Bản thân PV Power đang là công ty mẹ, sở hữu cổ phần, tương ứng gần tỷ đồng trên vốn điều lệ. Ông Hồ Công Kỳ cho biết, PV Power mua PVM dưới mệnh giá, thoái vốn lợi nhuận ít nhất vài trăm tỷ chia sẻ bên thềm đại hội. Chủ tịch POW không hẳn không có lý khi giá trên sàn của PVM hiện đã vượt mức đồng. Nhưng cổ đông POW đang kỳ vọng nhiều hơn dựa trên những tài sản của PV Machino hiện có, bao gồm bất động sản tại công ty này và tiềm năng của các công ty liên doanh liên kết. Ông Hồ Công Kỳ cho biết công ty sẽ xem xét đầy đủ các phương án thoái vốn để có thể đem lại hiệu quả cao nhất. Cổ phiếu PVM từng có thời điểm rớt xuống mức giá đồng trong năm nay, tuy nhiên trong hơn tháng gần đây đạt mức tăng hết sức ấn tượng, lên gần gấp đôi. Trong phiên giao dịch ngày, PVM bất ngờ xuất hiện giao dịch khớp lệnh đột biến triệu cổ phiếu mức giá sàn đồng. Điều này gây chú ý bởi trước đó, thanh khoản của cổ phiếu này chỉ vỏn vẹn vài nghìn đơn vị mỗi phiên. Kể từ giao dịch khủng, PVM bước vào đà tăng giá mạnh mẽ, bên cạnh đó thanh khoản được cải thiện rõ rệt. Trên thực tế, thoái vốn tại PV Machino nằm trong đề án tái cấu trúc PV Power đã được ĐHĐCĐ thường niên phê duyệt. PVM cũng nằm trong danh sách mà PV Power phải thoái vốn trong giai đoạn. Tuy nhiên vừa qua HĐTV PVN đã cho phép POW nếu không thể hoàn thành trong năm có thể chuyển sang. POW hiện còn khoản đầu tư nắm dưới nằm trong diện tái cơ cấu, theo ông Hồ Công Kỳ.'"
      ]
     },
     "execution_count": 44,
     "metadata": {},
     "output_type": "execute_result"
    }
   ],
   "source": [
    "text = text.replace(\"(\",\"\").replace(\")\",\"\").replace('\"','').replace('– ','').replace('- ','')\n",
    "text"
   ]
  },
  {
   "cell_type": "code",
   "execution_count": 49,
   "metadata": {},
   "outputs": [
    {
     "data": {
      "text/plain": [
       "356"
      ]
     },
     "execution_count": 49,
     "metadata": {},
     "output_type": "execute_result"
    }
   ],
   "source": [
    "len(word_tokenize(text))"
   ]
  },
  {
   "cell_type": "code",
   "execution_count": 41,
   "metadata": {},
   "outputs": [],
   "source": [
    "grammar = r\"\"\"\n",
    "                NP: {(<N.*>+ <A>* <E>)? <N.*>+ <A>*}\n",
    "                VP: {<V.*>+ <L>* <N.*>* <R>* <A>*}\n",
    "           \"\"\" \n",
    "# VP: {<V.*>((<N.*>+ <A>* <E>)? <N.*>+ <A>*)?<R>*<A>*}\n",
    "chunker = RegexpParser(grammar)"
   ]
  },
  {
   "cell_type": "code",
   "execution_count": 35,
   "metadata": {},
   "outputs": [],
   "source": [
    "def get_continuous_chunks(text, chunk_func=chunker.parse):\n",
    "#     text_tokens = word_tokenize(text)\n",
    "#     tokens_without_sw = [word for word in text_tokens if not word in stopwords]\n",
    "#     filter_sent = (\" \").join(tokens_without_sw)\n",
    "#     pos = pos_tag(text)\n",
    "#     pos_filter = [(a,b) for (a,b) in pos if b not in ['L','M','E','C','Cc','I','T','Y','Z','X','CH']]\n",
    "    chunked = chunk_func(vnpos(text))\n",
    "    continuous_chunk = []\n",
    "    current_chunk = []\n",
    "\n",
    "    for subtree in chunked:\n",
    "        if type(subtree) == Tree:\n",
    "            current_chunk.append(\" \".join([token for token, pos in subtree.leaves()]))\n",
    "        elif current_chunk:\n",
    "            named_entity = \" \".join(current_chunk)\n",
    "            if named_entity not in continuous_chunk:\n",
    "                continuous_chunk.append(named_entity)\n",
    "                current_chunk = []\n",
    "        else:\n",
    "            continue\n",
    "\n",
    "    return continuous_chunk"
   ]
  },
  {
   "cell_type": "code",
   "execution_count": null,
   "metadata": {},
   "outputs": [],
   "source": [
    "candidate_keyword = text.NewsFullContent.apply(lambda s: get_continuous_chunks(s)) "
   ]
  },
  {
   "cell_type": "code",
   "execution_count": 40,
   "metadata": {},
   "outputs": [
    {
     "data": {
      "text/plain": [
       "[('Tổng_công_ty', 'N'),\n",
       " ('Điện_lực', 'N'),\n",
       " ('Dầu_khí', 'N'),\n",
       " ('Việt_Nam', 'Np'),\n",
       " ('PV', 'Ny'),\n",
       " ('Power_POW', 'Np'),\n",
       " ('đang', 'R'),\n",
       " ('thực_hiện', 'V'),\n",
       " ('các', 'L'),\n",
       " ('bước', 'N'),\n",
       " ('để', 'E'),\n",
       " ('thực_hiện', 'V'),\n",
       " ('thoái', 'V'),\n",
       " ('vốn', 'N'),\n",
       " ('tại', 'E'),\n",
       " ('CTCP', 'Ny'),\n",
       " ('Máy', 'Np'),\n",
       " ('-', 'CH'),\n",
       " ('Thiết_bị', 'V'),\n",
       " ('Dầu_khí', 'N'),\n",
       " ('PV', 'Ny'),\n",
       " ('Machino_PVM', 'Np'),\n",
       " ('.', 'CH')]"
      ]
     },
     "execution_count": 40,
     "metadata": {},
     "output_type": "execute_result"
    }
   ],
   "source": [
    "vnpos(text)"
   ]
  },
  {
   "cell_type": "code",
   "execution_count": 42,
   "metadata": {},
   "outputs": [
    {
     "data": {
      "text/plain": [
       "['Tổng_công_ty Điện_lực Dầu_khí Việt_Nam PV Power_POW',\n",
       " 'thực_hiện',\n",
       " 'bước',\n",
       " 'thực_hiện thoái vốn tại CTCP Máy',\n",
       " 'Thiết_bị Dầu_khí PV Machino_PVM']"
      ]
     },
     "execution_count": 42,
     "metadata": {},
     "output_type": "execute_result"
    }
   ],
   "source": [
    "get_continuous_chunks(text)"
   ]
  },
  {
   "cell_type": "code",
   "execution_count": null,
   "metadata": {},
   "outputs": [],
   "source": []
  }
 ],
 "metadata": {
  "kernelspec": {
   "display_name": "Python 3",
   "language": "python",
   "name": "python3"
  },
  "language_info": {
   "codemirror_mode": {
    "name": "ipython",
    "version": 3
   },
   "file_extension": ".py",
   "mimetype": "text/x-python",
   "name": "python",
   "nbconvert_exporter": "python",
   "pygments_lexer": "ipython3",
   "version": "3.6.12"
  }
 },
 "nbformat": 4,
 "nbformat_minor": 4
}