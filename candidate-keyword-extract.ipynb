{
 "cells": [
  {
   "cell_type": "code",
   "execution_count": 2,
   "metadata": {},
   "outputs": [],
   "source": [
    "from underthesea import pos_tag, chunk, word_tokenize\n",
    "from nltk import RegexpParser, Tree\n",
    "import pandas as pd\n",
    "import numpy as np"
   ]
  },
  {
   "cell_type": "code",
   "execution_count": 3,
   "metadata": {},
   "outputs": [],
   "source": [
    "from vncorenlp import VnCoreNLP\n",
    "annotator = VnCoreNLP(\"./VnCoreNLP-master/VnCoreNLP-1.1.1.jar\", annotators=\"wseg,pos\", max_heap_size='-Xmx500m') "
   ]
  },
  {
   "cell_type": "code",
   "execution_count": 4,
   "metadata": {},
   "outputs": [],
   "source": [
    "fix = pd.read_csv('./data/noise.csv')['Unnamed: 0'].values # index của các bài báo chứa data bị lỗi"
   ]
  },
  {
   "cell_type": "code",
   "execution_count": 5,
   "metadata": {},
   "outputs": [],
   "source": [
    "def preprocess(s): #loại bỏ punctuation\n",
    "    return s.replace(':','').replace(',','').replace('“','').replace('”','').replace('(','').replace(')','').replace('-','').replace('.','')"
   ]
  },
  {
   "cell_type": "code",
   "execution_count": 6,
   "metadata": {},
   "outputs": [
    {
     "data": {
      "text/plain": [
       "0     tên người thực hiện giao dịch phạm nhật vượng...\n",
       "1    tổ chức thực hiện giao dịch công ty cổ phần cơ...\n",
       "2    số lượng tại thời điểm  công văn cvssiho xác n...\n",
       "3    đơn vị tỷ vnđ khoản mục quý iii tháng giá trị ...\n",
       "4    đơn vị vnd stt chỉ tiêu quý  lũy kế tháng đầu ...\n",
       "Name: NewsFullContent, dtype: object"
      ]
     },
     "execution_count": 6,
     "metadata": {},
     "output_type": "execute_result"
    }
   ],
   "source": [
    "df = pd.read_csv('./data/filtered_news.csv').drop('Unnamed: 0', axis=1)\n",
    "text = df.NewsFullContent.apply(lambda s: preprocess(str(s))).replace('', np.nan)\n",
    "text = text[text.notna()] # loại bỏ các dòng NewsFullContent rỗng\n",
    "text.head()"
   ]
  },
  {
   "cell_type": "code",
   "execution_count": 7,
   "metadata": {},
   "outputs": [
    {
     "name": "stdout",
     "output_type": "stream",
     "text": [
      "                                         NewsFullContent\n",
      "0       tên người thực hiện giao dịch phạm nhật vượng...\n",
      "1      tổ chức thực hiện giao dịch công ty cổ phần cơ...\n",
      "2      số lượng tại thời điểm  công văn cvssiho xác n...\n",
      "3      đơn vị tỷ vnđ khoản mục quý iii tháng giá trị ...\n",
      "4      đơn vị vnd stt chỉ tiêu quý  lũy kế tháng đầu ...\n",
      "...                                                  ...\n",
      "15687  cổ phiếu ctg  có dấu hiệu mua chủ động với khố...\n",
      "15688  cổ phiếu ssi  có dấu hiệu bán chủ động với khố...\n",
      "15689  cổ phiếu pnj  có dấu hiệu bán chủ động với khố...\n",
      "15690  chốt phiên giao dịch ngày  cổ phiếu vcb dừng ở...\n",
      "15691  hội đồng quản trị công ty cổ phần tập đoàn mas...\n",
      "\n",
      "[15692 rows x 1 columns]\n"
     ]
    }
   ],
   "source": [
    "text = text.reset_index().drop('index', axis=1).drop(index=fix, axis=0).reset_index().drop('index', axis=1) #loại bỏ các bài báo chứa data bị lỗi\n",
    "print(text)"
   ]
  },
  {
   "cell_type": "code",
   "execution_count": 8,
   "metadata": {},
   "outputs": [],
   "source": [
    "def vnpos(text): # part-of-speech tagging\n",
    "    annotated_text = annotator.annotate(text)\n",
    "    pos = []\n",
    "    for dic in annotated_text['sentences'][0]:\n",
    "        if dic['posTag'] not in ['L','M','E','C','Cc','I','T','Y','Z','X','CH']:\n",
    "            pos.append(tuple([dic['form'], dic['posTag']]))\n",
    "        \n",
    "    return pos"
   ]
  },
  {
   "cell_type": "code",
   "execution_count": 30,
   "metadata": {},
   "outputs": [],
   "source": [
    "VP = \"VP: {<N.>* <V>+ <R>*}\"\n",
    "NP = \"NP: {(<N.>+ <A> <E>)? <N.>+ <A>}\" #heuristic rule\n",
    "# VA = \"VA : {<V>+ <N.>+ <V>* <A>*}\"\n",
    "# VR = \"VR : {<V>+ <N.>+ <V>* <R>*}\"\n",
    "# NP = \"NP : {<V>+ <N.>+ <A>*}\"\n",
    "# VP = \"VP : {<V>+ <N.>+ <R>*}\"\n",
    "chunker = RegexpParser(VP, NP)"
   ]
  },
  {
   "cell_type": "code",
   "execution_count": 31,
   "metadata": {},
   "outputs": [],
   "source": [
    "def get_continuous_chunks(text, chunk_func=chunker.parse):\n",
    "#     text_tokens = word_tokenize(text)\n",
    "#     tokens_without_sw = [word for word in text_tokens if not word in stopwords]\n",
    "#     filter_sent = (\" \").join(tokens_without_sw)\n",
    "    pos = pos_tag(text)\n",
    "    pos_filter = [(a,b) for (a,b) in pos if b not in ['L','M','E','C','Cc','I','T','Y','Z','X','CH']]\n",
    "    chunked = chunk_func(pos_filter)\n",
    "    continuous_chunk = []\n",
    "    current_chunk = []\n",
    "\n",
    "    for subtree in chunked:\n",
    "        if type(subtree) == Tree:\n",
    "            current_chunk.append(\" \".join([token for token, pos in subtree.leaves()]))\n",
    "        elif current_chunk:\n",
    "            named_entity = \" \".join(current_chunk)\n",
    "            if named_entity not in continuous_chunk:\n",
    "                continuous_chunk.append(named_entity)\n",
    "                current_chunk = []\n",
    "        else:\n",
    "            continue\n",
    "\n",
    "    return continuous_chunk"
   ]
  },
  {
   "cell_type": "code",
   "execution_count": null,
   "metadata": {},
   "outputs": [],
   "source": [
    "candidate_keyword = text.NewsFullContent.apply(lambda s: get_continuous_chunks(s)) "
   ]
  },
  {
   "cell_type": "code",
   "execution_count": null,
   "metadata": {},
   "outputs": [],
   "source": []
  }
 ],
 "metadata": {
  "kernelspec": {
   "display_name": "Python 3",
   "language": "python",
   "name": "python3"
  },
  "language_info": {
   "codemirror_mode": {
    "name": "ipython",
    "version": 3
   },
   "file_extension": ".py",
   "mimetype": "text/x-python",
   "name": "python",
   "nbconvert_exporter": "python",
   "pygments_lexer": "ipython3",
   "version": "3.6.12"
  }
 },
 "nbformat": 4,
 "nbformat_minor": 4
}
