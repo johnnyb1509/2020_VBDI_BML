{
 "metadata": {
  "language_info": {
   "codemirror_mode": {
    "name": "ipython",
    "version": 3
   },
   "file_extension": ".py",
   "mimetype": "text/x-python",
   "name": "python",
   "nbconvert_exporter": "python",
   "pygments_lexer": "ipython3",
   "version": "3.8.5-final"
  },
  "orig_nbformat": 2,
  "kernelspec": {
   "name": "python3",
   "display_name": "Python 3",
   "language": "python"
  }
 },
 "nbformat": 4,
 "nbformat_minor": 2,
 "cells": [
  {
   "cell_type": "code",
   "execution_count": 45,
   "metadata": {},
   "outputs": [],
   "source": [
    "import pandas as pd\n",
    "from vncorenlp import VnCoreNLP\n",
    "import ast"
   ]
  },
  {
   "cell_type": "code",
   "execution_count": 70,
   "metadata": {},
   "outputs": [
    {
     "output_type": "execute_result",
     "data": {
      "text/plain": [
       "                                           NewsTitle  \\\n",
       "0             VCB ký hợp đồng vay vốn 100 triệu USD    \n",
       "1  Kết thúc Phiên 1, 30/10: STB và PPC đang &quot...   \n",
       "2                   Ngày 23/3, Hose đón tân binh PNJ   \n",
       "3                          Sắp khởi công Đại học FPT   \n",
       "4           SSI đứng đầu thị phần môi giới cổ phiếu    \n",
       "\n",
       "                                     NewsFullContent  \\\n",
       "0  Ông Nguyễn Hòa Bình Chủ tịch HĐQT của VCB cho ...   \n",
       "1  Trong khi thị trường Châu Âu có phiên tăng điể...   \n",
       "2  Kế hoạch này đã được đại diện PNJ bà Cao Thị N...   \n",
       "3  Theo đó tháng 7/2009 Đại học FPT sẽ chính thức...   \n",
       "4  Trong khi chỉ có 5 công ty nắm tới trên 30 ngh...   \n",
       "\n",
       "                                               label  \n",
       "0  [('ông', 0), ('nguyễn hoà bình chủ tịch', 0), ...  \n",
       "1  [('trong', 0), ('khi', 0), ('thị trường', 1), ...  \n",
       "2  [('kế hoạch', 1), ('này', 0), ('đã', 0), ('đượ...  \n",
       "3  [('theo', 1), ('đó', 0), ('tháng', 1), ('7/200...  \n",
       "4  [('trong', 0), ('khi', 0), ('chỉ', 1), ('có', ...  "
      ],
      "text/html": "<div>\n<style scoped>\n    .dataframe tbody tr th:only-of-type {\n        vertical-align: middle;\n    }\n\n    .dataframe tbody tr th {\n        vertical-align: top;\n    }\n\n    .dataframe thead th {\n        text-align: right;\n    }\n</style>\n<table border=\"1\" class=\"dataframe\">\n  <thead>\n    <tr style=\"text-align: right;\">\n      <th></th>\n      <th>NewsTitle</th>\n      <th>NewsFullContent</th>\n      <th>label</th>\n    </tr>\n  </thead>\n  <tbody>\n    <tr>\n      <th>0</th>\n      <td>VCB ký hợp đồng vay vốn 100 triệu USD</td>\n      <td>Ông Nguyễn Hòa Bình Chủ tịch HĐQT của VCB cho ...</td>\n      <td>[('ông', 0), ('nguyễn hoà bình chủ tịch', 0), ...</td>\n    </tr>\n    <tr>\n      <th>1</th>\n      <td>Kết thúc Phiên 1, 30/10: STB và PPC đang &amp;quot...</td>\n      <td>Trong khi thị trường Châu Âu có phiên tăng điể...</td>\n      <td>[('trong', 0), ('khi', 0), ('thị trường', 1), ...</td>\n    </tr>\n    <tr>\n      <th>2</th>\n      <td>Ngày 23/3, Hose đón tân binh PNJ</td>\n      <td>Kế hoạch này đã được đại diện PNJ bà Cao Thị N...</td>\n      <td>[('kế hoạch', 1), ('này', 0), ('đã', 0), ('đượ...</td>\n    </tr>\n    <tr>\n      <th>3</th>\n      <td>Sắp khởi công Đại học FPT</td>\n      <td>Theo đó tháng 7/2009 Đại học FPT sẽ chính thức...</td>\n      <td>[('theo', 1), ('đó', 0), ('tháng', 1), ('7/200...</td>\n    </tr>\n    <tr>\n      <th>4</th>\n      <td>SSI đứng đầu thị phần môi giới cổ phiếu</td>\n      <td>Trong khi chỉ có 5 công ty nắm tới trên 30 ngh...</td>\n      <td>[('trong', 0), ('khi', 0), ('chỉ', 1), ('có', ...</td>\n    </tr>\n  </tbody>\n</table>\n</div>"
     },
     "metadata": {},
     "execution_count": 70
    }
   ],
   "source": [
    "df = pd.read_csv('./data/data_labeled_updated.csv').drop('Unnamed: 0', axis=1)\n",
    "df.head()"
   ]
  },
  {
   "cell_type": "code",
   "execution_count": 71,
   "metadata": {},
   "outputs": [
    {
     "output_type": "execute_result",
     "data": {
      "text/plain": [
       "str"
      ]
     },
     "metadata": {},
     "execution_count": 71
    }
   ],
   "source": [
    "type(df.loc[0, 'label'])"
   ]
  },
  {
   "source": [
    "# Label"
   ],
   "cell_type": "markdown",
   "metadata": {}
  },
  {
   "cell_type": "code",
   "execution_count": 72,
   "metadata": {},
   "outputs": [],
   "source": [
    "df['list_label'] = df['label'].apply(lambda x: ast.literal_eval(x))"
   ]
  },
  {
   "cell_type": "code",
   "execution_count": 75,
   "metadata": {},
   "outputs": [],
   "source": [
    "def get_y(text):\n",
    "    return [word[1] for word in text]\n",
    "\n",
    "y = df['list_label'].apply(lambda x: get_y(x)).to_list()"
   ]
  },
  {
   "source": [
    "# NER feature"
   ],
   "cell_type": "markdown",
   "metadata": {}
  },
  {
   "cell_type": "code",
   "execution_count": 5,
   "metadata": {},
   "outputs": [],
   "source": [
    "annotator = VnCoreNLP(r\"./VnCoreNLP-master/VnCoreNLP-1.1.1.jar\", annotators=\"wseg\", max_heap_size='-Xmx500m') "
   ]
  },
  {
   "cell_type": "code",
   "execution_count": 49,
   "metadata": {},
   "outputs": [],
   "source": [
    "def word_segment(text):\n",
    "    annotated_text = annotator.annotate(text)['sentences'][0]\n",
    "    return [dic['form'].replace('_',' ').lower() for dic in annotated_text] "
   ]
  },
  {
   "cell_type": "code",
   "execution_count": 50,
   "metadata": {},
   "outputs": [],
   "source": [
    "df['word_segment'] = df['NewsFullContent'].apply(lambda text: word_segment(text))"
   ]
  },
  {
   "cell_type": "code",
   "execution_count": 51,
   "metadata": {},
   "outputs": [
    {
     "output_type": "execute_result",
     "data": {
      "text/plain": [
       "                                                 ner\n",
       "0  [vcb, intesa sanpaolo, italia, cửu long, hà nộ...\n",
       "1  [châu âu, hastc index, nhiệt điện, thương mại,...\n",
       "2  [sfc, nhiên liệu, chứng khoán, thương mại, vàn...\n",
       "3  [fpt, công ty, đại học, nihon sekkei nhật bản,...\n",
       "4  [sài gòn, hose, á châu, ck, bsc, ngoại thương,..."
      ],
      "text/html": "<div>\n<style scoped>\n    .dataframe tbody tr th:only-of-type {\n        vertical-align: middle;\n    }\n\n    .dataframe tbody tr th {\n        vertical-align: top;\n    }\n\n    .dataframe thead th {\n        text-align: right;\n    }\n</style>\n<table border=\"1\" class=\"dataframe\">\n  <thead>\n    <tr style=\"text-align: right;\">\n      <th></th>\n      <th>ner</th>\n    </tr>\n  </thead>\n  <tbody>\n    <tr>\n      <th>0</th>\n      <td>[vcb, intesa sanpaolo, italia, cửu long, hà nộ...</td>\n    </tr>\n    <tr>\n      <th>1</th>\n      <td>[châu âu, hastc index, nhiệt điện, thương mại,...</td>\n    </tr>\n    <tr>\n      <th>2</th>\n      <td>[sfc, nhiên liệu, chứng khoán, thương mại, vàn...</td>\n    </tr>\n    <tr>\n      <th>3</th>\n      <td>[fpt, công ty, đại học, nihon sekkei nhật bản,...</td>\n    </tr>\n    <tr>\n      <th>4</th>\n      <td>[sài gòn, hose, á châu, ck, bsc, ngoại thương,...</td>\n    </tr>\n  </tbody>\n</table>\n</div>"
     },
     "metadata": {},
     "execution_count": 51
    }
   ],
   "source": [
    "ner = pd.read_csv('./data/ner.csv').drop('Unnamed: 0', axis=1)\n",
    "ner['ner'] = ner['ner'].apply(lambda x: ast.literal_eval(x))\n",
    "ner.head()"
   ]
  },
  {
   "cell_type": "code",
   "execution_count": 52,
   "metadata": {},
   "outputs": [],
   "source": [
    "df = pd.concat([df, ner], axis=1)"
   ]
  },
  {
   "cell_type": "code",
   "execution_count": 57,
   "metadata": {},
   "outputs": [],
   "source": [
    "def ner_tag(row):\n",
    "    keywords = row['ner']\n",
    "    text = row['word_segment']\n",
    "    text_df = pd.DataFrame(text)\n",
    "    text_df.columns = ['word']\n",
    "\n",
    "    text_df['tag'] = text_df['word'].apply(lambda x: tag(x, keywords))\n",
    "    \n",
    "#     return list(zip(text_df['word'], text_df['tag']))\n",
    "    return list(text_df['tag'])"
   ]
  },
  {
   "cell_type": "code",
   "execution_count": 58,
   "metadata": {},
   "outputs": [],
   "source": [
    "name_entity_reg = []\n",
    "for i,row in df.iterrows():\n",
    "    name_entity_reg.append(ner_tag(row))\n",
    "\n",
    "df['name_entity'] = name_entity_reg"
   ]
  },
  {
   "cell_type": "code",
   "execution_count": 83,
   "metadata": {},
   "outputs": [],
   "source": [
    "# ner = VnCoreNLP(\"./VnCoreNLP-master/VnCoreNLP-1.1.1.jar\", annotators=\"wseg,pos,ner\", max_heap_size='-Xmx2g')"
   ]
  },
  {
   "cell_type": "code",
   "execution_count": 20,
   "metadata": {},
   "outputs": [],
   "source": [
    "# def vnner(text):\n",
    "#     annotated_text = ner.annotate(text)\n",
    "#     pos = []\n",
    "#     for dic in annotated_text['sentences'][0]:\n",
    "#         if dic['nerLabel'] != 'O':\n",
    "#             pos.append(dic['form'].replace('_',' ').lower())\n",
    "        \n",
    "#     return list(set(pos))\n",
    "\n",
    "# def tag(word, dic):\n",
    "#     if word in dic:\n",
    "#         return True\n",
    "#     else:\n",
    "#         return False\n",
    "\n",
    "# def ner_tag(row):\n",
    "#     keywords = vnner(row['NewsFullContent'])\n",
    "#     text = row['word_segment']\n",
    "#     text_df = pd.DataFrame(text)\n",
    "#     text_df.columns = ['word']\n",
    "\n",
    "#     text_df['tag'] = text_df['word'].apply(lambda x: tag(x, keywords))\n",
    "    \n",
    "# #     return list(zip(text_df['word'], text_df['tag']))\n",
    "#     return list(text_df['tag'])"
   ]
  },
  {
   "source": [
    "# Title"
   ],
   "cell_type": "markdown",
   "metadata": {}
  },
  {
   "cell_type": "code",
   "execution_count": 61,
   "metadata": {},
   "outputs": [],
   "source": [
    "def tag(word, dic):\n",
    "    if word in dic:\n",
    "        return True\n",
    "    else:\n",
    "        return False\n",
    "\n",
    "def title_detect(row):\n",
    "    annotated_text = annotator.annotate(row['NewsTitle'])['sentences'][0]\n",
    "    title = [dic['form'].replace('_',' ').lower() for dic in annotated_text] \n",
    "    \n",
    "    text = row['word_segment']\n",
    "    text_df = pd.DataFrame(text)\n",
    "    text_df.columns = ['word']\n",
    "\n",
    "    text_df['tag'] = text_df['word'].apply(lambda x: tag(x, title))\n",
    "    \n",
    "    return list(text_df['tag'])"
   ]
  },
  {
   "cell_type": "code",
   "execution_count": 62,
   "metadata": {},
   "outputs": [],
   "source": [
    "title_tag = []\n",
    "for i,row in df.iterrows():\n",
    "    title_tag.append(title_detect(row))\n",
    "\n",
    "df['title_tag'] = title_tag"
   ]
  },
  {
   "cell_type": "code",
   "execution_count": 64,
   "metadata": {},
   "outputs": [],
   "source": [
    "df[['name_entity', 'title_tag']].to_csv('./data/ner_title_feature.csv')"
   ]
  },
  {
   "cell_type": "code",
   "execution_count": 69,
   "metadata": {},
   "outputs": [
    {
     "output_type": "execute_result",
     "data": {
      "text/plain": [
       "                                           name_entity  \\\n",
       "0    [False, False, False, False, True, False, Fals...   \n",
       "1    [False, False, False, True, False, False, Fals...   \n",
       "2    [False, False, False, False, False, True, Fals...   \n",
       "3    [False, False, False, False, True, True, False...   \n",
       "4    [False, False, False, False, False, False, Fal...   \n",
       "..                                                 ...   \n",
       "644  [False, True, True, True, True, False, False, ...   \n",
       "645  [False, True, True, True, True, False, False, ...   \n",
       "646  [False, False, False, False, False, False, Fal...   \n",
       "647  [False, True, True, False, False, False, False...   \n",
       "648  [False, False, False, False, False, False, Fal...   \n",
       "\n",
       "                                             title_tag  \n",
       "0    [False, False, False, False, True, False, Fals...  \n",
       "1    [False, False, False, False, False, True, Fals...  \n",
       "2    [False, False, False, False, False, True, Fals...  \n",
       "3    [False, False, False, False, True, True, False...  \n",
       "4    [False, False, False, False, False, False, Fal...  \n",
       "..                                                 ...  \n",
       "644  [False, False, False, False, False, False, Fal...  \n",
       "645  [False, False, False, False, False, False, Fal...  \n",
       "646  [False, True, False, False, False, False, Fals...  \n",
       "647  [False, False, True, False, False, False, Fals...  \n",
       "648  [False, False, False, False, False, False, Fal...  \n",
       "\n",
       "[649 rows x 2 columns]"
      ],
      "text/html": "<div>\n<style scoped>\n    .dataframe tbody tr th:only-of-type {\n        vertical-align: middle;\n    }\n\n    .dataframe tbody tr th {\n        vertical-align: top;\n    }\n\n    .dataframe thead th {\n        text-align: right;\n    }\n</style>\n<table border=\"1\" class=\"dataframe\">\n  <thead>\n    <tr style=\"text-align: right;\">\n      <th></th>\n      <th>name_entity</th>\n      <th>title_tag</th>\n    </tr>\n  </thead>\n  <tbody>\n    <tr>\n      <th>0</th>\n      <td>[False, False, False, False, True, False, Fals...</td>\n      <td>[False, False, False, False, True, False, Fals...</td>\n    </tr>\n    <tr>\n      <th>1</th>\n      <td>[False, False, False, True, False, False, Fals...</td>\n      <td>[False, False, False, False, False, True, Fals...</td>\n    </tr>\n    <tr>\n      <th>2</th>\n      <td>[False, False, False, False, False, True, Fals...</td>\n      <td>[False, False, False, False, False, True, Fals...</td>\n    </tr>\n    <tr>\n      <th>3</th>\n      <td>[False, False, False, False, True, True, False...</td>\n      <td>[False, False, False, False, True, True, False...</td>\n    </tr>\n    <tr>\n      <th>4</th>\n      <td>[False, False, False, False, False, False, Fal...</td>\n      <td>[False, False, False, False, False, False, Fal...</td>\n    </tr>\n    <tr>\n      <th>...</th>\n      <td>...</td>\n      <td>...</td>\n    </tr>\n    <tr>\n      <th>644</th>\n      <td>[False, True, True, True, True, False, False, ...</td>\n      <td>[False, False, False, False, False, False, Fal...</td>\n    </tr>\n    <tr>\n      <th>645</th>\n      <td>[False, True, True, True, True, False, False, ...</td>\n      <td>[False, False, False, False, False, False, Fal...</td>\n    </tr>\n    <tr>\n      <th>646</th>\n      <td>[False, False, False, False, False, False, Fal...</td>\n      <td>[False, True, False, False, False, False, Fals...</td>\n    </tr>\n    <tr>\n      <th>647</th>\n      <td>[False, True, True, False, False, False, False...</td>\n      <td>[False, False, True, False, False, False, Fals...</td>\n    </tr>\n    <tr>\n      <th>648</th>\n      <td>[False, False, False, False, False, False, Fal...</td>\n      <td>[False, False, False, False, False, False, Fal...</td>\n    </tr>\n  </tbody>\n</table>\n<p>649 rows × 2 columns</p>\n</div>"
     },
     "metadata": {},
     "execution_count": 69
    }
   ],
   "source": [
    "df[['name_entity', 'title_tag']]"
   ]
  },
  {
   "cell_type": "code",
   "execution_count": null,
   "metadata": {},
   "outputs": [],
   "source": []
  }
 ]
}