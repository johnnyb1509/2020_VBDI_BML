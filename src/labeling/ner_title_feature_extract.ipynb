{
 "metadata": {
  "language_info": {
   "codemirror_mode": {
    "name": "ipython",
    "version": 3
   },
   "file_extension": ".py",
   "mimetype": "text/x-python",
   "name": "python",
   "nbconvert_exporter": "python",
   "pygments_lexer": "ipython3",
   "version": "3.8.5-final"
  },
  "orig_nbformat": 2,
  "kernelspec": {
   "name": "python3",
   "display_name": "Python 3",
   "language": "python"
  }
 },
 "nbformat": 4,
 "nbformat_minor": 2,
 "cells": [
  {
   "cell_type": "code",
   "execution_count": 1,
   "metadata": {},
   "outputs": [],
   "source": [
    "import pandas as pd\n",
    "from vncorenlp import VnCoreNLP\n",
    "import ast"
   ]
  },
  {
   "cell_type": "code",
   "execution_count": 13,
   "metadata": {},
   "outputs": [
    {
     "output_type": "execute_result",
     "data": {
      "text/plain": [
       "                                           NewsTitle  \\\n",
       "0                MWG lãi gần 900 tỷ đồng sau 5 tháng   \n",
       "1  6 tháng, PNJ báo lãi hợp nhất đạt hơn 146 tỷ đồng   \n",
       "2  2 tháng sau khi lên làm CEO, ông Trần Kinh Doa...   \n",
       "3  BIDV rao bán tàu Ocean Queen với giá khởi điểm...   \n",
       "4  PNJ trích dự phòng thêm 115 tỷ đồng, đặt kế ho...   \n",
       "\n",
       "                                     NewsFullContent  \\\n",
       "0  Về cơ cấu doanh thu doanh thu từ chuỗi bán lẻ ...   \n",
       "1    Theo đó doanh thu thuần trong quý 2 của PNJ ...   \n",
       "2  Ông Trần Kinh Doanh Tổng giám đốc Công ty cổ p...   \n",
       "3  Giá khởi điểm hơn 300 tỷ đồng nói trên không b...   \n",
       "4    Đồng thời PNJ dự kiến chỉ tiêu lợi nhuận 361...   \n",
       "\n",
       "                                               label  \n",
       "0  [('về', 1), ('cơ cấu', 0), ('doanh thu', 1), (...  \n",
       "1  [('theo', 1), ('đó', 0), ('doanh thu', 1), ('t...  \n",
       "2  [('ông', 0), ('trần kinh doanh tổng giám đốc',...  \n",
       "3  [('giá', 1), ('khởi điểm', 0), ('hơn', 1), ('3...  \n",
       "4  [('đồng thời', 1), ('pnj', 1), ('dự kiến', 1),...  "
      ],
      "text/html": "<div>\n<style scoped>\n    .dataframe tbody tr th:only-of-type {\n        vertical-align: middle;\n    }\n\n    .dataframe tbody tr th {\n        vertical-align: top;\n    }\n\n    .dataframe thead th {\n        text-align: right;\n    }\n</style>\n<table border=\"1\" class=\"dataframe\">\n  <thead>\n    <tr style=\"text-align: right;\">\n      <th></th>\n      <th>NewsTitle</th>\n      <th>NewsFullContent</th>\n      <th>label</th>\n    </tr>\n  </thead>\n  <tbody>\n    <tr>\n      <th>0</th>\n      <td>MWG lãi gần 900 tỷ đồng sau 5 tháng</td>\n      <td>Về cơ cấu doanh thu doanh thu từ chuỗi bán lẻ ...</td>\n      <td>[('về', 1), ('cơ cấu', 0), ('doanh thu', 1), (...</td>\n    </tr>\n    <tr>\n      <th>1</th>\n      <td>6 tháng, PNJ báo lãi hợp nhất đạt hơn 146 tỷ đồng</td>\n      <td>Theo đó doanh thu thuần trong quý 2 của PNJ ...</td>\n      <td>[('theo', 1), ('đó', 0), ('doanh thu', 1), ('t...</td>\n    </tr>\n    <tr>\n      <th>2</th>\n      <td>2 tháng sau khi lên làm CEO, ông Trần Kinh Doa...</td>\n      <td>Ông Trần Kinh Doanh Tổng giám đốc Công ty cổ p...</td>\n      <td>[('ông', 0), ('trần kinh doanh tổng giám đốc',...</td>\n    </tr>\n    <tr>\n      <th>3</th>\n      <td>BIDV rao bán tàu Ocean Queen với giá khởi điểm...</td>\n      <td>Giá khởi điểm hơn 300 tỷ đồng nói trên không b...</td>\n      <td>[('giá', 1), ('khởi điểm', 0), ('hơn', 1), ('3...</td>\n    </tr>\n    <tr>\n      <th>4</th>\n      <td>PNJ trích dự phòng thêm 115 tỷ đồng, đặt kế ho...</td>\n      <td>Đồng thời PNJ dự kiến chỉ tiêu lợi nhuận 361...</td>\n      <td>[('đồng thời', 1), ('pnj', 1), ('dự kiến', 1),...</td>\n    </tr>\n  </tbody>\n</table>\n</div>"
     },
     "metadata": {},
     "execution_count": 13
    }
   ],
   "source": [
    "train_df = pd.read_csv('./data/train_data.csv').drop('Unnamed: 0', axis=1)\n",
    "test_df = pd.read_csv('./data/test_data.csv').drop('Unnamed: 0', axis=1)\n",
    "# train_df.head()\n",
    "test_df.head()"
   ]
  },
  {
   "source": [
    "# NER feature"
   ],
   "cell_type": "markdown",
   "metadata": {}
  },
  {
   "cell_type": "code",
   "execution_count": 14,
   "metadata": {},
   "outputs": [],
   "source": [
    "annotator = VnCoreNLP(r\"./VnCoreNLP-master/VnCoreNLP-1.1.1.jar\", annotators=\"wseg\", max_heap_size='-Xmx500m') "
   ]
  },
  {
   "cell_type": "code",
   "execution_count": 15,
   "metadata": {},
   "outputs": [],
   "source": [
    "def word_segment(text):\n",
    "    annotated_text = annotator.annotate(text)['sentences'][0]\n",
    "    return [dic['form'].replace('_',' ').lower() for dic in annotated_text] "
   ]
  },
  {
   "cell_type": "code",
   "execution_count": 16,
   "metadata": {},
   "outputs": [],
   "source": [
    "train_df['word_segment'] = train_df['NewsFullContent'].apply(lambda text: word_segment(text))\n",
    "test_df['word_segment'] = test_df['NewsFullContent'].apply(lambda text: word_segment(text))"
   ]
  },
  {
   "cell_type": "code",
   "execution_count": 17,
   "metadata": {},
   "outputs": [],
   "source": [
    "ner = VnCoreNLP(\"./VnCoreNLP-master/VnCoreNLP-1.1.1.jar\", annotators=\"wseg,pos,ner\", max_heap_size='-Xmx2g')"
   ]
  },
  {
   "cell_type": "code",
   "execution_count": 18,
   "metadata": {},
   "outputs": [],
   "source": [
    "def vnner(text):\n",
    "    annotated_text = ner.annotate(text)\n",
    "    pos = []\n",
    "    for dic in annotated_text['sentences'][0]:\n",
    "        if dic['nerLabel'] != 'O':\n",
    "            pos.append(dic['form'].replace('_',' ').lower())\n",
    "        \n",
    "    return list(set(pos))\n",
    "\n",
    "def tag(word, dic):\n",
    "    if word in dic:\n",
    "        return True\n",
    "    else:\n",
    "        return False\n",
    "\n",
    "def ner_tag(row):\n",
    "    keywords = vnner(row['NewsFullContent'])\n",
    "    text = row['word_segment']\n",
    "    text_df = pd.DataFrame(text)\n",
    "    text_df.columns = ['word']\n",
    "\n",
    "    text_df['tag'] = text_df['word'].apply(lambda x: tag(x, keywords))\n",
    "    \n",
    "    # return list(zip(text_df['word'], text_df['tag']))\n",
    "    return list(text_df['tag'])"
   ]
  },
  {
   "cell_type": "code",
   "execution_count": 19,
   "metadata": {},
   "outputs": [],
   "source": [
    "name_entity_reg = []\n",
    "for i,row in train_df.iterrows():\n",
    "    name_entity_reg.append(ner_tag(row))\n",
    "\n",
    "train_df['name_entity'] = name_entity_reg"
   ]
  },
  {
   "cell_type": "code",
   "execution_count": 20,
   "metadata": {},
   "outputs": [],
   "source": [
    "name_entity_reg = []\n",
    "for i,row in test_df.iterrows():\n",
    "    name_entity_reg.append(ner_tag(row))\n",
    "\n",
    "test_df['name_entity'] = name_entity_reg"
   ]
  },
  {
   "source": [
    "# Title"
   ],
   "cell_type": "markdown",
   "metadata": {}
  },
  {
   "cell_type": "code",
   "execution_count": 21,
   "metadata": {},
   "outputs": [],
   "source": [
    "def tag(word, dic):\n",
    "    if word in dic:\n",
    "        return True\n",
    "    else:\n",
    "        return False\n",
    "\n",
    "def title_detect(row):\n",
    "    annotated_text = annotator.annotate(row['NewsTitle'])['sentences'][0]\n",
    "    title = [dic['form'].replace('_',' ').lower() for dic in annotated_text] \n",
    "    \n",
    "    text = row['word_segment']\n",
    "    text_df = pd.DataFrame(text)\n",
    "    text_df.columns = ['word']\n",
    "\n",
    "    text_df['tag'] = text_df['word'].apply(lambda x: tag(x, title))\n",
    "    \n",
    "    return list(text_df['tag'])"
   ]
  },
  {
   "cell_type": "code",
   "execution_count": 24,
   "metadata": {},
   "outputs": [],
   "source": [
    "title_tag = []\n",
    "for i,row in train_df.iterrows():\n",
    "    title_tag.append(title_detect(row))\n",
    "\n",
    "train_df['title_tag'] = title_tag"
   ]
  },
  {
   "cell_type": "code",
   "execution_count": 25,
   "metadata": {},
   "outputs": [],
   "source": [
    "title_tag = []\n",
    "for i,row in test_df.iterrows():\n",
    "    title_tag.append(title_detect(row))\n",
    "\n",
    "test_df['title_tag'] = title_tag"
   ]
  },
  {
   "cell_type": "code",
   "execution_count": 28,
   "metadata": {},
   "outputs": [],
   "source": [
    "train_df[['name_entity', 'title_tag']].to_csv('./data/training_feature.csv')\n",
    "test_df[['name_entity', 'title_tag']].to_csv('./data/testing_feature.csv')"
   ]
  },
  {
   "cell_type": "code",
   "execution_count": 30,
   "metadata": {},
   "outputs": [],
   "source": [
    "newtest = pd.read_csv('./data/newtest.csv').drop('Unnamed: 0', axis=1)\n",
    "newtest['word_segment'] = newtest['NewsFullContent'].apply(lambda text: word_segment(text))\n",
    "\n",
    "# ner feature\n",
    "name_entity_reg = []\n",
    "for i,row in newtest.iterrows():\n",
    "    name_entity_reg.append(ner_tag(row))\n",
    "\n",
    "newtest['name_entity'] = name_entity_reg\n",
    "2\n",
    "# istitile feature\n",
    "title_tag = []\n",
    "for i,row in newtest.iterrows():\n",
    "    title_tag.append(title_detect(row))\n",
    "\n",
    "newtest['title_tag'] = title_tag"
   ]
  },
  {
   "cell_type": "code",
   "execution_count": 35,
   "metadata": {},
   "outputs": [],
   "source": [
    "newtest[['name_entity', 'title_tag']].to_csv('./data/newtest_feature.csv')"
   ]
  },
  {
   "cell_type": "code",
   "execution_count": null,
   "metadata": {},
   "outputs": [],
   "source": []
  }
 ]
}