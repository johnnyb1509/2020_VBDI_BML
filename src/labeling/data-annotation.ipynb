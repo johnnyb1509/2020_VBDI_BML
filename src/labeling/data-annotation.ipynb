{
 "cells": [
  {
   "cell_type": "code",
   "execution_count": 1,
   "metadata": {},
   "outputs": [],
   "source": [
    "import pandas as pd"
   ]
  },
  {
   "cell_type": "code",
   "execution_count": 2,
   "metadata": {},
   "outputs": [],
   "source": [
    "from vncorenlp import VnCoreNLP\n",
    "annotator = VnCoreNLP(r\"C:\\Users\\anhdq33\\Downloads\\VinBigData\\ML\\Project\\2020_VBDI_BML\\VnCoreNLP-master\\VnCoreNLP-1.1.1.jar\", annotators=\"wseg\", max_heap_size='-Xmx500m') "
   ]
  },
  {
   "cell_type": "code",
   "execution_count": 3,
   "metadata": {},
   "outputs": [
    {
     "output_type": "execute_result",
     "data": {
      "text/plain": [
       "                                           NewsTitle  \\\n",
       "0             VCB ký hợp đồng vay vốn 100 triệu USD    \n",
       "1  Kết thúc Phiên 1, 30/10: STB và PPC đang &quot...   \n",
       "2                   Ngày 23/3, Hose đón tân binh PNJ   \n",
       "3                          Sắp khởi công Đại học FPT   \n",
       "4           SSI đứng đầu thị phần môi giới cổ phiếu    \n",
       "\n",
       "                                     NewsFullContent  \n",
       "0  Ông Nguyễn Hòa Bình Chủ tịch HĐQT của VCB cho ...  \n",
       "1  Trong khi thị trường Châu Âu có phiên tăng điể...  \n",
       "2  Kế hoạch này đã được đại diện PNJ bà Cao Thị N...  \n",
       "3  Theo đó tháng 7/2009 Đại học FPT sẽ chính thức...  \n",
       "4  Trong khi chỉ có 5 công ty nắm tới trên 30 ngh...  "
      ],
      "text/html": "<div>\n<style scoped>\n    .dataframe tbody tr th:only-of-type {\n        vertical-align: middle;\n    }\n\n    .dataframe tbody tr th {\n        vertical-align: top;\n    }\n\n    .dataframe thead th {\n        text-align: right;\n    }\n</style>\n<table border=\"1\" class=\"dataframe\">\n  <thead>\n    <tr style=\"text-align: right;\">\n      <th></th>\n      <th>NewsTitle</th>\n      <th>NewsFullContent</th>\n    </tr>\n  </thead>\n  <tbody>\n    <tr>\n      <th>0</th>\n      <td>VCB ký hợp đồng vay vốn 100 triệu USD</td>\n      <td>Ông Nguyễn Hòa Bình Chủ tịch HĐQT của VCB cho ...</td>\n    </tr>\n    <tr>\n      <th>1</th>\n      <td>Kết thúc Phiên 1, 30/10: STB và PPC đang &amp;quot...</td>\n      <td>Trong khi thị trường Châu Âu có phiên tăng điể...</td>\n    </tr>\n    <tr>\n      <th>2</th>\n      <td>Ngày 23/3, Hose đón tân binh PNJ</td>\n      <td>Kế hoạch này đã được đại diện PNJ bà Cao Thị N...</td>\n    </tr>\n    <tr>\n      <th>3</th>\n      <td>Sắp khởi công Đại học FPT</td>\n      <td>Theo đó tháng 7/2009 Đại học FPT sẽ chính thức...</td>\n    </tr>\n    <tr>\n      <th>4</th>\n      <td>SSI đứng đầu thị phần môi giới cổ phiếu</td>\n      <td>Trong khi chỉ có 5 công ty nắm tới trên 30 ngh...</td>\n    </tr>\n  </tbody>\n</table>\n</div>"
     },
     "metadata": {},
     "execution_count": 3
    }
   ],
   "source": [
    "df = pd.read_csv('./data/data_clean_v3.csv').drop('Unnamed: 0', axis=1)[['NewsTitle', 'NewsFullContent']]\n",
    "df.head()"
   ]
  },
  {
   "cell_type": "code",
   "execution_count": 4,
   "metadata": {},
   "outputs": [
    {
     "output_type": "execute_result",
     "data": {
      "text/plain": [
       "23523"
      ]
     },
     "metadata": {},
     "execution_count": 4
    }
   ],
   "source": [
    "dic = pd.read_csv('./data/fullTranslated.csv')['words'].values\n",
    "len(dic)"
   ]
  },
  {
   "cell_type": "code",
   "execution_count": 5,
   "metadata": {},
   "outputs": [],
   "source": [
    "def word_segment(text):\n",
    "    annotated_text = annotator.annotate(text)['sentences'][0]\n",
    "    return [dic['form'].replace('_',' ').lower() for dic in annotated_text] "
   ]
  },
  {
   "cell_type": "code",
   "execution_count": 6,
   "metadata": {},
   "outputs": [],
   "source": [
    "df['word_segment'] = df['NewsFullContent'].apply(lambda text: word_segment(text))"
   ]
  },
  {
   "cell_type": "code",
   "execution_count": 7,
   "metadata": {},
   "outputs": [],
   "source": [
    "ner = VnCoreNLP(\"./VnCoreNLP-master/VnCoreNLP-1.1.1.jar\", annotators=\"wseg,pos,ner\", max_heap_size='-Xmx2g')"
   ]
  },
  {
   "cell_type": "code",
   "execution_count": 8,
   "metadata": {},
   "outputs": [],
   "source": [
    "def vnner(text):\n",
    "    annotated_text = ner.annotate(text)\n",
    "    pos = []\n",
    "    for dic in annotated_text['sentences'][0]:\n",
    "        if dic['nerLabel'] != 'O':\n",
    "            pos.append(dic['form'].replace('_',' ').lower())\n",
    "        \n",
    "    return list(set(pos))"
   ]
  },
  {
   "cell_type": "code",
   "execution_count": 9,
   "metadata": {},
   "outputs": [],
   "source": [
    "df['ner'] = df['NewsFullContent'].apply(lambda x: vnner(x))"
   ]
  },
  {
   "cell_type": "code",
   "execution_count": 10,
   "metadata": {},
   "outputs": [],
   "source": [
    "def tag(word, dic):\n",
    "    if word in dic:\n",
    "        return 1\n",
    "    else:\n",
    "        return 0\n",
    "\n",
    "def label(row, dic):\n",
    "    name_entity = row['ner']\n",
    "\n",
    "    text = row['word_segment']\n",
    "    keywords = list(set(text).intersection(dic)) + name_entity\n",
    "    text_df = pd.DataFrame(text)\n",
    "    text_df.columns = ['word']\n",
    "\n",
    "    text_df['tag'] = text_df['word'].apply(lambda x: tag(x, keywords))\n",
    "    \n",
    "#     return list(zip(text_df['word'], text_df['tag']))\n",
    "    return sum(text_df['tag']), list(zip(text_df['word'], text_df['tag']))"
   ]
  },
  {
   "cell_type": "code",
   "execution_count": 11,
   "metadata": {},
   "outputs": [],
   "source": [
    "name_entity_reg = []\n",
    "for i,row in df.iterrows():\n",
    "    name_entity_reg.append(label(row, dic))"
   ]
  },
  {
   "cell_type": "code",
   "execution_count": 12,
   "metadata": {},
   "outputs": [],
   "source": [
    "df['filtered'] = name_entity_reg\n",
    "df['match'], df['label'] = zip(*df.filtered.values)"
   ]
  },
  {
   "cell_type": "code",
   "execution_count": 13,
   "metadata": {},
   "outputs": [],
   "source": [
    "data = df[df['match'] > 30][['NewsTitle','NewsFullContent','label']]"
   ]
  },
  {
   "cell_type": "code",
   "execution_count": 14,
   "metadata": {},
   "outputs": [
    {
     "output_type": "execute_result",
     "data": {
      "text/plain": [
       "                                           NewsTitle  \\\n",
       "0             VCB ký hợp đồng vay vốn 100 triệu USD    \n",
       "1  Kết thúc Phiên 1, 30/10: STB và PPC đang &quot...   \n",
       "2                   Ngày 23/3, Hose đón tân binh PNJ   \n",
       "3                          Sắp khởi công Đại học FPT   \n",
       "4           SSI đứng đầu thị phần môi giới cổ phiếu    \n",
       "\n",
       "                                     NewsFullContent  \\\n",
       "0  Ông Nguyễn Hòa Bình Chủ tịch HĐQT của VCB cho ...   \n",
       "1  Trong khi thị trường Châu Âu có phiên tăng điể...   \n",
       "2  Kế hoạch này đã được đại diện PNJ bà Cao Thị N...   \n",
       "3  Theo đó tháng 7/2009 Đại học FPT sẽ chính thức...   \n",
       "4  Trong khi chỉ có 5 công ty nắm tới trên 30 ngh...   \n",
       "\n",
       "                                               label  \n",
       "0  [(ông, 0), (nguyễn hoà bình chủ tịch, 0), (hđq...  \n",
       "1  [(trong, 1), (khi, 0), (thị trường, 1), (châu ...  \n",
       "2  [(kế hoạch, 1), (này, 0), (đã, 1), (được, 1), ...  \n",
       "3  [(theo, 1), (đó, 0), (tháng, 1), (7/2009, 0), ...  \n",
       "4  [(trong, 1), (khi, 0), (chỉ, 1), (có, 1), (5, ...  "
      ],
      "text/html": "<div>\n<style scoped>\n    .dataframe tbody tr th:only-of-type {\n        vertical-align: middle;\n    }\n\n    .dataframe tbody tr th {\n        vertical-align: top;\n    }\n\n    .dataframe thead th {\n        text-align: right;\n    }\n</style>\n<table border=\"1\" class=\"dataframe\">\n  <thead>\n    <tr style=\"text-align: right;\">\n      <th></th>\n      <th>NewsTitle</th>\n      <th>NewsFullContent</th>\n      <th>label</th>\n    </tr>\n  </thead>\n  <tbody>\n    <tr>\n      <th>0</th>\n      <td>VCB ký hợp đồng vay vốn 100 triệu USD</td>\n      <td>Ông Nguyễn Hòa Bình Chủ tịch HĐQT của VCB cho ...</td>\n      <td>[(ông, 0), (nguyễn hoà bình chủ tịch, 0), (hđq...</td>\n    </tr>\n    <tr>\n      <th>1</th>\n      <td>Kết thúc Phiên 1, 30/10: STB và PPC đang &amp;quot...</td>\n      <td>Trong khi thị trường Châu Âu có phiên tăng điể...</td>\n      <td>[(trong, 1), (khi, 0), (thị trường, 1), (châu ...</td>\n    </tr>\n    <tr>\n      <th>2</th>\n      <td>Ngày 23/3, Hose đón tân binh PNJ</td>\n      <td>Kế hoạch này đã được đại diện PNJ bà Cao Thị N...</td>\n      <td>[(kế hoạch, 1), (này, 0), (đã, 1), (được, 1), ...</td>\n    </tr>\n    <tr>\n      <th>3</th>\n      <td>Sắp khởi công Đại học FPT</td>\n      <td>Theo đó tháng 7/2009 Đại học FPT sẽ chính thức...</td>\n      <td>[(theo, 1), (đó, 0), (tháng, 1), (7/2009, 0), ...</td>\n    </tr>\n    <tr>\n      <th>4</th>\n      <td>SSI đứng đầu thị phần môi giới cổ phiếu</td>\n      <td>Trong khi chỉ có 5 công ty nắm tới trên 30 ngh...</td>\n      <td>[(trong, 1), (khi, 0), (chỉ, 1), (có, 1), (5, ...</td>\n    </tr>\n  </tbody>\n</table>\n</div>"
     },
     "metadata": {},
     "execution_count": 14
    }
   ],
   "source": [
    "data.head()"
   ]
  },
  {
   "cell_type": "code",
   "execution_count": 15,
   "metadata": {},
   "outputs": [],
   "source": [
    "from sklearn.model_selection import train_test_split\n",
    "train, test = train_test_split(data, test_size=0.2, random_state=42)\n",
    "train.to_csv('./data/train_data.csv')\n",
    "test.to_csv('./data/test_data.csv')"
   ]
  },
  {
   "cell_type": "code",
   "execution_count": 16,
   "metadata": {},
   "outputs": [
    {
     "output_type": "execute_result",
     "data": {
      "text/plain": [
       "535"
      ]
     },
     "metadata": {},
     "execution_count": 16
    }
   ],
   "source": [
    "len(train)"
   ]
  },
  {
   "cell_type": "code",
   "execution_count": 17,
   "metadata": {},
   "outputs": [
    {
     "output_type": "execute_result",
     "data": {
      "text/plain": [
       "134"
      ]
     },
     "metadata": {},
     "execution_count": 17
    }
   ],
   "source": [
    "len(test)"
   ]
  },
  {
   "cell_type": "code",
   "execution_count": 21,
   "metadata": {},
   "outputs": [],
   "source": [
    "# newtest = pd.read_csv('./data/data_clean_outscope.csv').drop('Unnamed: 0', axis=1)[['NewsTitle', 'NewsFullContent']]\n",
    "# newtest['word_segment'] = newtest['NewsFullContent'].apply(lambda text: word_segment(text))\n",
    "# newtest['ner'] = newtest['NewsFullContent'].apply(lambda x: vnner(x))"
   ]
  },
  {
   "cell_type": "code",
   "execution_count": 23,
   "metadata": {},
   "outputs": [],
   "source": [
    "name_entity_reg = []\n",
    "for i,row in newtest.iterrows():\n",
    "    name_entity_reg.append(label(row, dic))\n",
    "\n",
    "newtest['filtered'] = name_entity_reg\n",
    "newtest['match'], newtest['label'] = zip(*newtest.filtered.values)"
   ]
  },
  {
   "cell_type": "code",
   "execution_count": 27,
   "metadata": {},
   "outputs": [],
   "source": [
    "newtest[newtest['match'] > 30][['NewsTitle','NewsFullContent','label']].to_csv('./data/newtest_data.csv')"
   ]
  },
  {
   "cell_type": "code",
   "execution_count": 29,
   "metadata": {},
   "outputs": [
    {
     "output_type": "execute_result",
     "data": {
      "text/plain": [
       "86"
      ]
     },
     "metadata": {},
     "execution_count": 29
    }
   ],
   "source": [
    "len(newtest[newtest['match'] > 30])"
   ]
  },
  {
   "cell_type": "code",
   "execution_count": null,
   "metadata": {},
   "outputs": [],
   "source": []
  }
 ],
 "metadata": {
  "kernelspec": {
   "display_name": "Python 3",
   "language": "python",
   "name": "python3"
  },
  "language_info": {
   "codemirror_mode": {
    "name": "ipython",
    "version": 3
   },
   "file_extension": ".py",
   "mimetype": "text/x-python",
   "name": "python",
   "nbconvert_exporter": "python",
   "pygments_lexer": "ipython3",
   "version": "3.8.5-final"
  }
 },
 "nbformat": 4,
 "nbformat_minor": 4
}