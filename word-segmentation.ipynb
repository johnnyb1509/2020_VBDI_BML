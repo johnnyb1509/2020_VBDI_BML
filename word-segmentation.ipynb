{
 "cells": [
  {
   "cell_type": "code",
   "execution_count": 5,
   "metadata": {},
   "outputs": [],
   "source": [
    "import pandas as pd"
   ]
  },
  {
   "cell_type": "code",
   "execution_count": 6,
   "metadata": {},
   "outputs": [],
   "source": [
    "from vncorenlp import VnCoreNLP\n",
    "annotator = VnCoreNLP(r\"C:\\Users\\anhdq33\\Downloads\\VinBigData\\ML\\Project\\2020_VBDI_BML\\VnCoreNLP-master\\VnCoreNLP-1.1.1.jar\", annotators=\"wseg\", max_heap_size='-Xmx500m') "
   ]
  },
  {
   "cell_type": "code",
   "execution_count": 7,
   "metadata": {},
   "outputs": [
    {
     "data": {
      "text/plain": "   index  NewsId Ticker                                          NewsTitle  \\\n0    311    1441    VCB             VCB ký hợp đồng vay vốn 100 triệu USD    \n1    768    4086    STB  Kết thúc Phiên 1, 30/10: STB và PPC đang &quot...   \n2   4639   19833    PNJ                   Ngày 23/3, Hose đón tân binh PNJ   \n3  10448   25591    FPT                          Sắp khởi công Đại học FPT   \n4  10879   26019    SSI           SSI đứng đầu thị phần môi giới cổ phiếu    \n\n                                     NewsFullContent           PublicDate  \\\n0  ông nguyễn hòa bình chủ tịch hđqt của vcb cho ...  2008-10-20 00:00:00   \n1  trong khi thị trường châu âu có phiên tăng điể...  2008-10-30 10:08:00   \n2  kế hoạch này đã được đại diện pnj bà cao thị n...  2009-03-03 11:29:00   \n3  theo đó tháng 7/2009 đại học fpt sẽ chính thức...  2009-06-02 14:29:00   \n4  trong khi chỉ có 5 công ty nắm tới trên 30 ngh...  2009-06-09 17:13:00   \n\n    len  word_len  \n0  1054         8  \n1  2550         8  \n2  1941         8  \n3  1255         6  \n4  1158         6  ",
      "text/html": "<div>\n<style scoped>\n    .dataframe tbody tr th:only-of-type {\n        vertical-align: middle;\n    }\n\n    .dataframe tbody tr th {\n        vertical-align: top;\n    }\n\n    .dataframe thead th {\n        text-align: right;\n    }\n</style>\n<table border=\"1\" class=\"dataframe\">\n  <thead>\n    <tr style=\"text-align: right;\">\n      <th></th>\n      <th>index</th>\n      <th>NewsId</th>\n      <th>Ticker</th>\n      <th>NewsTitle</th>\n      <th>NewsFullContent</th>\n      <th>PublicDate</th>\n      <th>len</th>\n      <th>word_len</th>\n    </tr>\n  </thead>\n  <tbody>\n    <tr>\n      <th>0</th>\n      <td>311</td>\n      <td>1441</td>\n      <td>VCB</td>\n      <td>VCB ký hợp đồng vay vốn 100 triệu USD</td>\n      <td>ông nguyễn hòa bình chủ tịch hđqt của vcb cho ...</td>\n      <td>2008-10-20 00:00:00</td>\n      <td>1054</td>\n      <td>8</td>\n    </tr>\n    <tr>\n      <th>1</th>\n      <td>768</td>\n      <td>4086</td>\n      <td>STB</td>\n      <td>Kết thúc Phiên 1, 30/10: STB và PPC đang &amp;quot...</td>\n      <td>trong khi thị trường châu âu có phiên tăng điể...</td>\n      <td>2008-10-30 10:08:00</td>\n      <td>2550</td>\n      <td>8</td>\n    </tr>\n    <tr>\n      <th>2</th>\n      <td>4639</td>\n      <td>19833</td>\n      <td>PNJ</td>\n      <td>Ngày 23/3, Hose đón tân binh PNJ</td>\n      <td>kế hoạch này đã được đại diện pnj bà cao thị n...</td>\n      <td>2009-03-03 11:29:00</td>\n      <td>1941</td>\n      <td>8</td>\n    </tr>\n    <tr>\n      <th>3</th>\n      <td>10448</td>\n      <td>25591</td>\n      <td>FPT</td>\n      <td>Sắp khởi công Đại học FPT</td>\n      <td>theo đó tháng 7/2009 đại học fpt sẽ chính thức...</td>\n      <td>2009-06-02 14:29:00</td>\n      <td>1255</td>\n      <td>6</td>\n    </tr>\n    <tr>\n      <th>4</th>\n      <td>10879</td>\n      <td>26019</td>\n      <td>SSI</td>\n      <td>SSI đứng đầu thị phần môi giới cổ phiếu</td>\n      <td>trong khi chỉ có 5 công ty nắm tới trên 30 ngh...</td>\n      <td>2009-06-09 17:13:00</td>\n      <td>1158</td>\n      <td>6</td>\n    </tr>\n  </tbody>\n</table>\n</div>"
     },
     "execution_count": 7,
     "metadata": {},
     "output_type": "execute_result"
    }
   ],
   "source": [
    "df = pd.read_csv('./data/data_clean_v4.csv').drop('Unnamed: 0', axis=1)\n",
    "df.head()"
   ]
  },
  {
   "cell_type": "code",
   "execution_count": 8,
   "metadata": {},
   "outputs": [
    {
     "data": {
      "text/plain": "23534"
     },
     "execution_count": 8,
     "metadata": {},
     "output_type": "execute_result"
    }
   ],
   "source": [
    "dic = pd.read_csv('./data/fullTranslated.csv')['words'].values\n",
    "len(dic)"
   ]
  },
  {
   "cell_type": "code",
   "execution_count": 9,
   "metadata": {},
   "outputs": [],
   "source": [
    "def word_segment(text):\n",
    "    annotated_text = annotator.annotate(text)['sentences'][0]\n",
    "    return [dic['form'].replace('_',' ') for dic in annotated_text] "
   ]
  },
  {
   "cell_type": "code",
   "execution_count": 10,
   "metadata": {},
   "outputs": [],
   "source": [
    "df['word_segment'] = df['NewsFullContent'].apply(lambda text: word_segment(text))"
   ]
  },
  {
   "cell_type": "code",
   "execution_count": 11,
   "metadata": {},
   "outputs": [],
   "source": [
    "def tag(word, dic):\n",
    "    if word in dic:\n",
    "        return 1\n",
    "    else:\n",
    "        return 0\n",
    "\n",
    "def label(text, dic):\n",
    "    keywords = set(text).intersection(dic)\n",
    "    text_df = pd.DataFrame(text)\n",
    "    text_df.columns = ['word']\n",
    "\n",
    "    text_df['tag'] = text_df['word'].apply(lambda x: tag(x, keywords))\n",
    "    \n",
    "#     return list(zip(text_df['word'], text_df['tag']))\n",
    "    return sum(text_df['tag']), list(zip(text_df['word'], text_df['tag']))"
   ]
  },
  {
   "cell_type": "code",
   "execution_count": 12,
   "metadata": {},
   "outputs": [],
   "source": [
    "df['filtered'] = df['word_segment'].apply(lambda text: label(text, dic))"
   ]
  },
  {
   "cell_type": "code",
   "execution_count": 13,
   "metadata": {},
   "outputs": [
    {
     "name": "stderr",
     "output_type": "stream",
     "text": [
      "C:\\Users\\anhdq33\\Anaconda3\\envs\\keyword_extract\\lib\\site-packages\\numpy\\core\\_asarray.py:83: VisibleDeprecationWarning: Creating an ndarray from ragged nested sequences (which is a list-or-tuple of lists-or-tuples-or ndarrays with different lengths or shapes) is deprecated. If you meant to do this, you must specify 'dtype=object' when creating the ndarray\n",
      "  return array(a, dtype, copy=False, order=order)\n"
     ]
    }
   ],
   "source": [
    "df['match'], df['label'] = zip(*df.filtered.values)"
   ]
  },
  {
   "cell_type": "code",
   "execution_count": 14,
   "metadata": {},
   "outputs": [],
   "source": [
    "df[df['match'] > 30][['NewsTitle','NewsFullContent','label']].to_csv('./data/data_labeled.csv')"
   ]
  },
  {
   "cell_type": "code",
   "execution_count": 15,
   "metadata": {},
   "outputs": [
    {
     "data": {
      "text/plain": "                                             NewsTitle  \\\n0               VCB ký hợp đồng vay vốn 100 triệu USD    \n1    Kết thúc Phiên 1, 30/10: STB và PPC đang &quot...   \n2                     Ngày 23/3, Hose đón tân binh PNJ   \n3                            Sắp khởi công Đại học FPT   \n4             SSI đứng đầu thị phần môi giới cổ phiếu    \n..                                                 ...   \n925  Liên danh FPT Quy Nhơn trúng thầu dự án hơn 4....   \n926  Liên danh FPT Quy Nhơn trúng thầu dự án hơn 4....   \n927  PNJ phát hành 2,3 triệu cổ phiếu ESOP, Chủ tịc...   \n928  Vingroup nêu phương án quy hoạch khu đô thị, s...   \n929  FPT lãi ròng tháng 11 tăng gần 17% so với cùng kỳ   \n\n                                       NewsFullContent  \\\n0    ông nguyễn hòa bình chủ tịch hđqt của vcb cho ...   \n1    trong khi thị trường châu âu có phiên tăng điể...   \n2    kế hoạch này đã được đại diện pnj bà cao thị n...   \n3    theo đó tháng 7/2009 đại học fpt sẽ chính thức...   \n4    trong khi chỉ có 5 công ty nắm tới trên 30 ngh...   \n..                                                 ...   \n925  ông nguyễn phi long pct ubnd tỉnh bình định vừ...   \n926  ông nguyễn phi long pct ubnd tỉnh bình định vừ...   \n927    giá phát hành dự kiến là 20 000 đồng/cp thấp...   \n928    đại diện ubnd bắc giang đóng góp ý kiến thiế...   \n929    công ty hoàn thành 88 7% kế hoạch lợi nhuận ...   \n\n                                                 label  \n0    [(ông, 0), (nguyễn hoà bình, 0), (chủ tịch, 1)...  \n1    [(trong, 0), (khi, 0), (thị trường, 1), (châu ...  \n2    [(kế hoạch, 1), (này, 0), (đã, 0), (được, 1), ...  \n3    [(theo, 1), (đó, 0), (tháng, 1), (7/2009, 0), ...  \n4    [(trong, 0), (khi, 0), (chỉ, 1), (có, 1), (5, ...  \n..                                                 ...  \n925  [(ông, 0), (nguyễn phi, 0), (long, 0), (pct, 0...  \n926  [(ông, 0), (nguyễn phi, 0), (long, 0), (pct, 0...  \n927  [(giá, 1), (phát hành, 1), (dự kiến, 1), (là, ...  \n928  [(đại diện, 1), (ubnd, 0), (bắc giang, 0), (đó...  \n929  [(công ty, 1), (hoàn thành, 1), (88, 0), (7%, ...  \n\n[637 rows x 3 columns]",
      "text/html": "<div>\n<style scoped>\n    .dataframe tbody tr th:only-of-type {\n        vertical-align: middle;\n    }\n\n    .dataframe tbody tr th {\n        vertical-align: top;\n    }\n\n    .dataframe thead th {\n        text-align: right;\n    }\n</style>\n<table border=\"1\" class=\"dataframe\">\n  <thead>\n    <tr style=\"text-align: right;\">\n      <th></th>\n      <th>NewsTitle</th>\n      <th>NewsFullContent</th>\n      <th>label</th>\n    </tr>\n  </thead>\n  <tbody>\n    <tr>\n      <th>0</th>\n      <td>VCB ký hợp đồng vay vốn 100 triệu USD</td>\n      <td>ông nguyễn hòa bình chủ tịch hđqt của vcb cho ...</td>\n      <td>[(ông, 0), (nguyễn hoà bình, 0), (chủ tịch, 1)...</td>\n    </tr>\n    <tr>\n      <th>1</th>\n      <td>Kết thúc Phiên 1, 30/10: STB và PPC đang &amp;quot...</td>\n      <td>trong khi thị trường châu âu có phiên tăng điể...</td>\n      <td>[(trong, 0), (khi, 0), (thị trường, 1), (châu ...</td>\n    </tr>\n    <tr>\n      <th>2</th>\n      <td>Ngày 23/3, Hose đón tân binh PNJ</td>\n      <td>kế hoạch này đã được đại diện pnj bà cao thị n...</td>\n      <td>[(kế hoạch, 1), (này, 0), (đã, 0), (được, 1), ...</td>\n    </tr>\n    <tr>\n      <th>3</th>\n      <td>Sắp khởi công Đại học FPT</td>\n      <td>theo đó tháng 7/2009 đại học fpt sẽ chính thức...</td>\n      <td>[(theo, 1), (đó, 0), (tháng, 1), (7/2009, 0), ...</td>\n    </tr>\n    <tr>\n      <th>4</th>\n      <td>SSI đứng đầu thị phần môi giới cổ phiếu</td>\n      <td>trong khi chỉ có 5 công ty nắm tới trên 30 ngh...</td>\n      <td>[(trong, 0), (khi, 0), (chỉ, 1), (có, 1), (5, ...</td>\n    </tr>\n    <tr>\n      <th>...</th>\n      <td>...</td>\n      <td>...</td>\n      <td>...</td>\n    </tr>\n    <tr>\n      <th>925</th>\n      <td>Liên danh FPT Quy Nhơn trúng thầu dự án hơn 4....</td>\n      <td>ông nguyễn phi long pct ubnd tỉnh bình định vừ...</td>\n      <td>[(ông, 0), (nguyễn phi, 0), (long, 0), (pct, 0...</td>\n    </tr>\n    <tr>\n      <th>926</th>\n      <td>Liên danh FPT Quy Nhơn trúng thầu dự án hơn 4....</td>\n      <td>ông nguyễn phi long pct ubnd tỉnh bình định vừ...</td>\n      <td>[(ông, 0), (nguyễn phi, 0), (long, 0), (pct, 0...</td>\n    </tr>\n    <tr>\n      <th>927</th>\n      <td>PNJ phát hành 2,3 triệu cổ phiếu ESOP, Chủ tịc...</td>\n      <td>giá phát hành dự kiến là 20 000 đồng/cp thấp...</td>\n      <td>[(giá, 1), (phát hành, 1), (dự kiến, 1), (là, ...</td>\n    </tr>\n    <tr>\n      <th>928</th>\n      <td>Vingroup nêu phương án quy hoạch khu đô thị, s...</td>\n      <td>đại diện ubnd bắc giang đóng góp ý kiến thiế...</td>\n      <td>[(đại diện, 1), (ubnd, 0), (bắc giang, 0), (đó...</td>\n    </tr>\n    <tr>\n      <th>929</th>\n      <td>FPT lãi ròng tháng 11 tăng gần 17% so với cùng kỳ</td>\n      <td>công ty hoàn thành 88 7% kế hoạch lợi nhuận ...</td>\n      <td>[(công ty, 1), (hoàn thành, 1), (88, 0), (7%, ...</td>\n    </tr>\n  </tbody>\n</table>\n<p>637 rows × 3 columns</p>\n</div>"
     },
     "execution_count": 15,
     "metadata": {},
     "output_type": "execute_result"
    }
   ],
   "source": [
    "df[df['match'] > 30][['NewsTitle','NewsFullContent','label']]"
   ]
  },
  {
   "cell_type": "code",
   "execution_count": 16,
   "metadata": {},
   "outputs": [],
   "source": [
    "ner = VnCoreNLP(\"./VnCoreNLP-master/VnCoreNLP-1.1.1.jar\", annotators=\"wseg,pos,ner\", max_heap_size='-Xmx2g') "
   ]
  },
  {
   "cell_type": "code",
   "execution_count": 17,
   "metadata": {},
   "outputs": [],
   "source": [
    "trial = ner.annotate(\"Hà Nội là thủ đô của Việt Nam\")"
   ]
  },
  {
   "cell_type": "code",
   "execution_count": 18,
   "metadata": {},
   "outputs": [
    {
     "data": {
      "text/plain": "[{'index': 1,\n  'form': 'Hà_Nội',\n  'posTag': 'Np',\n  'nerLabel': 'B-LOC',\n  'head': -1},\n {'index': 2, 'form': 'là', 'posTag': 'V', 'nerLabel': 'O', 'head': -1},\n {'index': 3, 'form': 'thủ_đô', 'posTag': 'N', 'nerLabel': 'O', 'head': -1},\n {'index': 4, 'form': 'của', 'posTag': 'E', 'nerLabel': 'O', 'head': -1},\n {'index': 5,\n  'form': 'Việt_Nam',\n  'posTag': 'Np',\n  'nerLabel': 'B-LOC',\n  'head': -1}]"
     },
     "execution_count": 18,
     "metadata": {},
     "output_type": "execute_result"
    }
   ],
   "source": [
    "trial['sentences'][0]"
   ]
  },
  {
   "cell_type": "code",
   "execution_count": 19,
   "metadata": {},
   "outputs": [
    {
     "data": {
      "text/plain": "   index  NewsId Ticker                                          NewsTitle  \\\n0      0    1441    VCB             VCB ký hợp đồng vay vốn 100 triệu USD    \n1      1    4086    STB  Kết thúc Phiên 1, 30/10: STB và PPC đang &quot...   \n2      2   19833    PNJ                   Ngày 23/3, Hose đón tân binh PNJ   \n3      3   25591    FPT                          Sắp khởi công Đại học FPT   \n4      4   26019    SSI           SSI đứng đầu thị phần môi giới cổ phiếu    \n\n                                     NewsFullContent           PublicDate  \\\n0  Ông Nguyễn Hòa Bình Chủ tịch HĐQT của VCB cho ...  2008-10-20 00:00:00   \n1  Trong khi thị trường Châu Âu có phiên tăng điể...  2008-10-30 10:08:00   \n2  Kế hoạch này đã được đại diện PNJ bà Cao Thị N...  2009-03-03 11:29:00   \n3  Theo đó tháng 7/2009 Đại học FPT sẽ chính thức...  2009-06-02 14:29:00   \n4  Trong khi chỉ có 5 công ty nắm tới trên 30 ngh...  2009-06-09 17:13:00   \n\n    len  word_len  \n0  1054         8  \n1  2550         8  \n2  1941         8  \n3  1255         6  \n4  1158         6  ",
      "text/html": "<div>\n<style scoped>\n    .dataframe tbody tr th:only-of-type {\n        vertical-align: middle;\n    }\n\n    .dataframe tbody tr th {\n        vertical-align: top;\n    }\n\n    .dataframe thead th {\n        text-align: right;\n    }\n</style>\n<table border=\"1\" class=\"dataframe\">\n  <thead>\n    <tr style=\"text-align: right;\">\n      <th></th>\n      <th>index</th>\n      <th>NewsId</th>\n      <th>Ticker</th>\n      <th>NewsTitle</th>\n      <th>NewsFullContent</th>\n      <th>PublicDate</th>\n      <th>len</th>\n      <th>word_len</th>\n    </tr>\n  </thead>\n  <tbody>\n    <tr>\n      <th>0</th>\n      <td>0</td>\n      <td>1441</td>\n      <td>VCB</td>\n      <td>VCB ký hợp đồng vay vốn 100 triệu USD</td>\n      <td>Ông Nguyễn Hòa Bình Chủ tịch HĐQT của VCB cho ...</td>\n      <td>2008-10-20 00:00:00</td>\n      <td>1054</td>\n      <td>8</td>\n    </tr>\n    <tr>\n      <th>1</th>\n      <td>1</td>\n      <td>4086</td>\n      <td>STB</td>\n      <td>Kết thúc Phiên 1, 30/10: STB và PPC đang &amp;quot...</td>\n      <td>Trong khi thị trường Châu Âu có phiên tăng điể...</td>\n      <td>2008-10-30 10:08:00</td>\n      <td>2550</td>\n      <td>8</td>\n    </tr>\n    <tr>\n      <th>2</th>\n      <td>2</td>\n      <td>19833</td>\n      <td>PNJ</td>\n      <td>Ngày 23/3, Hose đón tân binh PNJ</td>\n      <td>Kế hoạch này đã được đại diện PNJ bà Cao Thị N...</td>\n      <td>2009-03-03 11:29:00</td>\n      <td>1941</td>\n      <td>8</td>\n    </tr>\n    <tr>\n      <th>3</th>\n      <td>3</td>\n      <td>25591</td>\n      <td>FPT</td>\n      <td>Sắp khởi công Đại học FPT</td>\n      <td>Theo đó tháng 7/2009 Đại học FPT sẽ chính thức...</td>\n      <td>2009-06-02 14:29:00</td>\n      <td>1255</td>\n      <td>6</td>\n    </tr>\n    <tr>\n      <th>4</th>\n      <td>4</td>\n      <td>26019</td>\n      <td>SSI</td>\n      <td>SSI đứng đầu thị phần môi giới cổ phiếu</td>\n      <td>Trong khi chỉ có 5 công ty nắm tới trên 30 ngh...</td>\n      <td>2009-06-09 17:13:00</td>\n      <td>1158</td>\n      <td>6</td>\n    </tr>\n  </tbody>\n</table>\n</div>"
     },
     "execution_count": 19,
     "metadata": {},
     "output_type": "execute_result"
    }
   ],
   "source": [
    "df2 = pd.read_csv('./data/data_clean_v3.csv').drop('Unnamed: 0', axis=1)\n",
    "df2.head()"
   ]
  },
  {
   "cell_type": "code",
   "execution_count": 20,
   "metadata": {},
   "outputs": [],
   "source": [
    "trial = ner.annotate(df2.loc[0,'NewsFullContent'])"
   ]
  },
  {
   "cell_type": "code",
   "execution_count": 21,
   "metadata": {},
   "outputs": [],
   "source": [
    "def vnner(text): # part-of-speech tagging\n",
    "    annotated_text = ner.annotate(text)\n",
    "    pos = []\n",
    "    for dic in annotated_text['sentences'][0]:\n",
    "#         if dic['posTag'] not in ['L','M','E','C','Cc','I','T','Y','Z','X','CH']:\n",
    "          pos.append(tuple([dic['form'], dic['nerLabel']]))\n",
    "        \n",
    "    return pos"
   ]
  },
  {
   "cell_type": "code",
   "execution_count": 22,
   "metadata": {},
   "outputs": [
    {
     "data": {
      "text/plain": "[('Ông', 'O'),\n ('Nguyễn_Hoà_Bình_Chủ_tịch', 'O'),\n ('HĐQT', 'O'),\n ('của', 'O'),\n ('VCB', 'B-ORG'),\n ('cho', 'O'),\n ('biết', 'O'),\n ('khoản', 'O'),\n ('vay', 'O'),\n ('trong', 'O'),\n ('3', 'O'),\n ('năm', 'O'),\n ('này', 'O'),\n ('sẽ', 'O'),\n ('góp_phần', 'O'),\n ('bổ_sung', 'O'),\n ('nguồn', 'O'),\n ('vốn', 'O'),\n ('ngoại_tệ', 'O'),\n ('trung_hạn', 'O'),\n ('đáng_kể', 'O'),\n ('phục_vụ', 'O'),\n ('cho', 'O'),\n ('các', 'O'),\n ('mục_tiêu', 'O'),\n ('kinh_doanh', 'O'),\n ('và', 'O'),\n ('tăng_trưởng', 'O'),\n ('của', 'O'),\n ('ngân_hàng', 'O'),\n ('Hiện_tại', 'O'),\n ('tổng', 'O'),\n ('nguồn', 'O'),\n ('vốn', 'O'),\n ('của', 'O'),\n ('VCB', 'O'),\n ('đạt', 'O'),\n ('203', 'O'),\n ('ngàn', 'O'),\n ('tỷ', 'O'),\n ('đồng', 'O'),\n ('tăng', 'O'),\n ('6', 'O'),\n ('000', 'O'),\n ('tỷ', 'O'),\n ('đồng', 'O'),\n ('so', 'O'),\n ('với', 'O'),\n ('cuối', 'O'),\n ('năm', 'O'),\n ('2007', 'O'),\n (';', 'O'),\n ('trong', 'O'),\n ('đó', 'O'),\n ('nguồn', 'O'),\n ('vốn', 'O'),\n ('ngoại_tệ', 'O'),\n ('là', 'O'),\n ('5', 'O'),\n ('3', 'O'),\n ('tỷ', 'O'),\n ('USD', 'O'),\n ('Vì_vậy', 'O'),\n ('nếu', 'O'),\n ('so', 'O'),\n ('với', 'O'),\n ('tổng', 'O'),\n ('nguồn', 'O'),\n ('vốn', 'O'),\n ('ngoại_tệ', 'O'),\n ('mà', 'O'),\n ('VCB', 'B-ORG'),\n ('đang', 'O'),\n ('có', 'O'),\n ('thì', 'O'),\n ('khoản', 'O'),\n ('vay', 'O'),\n ('trị_giá', 'O'),\n ('100', 'O'),\n ('triệu', 'O'),\n ('USD', 'O'),\n ('này', 'O'),\n ('tuy', 'O'),\n ('không', 'O'),\n ('lớn', 'O'),\n ('xấp_xỉ', 'O'),\n ('1', 'O'),\n ('700', 'O'),\n ('tỷ', 'O'),\n ('đồng', 'O'),\n ('tương_đương', 'O'),\n ('với', 'O'),\n ('dư_nợ', 'O'),\n ('cho', 'O'),\n ('vay', 'O'),\n ('cá_tra', 'O'),\n ('cá', 'O'),\n ('ba_sa', 'O'),\n ('của', 'O'),\n ('VCB', 'B-ORG'),\n ('tại', 'O'),\n ('đồng_bằng', 'B-LOC'),\n ('sông', 'I-LOC'),\n ('Cửu_Long', 'I-LOC'),\n ('nhưng', 'O'),\n ('cũng', 'O'),\n ('là', 'O'),\n ('một', 'O'),\n ('lượng', 'O'),\n ('vốn', 'O'),\n ('đáng_kể', 'O'),\n ('trong', 'O'),\n ('bối_cảnh', 'O'),\n ('thị_trường', 'O'),\n ('tài_chính', 'O'),\n ('ngân_hàng', 'O'),\n ('đang', 'O'),\n ('có', 'O'),\n ('nhiều', 'O'),\n ('biến_động', 'O'),\n ('Đại_diện', 'O'),\n ('của', 'O'),\n ('Intesa_Sanpaolo', 'B-PER'),\n ('nhấn_mạnh', 'O'),\n ('thêm', 'O'),\n ('hợp_đồng', 'O'),\n ('này', 'O'),\n ('còn', 'O'),\n ('mang', 'O'),\n ('ý_nghĩa', 'O'),\n ('quan_trọng', 'O'),\n ('trong', 'O'),\n ('việc', 'O'),\n ('thúc_đẩy', 'O'),\n ('mối', 'O'),\n ('quan_hệ', 'O'),\n ('thương_mại', 'O'),\n ('giữa', 'O'),\n ('Italia', 'B-LOC'),\n ('và', 'O'),\n ('Việt_Nam', 'B-LOC'),\n ('thông_qua', 'O'),\n ('việc', 'O'),\n ('tài_trợ', 'O'),\n ('cho', 'O'),\n ('các', 'O'),\n ('doanh_nghiệp', 'O'),\n ('Italia', 'B-LOC'),\n ('thâm_nhập', 'O'),\n ('thị_trường', 'O'),\n ('Việt_Nam', 'B-LOC'),\n ('Được', 'O'),\n ('biết', 'O'),\n ('cũng', 'O'),\n ('trong', 'O'),\n ('nỗ_lực', 'O'),\n ('này', 'O'),\n ('Intesa_Sanpaolo', 'B-PER'),\n ('đang', 'O'),\n ('gấp_rút', 'O'),\n ('hoàn_tất', 'O'),\n ('các', 'O'),\n ('thủ_tục', 'O'),\n ('cuối_cùng', 'O'),\n ('để', 'O'),\n ('có_thể', 'O'),\n ('sớm', 'O'),\n ('mở', 'O'),\n ('Văn_phòng', 'O'),\n ('đại_diện', 'O'),\n ('đầu_tiên', 'O'),\n ('của', 'O'),\n ('mình', 'O'),\n ('tại', 'O'),\n ('Hà_Nội', 'B-LOC'),\n ('ttxvn', 'O')]"
     },
     "execution_count": 22,
     "metadata": {},
     "output_type": "execute_result"
    }
   ],
   "source": [
    "vnner(df2.loc[0,'NewsFullContent'])"
   ]
  },
  {
   "cell_type": "code",
   "execution_count": 22,
   "metadata": {},
   "outputs": [],
   "source": []
  }
 ],
 "metadata": {
  "kernelspec": {
   "name": "pycharm-71154de9",
   "language": "python",
   "display_name": "PyCharm (VinBigData)"
  },
  "language_info": {
   "codemirror_mode": {
    "name": "ipython",
    "version": 3
   },
   "file_extension": ".py",
   "mimetype": "text/x-python",
   "name": "python",
   "nbconvert_exporter": "python",
   "pygments_lexer": "ipython3",
   "version": "3.8.5"
  }
 },
 "nbformat": 4,
 "nbformat_minor": 4
}