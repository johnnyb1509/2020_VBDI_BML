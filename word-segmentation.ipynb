{
 "cells": [
  {
   "cell_type": "code",
   "execution_count": 1,
   "metadata": {},
   "outputs": [],
   "source": [
    "import pandas as pd"
   ]
  },
  {
   "cell_type": "code",
   "execution_count": 2,
   "metadata": {},
   "outputs": [],
   "source": [
    "from vncorenlp import VnCoreNLP\n",
    "annotator = VnCoreNLP(\"./VnCoreNLP-master/VnCoreNLP-1.1.1.jar\", annotators=\"wseg\", max_heap_size='-Xmx500m') "
   ]
  },
  {
   "cell_type": "code",
   "execution_count": 3,
   "metadata": {},
   "outputs": [
    {
     "data": {
      "text/html": [
       "<div>\n",
       "<style scoped>\n",
       "    .dataframe tbody tr th:only-of-type {\n",
       "        vertical-align: middle;\n",
       "    }\n",
       "\n",
       "    .dataframe tbody tr th {\n",
       "        vertical-align: top;\n",
       "    }\n",
       "\n",
       "    .dataframe thead th {\n",
       "        text-align: right;\n",
       "    }\n",
       "</style>\n",
       "<table border=\"1\" class=\"dataframe\">\n",
       "  <thead>\n",
       "    <tr style=\"text-align: right;\">\n",
       "      <th></th>\n",
       "      <th>index</th>\n",
       "      <th>NewsId</th>\n",
       "      <th>Ticker</th>\n",
       "      <th>NewsTitle</th>\n",
       "      <th>NewsFullContent</th>\n",
       "      <th>PublicDate</th>\n",
       "      <th>OrganCode</th>\n",
       "      <th>NewsFullContent_clean</th>\n",
       "    </tr>\n",
       "  </thead>\n",
       "  <tbody>\n",
       "    <tr>\n",
       "      <th>0</th>\n",
       "      <td>311</td>\n",
       "      <td>1441</td>\n",
       "      <td>VCB</td>\n",
       "      <td>VCB ký hợp đồng vay vốn 100 triệu USD</td>\n",
       "      <td>Ông Nguyễn Hòa Bình, Chủ tịch HĐQT của &lt;a href...</td>\n",
       "      <td>2008-10-20 00:00:00</td>\n",
       "      <td>VCB</td>\n",
       "      <td>Ông Nguyễn Hòa Bình Chủ tịch HĐQT của VCB cho ...</td>\n",
       "    </tr>\n",
       "    <tr>\n",
       "      <th>1</th>\n",
       "      <td>355</td>\n",
       "      <td>3961</td>\n",
       "      <td>STB</td>\n",
       "      <td>Sacombank nhận giải thưởng “Ngân hàng tốt nhất...</td>\n",
       "      <td>Giải thưởng dựa trên đánh giá hoạt động của Sa...</td>\n",
       "      <td>2008-10-20 00:00:00</td>\n",
       "      <td>STB</td>\n",
       "      <td>Giải thưởng dựa trên đánh giá hoạt động của Sa...</td>\n",
       "    </tr>\n",
       "    <tr>\n",
       "      <th>2</th>\n",
       "      <td>358</td>\n",
       "      <td>3964</td>\n",
       "      <td>SSI</td>\n",
       "      <td>SSI sẽ tạm ứng cổ tức 10% bằng tiền mặt</td>\n",
       "      <td>Theo đó, căn cứ kết quả hoạt động kinh doanh c...</td>\n",
       "      <td>2008-10-20 00:00:00</td>\n",
       "      <td>SSI</td>\n",
       "      <td>Theo đó căn cứ kết quả hoạt động kinh doanh củ...</td>\n",
       "    </tr>\n",
       "    <tr>\n",
       "      <th>3</th>\n",
       "      <td>769</td>\n",
       "      <td>4086</td>\n",
       "      <td>STB</td>\n",
       "      <td>Kết thúc Phiên 1, 30/10: STB và PPC đang &amp;quot...</td>\n",
       "      <td>&lt;P&gt;Trong khi thị trường Châu Âu có phiên tăng ...</td>\n",
       "      <td>2008-10-30 10:08:00</td>\n",
       "      <td>STB</td>\n",
       "      <td>Trong khi thị trường Châu Âu có phiên tăng điể...</td>\n",
       "    </tr>\n",
       "    <tr>\n",
       "      <th>4</th>\n",
       "      <td>2108</td>\n",
       "      <td>16739</td>\n",
       "      <td>STB</td>\n",
       "      <td>Sacombank mở rộng hoạt động tại nước ngoài</td>\n",
       "      <td>&lt;P align=justify&gt;Tính đến nay, Sacombank đã th...</td>\n",
       "      <td>2008-12-25 07:56:00</td>\n",
       "      <td>STB</td>\n",
       "      <td>Tính đến nay Sacombank đã thiết lập quan hệ đạ...</td>\n",
       "    </tr>\n",
       "  </tbody>\n",
       "</table>\n",
       "</div>"
      ],
      "text/plain": [
       "   index  NewsId Ticker                                          NewsTitle  \\\n",
       "0    311    1441    VCB             VCB ký hợp đồng vay vốn 100 triệu USD    \n",
       "1    355    3961    STB  Sacombank nhận giải thưởng “Ngân hàng tốt nhất...   \n",
       "2    358    3964    SSI            SSI sẽ tạm ứng cổ tức 10% bằng tiền mặt   \n",
       "3    769    4086    STB  Kết thúc Phiên 1, 30/10: STB và PPC đang &quot...   \n",
       "4   2108   16739    STB         Sacombank mở rộng hoạt động tại nước ngoài   \n",
       "\n",
       "                                     NewsFullContent           PublicDate  \\\n",
       "0  Ông Nguyễn Hòa Bình, Chủ tịch HĐQT của <a href...  2008-10-20 00:00:00   \n",
       "1  Giải thưởng dựa trên đánh giá hoạt động của Sa...  2008-10-20 00:00:00   \n",
       "2  Theo đó, căn cứ kết quả hoạt động kinh doanh c...  2008-10-20 00:00:00   \n",
       "3  <P>Trong khi thị trường Châu Âu có phiên tăng ...  2008-10-30 10:08:00   \n",
       "4  <P align=justify>Tính đến nay, Sacombank đã th...  2008-12-25 07:56:00   \n",
       "\n",
       "  OrganCode                              NewsFullContent_clean  \n",
       "0       VCB  Ông Nguyễn Hòa Bình Chủ tịch HĐQT của VCB cho ...  \n",
       "1       STB  Giải thưởng dựa trên đánh giá hoạt động của Sa...  \n",
       "2       SSI  Theo đó căn cứ kết quả hoạt động kinh doanh củ...  \n",
       "3       STB  Trong khi thị trường Châu Âu có phiên tăng điể...  \n",
       "4       STB  Tính đến nay Sacombank đã thiết lập quan hệ đạ...  "
      ]
     },
     "execution_count": 3,
     "metadata": {},
     "output_type": "execute_result"
    }
   ],
   "source": [
    "df = pd.read_csv('./data/data_clean_v4.csv').drop('Unnamed: 0', axis=1)\n",
    "df.head()"
   ]
  },
  {
   "cell_type": "code",
   "execution_count": 4,
   "metadata": {},
   "outputs": [],
   "source": [
    "def word_segment(text):\n",
    "    annotated_text = annotator.annotate(text)['sentences'][0]\n",
    "    return [dic['form'] for dic in annotated_text] "
   ]
  },
  {
   "cell_type": "code",
   "execution_count": 5,
   "metadata": {},
   "outputs": [],
   "source": [
    "df['word_segment'] = df.apply(lambda text: word_segment(text))"
   ]
  },
  {
   "cell_type": "code",
   "execution_count": null,
   "metadata": {},
   "outputs": [],
   "source": []
  }
 ],
 "metadata": {
  "kernelspec": {
   "display_name": "Python 3",
   "language": "python",
   "name": "python3"
  },
  "language_info": {
   "codemirror_mode": {
    "name": "ipython",
    "version": 3
   },
   "file_extension": ".py",
   "mimetype": "text/x-python",
   "name": "python",
   "nbconvert_exporter": "python",
   "pygments_lexer": "ipython3",
   "version": "3.6.12"
  }
 },
 "nbformat": 4,
 "nbformat_minor": 4
}
