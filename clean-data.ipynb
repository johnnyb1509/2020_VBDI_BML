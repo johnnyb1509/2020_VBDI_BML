{
 "cells": [
  {
   "cell_type": "code",
   "execution_count": 1,
   "metadata": {},
   "outputs": [],
   "source": [
    "import pandas as pd"
   ]
  },
  {
   "cell_type": "code",
   "execution_count": 2,
   "metadata": {},
   "outputs": [
    {
     "data": {
      "text/html": [
       "<div>\n",
       "<style scoped>\n",
       "    .dataframe tbody tr th:only-of-type {\n",
       "        vertical-align: middle;\n",
       "    }\n",
       "\n",
       "    .dataframe tbody tr th {\n",
       "        vertical-align: top;\n",
       "    }\n",
       "\n",
       "    .dataframe thead th {\n",
       "        text-align: right;\n",
       "    }\n",
       "</style>\n",
       "<table border=\"1\" class=\"dataframe\">\n",
       "  <thead>\n",
       "    <tr style=\"text-align: right;\">\n",
       "      <th></th>\n",
       "      <th>NewsFullContent_clean</th>\n",
       "    </tr>\n",
       "  </thead>\n",
       "  <tbody>\n",
       "    <tr>\n",
       "      <th>6935</th>\n",
       "      <td>Công ty Cổ phần Chứng khoán MB công bố báo cáo...</td>\n",
       "    </tr>\n",
       "    <tr>\n",
       "      <th>6936</th>\n",
       "      <td>Công ty Cổ phần Chứng khoán MB công bố báo cáo...</td>\n",
       "    </tr>\n",
       "    <tr>\n",
       "      <th>6937</th>\n",
       "      <td>Ngân hàng Thương mại Cổ phần Ngoại thương Việ...</td>\n",
       "    </tr>\n",
       "    <tr>\n",
       "      <th>6938</th>\n",
       "      <td>STTMã CKSànGiá thay đổiKhối lượng giao dịch tí...</td>\n",
       "    </tr>\n",
       "    <tr>\n",
       "      <th>6939</th>\n",
       "      <td>STTMã CKSànGiá thay đổiKhối lượng giao dịch tí...</td>\n",
       "    </tr>\n",
       "    <tr>\n",
       "      <th>6940</th>\n",
       "      <td>STTMã CkSànGiá thay đổiKhối lượng giao dịch tí...</td>\n",
       "    </tr>\n",
       "    <tr>\n",
       "      <th>6941</th>\n",
       "      <td>STTMã CKSànGiá thay đổiKhối lượng giao dịch tí...</td>\n",
       "    </tr>\n",
       "    <tr>\n",
       "      <th>6942</th>\n",
       "      <td>Công ty hoàn thành 887 kế hoạch lợi nhuận trướ...</td>\n",
       "    </tr>\n",
       "    <tr>\n",
       "      <th>6943</th>\n",
       "      <td>Chốt phiên giao dịch ngày 1512 cổ phiếu VCB dừ...</td>\n",
       "    </tr>\n",
       "    <tr>\n",
       "      <th>6944</th>\n",
       "      <td>Hội đồng quản trị Công ty cổ phần Tập đoàn MaS...</td>\n",
       "    </tr>\n",
       "  </tbody>\n",
       "</table>\n",
       "</div>"
      ],
      "text/plain": [
       "                                  NewsFullContent_clean\n",
       "6935  Công ty Cổ phần Chứng khoán MB công bố báo cáo...\n",
       "6936  Công ty Cổ phần Chứng khoán MB công bố báo cáo...\n",
       "6937   Ngân hàng Thương mại Cổ phần Ngoại thương Việ...\n",
       "6938  STTMã CKSànGiá thay đổiKhối lượng giao dịch tí...\n",
       "6939  STTMã CKSànGiá thay đổiKhối lượng giao dịch tí...\n",
       "6940  STTMã CkSànGiá thay đổiKhối lượng giao dịch tí...\n",
       "6941  STTMã CKSànGiá thay đổiKhối lượng giao dịch tí...\n",
       "6942  Công ty hoàn thành 887 kế hoạch lợi nhuận trướ...\n",
       "6943  Chốt phiên giao dịch ngày 1512 cổ phiếu VCB dừ...\n",
       "6944  Hội đồng quản trị Công ty cổ phần Tập đoàn MaS..."
      ]
     },
     "execution_count": 2,
     "metadata": {},
     "output_type": "execute_result"
    }
   ],
   "source": [
    "df = pd.DataFrame(pd.read_csv('./data/data_clean_v4.csv')['NewsFullContent_clean']).drop(3595, axis=0)\n",
    "df.tail(10)"
   ]
  },
  {
   "cell_type": "code",
   "execution_count": 3,
   "metadata": {},
   "outputs": [],
   "source": [
    "# Tính số từ trong mỗi bài báo, chỉ lấy các bài báo có > 50 từ\n",
    "df['len'] = df['NewsFullContent_clean'].apply(lambda text: len(text))\n",
    "df = df[df['len'] > 50]"
   ]
  },
  {
   "cell_type": "code",
   "execution_count": 4,
   "metadata": {},
   "outputs": [
    {
     "data": {
      "text/html": [
       "<div>\n",
       "<style scoped>\n",
       "    .dataframe tbody tr th:only-of-type {\n",
       "        vertical-align: middle;\n",
       "    }\n",
       "\n",
       "    .dataframe tbody tr th {\n",
       "        vertical-align: top;\n",
       "    }\n",
       "\n",
       "    .dataframe thead th {\n",
       "        text-align: right;\n",
       "    }\n",
       "</style>\n",
       "<table border=\"1\" class=\"dataframe\">\n",
       "  <thead>\n",
       "    <tr style=\"text-align: right;\">\n",
       "      <th></th>\n",
       "      <th>NewsFullContent_clean</th>\n",
       "      <th>len</th>\n",
       "      <th>word_len</th>\n",
       "    </tr>\n",
       "  </thead>\n",
       "  <tbody>\n",
       "    <tr>\n",
       "      <th>36</th>\n",
       "      <td>Cụ thể 6 tháng đầu năm PNJ đạt tổng doanh thu ...</td>\n",
       "      <td>1333</td>\n",
       "      <td>30</td>\n",
       "    </tr>\n",
       "    <tr>\n",
       "      <th>58</th>\n",
       "      <td>Đây là sự quan tâm đầu tiên được cổ đông đặt r...</td>\n",
       "      <td>4855</td>\n",
       "      <td>24</td>\n",
       "    </tr>\n",
       "    <tr>\n",
       "      <th>121</th>\n",
       "      <td>Ngân hàng TMCP Vietcombank mãVCB thông báokết ...</td>\n",
       "      <td>1601</td>\n",
       "      <td>32</td>\n",
       "    </tr>\n",
       "    <tr>\n",
       "      <th>122</th>\n",
       "      <td>Ngân hàng TMCP Sài Gòn Thương tín mãSTBcông bố...</td>\n",
       "      <td>1821</td>\n",
       "      <td>29</td>\n",
       "    </tr>\n",
       "    <tr>\n",
       "      <th>143</th>\n",
       "      <td>Ngân hàng TMCP Công thương Việt Nam VietinBank...</td>\n",
       "      <td>5366</td>\n",
       "      <td>42</td>\n",
       "    </tr>\n",
       "    <tr>\n",
       "      <th>...</th>\n",
       "      <td>...</td>\n",
       "      <td>...</td>\n",
       "      <td>...</td>\n",
       "    </tr>\n",
       "    <tr>\n",
       "      <th>6936</th>\n",
       "      <td>Công ty Cổ phần Chứng khoán MB công bố báo cáo...</td>\n",
       "      <td>162</td>\n",
       "      <td>22</td>\n",
       "    </tr>\n",
       "    <tr>\n",
       "      <th>6938</th>\n",
       "      <td>STTMã CKSànGiá thay đổiKhối lượng giao dịch tí...</td>\n",
       "      <td>331</td>\n",
       "      <td>241</td>\n",
       "    </tr>\n",
       "    <tr>\n",
       "      <th>6939</th>\n",
       "      <td>STTMã CKSànGiá thay đổiKhối lượng giao dịch tí...</td>\n",
       "      <td>1207</td>\n",
       "      <td>1158</td>\n",
       "    </tr>\n",
       "    <tr>\n",
       "      <th>6940</th>\n",
       "      <td>STTMã CkSànGiá thay đổiKhối lượng giao dịch tí...</td>\n",
       "      <td>6910</td>\n",
       "      <td>6808</td>\n",
       "    </tr>\n",
       "    <tr>\n",
       "      <th>6941</th>\n",
       "      <td>STTMã CKSànGiá thay đổiKhối lượng giao dịch tí...</td>\n",
       "      <td>1368</td>\n",
       "      <td>1319</td>\n",
       "    </tr>\n",
       "  </tbody>\n",
       "</table>\n",
       "<p>2621 rows × 3 columns</p>\n",
       "</div>"
      ],
      "text/plain": [
       "                                  NewsFullContent_clean   len  word_len\n",
       "36    Cụ thể 6 tháng đầu năm PNJ đạt tổng doanh thu ...  1333        30\n",
       "58    Đây là sự quan tâm đầu tiên được cổ đông đặt r...  4855        24\n",
       "121   Ngân hàng TMCP Vietcombank mãVCB thông báokết ...  1601        32\n",
       "122   Ngân hàng TMCP Sài Gòn Thương tín mãSTBcông bố...  1821        29\n",
       "143   Ngân hàng TMCP Công thương Việt Nam VietinBank...  5366        42\n",
       "...                                                 ...   ...       ...\n",
       "6936  Công ty Cổ phần Chứng khoán MB công bố báo cáo...   162        22\n",
       "6938  STTMã CKSànGiá thay đổiKhối lượng giao dịch tí...   331       241\n",
       "6939  STTMã CKSànGiá thay đổiKhối lượng giao dịch tí...  1207      1158\n",
       "6940  STTMã CkSànGiá thay đổiKhối lượng giao dịch tí...  6910      6808\n",
       "6941  STTMã CKSànGiá thay đổiKhối lượng giao dịch tí...  1368      1319\n",
       "\n",
       "[2621 rows x 3 columns]"
      ]
     },
     "execution_count": 4,
     "metadata": {},
     "output_type": "execute_result"
    }
   ],
   "source": [
    "# Tính độ dài của mỗi từ trong bài báo, kiểm tra các bài báo có từ có độ dài > 20\n",
    "df['word_len'] = df['NewsFullContent_clean'].apply(lambda text: max([len(w) for w in text.split()]))\n",
    "df[df['word_len'] > 20]"
   ]
  },
  {
   "cell_type": "code",
   "execution_count": 6,
   "metadata": {},
   "outputs": [
    {
     "data": {
      "text/plain": [
       "'Cụ thể 6 tháng đầu năm PNJ đạt tổng doanh thu hợp nhất 6722 tỷ đồng bằng 12448 kế hoạch năm Lợi nhuận trước thuế hợp nhất đạt 147714 tỷ đồng bằng 6776 kế hoạch năm và nhờ đó mức lợi nhuận sau thuế ước tính đạt 113522 tỷ đồng đạt 6455 kế hoạch năm\\xa0Theo ban lãnh đạo PNJ cho biết các tháng đầu năm nhờ giá vàng biến động thất thường và giữ ở mức khá cao đã giúp doanh thu kinh doanh vàng miếng của công ty tăng vọt Đây là mảng có doanh số lớn an toàn nhưng tỷ suất sinh lợi nhỏ Vì vậy dù doanh số tăng rất cao nhưng mức tăng về lợi nhuận không quá lớn\\xa0Để gia tăng lợi nhuận bà Cao Thị Ngọc Dung – Chủ tịch HĐQT kiêm Tổng Giám đốc PNJ dự kiến sẽ đẩy mạnh hệ thống phân phối trên toàn quốc và gia tăng mạnh mảng kinh doanh vàng nữ trang của mình trong 6 tháng tới Công ty này đang chuẩn bị thành lập công ty thời trang trên cơ sở tách nhãn hiệu trang sức cao cấp CAO Fine Jewellery của PNJ cùng với phát triển kinh doanh thêm một số ngành hàng thời trang khácĐược biết PNJ vừa tiến hành lấy ý kiến cổ đông về kế hoạch chia cổ tức và tăng vốn điều lệ năm 2009 Mức cổ tức dự kiến chi trả là 30 và đợt 1 là 15  bằng tiền mặt Trong khi đó vốn điều lệ 300 tỷ đồng của PNJ ngay trong đầu quý 3 sẽ tăng lên 400 tỷ đồng trên cơ sở chia cổ phiếu thưởng từ một phần nguồn thặng dư vốn theo tỷ lệ 3 1 Download File   PNJThongcaobaochiKQKD6thangjpg '"
      ]
     },
     "execution_count": 6,
     "metadata": {},
     "output_type": "execute_result"
    }
   ],
   "source": [
    "df.loc[36, 'NewsFullContent_clean']"
   ]
  },
  {
   "cell_type": "code",
   "execution_count": null,
   "metadata": {},
   "outputs": [],
   "source": []
  }
 ],
 "metadata": {
  "kernelspec": {
   "display_name": "Python 3",
   "language": "python",
   "name": "python3"
  },
  "language_info": {
   "codemirror_mode": {
    "name": "ipython",
    "version": 3
   },
   "file_extension": ".py",
   "mimetype": "text/x-python",
   "name": "python",
   "nbconvert_exporter": "python",
   "pygments_lexer": "ipython3",
   "version": "3.6.12"
  }
 },
 "nbformat": 4,
 "nbformat_minor": 4
}
