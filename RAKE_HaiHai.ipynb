{
  "nbformat": 4,
  "nbformat_minor": 0,
  "metadata": {
    "colab": {
      "name": "RAKE-HaiHai.ipynb",
      "provenance": [],
      "collapsed_sections": []
    },
    "kernelspec": {
      "name": "python3",
      "display_name": "Python 3"
    }
  },
  "cells": [
    {
      "cell_type": "code",
      "metadata": {
        "colab": {
          "base_uri": "https://localhost:8080/"
        },
        "id": "4-ClY91sXFUF",
        "outputId": "ffa25922-ea0f-424c-b0ad-90016ebcf9e8"
      },
      "source": [
        "!pip install rake-nltk"
      ],
      "execution_count": 1,
      "outputs": [
        {
          "output_type": "stream",
          "text": [
            "Collecting rake-nltk\n",
            "  Downloading https://files.pythonhosted.org/packages/8e/c4/b4ff57e541ac5624ad4b20b89c2bafd4e98f29fd83139f3a81858bdb3815/rake_nltk-1.0.4.tar.gz\n",
            "Requirement already satisfied: nltk in /usr/local/lib/python3.6/dist-packages (from rake-nltk) (3.2.5)\n",
            "Requirement already satisfied: six in /usr/local/lib/python3.6/dist-packages (from nltk->rake-nltk) (1.15.0)\n",
            "Building wheels for collected packages: rake-nltk\n",
            "  Building wheel for rake-nltk (setup.py) ... \u001b[?25l\u001b[?25hdone\n",
            "  Created wheel for rake-nltk: filename=rake_nltk-1.0.4-py2.py3-none-any.whl size=7819 sha256=94fb4f44231b3a7c120b32cde56abfb6668a6ad4d6316a3425dc44970f3f5469\n",
            "  Stored in directory: /root/.cache/pip/wheels/ef/92/fc/271b3709e71a96ffe934b27818946b795ac6b9b8ff8682483f\n",
            "Successfully built rake-nltk\n",
            "Installing collected packages: rake-nltk\n",
            "Successfully installed rake-nltk-1.0.4\n"
          ],
          "name": "stdout"
        }
      ]
    },
    {
      "cell_type": "code",
      "metadata": {
        "id": "2PsSqBoeXGXa"
      },
      "source": [
        "import nltk\r\n",
        "from nltk import word_tokenize\r\n",
        "from nltk.collocations import *\r\n",
        "from rake_nltk import Rake\r\n"
      ],
      "execution_count": 2,
      "outputs": []
    },
    {
      "cell_type": "code",
      "metadata": {
        "colab": {
          "base_uri": "https://localhost:8080/"
        },
        "id": "kIhQqBvbXGar",
        "outputId": "4b8a9237-284f-41b2-cf3e-ca075b4ecd43"
      },
      "source": [
        "#Step 1: tách các câu, các cụm từ các dấu delimiter(,.'-).\r\n",
        "#Câu này chỉ là ví dụ, trong đó có các delimiter và stopword thêm ngẫu nhiên\r\n",
        "#để loại bỏ sau này\r\n",
        "full_text = 'Chàng trai 9X chứ gì con heo mặp - Quảng Trị khởi nghiệp - chứ nấm sò . Việc \\'khởi nghiệp từ nấm sò\\' gặp rất nhiều khó khăn, vì giá chứng khoán \\\"tăng cao\\\" nhanh, khiến việc thu mua nấm sò càng trở nên khó khăn.'\r\n",
        "with open('vietnamese-stopwords.txt', 'r', encoding=\"utf8\") as f:\r\n",
        "    stopwords = f.readlines()\r\n",
        "\r\n",
        "#chuyển file stopword thành list, các từ đã được loại bỏ \\n ở cuối\r\n",
        "stopword_list = list(map(str.rstrip,stopwords))\r\n",
        "\r\n",
        "#kiểm tra một từ stopwords\r\n",
        "print('chứ gì' in stopword_list)\r\n",
        "r = Rake(punctuations='\\'-.,\"')\r\n",
        "r.extract_keywords_from_text(full_text)\r\n",
        "print(full_text)\r\n",
        "\r\n",
        "#danh sách các câu, cụm dùng để tìm candidate keyword\r\n",
        "r.get_ranked_phrases()\r\n"
      ],
      "execution_count": 5,
      "outputs": [
        {
          "output_type": "stream",
          "text": [
            "True\n",
            "Chàng trai 9X chứ gì con heo mặp - Quảng Trị khởi nghiệp - chứ nấm sò . Việc 'khởi nghiệp từ nấm sò' gặp rất nhiều khó khăn, vì giá chứng khoán \"tăng cao\" nhanh, khiến việc thu mua nấm sò càng trở nên khó khăn.\n"
          ],
          "name": "stdout"
        },
        {
          "output_type": "execute_result",
          "data": {
            "text/plain": [
              "['khiến việc thu mua nấm sò càng trở nên khó khăn',\n",
              " 'chàng trai 9x chứ gì con heo mặp',\n",
              " 'gặp rất nhiều khó khăn',\n",
              " 'khởi nghiệp từ nấm sò',\n",
              " 'chứ nấm sò',\n",
              " 'quảng trị khởi nghiệp',\n",
              " 'vì giá chứng khoán',\n",
              " 'việc',\n",
              " 'tăng cao',\n",
              " 'nhanh']"
            ]
          },
          "metadata": {
            "tags": []
          },
          "execution_count": 5
        }
      ]
    },
    {
      "cell_type": "code",
      "metadata": {
        "id": "SNpQxwv8Xsbb"
      },
      "source": [
        "#lưu danh sách các câu, cụm vào biến sent_list\r\n",
        "sent_list = r.get_ranked_phrases()"
      ],
      "execution_count": 6,
      "outputs": []
    },
    {
      "cell_type": "code",
      "metadata": {
        "colab": {
          "base_uri": "https://localhost:8080/"
        },
        "id": "yJBJpn6kY-Qe",
        "outputId": "686f1ac6-801e-4926-e1c5-f7d57c693b4d"
      },
      "source": [
        "#hàm remove stopword\r\n",
        "def remove_stopword(text):\r\n",
        "  bigram_measures = nltk.collocations.BigramAssocMeasures()\r\n",
        "  #tokens = nltk.wordpunct_tokenize(text)\r\n",
        "  #print(tokens)\r\n",
        "\r\n",
        "  #Tokenize câu thành các từ riêng lẻ\r\n",
        "  tokens = word_tokenize(text)\r\n",
        "# print(tokens)\r\n",
        "\r\n",
        "  #tìm tất cả các bigram có thể có\r\n",
        "  #Ví dụ câu: 'tôi tên hải'\r\n",
        "  #danh sách trả về : [['tôi','tên'],['tên','hải]]\r\n",
        "  finder = nltk.collocations.BigramCollocationFinder.from_words(tokens)\r\n",
        "  scored = finder.score_ngrams(bigram_measures.raw_freq)\r\n",
        "  sorted(bigram for bigram, score in scored)\r\n",
        "\r\n",
        "  bigram = sorted(bigram for bigram, score in scored)\r\n",
        "\r\n",
        "  #với mỗi cặp bigram, nối chúng lại thành một từ: vd 'tôi tên'\r\n",
        "  bigram_word = [' '.join(bigram) for bigram in bigram]\r\n",
        "\r\n",
        "  #tìm kiếm các từ này trong stop word, thay thế các từ này với dấu *\r\n",
        "  for bi in bigram_word:\r\n",
        "    if bi in stopword_list:\r\n",
        "      text = text.replace(bi,'*') \r\n",
        "  #tìm các token đơn là stop word, thay thế bằng dấu *\r\n",
        "  for uni in word_tokenize(text):\r\n",
        "    if uni in stopword_list:\r\n",
        "      text = text.replace(uni,'*')\r\n",
        "  #tách các cụm từ còn lại sau khi đã xác đinh các stop word\r\n",
        "  #bằng cách tách theo dấu *\r\n",
        "  candidate_keyword = [x for x in text.split('*') if x not in ['',' ']]\r\n",
        "  return candidate_keyword\r\n",
        "\r\n",
        "full_candidate_of_text = []\r\n",
        "for sent in sent_list:\r\n",
        "  full_candidate_of_text.extend(remove_stopword(sent))\r\n",
        "full_candidate_of_text"
      ],
      "execution_count": 7,
      "outputs": [
        {
          "output_type": "execute_result",
          "data": {
            "text/plain": [
              "[' thu mua nấm sò ',\n",
              " 'chàng trai 9x ',\n",
              " ' heo mặp',\n",
              " 'khởi nghiệp ',\n",
              " ' nấm sò',\n",
              " ' nấm sò',\n",
              " 'quảng trị khởi nghiệp',\n",
              " ' giá chứng khoán']"
            ]
          },
          "metadata": {
            "tags": []
          },
          "execution_count": 7
        }
      ]
    },
    {
      "cell_type": "code",
      "metadata": {
        "colab": {
          "base_uri": "https://localhost:8080/"
        },
        "id": "4xF1NPO5ZAdl",
        "outputId": "b899e454-7354-42ac-f7f6-f3accce33542"
      },
      "source": [
        "# 2 ví dụ đơn giản hơn là tìm candidate keyword bằng việc loại bỏ stopword của 2 \r\n",
        "# câu/cụm đơn, đơn giản hơn ví dụ trên\r\n",
        "print(remove_stopword('khiến việc thu mua từ nấm sò chứ gì càng trở nên khó khăn'))\r\n",
        "print(remove_stopword('đồng thời đóng vai trò như một biện pháp phòng ngừa đối với rủi ro tiền tệ và thị trường'))\r\n",
        "print(remove_stopword('Giá chứng khoán của công ty FPT đang leo dốc rất nhanh và chưa có dấu hiệu hạ nhiệt'))"
      ],
      "execution_count": 10,
      "outputs": [
        {
          "output_type": "stream",
          "text": [
            "[' thu mua ', ' nấm sò ']\n",
            "[' đóng vai trò ', ' biện pháp phòng ngừa ', ' rủi ro tiền tệ ', ' thị trường']\n",
            "['Giá chứng khoán ', ' công ty FPT ', ' leo dốc ', ' dấu hiệu hạ nhiệt']\n"
          ],
          "name": "stdout"
        }
      ]
    },
    {
      "cell_type": "code",
      "metadata": {
        "id": "uMebBjOmZPIl"
      },
      "source": [
        ""
      ],
      "execution_count": null,
      "outputs": []
    }
  ]
}