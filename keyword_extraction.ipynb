{
 "cells": [
  {
   "cell_type": "code",
   "execution_count": 2,
   "metadata": {
    "colab": {
     "base_uri": "https://localhost:8080/"
    },
    "id": "fq8rMZj9Qsp8",
    "outputId": "f1f84dc8-4172-4eed-e2e4-8edb2bce68c2"
   },
   "outputs": [
    {
     "name": "stdout",
     "output_type": "stream",
     "text": [
      "Collecting underthesea\n",
      "\u001b[?25l  Downloading https://files.pythonhosted.org/packages/15/53/50ab756869f23d2bd1b3978d6b1c17c650d90abd5928701e7bd65adb6986/underthesea-1.3.0-py3-none-any.whl (7.5MB)\n",
      "\u001b[K     |████████████████████████████████| 7.5MB 3.6MB/s \n",
      "\u001b[?25hRequirement already satisfied: joblib in /usr/local/lib/python3.6/dist-packages (from underthesea) (1.0.0)\n",
      "Requirement already satisfied: PyYAML in /usr/local/lib/python3.6/dist-packages (from underthesea) (3.13)\n",
      "Collecting transformers<=3.5.1,>=3.5.0\n",
      "\u001b[?25l  Downloading https://files.pythonhosted.org/packages/3a/83/e74092e7f24a08d751aa59b37a9fc572b2e4af3918cb66f7766c3affb1b4/transformers-3.5.1-py3-none-any.whl (1.3MB)\n",
      "\u001b[K     |████████████████████████████████| 1.3MB 34.2MB/s \n",
      "\u001b[?25hRequirement already satisfied: tqdm in /usr/local/lib/python3.6/dist-packages (from underthesea) (4.41.1)\n",
      "Collecting scikit-learn<0.22,>=0.20\n",
      "\u001b[?25l  Downloading https://files.pythonhosted.org/packages/a0/c5/d2238762d780dde84a20b8c761f563fe882b88c5a5fb03c056547c442a19/scikit_learn-0.21.3-cp36-cp36m-manylinux1_x86_64.whl (6.7MB)\n",
      "\u001b[K     |████████████████████████████████| 6.7MB 38.4MB/s \n",
      "\u001b[?25hCollecting torch<=1.5.1,>=1.1.0\n",
      "\u001b[?25l  Downloading https://files.pythonhosted.org/packages/62/01/457b49d790b6c4b9720e6f9dbbb617692f6ce8afdaadf425c055c41a7416/torch-1.5.1-cp36-cp36m-manylinux1_x86_64.whl (753.2MB)\n",
      "\u001b[K     |████████████████████████████████| 753.2MB 24kB/s \n",
      "\u001b[?25hRequirement already satisfied: requests in /usr/local/lib/python3.6/dist-packages (from underthesea) (2.23.0)\n",
      "Requirement already satisfied: nltk in /usr/local/lib/python3.6/dist-packages (from underthesea) (3.2.5)\n",
      "Collecting seqeval\n",
      "\u001b[?25l  Downloading https://files.pythonhosted.org/packages/9d/2d/233c79d5b4e5ab1dbf111242299153f3caddddbb691219f363ad55ce783d/seqeval-1.2.2.tar.gz (43kB)\n",
      "\u001b[K     |████████████████████████████████| 51kB 5.5MB/s \n",
      "\u001b[?25hRequirement already satisfied: Click>=6.0 in /usr/local/lib/python3.6/dist-packages (from underthesea) (7.1.2)\n",
      "Collecting python-crfsuite>=0.9.6\n",
      "\u001b[?25l  Downloading https://files.pythonhosted.org/packages/95/99/869dde6dbf3e0d07a013c8eebfb0a3d30776334e0097f8432b631a9a3a19/python_crfsuite-0.9.7-cp36-cp36m-manylinux1_x86_64.whl (743kB)\n",
      "\u001b[K     |████████████████████████████████| 747kB 44.8MB/s \n",
      "\u001b[?25hCollecting unidecode\n",
      "\u001b[?25l  Downloading https://files.pythonhosted.org/packages/d0/42/d9edfed04228bacea2d824904cae367ee9efd05e6cce7ceaaedd0b0ad964/Unidecode-1.1.1-py2.py3-none-any.whl (238kB)\n",
      "\u001b[K     |████████████████████████████████| 245kB 48.3MB/s \n",
      "\u001b[?25hRequirement already satisfied: numpy in /usr/local/lib/python3.6/dist-packages (from transformers<=3.5.1,>=3.5.0->underthesea) (1.19.4)\n",
      "Collecting sentencepiece==0.1.91\n",
      "\u001b[?25l  Downloading https://files.pythonhosted.org/packages/d4/a4/d0a884c4300004a78cca907a6ff9a5e9fe4f090f5d95ab341c53d28cbc58/sentencepiece-0.1.91-cp36-cp36m-manylinux1_x86_64.whl (1.1MB)\n",
      "\u001b[K     |████████████████████████████████| 1.1MB 46.1MB/s \n",
      "\u001b[?25hCollecting sacremoses\n",
      "\u001b[?25l  Downloading https://files.pythonhosted.org/packages/7d/34/09d19aff26edcc8eb2a01bed8e98f13a1537005d31e95233fd48216eed10/sacremoses-0.0.43.tar.gz (883kB)\n",
      "\u001b[K     |████████████████████████████████| 890kB 46.1MB/s \n",
      "\u001b[?25hRequirement already satisfied: protobuf in /usr/local/lib/python3.6/dist-packages (from transformers<=3.5.1,>=3.5.0->underthesea) (3.12.4)\n",
      "Requirement already satisfied: filelock in /usr/local/lib/python3.6/dist-packages (from transformers<=3.5.1,>=3.5.0->underthesea) (3.0.12)\n",
      "Requirement already satisfied: regex!=2019.12.17 in /usr/local/lib/python3.6/dist-packages (from transformers<=3.5.1,>=3.5.0->underthesea) (2019.12.20)\n",
      "Collecting tokenizers==0.9.3\n",
      "\u001b[?25l  Downloading https://files.pythonhosted.org/packages/4c/34/b39eb9994bc3c999270b69c9eea40ecc6f0e97991dba28282b9fd32d44ee/tokenizers-0.9.3-cp36-cp36m-manylinux1_x86_64.whl (2.9MB)\n",
      "\u001b[K     |████████████████████████████████| 2.9MB 41.7MB/s \n",
      "\u001b[?25hRequirement already satisfied: dataclasses; python_version < \"3.7\" in /usr/local/lib/python3.6/dist-packages (from transformers<=3.5.1,>=3.5.0->underthesea) (0.8)\n",
      "Requirement already satisfied: packaging in /usr/local/lib/python3.6/dist-packages (from transformers<=3.5.1,>=3.5.0->underthesea) (20.8)\n",
      "Requirement already satisfied: scipy>=0.17.0 in /usr/local/lib/python3.6/dist-packages (from scikit-learn<0.22,>=0.20->underthesea) (1.4.1)\n",
      "Requirement already satisfied: future in /usr/local/lib/python3.6/dist-packages (from torch<=1.5.1,>=1.1.0->underthesea) (0.16.0)\n",
      "Requirement already satisfied: idna<3,>=2.5 in /usr/local/lib/python3.6/dist-packages (from requests->underthesea) (2.10)\n",
      "Requirement already satisfied: certifi>=2017.4.17 in /usr/local/lib/python3.6/dist-packages (from requests->underthesea) (2020.12.5)\n",
      "Requirement already satisfied: chardet<4,>=3.0.2 in /usr/local/lib/python3.6/dist-packages (from requests->underthesea) (3.0.4)\n",
      "Requirement already satisfied: urllib3!=1.25.0,!=1.25.1,<1.26,>=1.21.1 in /usr/local/lib/python3.6/dist-packages (from requests->underthesea) (1.24.3)\n",
      "Requirement already satisfied: six in /usr/local/lib/python3.6/dist-packages (from nltk->underthesea) (1.15.0)\n",
      "Requirement already satisfied: setuptools in /usr/local/lib/python3.6/dist-packages (from protobuf->transformers<=3.5.1,>=3.5.0->underthesea) (50.3.2)\n",
      "Requirement already satisfied: pyparsing>=2.0.2 in /usr/local/lib/python3.6/dist-packages (from packaging->transformers<=3.5.1,>=3.5.0->underthesea) (2.4.7)\n",
      "Building wheels for collected packages: seqeval, sacremoses\n",
      "  Building wheel for seqeval (setup.py) ... \u001b[?25l\u001b[?25hdone\n",
      "  Created wheel for seqeval: filename=seqeval-1.2.2-cp36-none-any.whl size=16171 sha256=1518fd8f1d54a5f2d34ab59bcfd093e9cc05bb9b568902a886f851695a503432\n",
      "  Stored in directory: /root/.cache/pip/wheels/52/df/1b/45d75646c37428f7e626214704a0e35bd3cfc32eda37e59e5f\n",
      "  Building wheel for sacremoses (setup.py) ... \u001b[?25l\u001b[?25hdone\n",
      "  Created wheel for sacremoses: filename=sacremoses-0.0.43-cp36-none-any.whl size=893261 sha256=e5770a78ca1d8276d8a46fdd1fec3830edfd88ac46c83d65060562955dad0d2d\n",
      "  Stored in directory: /root/.cache/pip/wheels/29/3c/fd/7ce5c3f0666dab31a50123635e6fb5e19ceb42ce38d4e58f45\n",
      "Successfully built seqeval sacremoses\n",
      "\u001b[31mERROR: torchvision 0.8.1+cu101 has requirement torch==1.7.0, but you'll have torch 1.5.1 which is incompatible.\u001b[0m\n",
      "Installing collected packages: sentencepiece, sacremoses, tokenizers, transformers, scikit-learn, torch, seqeval, python-crfsuite, unidecode, underthesea\n",
      "  Found existing installation: scikit-learn 0.22.2.post1\n",
      "    Uninstalling scikit-learn-0.22.2.post1:\n",
      "      Successfully uninstalled scikit-learn-0.22.2.post1\n",
      "  Found existing installation: torch 1.7.0+cu101\n",
      "    Uninstalling torch-1.7.0+cu101:\n",
      "      Successfully uninstalled torch-1.7.0+cu101\n",
      "Successfully installed python-crfsuite-0.9.7 sacremoses-0.0.43 scikit-learn-0.21.3 sentencepiece-0.1.91 seqeval-1.2.2 tokenizers-0.9.3 torch-1.5.1 transformers-3.5.1 underthesea-1.3.0 unidecode-1.1.1\n"
     ]
    }
   ],
   "source": [
    "!pip install underthesea\n",
    "import underthesea"
   ]
  },
  {
   "cell_type": "code",
   "execution_count": 1,
   "metadata": {
    "colab": {
     "base_uri": "https://localhost:8080/"
    },
    "id": "LD2dT73wSX3W",
    "outputId": "ef4f6309-ad69-46eb-a7fa-58b45a459393"
   },
   "outputs": [
    {
     "ename": "ModuleNotFoundError",
     "evalue": "No module named 'underthesea'",
     "output_type": "error",
     "traceback": [
      "\u001b[1;31m---------------------------------------------------------------------------\u001b[0m",
      "\u001b[1;31mModuleNotFoundError\u001b[0m                       Traceback (most recent call last)",
      "\u001b[1;32m<ipython-input-1-28b1e73882cc>\u001b[0m in \u001b[0;36m<module>\u001b[1;34m\u001b[0m\n\u001b[1;32m----> 1\u001b[1;33m \u001b[1;32mfrom\u001b[0m \u001b[0munderthesea\u001b[0m \u001b[1;32mimport\u001b[0m \u001b[0mword_tokenize\u001b[0m\u001b[1;33m,\u001b[0m\u001b[0mchunk\u001b[0m\u001b[1;33m\u001b[0m\u001b[1;33m\u001b[0m\u001b[0m\n\u001b[0m",
      "\u001b[1;31mModuleNotFoundError\u001b[0m: No module named 'underthesea'"
     ]
    }
   ],
   "source": [
    "from underthesea import word_tokenize,chunk\n",
    "from string import punctuation\n",
    "from sklearn.feature_extraction.text import CountVectorizer\n",
    "import pandas as pd"
   ]
  },
  {
   "cell_type": "code",
   "execution_count": 69,
   "metadata": {
    "colab": {
     "base_uri": "https://localhost:8080/"
    },
    "id": "irNpi3vSUagN",
    "outputId": "6b8f0dae-3f05-45b2-e900-34bd807288b5"
   },
   "outputs": [
    {
     "name": "stdout",
     "output_type": "stream",
     "text": [
      "['thông qua', 'niêm yết', 'bổ sung', 'cổ phiếu', 'thưởng', 'cổ đông', 'hiện hữu', 'quỹ', 'thặng dư', 'số lượng', 'phát hành', '50', 'điều lệ', 'phát hành', 'thông qua', 'hủy', 'kế hoạch', 'phát hành', 'cổ phần', 'điều lệ', 'phát hành', 'nghị quyết', 'đại hội đồng', 'cổ đông', '20/11/2007', 'thông qua', 'giao dịch', 'tiếng', 'tên', 'giao dịch', 'tiếng', 'the corporation for', 'financing', 'and', 'promoting technology', 'tên', 'giao dịch', 'tiếng', 'fpt corporation']\n",
      "  (0, 36)\t1\n",
      "  (0, 29)\t1\n",
      "  (1, 24)\t1\n",
      "  (1, 41)\t1\n",
      "  (2, 5)\t1\n",
      "  (2, 32)\t1\n",
      "  (3, 7)\t1\n",
      "  (3, 25)\t1\n",
      "  (4, 37)\t1\n",
      "  (5, 7)\t1\n",
      "  (5, 43)\t1\n",
      "  (6, 14)\t1\n",
      "  (6, 19)\t1\n",
      "  (7, 31)\t1\n",
      "  (8, 38)\t1\n",
      "  (8, 8)\t1\n",
      "  (9, 33)\t1\n",
      "  (9, 21)\t1\n",
      "  (10, 26)\t1\n",
      "  (10, 16)\t1\n",
      "  (11, 3)\t1\n",
      "  (12, 42)\t1\n",
      "  (12, 22)\t1\n",
      "  (13, 26)\t1\n",
      "  (13, 16)\t1\n",
      "  :\t:\n",
      "  (24, 1)\t1\n",
      "  (24, 0)\t1\n",
      "  (24, 2)\t1\n",
      "  (25, 36)\t1\n",
      "  (25, 29)\t1\n",
      "  (26, 13)\t1\n",
      "  (26, 9)\t1\n",
      "  (27, 39)\t1\n",
      "  (28, 40)\t1\n",
      "  (29, 13)\t1\n",
      "  (29, 9)\t1\n",
      "  (30, 39)\t1\n",
      "  (31, 35)\t1\n",
      "  (31, 6)\t1\n",
      "  (31, 11)\t1\n",
      "  (32, 10)\t1\n",
      "  (33, 4)\t1\n",
      "  (34, 28)\t1\n",
      "  (34, 34)\t1\n",
      "  (35, 40)\t1\n",
      "  (36, 13)\t1\n",
      "  (36, 9)\t1\n",
      "  (37, 39)\t1\n",
      "  (38, 6)\t1\n",
      "  (38, 12)\t1\n"
     ]
    }
   ],
   "source": [
    "\n",
    "with open('vietnamese-stopwords.txt', 'r', encoding=\"utf8\") as f:\n",
    "    stopwords = f.read()\n",
    "    \n",
    "df = pd.read_csv('fpt_news.csv')\n",
    "text = df['NewsFullContent'][8]\n",
    "\n",
    "\n",
    "text_tokens = word_tokenize(text)\n",
    "tokens_without_sw = [word for word in text_tokens if not word in stopwords]\n",
    "tokens_without_punc = [token for token in tokens_without_sw if token not in punctuation]\n",
    "tokens_complete = [i.lower() for i in tokens_without_punc]\n",
    "print(tokens_complete)\n",
    "#vectorizer = CountVectorizer()\n",
    "#X = vectorizer.fit_transform(tokens_without_punc)\n",
    "#print(X)"
   ]
  },
  {
   "cell_type": "code",
   "execution_count": 70,
   "metadata": {
    "colab": {
     "base_uri": "https://localhost:8080/"
    },
    "id": "kM5qezowbUaE",
    "outputId": "289d6eb5-29b5-4dad-d64e-86226cac0552"
   },
   "outputs": [
    {
     "data": {
      "text/plain": [
       "39"
      ]
     },
     "execution_count": 70,
     "metadata": {
      "tags": []
     },
     "output_type": "execute_result"
    }
   ],
   "source": [
    "len(tokens_complete)"
   ]
  },
  {
   "cell_type": "code",
   "execution_count": 71,
   "metadata": {
    "colab": {
     "base_uri": "https://localhost:8080/"
    },
    "id": "KrYrkDdAbloS",
    "outputId": "417b4596-311f-410b-b3fb-b8d4a56d9611"
   },
   "outputs": [
    {
     "data": {
      "text/plain": [
       "27"
      ]
     },
     "execution_count": 71,
     "metadata": {
      "tags": []
     },
     "output_type": "execute_result"
    }
   ],
   "source": [
    "len(set(tokens_complete))"
   ]
  },
  {
   "cell_type": "code",
   "execution_count": 72,
   "metadata": {
    "colab": {
     "base_uri": "https://localhost:8080/"
    },
    "id": "jizmgn73bn9Q",
    "outputId": "d18eb4a6-33a1-4e95-d6b4-8e1824803ba2"
   },
   "outputs": [
    {
     "data": {
      "text/plain": [
       "{'20/11/2007': 1,\n",
       " '50': 1,\n",
       " 'and': 1,\n",
       " 'bổ sung': 1,\n",
       " 'cổ phiếu': 1,\n",
       " 'cổ phần': 1,\n",
       " 'cổ đông': 2,\n",
       " 'financing': 1,\n",
       " 'fpt corporation': 1,\n",
       " 'giao dịch': 3,\n",
       " 'hiện hữu': 1,\n",
       " 'hủy': 1,\n",
       " 'kế hoạch': 1,\n",
       " 'nghị quyết': 1,\n",
       " 'niêm yết': 1,\n",
       " 'phát hành': 4,\n",
       " 'promoting technology': 1,\n",
       " 'quỹ': 1,\n",
       " 'số lượng': 1,\n",
       " 'the corporation for': 1,\n",
       " 'thông qua': 3,\n",
       " 'thưởng': 1,\n",
       " 'thặng dư': 1,\n",
       " 'tiếng': 3,\n",
       " 'tên': 2,\n",
       " 'điều lệ': 2,\n",
       " 'đại hội đồng': 1}"
      ]
     },
     "execution_count": 72,
     "metadata": {
      "tags": []
     },
     "output_type": "execute_result"
    }
   ],
   "source": [
    "# tạo dictionary gồm các token và tần suất xuất hiện của chúng\n",
    "tokens_freq = {}\n",
    "for i in set(tokens_complete):\n",
    "  tokens_freq.update({i:tokens_complete.count(i)})\n",
    "tokens_freq"
   ]
  },
  {
   "cell_type": "code",
   "execution_count": 73,
   "metadata": {
    "colab": {
     "base_uri": "https://localhost:8080/"
    },
    "id": "uk7M2pzsg-0R",
    "outputId": "a06b0650-ffaf-45de-ea32-f0d452f744f0"
   },
   "outputs": [
    {
     "data": {
      "text/plain": [
       "[('phát hành', 4),\n",
       " ('tiếng', 3),\n",
       " ('giao dịch', 3),\n",
       " ('thông qua', 3),\n",
       " ('tên', 2),\n",
       " ('điều lệ', 2),\n",
       " ('cổ đông', 2),\n",
       " ('cổ phần', 1),\n",
       " ('20/11/2007', 1),\n",
       " ('fpt corporation', 1),\n",
       " ('quỹ', 1),\n",
       " ('thặng dư', 1),\n",
       " ('số lượng', 1),\n",
       " ('bổ sung', 1),\n",
       " ('the corporation for', 1),\n",
       " ('financing', 1),\n",
       " ('thưởng', 1),\n",
       " ('đại hội đồng', 1),\n",
       " ('hủy', 1),\n",
       " ('hiện hữu', 1),\n",
       " ('nghị quyết', 1),\n",
       " ('cổ phiếu', 1),\n",
       " ('kế hoạch', 1),\n",
       " ('and', 1),\n",
       " ('niêm yết', 1),\n",
       " ('50', 1),\n",
       " ('promoting technology', 1)]"
      ]
     },
     "execution_count": 73,
     "metadata": {
      "tags": []
     },
     "output_type": "execute_result"
    }
   ],
   "source": [
    "# sắp xếp các token có tần suất cao nhất\n",
    "sorted(tokens_freq.items(), key=lambda item: item[1], reverse=True)"
   ]
  },
  {
   "cell_type": "code",
   "execution_count": null,
   "metadata": {
    "id": "kiH2uwqukdjq"
   },
   "outputs": [],
   "source": []
  }
 ],
 "metadata": {
  "colab": {
   "name": "keyword_extraction.ipynb",
   "provenance": []
  },
  "kernelspec": {
   "display_name": "Python 3",
   "language": "python",
   "name": "python3"
  },
  "language_info": {
   "codemirror_mode": {
    "name": "ipython",
    "version": 3
   },
   "file_extension": ".py",
   "mimetype": "text/x-python",
   "name": "python",
   "nbconvert_exporter": "python",
   "pygments_lexer": "ipython3",
   "version": "3.8.5"
  }
 },
 "nbformat": 4,
 "nbformat_minor": 1
}
