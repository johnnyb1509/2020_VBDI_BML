{
 "metadata": {
  "language_info": {
   "codemirror_mode": {
    "name": "ipython",
    "version": 3
   },
   "file_extension": ".py",
   "mimetype": "text/x-python",
   "name": "python",
   "nbconvert_exporter": "python",
   "pygments_lexer": "ipython3",
   "version": "3.8.3-final"
  },
  "orig_nbformat": 2,
  "kernelspec": {
   "name": "python3",
   "display_name": "Python 3",
   "language": "python"
  }
 },
 "nbformat": 4,
 "nbformat_minor": 2,
 "cells": [
  {
   "cell_type": "code",
   "execution_count": 172,
   "metadata": {},
   "outputs": [],
   "source": [
    "import numpy as np\n",
    "import pandas as pd\n",
    "import re\n",
    "from bs4 import BeautifulSoup"
   ]
  },
  {
   "cell_type": "code",
   "execution_count": 173,
   "metadata": {},
   "outputs": [],
   "source": [
    "data = pd.read_csv('data/test_news.csv')"
   ]
  },
  {
   "cell_type": "code",
   "execution_count": 174,
   "metadata": {},
   "outputs": [
    {
     "output_type": "execute_result",
     "data": {
      "text/plain": [
       "   Unnamed: 0  NewsId OrganCode NewsCategoryCode IcbCode  ComGroupCode  \\\n",
       "0           0    4039       NaN            MAnal   OTHER           NaN   \n",
       "1           1    4040       NaN            MAnal   OTHER           NaN   \n",
       "2           2    4041       NaN            Fina2   OTHER           NaN   \n",
       "3           3    4042       NaN            MAnal   OTHER           NaN   \n",
       "4           4    4043       NaN            MAnal   OTHER           NaN   \n",
       "\n",
       "   ExpertId Ticker                                          NewsTitle  \\\n",
       "0       NaN    NaN   Hết phiên 1: Giảm mạnh nhưng không phá vỡ đáy cũ   \n",
       "1       NaN    NaN  UBCKNN tiếp tục thực hiện nhiều biện pháp giám...   \n",
       "2       NaN    NaN      Ngân hàng làm gì với hàng tỷ USD rút về nước?   \n",
       "3       NaN    NaN   Kết thúc ngày giao dịch: VN-Index giảm hơn 1,3%.   \n",
       "4       NaN    NaN  VN-Index &quot;phá đáy&quot; trong xu thế giảm...   \n",
       "\n",
       "   FriendlyTitle  ...  NewsKeyword  FriendlyKeyword PublicDate IsTranfer  \\\n",
       "0            NaN  ...          NaN              NaN        NaN      True   \n",
       "1            NaN  ...          NaN              NaN        NaN      True   \n",
       "2            NaN  ...          NaN              NaN        NaN      True   \n",
       "3            NaN  ...          NaN              NaN        NaN      True   \n",
       "4            NaN  ...          NaN              NaN        NaN      True   \n",
       "\n",
       "  CreateBy UpdateBy Status           CreateDate           UpdateDate  \\\n",
       "0      NaN      NaN      1  2015-06-04 00:00:00  2015-06-04 00:00:00   \n",
       "1      NaN      NaN      1  2015-06-04 00:00:00  2015-06-04 00:00:00   \n",
       "2      NaN      NaN      1  2015-06-04 00:00:00  2015-06-04 00:00:00   \n",
       "3      NaN      NaN      1  2015-06-04 00:00:00  2015-06-04 00:00:00   \n",
       "4      NaN      NaN      1  2015-06-04 00:00:00  2015-06-04 00:00:00   \n",
       "\n",
       "   SourceCode  \n",
       "0         NaN  \n",
       "1         NaN  \n",
       "2         NaN  \n",
       "3         NaN  \n",
       "4         NaN  \n",
       "\n",
       "[5 rows x 29 columns]"
      ],
      "text/html": "<div>\n<style scoped>\n    .dataframe tbody tr th:only-of-type {\n        vertical-align: middle;\n    }\n\n    .dataframe tbody tr th {\n        vertical-align: top;\n    }\n\n    .dataframe thead th {\n        text-align: right;\n    }\n</style>\n<table border=\"1\" class=\"dataframe\">\n  <thead>\n    <tr style=\"text-align: right;\">\n      <th></th>\n      <th>Unnamed: 0</th>\n      <th>NewsId</th>\n      <th>OrganCode</th>\n      <th>NewsCategoryCode</th>\n      <th>IcbCode</th>\n      <th>ComGroupCode</th>\n      <th>ExpertId</th>\n      <th>Ticker</th>\n      <th>NewsTitle</th>\n      <th>FriendlyTitle</th>\n      <th>...</th>\n      <th>NewsKeyword</th>\n      <th>FriendlyKeyword</th>\n      <th>PublicDate</th>\n      <th>IsTranfer</th>\n      <th>CreateBy</th>\n      <th>UpdateBy</th>\n      <th>Status</th>\n      <th>CreateDate</th>\n      <th>UpdateDate</th>\n      <th>SourceCode</th>\n    </tr>\n  </thead>\n  <tbody>\n    <tr>\n      <th>0</th>\n      <td>0</td>\n      <td>4039</td>\n      <td>NaN</td>\n      <td>MAnal</td>\n      <td>OTHER</td>\n      <td>NaN</td>\n      <td>NaN</td>\n      <td>NaN</td>\n      <td>Hết phiên 1: Giảm mạnh nhưng không phá vỡ đáy cũ</td>\n      <td>NaN</td>\n      <td>...</td>\n      <td>NaN</td>\n      <td>NaN</td>\n      <td>NaN</td>\n      <td>True</td>\n      <td>NaN</td>\n      <td>NaN</td>\n      <td>1</td>\n      <td>2015-06-04 00:00:00</td>\n      <td>2015-06-04 00:00:00</td>\n      <td>NaN</td>\n    </tr>\n    <tr>\n      <th>1</th>\n      <td>1</td>\n      <td>4040</td>\n      <td>NaN</td>\n      <td>MAnal</td>\n      <td>OTHER</td>\n      <td>NaN</td>\n      <td>NaN</td>\n      <td>NaN</td>\n      <td>UBCKNN tiếp tục thực hiện nhiều biện pháp giám...</td>\n      <td>NaN</td>\n      <td>...</td>\n      <td>NaN</td>\n      <td>NaN</td>\n      <td>NaN</td>\n      <td>True</td>\n      <td>NaN</td>\n      <td>NaN</td>\n      <td>1</td>\n      <td>2015-06-04 00:00:00</td>\n      <td>2015-06-04 00:00:00</td>\n      <td>NaN</td>\n    </tr>\n    <tr>\n      <th>2</th>\n      <td>2</td>\n      <td>4041</td>\n      <td>NaN</td>\n      <td>Fina2</td>\n      <td>OTHER</td>\n      <td>NaN</td>\n      <td>NaN</td>\n      <td>NaN</td>\n      <td>Ngân hàng làm gì với hàng tỷ USD rút về nước?</td>\n      <td>NaN</td>\n      <td>...</td>\n      <td>NaN</td>\n      <td>NaN</td>\n      <td>NaN</td>\n      <td>True</td>\n      <td>NaN</td>\n      <td>NaN</td>\n      <td>1</td>\n      <td>2015-06-04 00:00:00</td>\n      <td>2015-06-04 00:00:00</td>\n      <td>NaN</td>\n    </tr>\n    <tr>\n      <th>3</th>\n      <td>3</td>\n      <td>4042</td>\n      <td>NaN</td>\n      <td>MAnal</td>\n      <td>OTHER</td>\n      <td>NaN</td>\n      <td>NaN</td>\n      <td>NaN</td>\n      <td>Kết thúc ngày giao dịch: VN-Index giảm hơn 1,3%.</td>\n      <td>NaN</td>\n      <td>...</td>\n      <td>NaN</td>\n      <td>NaN</td>\n      <td>NaN</td>\n      <td>True</td>\n      <td>NaN</td>\n      <td>NaN</td>\n      <td>1</td>\n      <td>2015-06-04 00:00:00</td>\n      <td>2015-06-04 00:00:00</td>\n      <td>NaN</td>\n    </tr>\n    <tr>\n      <th>4</th>\n      <td>4</td>\n      <td>4043</td>\n      <td>NaN</td>\n      <td>MAnal</td>\n      <td>OTHER</td>\n      <td>NaN</td>\n      <td>NaN</td>\n      <td>NaN</td>\n      <td>VN-Index &amp;quot;phá đáy&amp;quot; trong xu thế giảm...</td>\n      <td>NaN</td>\n      <td>...</td>\n      <td>NaN</td>\n      <td>NaN</td>\n      <td>NaN</td>\n      <td>True</td>\n      <td>NaN</td>\n      <td>NaN</td>\n      <td>1</td>\n      <td>2015-06-04 00:00:00</td>\n      <td>2015-06-04 00:00:00</td>\n      <td>NaN</td>\n    </tr>\n  </tbody>\n</table>\n<p>5 rows × 29 columns</p>\n</div>"
     },
     "metadata": {},
     "execution_count": 174
    }
   ],
   "source": [
    "data.head()"
   ]
  },
  {
   "cell_type": "code",
   "execution_count": 175,
   "metadata": {},
   "outputs": [
    {
     "output_type": "execute_result",
     "data": {
      "text/plain": [
       "Index(['Unnamed: 0', 'NewsId', 'OrganCode', 'NewsCategoryCode', 'IcbCode',\n",
       "       'ComGroupCode', 'ExpertId', 'Ticker', 'NewsTitle', 'FriendlyTitle',\n",
       "       'NewsSubTitle', 'FriendlySubTitle', 'NewsShortContent',\n",
       "       'NewsFullContent', 'NewsImageUrl', 'NewsSmallImageUrl', 'NewsSource',\n",
       "       'NewsSourceLink', 'NewsAuthor', 'NewsKeyword', 'FriendlyKeyword',\n",
       "       'PublicDate', 'IsTranfer', 'CreateBy', 'UpdateBy', 'Status',\n",
       "       'CreateDate', 'UpdateDate', 'SourceCode'],\n",
       "      dtype='object')"
      ]
     },
     "metadata": {},
     "execution_count": 175
    }
   ],
   "source": [
    "data.columns"
   ]
  },
  {
   "cell_type": "code",
   "execution_count": 176,
   "metadata": {},
   "outputs": [],
   "source": [
    "data_process = data[['NewsId', 'Ticker', \n",
    "                       'NewsTitle', 'NewsFullContent', 'PublicDate']]"
   ]
  },
  {
   "cell_type": "code",
   "execution_count": 177,
   "metadata": {},
   "outputs": [
    {
     "output_type": "execute_result",
     "data": {
      "text/plain": [
       "   NewsId Ticker                                          NewsTitle  \\\n",
       "0    4039    NaN   Hết phiên 1: Giảm mạnh nhưng không phá vỡ đáy cũ   \n",
       "1    4040    NaN  UBCKNN tiếp tục thực hiện nhiều biện pháp giám...   \n",
       "2    4041    NaN      Ngân hàng làm gì với hàng tỷ USD rút về nước?   \n",
       "3    4042    NaN   Kết thúc ngày giao dịch: VN-Index giảm hơn 1,3%.   \n",
       "4    4043    NaN  VN-Index &quot;phá đáy&quot; trong xu thế giảm...   \n",
       "5    4044    NaN  Những khúc mắc quanh thuế thu nhập cá nhân với...   \n",
       "6    4045    NaN  Chứng khoán ngày 23/10: Lập đáy mới, chờ tín hiệu   \n",
       "7    4046    NaN        Có hay không việc nhà đầu tư ngoại rút vốn?   \n",
       "8    4047    NaN  Kết thúc ngày 24/10: VN-Index đã xuống gần mốc...   \n",
       "9    4048    NaN              Phố Wall ngóng chờ quyết định của FED   \n",
       "\n",
       "                                     NewsFullContent PublicDate  \n",
       "0  <P>Với những lo ngại của các nhà đầu tư trong ...        NaN  \n",
       "1  <DIV class=KenhF_Content_News3>\\r\\n<P></P>\\r\\n...        NaN  \n",
       "2  <P>Khủng hoảng tài chính lan rộng, các ngân hà...        NaN  \n",
       "3  Sau phiên giao dịch đầy khởi sắc ngày hôm qua,...        NaN  \n",
       "4  <DIV class=div_fleft_p10_w250 id=ctl00_Content...        NaN  \n",
       "5  <DIV class=KenhF_Content_News3>\\r\\n<P class=Ms...        NaN  \n",
       "6  <P>Nhiều nhà đầu tư chờ khối ngoại mua ròng tr...        NaN  \n",
       "7  <DIV class=KenhF_Content_News3>\\r\\n<P><SPAN st...        NaN  \n",
       "8  <P>Sau khi thủng đáy cũ 366 trong phiên giao d...        NaN  \n",
       "9  <FONT face=\"arial, helvetica, sans-serif\"><FON...        NaN  "
      ],
      "text/html": "<div>\n<style scoped>\n    .dataframe tbody tr th:only-of-type {\n        vertical-align: middle;\n    }\n\n    .dataframe tbody tr th {\n        vertical-align: top;\n    }\n\n    .dataframe thead th {\n        text-align: right;\n    }\n</style>\n<table border=\"1\" class=\"dataframe\">\n  <thead>\n    <tr style=\"text-align: right;\">\n      <th></th>\n      <th>NewsId</th>\n      <th>Ticker</th>\n      <th>NewsTitle</th>\n      <th>NewsFullContent</th>\n      <th>PublicDate</th>\n    </tr>\n  </thead>\n  <tbody>\n    <tr>\n      <th>0</th>\n      <td>4039</td>\n      <td>NaN</td>\n      <td>Hết phiên 1: Giảm mạnh nhưng không phá vỡ đáy cũ</td>\n      <td>&lt;P&gt;Với những lo ngại của các nhà đầu tư trong ...</td>\n      <td>NaN</td>\n    </tr>\n    <tr>\n      <th>1</th>\n      <td>4040</td>\n      <td>NaN</td>\n      <td>UBCKNN tiếp tục thực hiện nhiều biện pháp giám...</td>\n      <td>&lt;DIV class=KenhF_Content_News3&gt;\\r\\n&lt;P&gt;&lt;/P&gt;\\r\\n...</td>\n      <td>NaN</td>\n    </tr>\n    <tr>\n      <th>2</th>\n      <td>4041</td>\n      <td>NaN</td>\n      <td>Ngân hàng làm gì với hàng tỷ USD rút về nước?</td>\n      <td>&lt;P&gt;Khủng hoảng tài chính lan rộng, các ngân hà...</td>\n      <td>NaN</td>\n    </tr>\n    <tr>\n      <th>3</th>\n      <td>4042</td>\n      <td>NaN</td>\n      <td>Kết thúc ngày giao dịch: VN-Index giảm hơn 1,3%.</td>\n      <td>Sau phiên giao dịch đầy khởi sắc ngày hôm qua,...</td>\n      <td>NaN</td>\n    </tr>\n    <tr>\n      <th>4</th>\n      <td>4043</td>\n      <td>NaN</td>\n      <td>VN-Index &amp;quot;phá đáy&amp;quot; trong xu thế giảm...</td>\n      <td>&lt;DIV class=div_fleft_p10_w250 id=ctl00_Content...</td>\n      <td>NaN</td>\n    </tr>\n    <tr>\n      <th>5</th>\n      <td>4044</td>\n      <td>NaN</td>\n      <td>Những khúc mắc quanh thuế thu nhập cá nhân với...</td>\n      <td>&lt;DIV class=KenhF_Content_News3&gt;\\r\\n&lt;P class=Ms...</td>\n      <td>NaN</td>\n    </tr>\n    <tr>\n      <th>6</th>\n      <td>4045</td>\n      <td>NaN</td>\n      <td>Chứng khoán ngày 23/10: Lập đáy mới, chờ tín hiệu</td>\n      <td>&lt;P&gt;Nhiều nhà đầu tư chờ khối ngoại mua ròng tr...</td>\n      <td>NaN</td>\n    </tr>\n    <tr>\n      <th>7</th>\n      <td>4046</td>\n      <td>NaN</td>\n      <td>Có hay không việc nhà đầu tư ngoại rút vốn?</td>\n      <td>&lt;DIV class=KenhF_Content_News3&gt;\\r\\n&lt;P&gt;&lt;SPAN st...</td>\n      <td>NaN</td>\n    </tr>\n    <tr>\n      <th>8</th>\n      <td>4047</td>\n      <td>NaN</td>\n      <td>Kết thúc ngày 24/10: VN-Index đã xuống gần mốc...</td>\n      <td>&lt;P&gt;Sau khi thủng đáy cũ 366 trong phiên giao d...</td>\n      <td>NaN</td>\n    </tr>\n    <tr>\n      <th>9</th>\n      <td>4048</td>\n      <td>NaN</td>\n      <td>Phố Wall ngóng chờ quyết định của FED</td>\n      <td>&lt;FONT face=\"arial, helvetica, sans-serif\"&gt;&lt;FON...</td>\n      <td>NaN</td>\n    </tr>\n  </tbody>\n</table>\n</div>"
     },
     "metadata": {},
     "execution_count": 177
    }
   ],
   "source": [
    "data_process.head(10)"
   ]
  },
  {
   "cell_type": "code",
   "execution_count": 178,
   "metadata": {},
   "outputs": [],
   "source": [
    "# data_process = data_process.dropna(subset=['Ticker', 'PublicDate', 'NewsFullContent'])"
   ]
  },
  {
   "cell_type": "code",
   "execution_count": 179,
   "metadata": {
    "tags": []
   },
   "outputs": [
    {
     "output_type": "execute_result",
     "data": {
      "text/plain": [
       "'<SPAN id=ctl00_mainContent_lblContent style=\"FONT-SIZE: 8.5pt; COLOR: black; FONT-FAMILY: Arial\">\\r\\n<STYLE>\\n<!--\\n /* Style Definitions */\\n p.MsoNormal, li.MsoNormal, div.MsoNormal\\n\\t{mso-style-parent:\"\";\\n\\tmargin:0in;\\n\\tmargin-bottom:.0001pt;\\n\\tmso-pagination:widow-orphan;\\n\\tfont-size:12.0pt;\\n\\tfont-family:\"Times New Roman\";\\n\\tmso-fareast-font-family:\"Times New Roman\";}\\n@page Section1\\n\\t{size:595.45pt 841.7pt;\\n\\tmargin:.5in .75in 45.35pt 1.25in;\\n\\tmso-header-margin:.5in;\\n\\tmso-footer-margin:.5in;\\n\\tmso-paper-source:0;}\\ndiv.Section1\\n\\t{page:Section1;}\\n-->\\n</STYLE>\\r\\n\\r\\n<BLOCKQUOTE><SPAN style=\"FONT-SIZE: 10pt; FONT-FAMILY: Arial\"><O:P></O:P>Thay đổi nội dung Phương án phát hành thêm cổ phiếu năm 2008, cụ thể:<O:P></O:P></SPAN>\\r\\n<P class=MsoNormal><SPAN style=\"FONT-SIZE: 10pt; FONT-FAMILY: Arial\">1. Đối tượng phát hành:<O:P></O:P></SPAN></P>\\r\\n<BLOCKQUOTE>\\r\\n<P class=MsoNormal><SPAN style=\"FONT-SIZE: 10pt; FONT-FAMILY: Arial\">- Cổ đông hiện hữu: 1.443.737 cổ phiếu (tỷ lệ 3:1, sở hữu 3 cp được quyền mua thêm 01 cp phát hành thêm)<O:P></O:P></SPAN></P>\\r\\n<P class=MsoNormal><SPAN style=\"FONT-SIZE: 10pt; FONT-FAMILY: Arial\">- Thành viên HĐQT, BKĐ, BKS và CBCC công ty: 180.560 cổ phiếu (HĐQT phân bổ)<O:P></O:P></SPAN></P>\\r\\n<P class=MsoNormal><SPAN style=\"FONT-SIZE: 10pt; FONT-FAMILY: Arial\">- Đối tác chiến lược: 2.044.492 cổ phiếu<O:P></O:P></SPAN></P></BLOCKQUOTE>\\r\\n<P class=MsoNormal><SPAN style=\"FONT-SIZE: 10pt; FONT-FAMILY: Arial\">2. Giá phát hành:<O:P></O:P></SPAN></P>\\r\\n<BLOCKQUOTE>\\r\\n<P class=MsoNormal><SPAN style=\"FONT-SIZE: 10pt; FONT-FAMILY: Arial\">- Đối với cổ đông hiện hữu: ủy quyền cho HĐQT quyết định <O:P></O:P></SPAN></P>\\r\\n<P class=MsoNormal><SPAN style=\"FONT-SIZE: 10pt; FONT-FAMILY: Arial\">- Đối với thành viên HĐQT, BKĐ, BKS và CBCC công ty: giá phát hành bằng giá phát hành cho cổ đông hiện hữu<O:P></O:P></SPAN></P>\\r\\n<P class=MsoNormal><SPAN style=\"FONT-SIZE: 10pt; FONT-FAMILY: Arial\">- Đối với cổ đông chiến lược: ủy quyền cho HĐQT quyết định nhưng không thấp hơn giá phát hành cho cổ đông hiện hữu<O:P></O:P></SPAN></P></BLOCKQUOTE>\\r\\n<P class=MsoNormal><SPAN style=\"FONT-SIZE: 10pt; FONT-FAMILY: Arial\">3. Thời điểm phát hành: ủy quyền cho HĐQT quyết định thời điểm phát hành thích hợp mang lại lợi ích cao nhất cho công ty và cổ đông.<O:P></O:P></SPAN></P>\\r\\n<P class=MsoNormal><SPAN style=\"FONT-SIZE: 10pt; FONT-FAMILY: Arial\"><O:P>&nbsp;</O:P></SPAN></P>\\r\\n<P class=MsoNormal><SPAN style=\"FONT-SIZE: 10pt; FONT-FAMILY: Arial\"><O:P>&nbsp;</O:P></SPAN></P>\\r\\n<P class=MsoNormal><SPAN style=\"FONT-SIZE: 10pt; FONT-FAMILY: Arial\"><O:P>&nbsp;</O:P></SPAN></P>\\r\\n<P class=MsoNormal><SPAN style=\"FONT-SIZE: 10pt; FONT-FAMILY: Arial\"><O:P>&nbsp;</O:P></SPAN></P></BLOCKQUOTE></SPAN>'"
      ]
     },
     "metadata": {},
     "execution_count": 179
    }
   ],
   "source": [
    "data_process['NewsFullContent'][1000]"
   ]
  },
  {
   "cell_type": "code",
   "execution_count": 180,
   "metadata": {},
   "outputs": [],
   "source": [
    "def cleanhtml(raw_html):\n",
    "    for i in range(len(raw_html)):\n",
    "        cleanr = re.compile('<.*?>|&([a-z0-9]+|#[0-9]{1,6}|#x[0-9a-f]{1,6});|\\n|\\t|\\r|\\xa0|&nbsp;')\n",
    "        raw_html[i] = re.sub(cleanr,'', str(raw_html[i]))\n",
    "        raw_html[i] = BeautifulSoup(raw_html[i], \"lxml\").text\n",
    "    return raw_html"
   ]
  },
  {
   "cell_type": "code",
   "execution_count": 181,
   "metadata": {},
   "outputs": [],
   "source": [
    "data_array_clean = cleanhtml(data_process['NewsFullContent'])\n",
    "data_process['NewsFullContent'] = data_array_clean"
   ]
  },
  {
   "cell_type": "code",
   "execution_count": 187,
   "metadata": {},
   "outputs": [
    {
     "output_type": "execute_result",
     "data": {
      "text/plain": [
       "(2001, 5)"
      ]
     },
     "metadata": {},
     "execution_count": 187
    }
   ],
   "source": [
    "data_process.shape"
   ]
  },
  {
   "cell_type": "code",
   "execution_count": 189,
   "metadata": {},
   "outputs": [],
   "source": [
    "data_process.to_csv('data/data_preprocess.csv', encoding='utf-8')"
   ]
  },
  {
   "cell_type": "code",
   "execution_count": null,
   "metadata": {},
   "outputs": [],
   "source": []
  }
 ]
}