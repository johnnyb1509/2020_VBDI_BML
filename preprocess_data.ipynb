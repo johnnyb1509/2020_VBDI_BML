{
 "metadata": {
  "language_info": {
   "codemirror_mode": {
    "name": "ipython",
    "version": 3
   },
   "file_extension": ".py",
   "mimetype": "text/x-python",
   "name": "python",
   "nbconvert_exporter": "python",
   "pygments_lexer": "ipython3",
   "version": "3.8.3-final"
  },
  "orig_nbformat": 2,
  "kernelspec": {
   "name": "python3",
   "display_name": "Python 3",
   "language": "python"
  }
 },
 "nbformat": 4,
 "nbformat_minor": 2,
 "cells": [
  {
   "cell_type": "code",
   "execution_count": 2,
   "metadata": {},
   "outputs": [],
   "source": [
    "import numpy as np\n",
    "import pandas as pd\n",
    "import re\n",
    "from bs4 import BeautifulSoup"
   ]
  },
  {
   "cell_type": "code",
   "execution_count": 5,
   "metadata": {},
   "outputs": [],
   "source": [
    "df_new = pd.read_csv('data/news.csv')\n",
    "df_new_dir = pd.read_csv('data/news_dir.csv')"
   ]
  },
  {
   "cell_type": "code",
   "execution_count": 27,
   "metadata": {},
   "outputs": [
    {
     "output_type": "execute_result",
     "data": {
      "text/plain": [
       "(748398, 29)"
      ]
     },
     "metadata": {},
     "execution_count": 27
    }
   ],
   "source": [
    "df_new.shape\n",
    "# df_new_dir.shape"
   ]
  },
  {
   "cell_type": "code",
   "execution_count": 34,
   "metadata": {},
   "outputs": [
    {
     "output_type": "execute_result",
     "data": {
      "text/plain": [
       "    NewsId Ticker                                          NewsTitle  \\\n",
       "0     4039    NaN   Hết phiên 1: Giảm mạnh nhưng không phá vỡ đáy cũ   \n",
       "1     4040    NaN  UBCKNN tiếp tục thực hiện nhiều biện pháp giám...   \n",
       "2     4041    NaN      Ngân hàng làm gì với hàng tỷ USD rút về nước?   \n",
       "3     4042    NaN   Kết thúc ngày giao dịch: VN-Index giảm hơn 1,3%.   \n",
       "4     4043    NaN  VN-Index &quot;phá đáy&quot; trong xu thế giảm...   \n",
       "5     4044    NaN  Những khúc mắc quanh thuế thu nhập cá nhân với...   \n",
       "6     4045    NaN  Chứng khoán ngày 23/10: Lập đáy mới, chờ tín hiệu   \n",
       "7     4046    NaN        Có hay không việc nhà đầu tư ngoại rút vốn?   \n",
       "8     4047    NaN  Kết thúc ngày 24/10: VN-Index đã xuống gần mốc...   \n",
       "9     4048    NaN              Phố Wall ngóng chờ quyết định của FED   \n",
       "10    4049    NaN                 Hastc-Index đã xuống dưới 100 điểm   \n",
       "11    4050    NaN   Alan Greenspan: ”Khủng hoảng vượt quá tưởng t...   \n",
       "12    4051    NaN  “Tình thế đang thay đổi từng ngày, từng ...   \n",
       "13    4052    NaN           Nhiều mã cổ phiếu có nguy cơ bị thâu tóm   \n",
       "14    4053    NaN               Nợ xấu năm 2008 có thể đến 30.000 tỷ   \n",
       "15    4054    NaN                     Mức giá nào cho cổ phiếu PVFC?   \n",
       "16    4055    NaN                    Dư mua tăng mạnh vào cuối phiên   \n",
       "17    4056    NaN  Cựu Chủ tịch FED nói gì về khủng hoảng tài chính?   \n",
       "18    4057    NaN  Giao lưu trực tuyến: Tiếng nói doanh nghiệp tr...   \n",
       "19    4058    NaN        Có hay không việc nhà đầu tư ngoại rút vốn?   \n",
       "\n",
       "                                      NewsFullContent PublicDate OrganCode  \n",
       "0   <P>Với những lo ngại của các nhà đầu tư trong ...        NaN       NaN  \n",
       "1   <DIV class=KenhF_Content_News3>\\r\\n<P></P>\\r\\n...        NaN       NaN  \n",
       "2   <P>Khủng hoảng tài chính lan rộng, các ngân hà...        NaN       NaN  \n",
       "3   Sau phiên giao dịch đầy khởi sắc ngày hôm qua,...        NaN       NaN  \n",
       "4   <DIV class=div_fleft_p10_w250 id=ctl00_Content...        NaN       NaN  \n",
       "5   <DIV class=KenhF_Content_News3>\\r\\n<P class=Ms...        NaN       NaN  \n",
       "6   <P>Nhiều nhà đầu tư chờ khối ngoại mua ròng tr...        NaN       NaN  \n",
       "7   <DIV class=KenhF_Content_News3>\\r\\n<P><SPAN st...        NaN       NaN  \n",
       "8   <P>Sau khi thủng đáy cũ 366 trong phiên giao d...        NaN       NaN  \n",
       "9   <FONT face=\"arial, helvetica, sans-serif\"><FON...        NaN       NaN  \n",
       "10  <P>Mặc dù những thông tin vĩ mô trong nước khá...        NaN       NaN  \n",
       "11  <DIV class=KenhF_Content_News3>\\r\\n<DIV class=...        NaN       NaN  \n",
       "12  <P>Tại hội thảo “Khủng hoảng tài chính ...        NaN       NaN  \n",
       "13  <P>Khởi đầu cho hoạt động này là việc Công ty ...        NaN       NaN  \n",
       "14  Tại cuộc hội thảo “Khủng hoảng tài chính quốc ...        NaN       NaN  \n",
       "15  <P>Nếu theo đúng kế hoạch, PVFC sẽ niêm yết tr...        NaN       NaN  \n",
       "16  <P>Sau 5 phiên liên tiếp giảm điểm và liên tục...        NaN       NaN  \n",
       "17  Các nhà làm luật Mỹ khi đó coi vị chủ tịch cao...        NaN       NaN  \n",
       "18  <BR style=\"FONT-SIZE: 12pt; COLOR: #000000; FO...        NaN       NaN  \n",
       "19  <DIV class=KenhF_Content_News3>\\r\\n<P><SPAN st...        NaN       NaN  "
      ],
      "text/html": "<div>\n<style scoped>\n    .dataframe tbody tr th:only-of-type {\n        vertical-align: middle;\n    }\n\n    .dataframe tbody tr th {\n        vertical-align: top;\n    }\n\n    .dataframe thead th {\n        text-align: right;\n    }\n</style>\n<table border=\"1\" class=\"dataframe\">\n  <thead>\n    <tr style=\"text-align: right;\">\n      <th></th>\n      <th>NewsId</th>\n      <th>Ticker</th>\n      <th>NewsTitle</th>\n      <th>NewsFullContent</th>\n      <th>PublicDate</th>\n      <th>OrganCode</th>\n    </tr>\n  </thead>\n  <tbody>\n    <tr>\n      <th>0</th>\n      <td>4039</td>\n      <td>NaN</td>\n      <td>Hết phiên 1: Giảm mạnh nhưng không phá vỡ đáy cũ</td>\n      <td>&lt;P&gt;Với những lo ngại của các nhà đầu tư trong ...</td>\n      <td>NaN</td>\n      <td>NaN</td>\n    </tr>\n    <tr>\n      <th>1</th>\n      <td>4040</td>\n      <td>NaN</td>\n      <td>UBCKNN tiếp tục thực hiện nhiều biện pháp giám...</td>\n      <td>&lt;DIV class=KenhF_Content_News3&gt;\\r\\n&lt;P&gt;&lt;/P&gt;\\r\\n...</td>\n      <td>NaN</td>\n      <td>NaN</td>\n    </tr>\n    <tr>\n      <th>2</th>\n      <td>4041</td>\n      <td>NaN</td>\n      <td>Ngân hàng làm gì với hàng tỷ USD rút về nước?</td>\n      <td>&lt;P&gt;Khủng hoảng tài chính lan rộng, các ngân hà...</td>\n      <td>NaN</td>\n      <td>NaN</td>\n    </tr>\n    <tr>\n      <th>3</th>\n      <td>4042</td>\n      <td>NaN</td>\n      <td>Kết thúc ngày giao dịch: VN-Index giảm hơn 1,3%.</td>\n      <td>Sau phiên giao dịch đầy khởi sắc ngày hôm qua,...</td>\n      <td>NaN</td>\n      <td>NaN</td>\n    </tr>\n    <tr>\n      <th>4</th>\n      <td>4043</td>\n      <td>NaN</td>\n      <td>VN-Index &amp;quot;phá đáy&amp;quot; trong xu thế giảm...</td>\n      <td>&lt;DIV class=div_fleft_p10_w250 id=ctl00_Content...</td>\n      <td>NaN</td>\n      <td>NaN</td>\n    </tr>\n    <tr>\n      <th>5</th>\n      <td>4044</td>\n      <td>NaN</td>\n      <td>Những khúc mắc quanh thuế thu nhập cá nhân với...</td>\n      <td>&lt;DIV class=KenhF_Content_News3&gt;\\r\\n&lt;P class=Ms...</td>\n      <td>NaN</td>\n      <td>NaN</td>\n    </tr>\n    <tr>\n      <th>6</th>\n      <td>4045</td>\n      <td>NaN</td>\n      <td>Chứng khoán ngày 23/10: Lập đáy mới, chờ tín hiệu</td>\n      <td>&lt;P&gt;Nhiều nhà đầu tư chờ khối ngoại mua ròng tr...</td>\n      <td>NaN</td>\n      <td>NaN</td>\n    </tr>\n    <tr>\n      <th>7</th>\n      <td>4046</td>\n      <td>NaN</td>\n      <td>Có hay không việc nhà đầu tư ngoại rút vốn?</td>\n      <td>&lt;DIV class=KenhF_Content_News3&gt;\\r\\n&lt;P&gt;&lt;SPAN st...</td>\n      <td>NaN</td>\n      <td>NaN</td>\n    </tr>\n    <tr>\n      <th>8</th>\n      <td>4047</td>\n      <td>NaN</td>\n      <td>Kết thúc ngày 24/10: VN-Index đã xuống gần mốc...</td>\n      <td>&lt;P&gt;Sau khi thủng đáy cũ 366 trong phiên giao d...</td>\n      <td>NaN</td>\n      <td>NaN</td>\n    </tr>\n    <tr>\n      <th>9</th>\n      <td>4048</td>\n      <td>NaN</td>\n      <td>Phố Wall ngóng chờ quyết định của FED</td>\n      <td>&lt;FONT face=\"arial, helvetica, sans-serif\"&gt;&lt;FON...</td>\n      <td>NaN</td>\n      <td>NaN</td>\n    </tr>\n    <tr>\n      <th>10</th>\n      <td>4049</td>\n      <td>NaN</td>\n      <td>Hastc-Index đã xuống dưới 100 điểm</td>\n      <td>&lt;P&gt;Mặc dù những thông tin vĩ mô trong nước khá...</td>\n      <td>NaN</td>\n      <td>NaN</td>\n    </tr>\n    <tr>\n      <th>11</th>\n      <td>4050</td>\n      <td>NaN</td>\n      <td>Alan Greenspan: ”Khủng hoảng vượt quá tưởng t...</td>\n      <td>&lt;DIV class=KenhF_Content_News3&gt;\\r\\n&lt;DIV class=...</td>\n      <td>NaN</td>\n      <td>NaN</td>\n    </tr>\n    <tr>\n      <th>12</th>\n      <td>4051</td>\n      <td>NaN</td>\n      <td>“Tình thế đang thay đổi từng ngày, từng ...</td>\n      <td>&lt;P&gt;Tại hội thảo “Khủng hoảng tài chính ...</td>\n      <td>NaN</td>\n      <td>NaN</td>\n    </tr>\n    <tr>\n      <th>13</th>\n      <td>4052</td>\n      <td>NaN</td>\n      <td>Nhiều mã cổ phiếu có nguy cơ bị thâu tóm</td>\n      <td>&lt;P&gt;Khởi đầu cho hoạt động này là việc Công ty ...</td>\n      <td>NaN</td>\n      <td>NaN</td>\n    </tr>\n    <tr>\n      <th>14</th>\n      <td>4053</td>\n      <td>NaN</td>\n      <td>Nợ xấu năm 2008 có thể đến 30.000 tỷ</td>\n      <td>Tại cuộc hội thảo “Khủng hoảng tài chính quốc ...</td>\n      <td>NaN</td>\n      <td>NaN</td>\n    </tr>\n    <tr>\n      <th>15</th>\n      <td>4054</td>\n      <td>NaN</td>\n      <td>Mức giá nào cho cổ phiếu PVFC?</td>\n      <td>&lt;P&gt;Nếu theo đúng kế hoạch, PVFC sẽ niêm yết tr...</td>\n      <td>NaN</td>\n      <td>NaN</td>\n    </tr>\n    <tr>\n      <th>16</th>\n      <td>4055</td>\n      <td>NaN</td>\n      <td>Dư mua tăng mạnh vào cuối phiên</td>\n      <td>&lt;P&gt;Sau 5 phiên liên tiếp giảm điểm và liên tục...</td>\n      <td>NaN</td>\n      <td>NaN</td>\n    </tr>\n    <tr>\n      <th>17</th>\n      <td>4056</td>\n      <td>NaN</td>\n      <td>Cựu Chủ tịch FED nói gì về khủng hoảng tài chính?</td>\n      <td>Các nhà làm luật Mỹ khi đó coi vị chủ tịch cao...</td>\n      <td>NaN</td>\n      <td>NaN</td>\n    </tr>\n    <tr>\n      <th>18</th>\n      <td>4057</td>\n      <td>NaN</td>\n      <td>Giao lưu trực tuyến: Tiếng nói doanh nghiệp tr...</td>\n      <td>&lt;BR style=\"FONT-SIZE: 12pt; COLOR: #000000; FO...</td>\n      <td>NaN</td>\n      <td>NaN</td>\n    </tr>\n    <tr>\n      <th>19</th>\n      <td>4058</td>\n      <td>NaN</td>\n      <td>Có hay không việc nhà đầu tư ngoại rút vốn?</td>\n      <td>&lt;DIV class=KenhF_Content_News3&gt;\\r\\n&lt;P&gt;&lt;SPAN st...</td>\n      <td>NaN</td>\n      <td>NaN</td>\n    </tr>\n  </tbody>\n</table>\n</div>"
     },
     "metadata": {},
     "execution_count": 34
    }
   ],
   "source": [
    "data_process = pd.merge(df_new[['NewsId','Ticker', \n",
    "                       'NewsTitle', 'NewsFullContent', 'PublicDate']],\n",
    "                 df_new_dir[['NewsId', 'OrganCode']],\n",
    "                 on='NewsId', how='left')\n",
    "data_process.head(20)"
   ]
  },
  {
   "cell_type": "code",
   "execution_count": 41,
   "metadata": {},
   "outputs": [
    {
     "output_type": "stream",
     "name": "stdout",
     "text": [
      "<class 'pandas.core.frame.DataFrame'>\nInt64Index: 751699 entries, 0 to 751698\nData columns (total 6 columns):\n #   Column           Non-Null Count   Dtype \n---  ------           --------------   ----- \n 0   NewsId           751699 non-null  int64 \n 1   Ticker           586139 non-null  object\n 2   NewsTitle        751699 non-null  object\n 3   NewsFullContent  751530 non-null  object\n 4   PublicDate       751652 non-null  object\n 5   OrganCode        366593 non-null  object\ndtypes: int64(1), object(5)\nmemory usage: 60.1+ MB\n"
     ]
    }
   ],
   "source": [
    "data_process.columns\n",
    "data_process.shape\n",
    "data_process['Ticker'].fillna(data_process['OrganCode'], inplace=True)\n",
    "data_process.info()"
   ]
  },
  {
   "cell_type": "code",
   "execution_count": 74,
   "metadata": {},
   "outputs": [
    {
     "output_type": "execute_result",
     "data": {
      "text/plain": [
       "   NewsId Ticker                                          NewsTitle  \\\n",
       "0    4039    NaN   Hết phiên 1: Giảm mạnh nhưng không phá vỡ đáy cũ   \n",
       "1    4040    NaN  UBCKNN tiếp tục thực hiện nhiều biện pháp giám...   \n",
       "2    4041    NaN      Ngân hàng làm gì với hàng tỷ USD rút về nước?   \n",
       "3    4042    NaN   Kết thúc ngày giao dịch: VN-Index giảm hơn 1,3%.   \n",
       "4    4043    NaN  VN-Index &quot;phá đáy&quot; trong xu thế giảm...   \n",
       "5    4044    NaN  Những khúc mắc quanh thuế thu nhập cá nhân với...   \n",
       "6    4045    NaN  Chứng khoán ngày 23/10: Lập đáy mới, chờ tín hiệu   \n",
       "7    4046    NaN        Có hay không việc nhà đầu tư ngoại rút vốn?   \n",
       "8    4047    NaN  Kết thúc ngày 24/10: VN-Index đã xuống gần mốc...   \n",
       "9    4048    NaN              Phố Wall ngóng chờ quyết định của FED   \n",
       "\n",
       "                                     NewsFullContent PublicDate OrganCode  \n",
       "0  Với những lo ngại của các nhà đầu tư trong nướ...        NaN       NaN  \n",
       "1  Bên lề cuộc hội thảo “Chuyển đổi tài khoản nhà...        NaN       NaN  \n",
       "2  Khủng hoảng tài chính lan rộng, các ngân hàng ...        NaN       NaN  \n",
       "3  Sau phiên giao dịch đầy khởi sắc ngày hôm qua,...        NaN       NaN  \n",
       "4  (CafeF) - Thị trường chứng khoán thế giới đã t...        NaN       NaN  \n",
       "5  Thị trường chứng khoán “xôn xao” với việc thuế...        NaN       NaN  \n",
       "6  Nhiều nhà đầu tư chờ khối ngoại mua ròng trở l...        NaN       NaN  \n",
       "7  Thưa ông, xin ông chi biết lý do của việc ngoạ...        NaN       NaN  \n",
       "8  Sau khi thủng đáy cũ 366 trong phiên giao dịch...        NaN       NaN  \n",
       "9  Chứng khoán Mỹ tiếp tục giảm mạnhGiá dầu kỳ hạ...        NaN       NaN  "
      ],
      "text/html": "<div>\n<style scoped>\n    .dataframe tbody tr th:only-of-type {\n        vertical-align: middle;\n    }\n\n    .dataframe tbody tr th {\n        vertical-align: top;\n    }\n\n    .dataframe thead th {\n        text-align: right;\n    }\n</style>\n<table border=\"1\" class=\"dataframe\">\n  <thead>\n    <tr style=\"text-align: right;\">\n      <th></th>\n      <th>NewsId</th>\n      <th>Ticker</th>\n      <th>NewsTitle</th>\n      <th>NewsFullContent</th>\n      <th>PublicDate</th>\n      <th>OrganCode</th>\n    </tr>\n  </thead>\n  <tbody>\n    <tr>\n      <th>0</th>\n      <td>4039</td>\n      <td>NaN</td>\n      <td>Hết phiên 1: Giảm mạnh nhưng không phá vỡ đáy cũ</td>\n      <td>Với những lo ngại của các nhà đầu tư trong nướ...</td>\n      <td>NaN</td>\n      <td>NaN</td>\n    </tr>\n    <tr>\n      <th>1</th>\n      <td>4040</td>\n      <td>NaN</td>\n      <td>UBCKNN tiếp tục thực hiện nhiều biện pháp giám...</td>\n      <td>Bên lề cuộc hội thảo “Chuyển đổi tài khoản nhà...</td>\n      <td>NaN</td>\n      <td>NaN</td>\n    </tr>\n    <tr>\n      <th>2</th>\n      <td>4041</td>\n      <td>NaN</td>\n      <td>Ngân hàng làm gì với hàng tỷ USD rút về nước?</td>\n      <td>Khủng hoảng tài chính lan rộng, các ngân hàng ...</td>\n      <td>NaN</td>\n      <td>NaN</td>\n    </tr>\n    <tr>\n      <th>3</th>\n      <td>4042</td>\n      <td>NaN</td>\n      <td>Kết thúc ngày giao dịch: VN-Index giảm hơn 1,3%.</td>\n      <td>Sau phiên giao dịch đầy khởi sắc ngày hôm qua,...</td>\n      <td>NaN</td>\n      <td>NaN</td>\n    </tr>\n    <tr>\n      <th>4</th>\n      <td>4043</td>\n      <td>NaN</td>\n      <td>VN-Index &amp;quot;phá đáy&amp;quot; trong xu thế giảm...</td>\n      <td>(CafeF) - Thị trường chứng khoán thế giới đã t...</td>\n      <td>NaN</td>\n      <td>NaN</td>\n    </tr>\n    <tr>\n      <th>5</th>\n      <td>4044</td>\n      <td>NaN</td>\n      <td>Những khúc mắc quanh thuế thu nhập cá nhân với...</td>\n      <td>Thị trường chứng khoán “xôn xao” với việc thuế...</td>\n      <td>NaN</td>\n      <td>NaN</td>\n    </tr>\n    <tr>\n      <th>6</th>\n      <td>4045</td>\n      <td>NaN</td>\n      <td>Chứng khoán ngày 23/10: Lập đáy mới, chờ tín hiệu</td>\n      <td>Nhiều nhà đầu tư chờ khối ngoại mua ròng trở l...</td>\n      <td>NaN</td>\n      <td>NaN</td>\n    </tr>\n    <tr>\n      <th>7</th>\n      <td>4046</td>\n      <td>NaN</td>\n      <td>Có hay không việc nhà đầu tư ngoại rút vốn?</td>\n      <td>Thưa ông, xin ông chi biết lý do của việc ngoạ...</td>\n      <td>NaN</td>\n      <td>NaN</td>\n    </tr>\n    <tr>\n      <th>8</th>\n      <td>4047</td>\n      <td>NaN</td>\n      <td>Kết thúc ngày 24/10: VN-Index đã xuống gần mốc...</td>\n      <td>Sau khi thủng đáy cũ 366 trong phiên giao dịch...</td>\n      <td>NaN</td>\n      <td>NaN</td>\n    </tr>\n    <tr>\n      <th>9</th>\n      <td>4048</td>\n      <td>NaN</td>\n      <td>Phố Wall ngóng chờ quyết định của FED</td>\n      <td>Chứng khoán Mỹ tiếp tục giảm mạnhGiá dầu kỳ hạ...</td>\n      <td>NaN</td>\n      <td>NaN</td>\n    </tr>\n  </tbody>\n</table>\n</div>"
     },
     "metadata": {},
     "execution_count": 74
    }
   ],
   "source": [
    "data_process.head(10)"
   ]
  },
  {
   "cell_type": "code",
   "execution_count": 116,
   "metadata": {},
   "outputs": [],
   "source": [
    "data_process = data_process.dropna(subset=['NewsFullContent']).reset_index()"
   ]
  },
  {
   "cell_type": "code",
   "execution_count": null,
   "metadata": {
    "tags": []
   },
   "outputs": [],
   "source": [
    "\n",
    "data_process['NewsFullContent'][1000]"
   ]
  },
  {
   "cell_type": "code",
   "execution_count": 119,
   "metadata": {},
   "outputs": [],
   "source": [
    "def cleanhtml(raw_html):\n",
    "    for i in range(len(raw_html)):\n",
    "        cleanr = re.compile('<.*?>|&([a-z0-9]+|#[0-9]{1,6}|#x[0-9a-f]{1,6});|\\n|\\t|\\r|\\xa0|&nbsp;')\n",
    "        raw_html[i] = re.sub(cleanr,'', str(raw_html[i]))\n",
    "        raw_html[i] = BeautifulSoup(raw_html[i], \"lxml\").text\n",
    "    return raw_html"
   ]
  },
  {
   "cell_type": "code",
   "execution_count": 120,
   "metadata": {},
   "outputs": [
    {
     "output_type": "error",
     "ename": "KeyboardInterrupt",
     "evalue": "",
     "traceback": [
      "\u001b[1;31m---------------------------------------------------------------------------\u001b[0m",
      "\u001b[1;31mKeyboardInterrupt\u001b[0m                         Traceback (most recent call last)",
      "\u001b[1;32m<ipython-input-120-77f696403477>\u001b[0m in \u001b[0;36m<module>\u001b[1;34m\u001b[0m\n\u001b[1;32m----> 1\u001b[1;33m \u001b[0mdata_array_clean\u001b[0m \u001b[1;33m=\u001b[0m \u001b[0mcleanhtml\u001b[0m\u001b[1;33m(\u001b[0m\u001b[0mdata_process\u001b[0m\u001b[1;33m[\u001b[0m\u001b[1;34m'NewsFullContent'\u001b[0m\u001b[1;33m]\u001b[0m\u001b[1;33m)\u001b[0m\u001b[1;33m\u001b[0m\u001b[1;33m\u001b[0m\u001b[0m\n\u001b[0m\u001b[0;32m      2\u001b[0m \u001b[0mdata_process\u001b[0m\u001b[1;33m[\u001b[0m\u001b[1;34m'NewsFullContent'\u001b[0m\u001b[1;33m]\u001b[0m \u001b[1;33m=\u001b[0m \u001b[0mdata_array_clean\u001b[0m\u001b[1;33m\u001b[0m\u001b[1;33m\u001b[0m\u001b[0m\n",
      "\u001b[1;32m<ipython-input-119-975a531d47c1>\u001b[0m in \u001b[0;36mcleanhtml\u001b[1;34m(raw_html)\u001b[0m\n\u001b[0;32m      3\u001b[0m         \u001b[0mcleanr\u001b[0m \u001b[1;33m=\u001b[0m \u001b[0mre\u001b[0m\u001b[1;33m.\u001b[0m\u001b[0mcompile\u001b[0m\u001b[1;33m(\u001b[0m\u001b[1;34m'<.*?>|&([a-z0-9]+|#[0-9]{1,6}|#x[0-9a-f]{1,6});|\\n|\\t|\\r|\\xa0|&nbsp;'\u001b[0m\u001b[1;33m)\u001b[0m\u001b[1;33m\u001b[0m\u001b[1;33m\u001b[0m\u001b[0m\n\u001b[0;32m      4\u001b[0m         \u001b[0mraw_html\u001b[0m\u001b[1;33m[\u001b[0m\u001b[0mi\u001b[0m\u001b[1;33m]\u001b[0m \u001b[1;33m=\u001b[0m \u001b[0mre\u001b[0m\u001b[1;33m.\u001b[0m\u001b[0msub\u001b[0m\u001b[1;33m(\u001b[0m\u001b[0mcleanr\u001b[0m\u001b[1;33m,\u001b[0m\u001b[1;34m''\u001b[0m\u001b[1;33m,\u001b[0m \u001b[0mstr\u001b[0m\u001b[1;33m(\u001b[0m\u001b[0mraw_html\u001b[0m\u001b[1;33m[\u001b[0m\u001b[0mi\u001b[0m\u001b[1;33m]\u001b[0m\u001b[1;33m)\u001b[0m\u001b[1;33m)\u001b[0m\u001b[1;33m\u001b[0m\u001b[1;33m\u001b[0m\u001b[0m\n\u001b[1;32m----> 5\u001b[1;33m         \u001b[0mraw_html\u001b[0m\u001b[1;33m[\u001b[0m\u001b[0mi\u001b[0m\u001b[1;33m]\u001b[0m \u001b[1;33m=\u001b[0m \u001b[0mBeautifulSoup\u001b[0m\u001b[1;33m(\u001b[0m\u001b[0mraw_html\u001b[0m\u001b[1;33m[\u001b[0m\u001b[0mi\u001b[0m\u001b[1;33m]\u001b[0m\u001b[1;33m,\u001b[0m \u001b[1;34m\"lxml\"\u001b[0m\u001b[1;33m)\u001b[0m\u001b[1;33m.\u001b[0m\u001b[0mtext\u001b[0m\u001b[1;33m\u001b[0m\u001b[1;33m\u001b[0m\u001b[0m\n\u001b[0m\u001b[0;32m      6\u001b[0m     \u001b[1;32mreturn\u001b[0m \u001b[0mraw_html\u001b[0m\u001b[1;33m\u001b[0m\u001b[1;33m\u001b[0m\u001b[0m\n",
      "\u001b[1;32m~\\Anaconda3\\lib\\site-packages\\bs4\\__init__.py\u001b[0m in \u001b[0;36m__init__\u001b[1;34m(self, markup, features, builder, parse_only, from_encoding, exclude_encodings, element_classes, **kwargs)\u001b[0m\n\u001b[0;32m    343\u001b[0m             \u001b[0mself\u001b[0m\u001b[1;33m.\u001b[0m\u001b[0mreset\u001b[0m\u001b[1;33m(\u001b[0m\u001b[1;33m)\u001b[0m\u001b[1;33m\u001b[0m\u001b[1;33m\u001b[0m\u001b[0m\n\u001b[0;32m    344\u001b[0m             \u001b[1;32mtry\u001b[0m\u001b[1;33m:\u001b[0m\u001b[1;33m\u001b[0m\u001b[1;33m\u001b[0m\u001b[0m\n\u001b[1;32m--> 345\u001b[1;33m                 \u001b[0mself\u001b[0m\u001b[1;33m.\u001b[0m\u001b[0m_feed\u001b[0m\u001b[1;33m(\u001b[0m\u001b[1;33m)\u001b[0m\u001b[1;33m\u001b[0m\u001b[1;33m\u001b[0m\u001b[0m\n\u001b[0m\u001b[0;32m    346\u001b[0m                 \u001b[0msuccess\u001b[0m \u001b[1;33m=\u001b[0m \u001b[1;32mTrue\u001b[0m\u001b[1;33m\u001b[0m\u001b[1;33m\u001b[0m\u001b[0m\n\u001b[0;32m    347\u001b[0m                 \u001b[1;32mbreak\u001b[0m\u001b[1;33m\u001b[0m\u001b[1;33m\u001b[0m\u001b[0m\n",
      "\u001b[1;32m~\\Anaconda3\\lib\\site-packages\\bs4\\__init__.py\u001b[0m in \u001b[0;36m_feed\u001b[1;34m(self)\u001b[0m\n\u001b[0;32m    429\u001b[0m         \u001b[0mself\u001b[0m\u001b[1;33m.\u001b[0m\u001b[0mbuilder\u001b[0m\u001b[1;33m.\u001b[0m\u001b[0mreset\u001b[0m\u001b[1;33m(\u001b[0m\u001b[1;33m)\u001b[0m\u001b[1;33m\u001b[0m\u001b[1;33m\u001b[0m\u001b[0m\n\u001b[0;32m    430\u001b[0m \u001b[1;33m\u001b[0m\u001b[0m\n\u001b[1;32m--> 431\u001b[1;33m         \u001b[0mself\u001b[0m\u001b[1;33m.\u001b[0m\u001b[0mbuilder\u001b[0m\u001b[1;33m.\u001b[0m\u001b[0mfeed\u001b[0m\u001b[1;33m(\u001b[0m\u001b[0mself\u001b[0m\u001b[1;33m.\u001b[0m\u001b[0mmarkup\u001b[0m\u001b[1;33m)\u001b[0m\u001b[1;33m\u001b[0m\u001b[1;33m\u001b[0m\u001b[0m\n\u001b[0m\u001b[0;32m    432\u001b[0m         \u001b[1;31m# Close out any unfinished strings and close all the open tags.\u001b[0m\u001b[1;33m\u001b[0m\u001b[1;33m\u001b[0m\u001b[1;33m\u001b[0m\u001b[0m\n\u001b[0;32m    433\u001b[0m         \u001b[0mself\u001b[0m\u001b[1;33m.\u001b[0m\u001b[0mendData\u001b[0m\u001b[1;33m(\u001b[0m\u001b[1;33m)\u001b[0m\u001b[1;33m\u001b[0m\u001b[1;33m\u001b[0m\u001b[0m\n",
      "\u001b[1;32m~\\Anaconda3\\lib\\site-packages\\bs4\\builder\\_lxml.py\u001b[0m in \u001b[0;36mfeed\u001b[1;34m(self, markup)\u001b[0m\n\u001b[0;32m    322\u001b[0m         \u001b[1;32mtry\u001b[0m\u001b[1;33m:\u001b[0m\u001b[1;33m\u001b[0m\u001b[1;33m\u001b[0m\u001b[0m\n\u001b[0;32m    323\u001b[0m             \u001b[0mself\u001b[0m\u001b[1;33m.\u001b[0m\u001b[0mparser\u001b[0m \u001b[1;33m=\u001b[0m \u001b[0mself\u001b[0m\u001b[1;33m.\u001b[0m\u001b[0mparser_for\u001b[0m\u001b[1;33m(\u001b[0m\u001b[0mencoding\u001b[0m\u001b[1;33m)\u001b[0m\u001b[1;33m\u001b[0m\u001b[1;33m\u001b[0m\u001b[0m\n\u001b[1;32m--> 324\u001b[1;33m             \u001b[0mself\u001b[0m\u001b[1;33m.\u001b[0m\u001b[0mparser\u001b[0m\u001b[1;33m.\u001b[0m\u001b[0mfeed\u001b[0m\u001b[1;33m(\u001b[0m\u001b[0mmarkup\u001b[0m\u001b[1;33m)\u001b[0m\u001b[1;33m\u001b[0m\u001b[1;33m\u001b[0m\u001b[0m\n\u001b[0m\u001b[0;32m    325\u001b[0m             \u001b[0mself\u001b[0m\u001b[1;33m.\u001b[0m\u001b[0mparser\u001b[0m\u001b[1;33m.\u001b[0m\u001b[0mclose\u001b[0m\u001b[1;33m(\u001b[0m\u001b[1;33m)\u001b[0m\u001b[1;33m\u001b[0m\u001b[1;33m\u001b[0m\u001b[0m\n\u001b[0;32m    326\u001b[0m         \u001b[1;32mexcept\u001b[0m \u001b[1;33m(\u001b[0m\u001b[0mUnicodeDecodeError\u001b[0m\u001b[1;33m,\u001b[0m \u001b[0mLookupError\u001b[0m\u001b[1;33m,\u001b[0m \u001b[0metree\u001b[0m\u001b[1;33m.\u001b[0m\u001b[0mParserError\u001b[0m\u001b[1;33m)\u001b[0m \u001b[1;32mas\u001b[0m \u001b[0me\u001b[0m\u001b[1;33m:\u001b[0m\u001b[1;33m\u001b[0m\u001b[1;33m\u001b[0m\u001b[0m\n",
      "\u001b[1;32msrc/lxml/parser.pxi\u001b[0m in \u001b[0;36mlxml.etree._FeedParser.feed\u001b[1;34m()\u001b[0m\n",
      "\u001b[1;32msrc/lxml/parser.pxi\u001b[0m in \u001b[0;36mlxml.etree._FeedParser.feed\u001b[1;34m()\u001b[0m\n",
      "\u001b[1;32msrc/lxml/parsertarget.pxi\u001b[0m in \u001b[0;36mlxml.etree._TargetParserContext._handleParseResult\u001b[1;34m()\u001b[0m\n",
      "\u001b[1;32msrc/lxml/parsertarget.pxi\u001b[0m in \u001b[0;36mlxml.etree._TargetParserContext._handleParseResult\u001b[1;34m()\u001b[0m\n",
      "\u001b[1;32msrc/lxml/etree.pyx\u001b[0m in \u001b[0;36mlxml.etree._ExceptionContext._raise_if_stored\u001b[1;34m()\u001b[0m\n",
      "\u001b[1;32msrc/lxml/saxparser.pxi\u001b[0m in \u001b[0;36mlxml.etree._handleSaxTargetStartNoNs\u001b[1;34m()\u001b[0m\n",
      "\u001b[1;32msrc/lxml/saxparser.pxi\u001b[0m in \u001b[0;36mlxml.etree._callTargetSaxStart\u001b[1;34m()\u001b[0m\n",
      "\u001b[1;32msrc/lxml/parsertarget.pxi\u001b[0m in \u001b[0;36mlxml.etree._PythonSaxParserTarget._handleSaxStart\u001b[1;34m()\u001b[0m\n",
      "\u001b[1;32m~\\Anaconda3\\lib\\site-packages\\bs4\\builder\\_lxml.py\u001b[0m in \u001b[0;36mstart\u001b[1;34m(self, name, attrs, nsmap)\u001b[0m\n\u001b[0;32m    211\u001b[0m         \u001b[0mself\u001b[0m\u001b[1;33m.\u001b[0m\u001b[0mnsmaps\u001b[0m \u001b[1;33m=\u001b[0m \u001b[1;33m[\u001b[0m\u001b[0mself\u001b[0m\u001b[1;33m.\u001b[0m\u001b[0mDEFAULT_NSMAPS_INVERTED\u001b[0m\u001b[1;33m]\u001b[0m\u001b[1;33m\u001b[0m\u001b[1;33m\u001b[0m\u001b[0m\n\u001b[0;32m    212\u001b[0m \u001b[1;33m\u001b[0m\u001b[0m\n\u001b[1;32m--> 213\u001b[1;33m     \u001b[1;32mdef\u001b[0m \u001b[0mstart\u001b[0m\u001b[1;33m(\u001b[0m\u001b[0mself\u001b[0m\u001b[1;33m,\u001b[0m \u001b[0mname\u001b[0m\u001b[1;33m,\u001b[0m \u001b[0mattrs\u001b[0m\u001b[1;33m,\u001b[0m \u001b[0mnsmap\u001b[0m\u001b[1;33m=\u001b[0m\u001b[1;33m{\u001b[0m\u001b[1;33m}\u001b[0m\u001b[1;33m)\u001b[0m\u001b[1;33m:\u001b[0m\u001b[1;33m\u001b[0m\u001b[1;33m\u001b[0m\u001b[0m\n\u001b[0m\u001b[0;32m    214\u001b[0m         \u001b[1;31m# Make sure attrs is a mutable dict--lxml may send an immutable dictproxy.\u001b[0m\u001b[1;33m\u001b[0m\u001b[1;33m\u001b[0m\u001b[1;33m\u001b[0m\u001b[0m\n\u001b[0;32m    215\u001b[0m         \u001b[0mattrs\u001b[0m \u001b[1;33m=\u001b[0m \u001b[0mdict\u001b[0m\u001b[1;33m(\u001b[0m\u001b[0mattrs\u001b[0m\u001b[1;33m)\u001b[0m\u001b[1;33m\u001b[0m\u001b[1;33m\u001b[0m\u001b[0m\n",
      "\u001b[1;31mKeyboardInterrupt\u001b[0m: "
     ]
    }
   ],
   "source": [
    "data_array_clean = cleanhtml(data_process['NewsFullContent'])\n",
    "data_process['NewsFullContent'] = data_array_clean"
   ]
  },
  {
   "cell_type": "code",
   "execution_count": null,
   "metadata": {},
   "outputs": [],
   "source": [
    "data_process.shape"
   ]
  },
  {
   "cell_type": "code",
   "execution_count": 189,
   "metadata": {},
   "outputs": [],
   "source": [
    "data_process.to_csv('data/data_preprocess.csv', encoding='utf-8')"
   ]
  },
  {
   "cell_type": "code",
   "execution_count": null,
   "metadata": {},
   "outputs": [],
   "source": []
  }
 ]
}