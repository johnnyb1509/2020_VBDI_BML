{
 "metadata": {
  "language_info": {
   "codemirror_mode": {
    "name": "ipython",
    "version": 3
   },
   "file_extension": ".py",
   "mimetype": "text/x-python",
   "name": "python",
   "nbconvert_exporter": "python",
   "pygments_lexer": "ipython3",
   "version": "3.8.3-final"
  },
  "orig_nbformat": 2,
  "kernelspec": {
   "name": "python3",
   "display_name": "Python 3",
   "language": "python"
  }
 },
 "nbformat": 4,
 "nbformat_minor": 2,
 "cells": [
  {
   "cell_type": "code",
   "execution_count": 234,
   "metadata": {},
   "outputs": [],
   "source": [
    "import numpy as np \n",
    "import pandas as pd \n",
    "import matplotlib.pyplot as plt \n",
    "from sklearn.model_selection import train_test_split\n",
    "from nltk import RegexpParser, Tree\n",
    "import pandas as pd\n",
    "import numpy as np\n",
    "import ast"
   ]
  },
  {
   "cell_type": "code",
   "execution_count": 289,
   "metadata": {},
   "outputs": [],
   "source": [
    "from vncorenlp import VnCoreNLP\n",
    "annotator = VnCoreNLP(\"./VnCoreNLP-master/VnCoreNLP-1.1.1.jar\", annotators=\"wseg,pos\", max_heap_size='-Xmx500m')\n",
    "\n",
    "def word_segment(text):\n",
    "    annotated_text = annotator.annotate(text)['sentences'][0]\n",
    "    return [dic['form'].replace('_',' ').lower() for dic in annotated_text]"
   ]
  },
  {
   "cell_type": "code",
   "execution_count": 320,
   "metadata": {},
   "outputs": [],
   "source": [
    "train_data = pd.read_csv('./data/train_data.csv').drop('Unnamed: 0', axis=1)\n",
    "# ner_feature = pd.read_csv('./data/ner_title_feature.csv')"
   ]
  },
  {
   "cell_type": "code",
   "execution_count": 321,
   "metadata": {},
   "outputs": [
    {
     "output_type": "execute_result",
     "data": {
      "text/plain": [
       "                                           NewsTitle  \\\n",
       "0          VCB - Chủ tịch HĐQT đăng ký mua 10.000 CP   \n",
       "1  Sau 10 năm gắn bó, CEO Mekong Capital tiết lộ ...   \n",
       "2  4 tháng đầu năm, FPT báo lãi 1.113 tỷ đồng, tă...   \n",
       "3  Đại hội cổ đông năm 2013: Dự kiến trước tháng ...   \n",
       "4          VIC- Phó TGĐ đăng ký bán 11.000 CP từ 7/8   \n",
       "\n",
       "                                     NewsFullContent  \\\n",
       "0    Tên người thực hiện giao dịch Nghiêm Xuân Th...   \n",
       "1  Sau 10 năm gắn bó CEO Mekong Capital ông Chris...   \n",
       "2  Thông tin mới từ CTCP FPT cho biết sau 4 tháng...   \n",
       "3        Sáng ngày 6/4/2013 Đại hội cổ đông thườn...   \n",
       "4    Tên cá nhân thực hiện giao dịch Đặng Thanh T...   \n",
       "\n",
       "                                               label  \n",
       "0  [('tên', 1), ('người', 0), ('thực hiện', 1), (...  \n",
       "1  [('sau', 0), ('10', 0), ('năm', 1), ('gắn bó',...  \n",
       "2  [('thông tin', 1), ('mới', 0), ('từ', 1), ('ct...  \n",
       "3  [('sáng', 1), ('ngày', 1), ('6/4/2013', 0), ('...  \n",
       "4  [('tên', 1), ('cá nhân', 1), ('thực hiện', 1),...  "
      ],
      "text/html": "<div>\n<style scoped>\n    .dataframe tbody tr th:only-of-type {\n        vertical-align: middle;\n    }\n\n    .dataframe tbody tr th {\n        vertical-align: top;\n    }\n\n    .dataframe thead th {\n        text-align: right;\n    }\n</style>\n<table border=\"1\" class=\"dataframe\">\n  <thead>\n    <tr style=\"text-align: right;\">\n      <th></th>\n      <th>NewsTitle</th>\n      <th>NewsFullContent</th>\n      <th>label</th>\n    </tr>\n  </thead>\n  <tbody>\n    <tr>\n      <th>0</th>\n      <td>VCB - Chủ tịch HĐQT đăng ký mua 10.000 CP</td>\n      <td>Tên người thực hiện giao dịch Nghiêm Xuân Th...</td>\n      <td>[('tên', 1), ('người', 0), ('thực hiện', 1), (...</td>\n    </tr>\n    <tr>\n      <th>1</th>\n      <td>Sau 10 năm gắn bó, CEO Mekong Capital tiết lộ ...</td>\n      <td>Sau 10 năm gắn bó CEO Mekong Capital ông Chris...</td>\n      <td>[('sau', 0), ('10', 0), ('năm', 1), ('gắn bó',...</td>\n    </tr>\n    <tr>\n      <th>2</th>\n      <td>4 tháng đầu năm, FPT báo lãi 1.113 tỷ đồng, tă...</td>\n      <td>Thông tin mới từ CTCP FPT cho biết sau 4 tháng...</td>\n      <td>[('thông tin', 1), ('mới', 0), ('từ', 1), ('ct...</td>\n    </tr>\n    <tr>\n      <th>3</th>\n      <td>Đại hội cổ đông năm 2013: Dự kiến trước tháng ...</td>\n      <td>Sáng ngày 6/4/2013 Đại hội cổ đông thườn...</td>\n      <td>[('sáng', 1), ('ngày', 1), ('6/4/2013', 0), ('...</td>\n    </tr>\n    <tr>\n      <th>4</th>\n      <td>VIC- Phó TGĐ đăng ký bán 11.000 CP từ 7/8</td>\n      <td>Tên cá nhân thực hiện giao dịch Đặng Thanh T...</td>\n      <td>[('tên', 1), ('cá nhân', 1), ('thực hiện', 1),...</td>\n    </tr>\n  </tbody>\n</table>\n</div>"
     },
     "metadata": {},
     "execution_count": 321
    }
   ],
   "source": [
    "train_data.head()"
   ]
  },
  {
   "cell_type": "code",
   "execution_count": 322,
   "metadata": {},
   "outputs": [],
   "source": [
    "train_data['list_label'] = train_data['label'].apply(lambda x: ast.literal_eval(x))\n",
    "def get_y(text):\n",
    "    return [word[1] for word in text]\n"
   ]
  },
  {
   "cell_type": "code",
   "execution_count": null,
   "metadata": {},
   "outputs": [],
   "source": []
  },
  {
   "cell_type": "code",
   "execution_count": 323,
   "metadata": {},
   "outputs": [],
   "source": [
    "X_train=train_data.drop('label', axis=1)\n",
    "# X_train = pd.concat([X,ner_feature], axis=1)\n",
    "y_train = train_data['list_label'].apply(lambda x: get_y(x)).to_list()"
   ]
  },
  {
   "cell_type": "code",
   "execution_count": 324,
   "metadata": {},
   "outputs": [],
   "source": [
    "def convertBoolArr(arr):\n",
    "    return [0 if x.lstrip() == 'False' else 1 for x in arr[1:-1].split(',')]"
   ]
  },
  {
   "cell_type": "code",
   "execution_count": 341,
   "metadata": {},
   "outputs": [],
   "source": [
    "\n",
    "X_train['name_entity'] = X['name_entity'].apply(convertBoolArr)\n",
    "X_train['title_tag'] = X['title_tag'].apply(convertBoolArr)"
   ]
  },
  {
   "cell_type": "code",
   "execution_count": 342,
   "metadata": {},
   "outputs": [
    {
     "output_type": "execute_result",
     "data": {
      "text/plain": [
       "                                           NewsTitle  \\\n",
       "0          VCB - Chủ tịch HĐQT đăng ký mua 10.000 CP   \n",
       "1  Sau 10 năm gắn bó, CEO Mekong Capital tiết lộ ...   \n",
       "2  4 tháng đầu năm, FPT báo lãi 1.113 tỷ đồng, tă...   \n",
       "3  Đại hội cổ đông năm 2013: Dự kiến trước tháng ...   \n",
       "4          VIC- Phó TGĐ đăng ký bán 11.000 CP từ 7/8   \n",
       "\n",
       "                                     NewsFullContent  \\\n",
       "0    Tên người thực hiện giao dịch Nghiêm Xuân Th...   \n",
       "1  Sau 10 năm gắn bó CEO Mekong Capital ông Chris...   \n",
       "2  Thông tin mới từ CTCP FPT cho biết sau 4 tháng...   \n",
       "3        Sáng ngày 6/4/2013 Đại hội cổ đông thườn...   \n",
       "4    Tên cá nhân thực hiện giao dịch Đặng Thanh T...   \n",
       "\n",
       "                                          list_label  \\\n",
       "0  [(tên, 1), (người, 0), (thực hiện, 1), (giao d...   \n",
       "1  [(sau, 0), (10, 0), (năm, 1), (gắn bó, 1), (ce...   \n",
       "2  [(thông tin, 1), (mới, 0), (từ, 1), (ctcp, 1),...   \n",
       "3  [(sáng, 1), (ngày, 1), (6/4/2013, 0), (đại hội...   \n",
       "4  [(tên, 1), (cá nhân, 1), (thực hiện, 1), (giao...   \n",
       "\n",
       "                                                form  \\\n",
       "0  [Tên, người, thực_hiện, giao_dịch, Nghiêm_Xuân...   \n",
       "1  [Sau, 10, năm, gắn_bó, CEO, Mekong_Capital, ôn...   \n",
       "2  [Thông_tin, mới, từ, CTCP, FPT, cho, biết, sau...   \n",
       "3  [Sáng, ngày, 6/4/2013, Đại_hội, cổ_đông, thườn...   \n",
       "4  [Tên, cá_nhân, thực_hiện, giao_dịch, Đặng_Than...   \n",
       "\n",
       "                                             pos_tag  \\\n",
       "0  [N, N, V, V, Np, V, Ny, N, N, E, N, V, N, Ny, ...   \n",
       "1  [E, M, N, V, Ny, Np, Nc, Np, R, A, V, N, Ny, N...   \n",
       "2  [N, A, E, Ny, Np, V, V, E, M, N, N, N, M, N, C...   \n",
       "3  [N, N, M, N, N, A, N, M, E, Ny, Ny, R, V, R, V...   \n",
       "4  [N, N, V, V, Np, V, Ny, N, N, E, N, V, N, Ny, ...   \n",
       "\n",
       "                                           form_text  \\\n",
       "0  Tên người thực_hiện giao_dịch Nghiêm_Xuân_Thàn...   \n",
       "1  Sau 10 năm gắn_bó CEO Mekong_Capital ông Chris...   \n",
       "2  Thông_tin mới từ CTCP FPT cho biết sau 4 tháng...   \n",
       "3  Sáng ngày 6/4/2013 Đại_hội cổ_đông thường_niên...   \n",
       "4  Tên cá_nhân thực_hiện giao_dịch Đặng_Thanh_Thu...   \n",
       "\n",
       "                                     ifidf_for_words  \\\n",
       "0  {'000': 0.06685812238906645, '10': 0.064727929...   \n",
       "1  {'10': 0.04171856896711965, '16': 0.0563790679...   \n",
       "2  {'025': 0.07691351045593753, '10': 0.025198740...   \n",
       "3  {'10': 0.02408314235801127, '150': 0.060900194...   \n",
       "4  {'000': 0.06174087593382586, '01': 0.151152681...   \n",
       "\n",
       "                                          tfidf_docs  \\\n",
       "0  0     0.000000\n",
       "1     0.081471\n",
       "2     0.381808\n",
       "3...   \n",
       "1  0      0.000000\n",
       "1      0.041719\n",
       "2      0.11272...   \n",
       "2  0      0.000000\n",
       "1      0.027940\n",
       "2      0.01812...   \n",
       "3  0      0.000000\n",
       "1      0.025390\n",
       "2      0.00000...   \n",
       "4  0     0.000000\n",
       "1     0.184373\n",
       "2     0.235056\n",
       "3...   \n",
       "\n",
       "                                         name_entity  \\\n",
       "0  [0, 0, 0, 0, 1, 0, 0, 0, 0, 0, 0, 0, 0, 0, 0, ...   \n",
       "1  [0, 0, 0, 1, 0, 0, 0, 0, 0, 0, 0, 0, 0, 0, 1, ...   \n",
       "2  [0, 0, 0, 0, 0, 1, 0, 1, 0, 0, 1, 0, 0, 0, 0, ...   \n",
       "3  [0, 0, 0, 0, 1, 1, 0, 0, 0, 0, 0, 0, 0, 0, 0, ...   \n",
       "4  [0, 0, 0, 0, 0, 0, 0, 0, 0, 0, 0, 0, 0, 0, 1, ...   \n",
       "\n",
       "                                           title_tag  \n",
       "0  [0, 0, 0, 0, 1, 0, 0, 0, 1, 0, 0, 0, 0, 0, 0, ...  \n",
       "1  [0, 0, 0, 0, 0, 1, 0, 0, 0, 0, 0, 0, 0, 0, 0, ...  \n",
       "2  [0, 0, 0, 0, 0, 1, 0, 0, 0, 0, 0, 0, 0, 0, 0, ...  \n",
       "3  [0, 0, 0, 0, 1, 1, 0, 0, 0, 1, 0, 0, 0, 0, 0, ...  \n",
       "4  [0, 0, 0, 0, 0, 0, 0, 0, 0, 0, 0, 0, 0, 0, 0, ...  "
      ],
      "text/html": "<div>\n<style scoped>\n    .dataframe tbody tr th:only-of-type {\n        vertical-align: middle;\n    }\n\n    .dataframe tbody tr th {\n        vertical-align: top;\n    }\n\n    .dataframe thead th {\n        text-align: right;\n    }\n</style>\n<table border=\"1\" class=\"dataframe\">\n  <thead>\n    <tr style=\"text-align: right;\">\n      <th></th>\n      <th>NewsTitle</th>\n      <th>NewsFullContent</th>\n      <th>list_label</th>\n      <th>form</th>\n      <th>pos_tag</th>\n      <th>form_text</th>\n      <th>ifidf_for_words</th>\n      <th>tfidf_docs</th>\n      <th>name_entity</th>\n      <th>title_tag</th>\n    </tr>\n  </thead>\n  <tbody>\n    <tr>\n      <th>0</th>\n      <td>VCB - Chủ tịch HĐQT đăng ký mua 10.000 CP</td>\n      <td>Tên người thực hiện giao dịch Nghiêm Xuân Th...</td>\n      <td>[(tên, 1), (người, 0), (thực hiện, 1), (giao d...</td>\n      <td>[Tên, người, thực_hiện, giao_dịch, Nghiêm_Xuân...</td>\n      <td>[N, N, V, V, Np, V, Ny, N, N, E, N, V, N, Ny, ...</td>\n      <td>Tên người thực_hiện giao_dịch Nghiêm_Xuân_Thàn...</td>\n      <td>{'000': 0.06685812238906645, '10': 0.064727929...</td>\n      <td>0     0.000000\n1     0.081471\n2     0.381808\n3...</td>\n      <td>[0, 0, 0, 0, 1, 0, 0, 0, 0, 0, 0, 0, 0, 0, 0, ...</td>\n      <td>[0, 0, 0, 0, 1, 0, 0, 0, 1, 0, 0, 0, 0, 0, 0, ...</td>\n    </tr>\n    <tr>\n      <th>1</th>\n      <td>Sau 10 năm gắn bó, CEO Mekong Capital tiết lộ ...</td>\n      <td>Sau 10 năm gắn bó CEO Mekong Capital ông Chris...</td>\n      <td>[(sau, 0), (10, 0), (năm, 1), (gắn bó, 1), (ce...</td>\n      <td>[Sau, 10, năm, gắn_bó, CEO, Mekong_Capital, ôn...</td>\n      <td>[E, M, N, V, Ny, Np, Nc, Np, R, A, V, N, Ny, N...</td>\n      <td>Sau 10 năm gắn_bó CEO Mekong_Capital ông Chris...</td>\n      <td>{'10': 0.04171856896711965, '16': 0.0563790679...</td>\n      <td>0      0.000000\n1      0.041719\n2      0.11272...</td>\n      <td>[0, 0, 0, 1, 0, 0, 0, 0, 0, 0, 0, 0, 0, 0, 1, ...</td>\n      <td>[0, 0, 0, 0, 0, 1, 0, 0, 0, 0, 0, 0, 0, 0, 0, ...</td>\n    </tr>\n    <tr>\n      <th>2</th>\n      <td>4 tháng đầu năm, FPT báo lãi 1.113 tỷ đồng, tă...</td>\n      <td>Thông tin mới từ CTCP FPT cho biết sau 4 tháng...</td>\n      <td>[(thông tin, 1), (mới, 0), (từ, 1), (ctcp, 1),...</td>\n      <td>[Thông_tin, mới, từ, CTCP, FPT, cho, biết, sau...</td>\n      <td>[N, A, E, Ny, Np, V, V, E, M, N, N, N, M, N, C...</td>\n      <td>Thông_tin mới từ CTCP FPT cho biết sau 4 tháng...</td>\n      <td>{'025': 0.07691351045593753, '10': 0.025198740...</td>\n      <td>0      0.000000\n1      0.027940\n2      0.01812...</td>\n      <td>[0, 0, 0, 0, 0, 1, 0, 1, 0, 0, 1, 0, 0, 0, 0, ...</td>\n      <td>[0, 0, 0, 0, 0, 1, 0, 0, 0, 0, 0, 0, 0, 0, 0, ...</td>\n    </tr>\n    <tr>\n      <th>3</th>\n      <td>Đại hội cổ đông năm 2013: Dự kiến trước tháng ...</td>\n      <td>Sáng ngày 6/4/2013 Đại hội cổ đông thườn...</td>\n      <td>[(sáng, 1), (ngày, 1), (6/4/2013, 0), (đại hội...</td>\n      <td>[Sáng, ngày, 6/4/2013, Đại_hội, cổ_đông, thườn...</td>\n      <td>[N, N, M, N, N, A, N, M, E, Ny, Ny, R, V, R, V...</td>\n      <td>Sáng ngày 6/4/2013 Đại_hội cổ_đông thường_niên...</td>\n      <td>{'10': 0.02408314235801127, '150': 0.060900194...</td>\n      <td>0      0.000000\n1      0.025390\n2      0.00000...</td>\n      <td>[0, 0, 0, 0, 1, 1, 0, 0, 0, 0, 0, 0, 0, 0, 0, ...</td>\n      <td>[0, 0, 0, 0, 1, 1, 0, 0, 0, 1, 0, 0, 0, 0, 0, ...</td>\n    </tr>\n    <tr>\n      <th>4</th>\n      <td>VIC- Phó TGĐ đăng ký bán 11.000 CP từ 7/8</td>\n      <td>Tên cá nhân thực hiện giao dịch Đặng Thanh T...</td>\n      <td>[(tên, 1), (cá nhân, 1), (thực hiện, 1), (giao...</td>\n      <td>[Tên, cá_nhân, thực_hiện, giao_dịch, Đặng_Than...</td>\n      <td>[N, N, V, V, Np, V, Ny, N, N, E, N, V, N, Ny, ...</td>\n      <td>Tên cá_nhân thực_hiện giao_dịch Đặng_Thanh_Thu...</td>\n      <td>{'000': 0.06174087593382586, '01': 0.151152681...</td>\n      <td>0     0.000000\n1     0.184373\n2     0.235056\n3...</td>\n      <td>[0, 0, 0, 0, 0, 0, 0, 0, 0, 0, 0, 0, 0, 0, 1, ...</td>\n      <td>[0, 0, 0, 0, 0, 0, 0, 0, 0, 0, 0, 0, 0, 0, 0, ...</td>\n    </tr>\n  </tbody>\n</table>\n</div>"
     },
     "metadata": {},
     "execution_count": 342
    }
   ],
   "source": [
    "X_train.head()"
   ]
  },
  {
   "cell_type": "code",
   "execution_count": 326,
   "metadata": {},
   "outputs": [],
   "source": [
    "X_train_process = X_train['NewsFullContent'].apply(lambda x: annotator.annotate(str(x)))"
   ]
  },
  {
   "cell_type": "code",
   "execution_count": 327,
   "metadata": {},
   "outputs": [],
   "source": [
    "def get_postag(x):\n",
    "    pos = []\n",
    "    for dic in x['sentences'][0]:\n",
    "        pos.append(dic['posTag'])\n",
    "    return pos"
   ]
  },
  {
   "cell_type": "code",
   "execution_count": 328,
   "metadata": {},
   "outputs": [],
   "source": [
    "def get_form(x):\n",
    "    pos = []\n",
    "    for dic in x['sentences'][0]:\n",
    "        pos.append(dic['form'])\n",
    "    print(pos)\n",
    "    return pos"
   ]
  },
  {
   "cell_type": "code",
   "execution_count": 329,
   "metadata": {},
   "outputs": [],
   "source": [
    "def flatten(A):\n",
    "    rt = []\n",
    "    for i in A:\n",
    "        if isinstance(i,list): rt.extend(flatten(i))\n",
    "        else: rt.append(i)\n",
    "    return rt"
   ]
  },
  {
   "cell_type": "code",
   "execution_count": 330,
   "metadata": {
    "tags": [
     "outputPrepend"
    ]
   },
   "outputs": [
    {
     "output_type": "stream",
     "name": "stdout",
     "text": [
      "_phẩm', 'TCBond', 'tiếp_tục', 'giúp', 'TCBS', 'dẫn_đầu', 'thị_trường', 'môi_giới', 'trái_phiếu', 'trên', 'Sở_Giao_dịch', 'chứng_khoán', 'TP', 'HCM', 'với', 'thị_phần', 'trên', '70%']\n['Theo', 'đó', 'trong', 'năm', '2013', 'HĐQT', 'công_ty', 'đã', 'tổ_chức', '26', 'cuộc', 'họp', 'Hội_đồng_quản_trị', 'và', 'ban_hành', '31', 'Nghị_quyết', 'và', 'Quyết_định', 'liên_quan', 'tới', 'tình_hình', 'SXKD', 'của', 'công_ty', 'Về', 'giao_dịch', 'cổ_phiếu', 'Có', '04', 'giao_dịch', 'mua', '/', 'bán', 'cổ_phiếu', 'của', 'cổ_đông', 'nộ', 'bộ', 'người', 'có', 'liên_quan', 'và', 'cổ_đông', 'lớn', 'được', 'thực_hiện', 'Chi_tiết', 'báo_cáo', 'quản_trị', 'trong', 'file', 'đính', 'kèm', 'tại', 'đây']\n['Trong', 'năm', '2018', 'tổng', 'thu_nhập', 'lãi', 'thuần', 'của', 'ngân_hàng', 'tăng', '35%', 'so', 'với', 'năm', 'trước', 'đạt', '1', '045', 'tỷ', 'đồng', 'Nhưng', 'hoạt_động', 'dịch_vụ', 'lại', 'sụt_giảm', '35%', 'chỉ', 'đạt', 'lãi', '11', 'tỷ', 'đồng', 'Hoạt_động', 'kinh_doanh', 'ngoại_hối', 'cũng', 'kém', 'khả_quan', 'hơn', 'khi', 'chỉ', 'có', 'lãi', 'hơn', '1', 'tỷ', 'đồng', 'trong', 'cả', 'năm', 'qua', 'thấp', 'hơn', 'rất', 'nhiều', 'so', 'với', 'mức', '17', 'tỷ', 'đồng', 'đạt', 'được', 'của', 'năm', '2017', 'Riêng', 'mua_bán', 'chứng_khoán', 'có', 'tăng_trưởng', 'cao', 'nhất', 'trong', 'các', 'mảng', 'kinh_doanh', 'của', 'VietBank', 'năm', 'vừa_qua', 'đạt', 'mức', 'lãi', '189', 'tỷ', 'đồng', 'gấp', '4', '4', 'lần', 'cùng', 'kỳ', 'năm', 'trước', 'đó', 'Tuy_nhiên', 'chi_phí', 'hoạt_động', 'của', 'VietBank', 'năm', '2018', 'tăng', '11', '3%', 'lên', '875', 'tỷ', 'đồng', 'Chi_phí', 'dự_phòng', 'rủi_ro', 'cũng', 'tăng', 'lên', '73', 'tỷ', 'đồng', 'trong', 'khi', 'đó', 'năm', '2017', 'nhà_băng', 'này', 'được', 'hoàn', 'nhận', '38', 'tỷ', 'đồng', 'dự_phòng', 'rủi_ro', 'Đến', 'cuối', 'năm', '2018', 'tổng_tài', 'sản', 'của', 'ngân_hàng', 'đạt', '51', '719', 'tỷ', 'đồng', 'tăng', '24', '5%', 'so', 'với', 'đầu', 'năm', 'Trong', 'đó', 'cho', 'vay', 'khách_hàng', 'tăng', '23', '6%', 'đạt', '35', '187', 'tỷ', 'đồng', 'cho', 'vay', 'các', 'tổ_chức', 'tín_dụng', 'khác', 'tăng', '78', '7%', 'đạt', '7', '344', 'tỷ', 'Huy_động', 'tiền', 'gửi', 'đạt', '39', '861', 'tỷ', 'đồng', 'tăng', '27', '3%', 'Tính', 'đến', 'cuối', 'năm', '2018', 'VietBank', 'có', '444', 'tỷ', 'đồng', 'nợ', 'xấu', 'tăng', '14', '4%', 'so', 'với', 'đầu', 'năm', 'Tuy_nhiên', 'tỷ_lệ', 'nợ', 'xấu', 'của', 'VietBank', 'giảm', 'từ', '1', '35%', 'hồi', 'đầu', 'năm', '2018', 'xuống', 'còn', '1', '25%', 'cuối', 'năm', 'qua']\n['CTCP', 'Chứng_khoán', 'Sài_Gòn', 'mã', 'SSI', 'HoSE', 'vừa', 'công_bố', 'kết_quả', 'báo_cáo', 'riêng', 'quý', 'III', '/', '2016', 'Doanh_thu', 'và', 'lợi_nhuận', 'trước', 'thuế', 'quý', 'III', 'của', 'SSI', 'đạt', 'lần_lượt', 'là', '689', '8', 'tỷ', 'đồng', '–', 'tăng', '80%', 'và', '406', 'tỷ', 'đồng', 'tăng', '50%', 'so', 'với', 'cùng', 'kỳ', 'năm_ngoái', 'Luỹ', 'kế', '9', 'tháng', 'đầu', 'năm', 'SSI', 'ghi_nhận', 'khoản', 'doanh_thu', 'hơn', '1', '689', 'tỷ', 'đồng', 'lợi_nhuận', 'kế_toán', 'trước', 'thuế', 'đạt', '900', '7', 'tỷ', 'đồng', 'Dự_kiến', 'lợi_nhuận', 'kế_toán', 'trước', 'thuế', 'hợp_nhất', 'cho', '9', 'tháng', 'đầu', 'năm', 'của', 'Công_ty', 'đạt', 'khoảng', '947', 'tỷ', 'đồng', '–', 'đạt', 'xấp_xỉ', 'kế_hoạch', 'kinh_doanh', 'năm', '2016', '950', 'tỷ', 'Kết_thúc', 'quý', 'III', 'tổng_tài', 'sản', 'của', 'SSI', 'đạt', '13', '642', 'tỷ', 'đồng', 'tăng', '1', '744', 'tỷ', 'đồng', 'so', 'với', 'đầu', 'năm', 'và', 'mức', 'vốn', 'chủ_sở_hữu', 'là', '7', '193', '5', 'tỷ', 'đồng', 'Tổng_tài', 'sản', 'tăng', 'nhờ', 'tăng', 'nguồn', 'vốn', 'vay', 'ngân_hàng', 'bổ_sung', 'cho', 'hoạt_động', 'kinh_doanh', 'cho', 'vay', 'ký_quỹ', 'kinh_doanh', 'trái_phiếu', 'và', 'các', 'hoạt_động', 'kinh_doanh', 'nguồn', 'vốn', 'SSI', 'tiếp_tục', 'giữ', 'vị_trí', 'số', '1', 'trên', 'cả', 'hai', 'sàn', 'HOSE', 'và', 'HNX', 'trong', 'quý', 'III', 'với', 'thị_phần', 'đạt', 'lần_lượt', 'là', '14', '26%', 'và', '10', '8%', 'Doanh_thu', 'từ', 'Nghiệp_vụ', 'Môi_giới', 'chứng_khoán', 'của', 'Công_ty', 'tăng', '50%', 'so', 'với', 'cùng', 'kỳ', 'năm', '2015', 'đạt', '125', '4', 'tỷ', 'đồng', 'Doanh_thu', 'từ', 'Hoạt_động', 'cho', 'vay', 'ký_quỹ', 'và', 'ứng', 'trước', 'tiền', 'bán', 'cũng', 'đóng_góp', 'một', 'phần', 'quan_trọng', 'trong', 'tổng', 'doanh_thu', 'toàn', 'Khối_Dịch', 'vụ', 'Chứng_khoán', 'đạt', '113', '5', 'tỷ', 'đồng', 'tăng', 'hơn', '53%', 'so', 'với', 'quý', 'III', '/', '2015', 'Cuối', 'quý', 'III', 'dư_nợ', 'cho', 'vay', 'ký_quỹ', 'ở', 'mức', 'hơn', '3', '880', 'tỷ', 'đồng', 'Trong', 'riêng', 'quý', 'III', 'giá_trị', 'KLGD', 'thực_hiện', 'đã', 'lên', 'tới', '65', '147', 'tỷ', 'đồng', 'tương_đương', '2', '59', 'tỷ', 'cổ_phiếu', 'được', 'giao_dịch', 'Doanh_thu', 'hoạt_động', 'đầu_tư', 'quý', 'III', '/', '2016', 'đạt', '308', '6', 'tỷ', 'đồng', '–', 'tăng', '112%', 'so', 'với', 'cùng', 'kỳ', 'năm_ngoái', 'Đáng', 'chú_ý', 'doanh_thu', 'từ', 'hoạt_động', 'kinh_doanh', 'nguồn', 'vốn', 'đạt', '105', 'tỷ', 'đồng', 'tăng', '86', '8%', 'so', 'với', 'quý', 'III', '/', '2015', 'khẳng_định', 'uy_tín', 'và', 'định_mức', 'tín_nhiệm', 'cao', 'của', 'SSI', 'trên', 'thị_trường', 'Dịch_vụ', 'Ngân_hàng', 'Đầu_tư', 'cũng', 'cho', 'thấy', 'tiềm_năng', 'phát_triển', 'trong', 'việc', 'giúp', 'doanh_nghiệp', 'huy_động', 'vốn', 'qua', 'phát_hành', 'trái_phiếu', 'và', 'cổ_phiếu', 'Doanh_thu', 'từ', 'các', 'hoạt_động', 'tư_vấn', 'tài_chính', 'hoạt_động', 'bảo_lãnh', 'đại_lý', 'phát_hành', 'chứng_khoán', 'và', 'một_số', 'hoạt_động', 'khác', 'tăng', 'khoảng', '66%', 'so', 'với', 'cùng', 'kỳ', 'năm_ngoái', 'Còn', 'một', 'quý', 'hoạt_động', 'với', 'kết_quả', 'này', 'chắc_chắn', 'kế_hoạch', 'kinh_doanh', 'của', 'SSI', 'đề', 'ra', 'tại', 'Đại_hội', 'cổ_đông', 'tháng', '4/2016', 'sẽ', 'được', 'hoàn_thành', 'vượt', 'mức', 'Tải', 'file', 'gốc']\n['Theo', 'lãnh_đạo', 'BIDV', 'khoản', 'vay', 'có', 'giá_trị', 'lớn', 'kỳ_hạn', 'dài', 'với', 'chi_phí', 'hợp_lý', 'sẽ', 'giúp', 'BIDV', 'có', 'thêm', 'nguồn_lực', 'tài_chính', 'đáp_ứng', 'nhu_cầu', 'vốn', 'trung_hạn', 'cho', 'các', 'dự_án', 'phát_triển', 'kinh_tế', 'của', 'Việt_Nam', 'Việc', 'nhận', 'được', 'các', 'khoản', 'vay', 'này', 'cũng', 'góp_phần', 'nâng', 'cao', 'chỉ_số', 'an_toàn', 'hoạt_động', 'của', 'BIDV', 'theo', 'quy_định', 'của', 'Ngân_hàng', 'Nhà_nước', 'Cùng', 'ngày', 'BIDV', 'và', 'CDB', 'đã', 'ký', 'thoả_thuận', 'hợp_tác', 'toàn_diện', 'Hai', 'bên', 'sẽ', 'thúc_đẩy', 'quan_hệ', 'hợp_tác', 'mà', 'hai', 'bên', 'có', 'thế', 'mạnh', 'như', 'đồng', 'tài_trợ', 'dự_án', 'cấp', 'tín_dụng', 'giữa', 'hai', 'bên', 'giới_thiệu', 'khách_hàng', 'và', 'cơ_hội', 'đầu_tư', 'vào', 'Việt_Nam', 'cho', 'các', 'nhà_đầu_tư', 'Trung_Quốc', ';', 'thanh_toán', 'quốc_tế', 'và', 'thương_mại', ';', 'vốn', 'và', 'kinh_doanh', 'ngoại_tệ', ';', 'trao_đổi', 'kinh', 'nghiệp', 'hợp_tác', 'đào_tạo', 'tham_gia', 'vào', 'Hiệp_hội', 'liên', 'Ngân_hàng', 'Trung_Quốc', 'ASEAN', 'CDB', 'là', 'một', 'trong', 'những', 'ngân_hàng', 'hàng_đầu', 'tại', 'Trung_Quốc', 'với', 'tổng_tài', 'sản', 'đạt', '1', '662', 'tỷ', 'USD', 'CDB', 'đã', 'thực_hiện', 'tái', 'cơ_cấu', 'trở_thành', 'một', 'ngân_hàng', 'thương_mại', 'cổ_phần', 'và', 'thành_lập', 'các', 'công_ty', 'con', 'mà', 'CDB', 'sở_hữu', 'toàn_bộ', 'hoặc', 'đa_số', 'vốn', 'Là', 'một', 'ngân_hàng', 'phát_triển', 'CDB', 'đóng', 'vai_trò', 'quan_trọng', 'trong', 'tài_trợ', 'xây_dựng', 'cơ_sở_hạ_tầng', 'các', 'ngành', 'công_nghiệp', 'cơ_bản', 'và', 'trụ_cột', 'của', 'Trung_Quốc', 'có', 'kinh_nghiệm', 'về', 'tài_trợ', 'các', 'dự_án', 'lớn', 'trong', 'nước', 'và', 'quốc_tế', 'BIDV', 'là', 'ngân_hàng', 'thương_mại', 'hàng_đầu', 'của', 'Việt_Nam', 'với', 'tổng_tài', 'sản', 'tính', 'đến', 'tháng', 'Chín', 'đạt', '36', '4', 'tỷ', 'USD', 'hoạt_động', 'đa_dạng', 'trong', 'các', 'lĩnh_vực', 'ngân_hàng', 'bảo_hiểm', 'chứng_khoán', 'đầu_tư', 'Hiện', 'ngân_hàng', 'này', 'có', 'gần', '1', '000', 'điểm', 'mạng_lưới', 'giao_dịch', 'và', 'có', 'quan_hệ', 'ngân_hàng', 'đại_lý', 'với', 'hơn', '1', '700', 'ngân_hàng', 'và', 'chi_nhánh', 'ngân_hàng', 'tại', '122', 'quốc_gia', 'và', 'vùng', 'lãnh_thổ', 'trên', 'thế_giới', '/']\n['Sở_Giao_dịch', 'chứng_khoán', 'TP', 'HCM', 'HoSE', 'công_bố', 'danh_sách', '10', 'công_ty', 'chứng_khoán', 'CTCK', 'có', 'thị_phần', 'môi_giới', 'cổ_phiếu', 'và', 'chứng_chỉ', 'quỹ', 'CCQ', 'lớn', 'nhất', 'quý', 'I', '/', '2019', 'Trong', 'đó', 'Chứng_khoán', 'SSI', 'SSI', 'lấy', 'lại', 'được', 'vị_trí', 'dẫn_đầu', 'với', 'thị_phần', 'đạt', '14', '54%', 'và', 'bỏ', 'xa', 'vị_trí', 'thứ', 'hai', 'là', 'Chứng_khoán', 'TP', 'HCM', 'HSC', 'với', '10', '82%', 'Trong', 'khi', 'đó', 'sau', 'quý', 'IV', '/', '2018', 'đột_biến', 'Chứng_khoán', 'Bản', 'Việt_VCSC', 'tụt', 'xuống', 'vị_trí', 'thứ_ba', 'và', 'thị_phần', 'chỉ', 'còn', '10', '05%', 'Vị_trí', 'thứ', 'tư', 'và', 'thứ', 'năm', 'vẫn', 'thuộc', 'về', 'Chứng_khoán', 'VNDirect_VNDS', 'và', 'Chứng_khoán', 'MB', 'MBS', 'với', 'thị_phần', 'lần_lượt', 'đạt', '7', '75%', 'và', '5', '36%', 'Tính', 'chung', '10', 'CTCK', 'có', 'thị_phần', 'môi_giới', 'cổ_phiếu', 'và', 'CCQ', 'lớn', 'nhất', 'sàn', 'HoSE', 'chiếm', '65', '23%', 'thị_phần', 'cả', 'nước', 'các', 'CTCK', 'còn', 'lại', 'chiến', 'khoảng', '34', '77%', 'thị_phần', 'Trong', 'đó', 'top', '5', 'CTCK', 'có', 'thị_phần', 'lớn', 'nhất', 'là', 'SSI', 'HSC', 'và', 'VCSC', 'chiếm', '48', '52%', 'Về', 'thị_phần', 'trái_phiếu', 'quý', 'I', '/', '2019', 'vị_trí', 'dẫn_đầu', 'vẫn', 'thuộc', 'về', 'Chứng_khoán', 'Kỹ_Thương_TCBS', 'với', '88', '59%', 'CTCK', 'đứng', 'thứ', '2', 'ở', 'danh_sách', 'này', 'là', 'Chứng_khoán', 'Ngân_hàng', 'TMCP', 'Ngoại_thương', 'Việt_Nam', 'VCBS', 'nhưng', 'thị_phần', 'chỉ', 'đạt', '5', '22%', 'Từ_khoá']\n['Tên', 'người', 'thực_hiện', 'giao_dịch', 'Hồ_Doãn_Thuỷ_Nhi_Mã', 'chứng_khoán', 'STB', 'Chức_vụ', 'hiện_nay', 'tại', 'tổ_chức', 'niêm_yết', 'phó', 'phòng', 'giao_dịch', 'Thị_Nghè', 'Số_lượng', 'cổ_phiếu', 'nắm', 'giữ', 'trước', 'khi', 'giao', 'dich', '5', '004', 'CP', 'Tên', 'của', 'người', 'liên_quan', 'tại', 'TCNY', 'đăng_ký', 'giao_dịch', 'Hỗ_Doãn_Cường_Chức', 'vụ', 'của', 'người', 'có', 'liên_quan', 'hiện_nay', 'tại', 'TCNY', 'Phó', 'Tổng_Giám_đốc', 'Quan_hệ', 'của', 'người', '/', 'tổ_chức', 'hiện', 'giao_dịch', 'với', 'người', 'có', 'liên_quan', 'Em', 'Số_lượng', 'cổ_phiếu', 'đăng_ký', 'bán', '5', '000', 'CP', 'Số_lượng', 'cổ_phiếu', 'nắm', 'giữ', 'sau', 'khi', 'thực_hiện', 'giao_dịch', '04', 'CP', 'Mục_đích', 'thực_hiện', 'giao_dịch', 'Giải_quyết', 'nhu_cầu', 'tài_chính', 'cá_nhân', 'Phương_thức', 'thực_hiện', 'giao_dịch', 'Khớp', 'lệnh', 'và', 'thoả_thuận', 'Thời_gian', 'dự_kiến', 'thực_hiện', 'giao_dịch', 'từ', 'ngày', '5/6/2014', 'đến', 'ngày', '4/7/2014']\n['Ông', 'Danny_Le', 'sinh', 'năm', '1984', '–', 'người', 'được', 'bổ_nhiệm', 'làm', 'Tổng_giám_đốc', 'Masan_Group', 'có', 'bằng', 'Cử_nhân', 'tại', 'Đại_học', 'Bowdoin_Mỹ_Trước', 'khi', 'gia_nhập', 'Masan', 'ông', 'Danny_Le', 'từng', 'là', 'chuyên_viên', 'phân_tích', 'bộ_phận', 'Ngân_hàng', 'Đầu_tư', 'tại', 'Morgan_Stanley', 'trong', 'giai_đoạn', '2006', '2010', 'Khoảng', 'thời_gian', 'này', 'ông', 'Danny_Le', 'đã', 'tham_gia', 'nhiều', 'thương_vụ', 'M', '&', 'A', 'và', 'các', 'giao_dịch', 'trên', 'thị_trường', 'vốn', 'và', 'tư_nhân_hoá', 'cho', 'nhiều', 'khách_hàng', 'trên', 'toàn_cầu', 'Gia_nhập', 'Masan_Group', 'vào', 'năm', '2010', 'và', 'hiện', 'đang', 'đảm_nhiệm', 'vị_trí', 'Giám_đốc', 'Chiến_lược', 'và', 'Phát_triển', 'của', 'Masan', 'là', 'người', 'có', 'vai_trò', 'quan_trọng', 'trong', 'việc', 'xây_dựng', 'chiến_lược', 'tăng_trưởng', 'của', 'Masan_Group', 'cũng', 'như', 'trực_tiếp', 'tổ_chức', 'các', 'giao_dịch', 'M', '&', 'A', 'tạo_dựng', 'Nền_tảng', 'Chiến_lược', 'của', 'Tập_đoàn', 'Ông', 'Nguyễn_Đăng_Quang_Chủ_tịch', 'HĐQT', 'của', 'Masan_Group', 'cho', 'biết', 'Chúng_ta', 'thường', 'dùng', 'từ', 'Bọn', 'trẻ', 'để', 'nói', 'về', 'họ', 'Nhưng', 'chúng_ta', 'đã', 'từng', 'còn', 'trẻ', 'hơn', 'họ', 'khi', 'bắt_đầu', 'hành_trình', 'này', 'rất', 'nhiều', 'năm', 'trước', 'Tôi', 'tin', 'rằng', 'Thế_hệ', 'trẻ', 'của', 'Masan', 'đã', 'sẵn_sàng', 'tiếp_nhận', 'Sứ_mệnh', 'và', 'Thử_thách', 'trên', 'Con', 'đường', 'Chúng_ta', 'đang', 'đi', 'và', 'Các', 'Thế_hệ', 'Masan', 'sẽ', 'Cùng', 'nhau', 'dấn', 'bước', 'trên', 'Con', 'đường', 'đó']\n['Trước', 'khi', 'mua', 'thêm', 'cổ_phần', 'Vincom', 'sở_hữu', '24%', 'Công_ty', 'Thành_phố', 'Xanh_Để', 'tăng', 'tỷ_lệ', 'sở_hữu', 'lên', '44%', 'Vincom', 'phải', 'trả', '200', 'tỷ', 'đồng', 'cho', 'Vinpearl_Cả', 'bên', 'chuyển', 'và', 'nhận', 'chuyển_nhượng', 'đều', 'thuộc', 'Tập_đoàn', 'Vingroup_Trước', 'khi', 'chi', '200', 'tỷ', 'đồng', 'mua', 'cổ_phiếu', 'nêu', 'trên', 'công_ty', 'này', 'vừa', 'công_bố', 'kế_hoạch', 'chi', '2', '300', 'tỷ', 'đồng', 'để', 'trả', 'cổ_tức', 'cho', 'cổ_đông', 'Trong', 'khi', 'đó', 'doanh_nghiệp', 'đang', 'có', 'số', 'nợ', 'phải', 'trả', 'là', 'hơn', '17', '000', 'tỷ', 'đồng', 'theo', 'báo_cáo', 'tài_chính', 'hợp_nhất', 'quý', 'I', '/', '2011', 'Tuy_nhiên', 'theo', 'bà', 'Mai_Hương_Nội', 'tổng', 'nợ', 'của', 'doanh_nghiệp', 'đối_với', 'các', 'tổ_chức', 'tín_dụng', 'và', 'các', 'đối_tác', 'bên', 'ngoài', 'chỉ', 'gần', '9', '000', 'tỷ', 'đồng', 'và', 'đây', 'không', 'phải', 'là', 'vấn_đề', 'lớn', 'với', 'Vincom']\n['Tập_đoàn', 'VinGroup_Công_ty', 'cổ_phần', 'VIC', 'công_bố', 'thông_tin', 'về', 'việc', 'chuyển_nhượng', 'tổ_hợp', 'trung_tâm', 'thương_mại', '–', 'khách_sạn', 'Vincom_Center_A', 'tại', 'Tp_HCM_Theo', 'đó', 'VIC', 'đã', 'hoàn_tất', 'chuyển_nhượng', 'cho', 'đơn_vị', 'nhận', 'là', 'CTCP', 'Tập_đoàn', 'Phát_triển', 'Hạ_tầng', 'và', 'bất_động_sản', 'Việt_Nam', 'với', 'số', 'tiền', '9', '823', 'tỷ', 'đồng', 'và', 'lợi_nhuận', 'sau', 'thuế', 'của', 'việc', 'chuyển_nhượng', 'vào_khoảng', '4', '300', 'tỷ', 'đồng', 'VIC', 'đã', 'hoàn_tất', 'chuyển_nhượng', 'Vincom_Centrer_AVIC']\n['Đại_diện', 'Hội_đồng_quản_trị', 'ông', 'Lê_Đào_Nguyên', 'cho', 'biết', 'Ngân_hàng', 'đang', 'cùng', 'với', 'đối_tác', 'tư_vấn', 'là', 'Morgan_Standley', 'tiến_hành', 'khảo_sát', 'tìm_kiếm', 'các', 'nhà_đầu_tư', 'chiến_lược', 'Giá', 'bán', 'sẽ', 'theo', 'phương_thức', 'thoả_thuận', 'căn_cứ', 'điều_kiện', 'cam_kết', 'hỗ_trợ', 'và', 'phù_hợp', 'với', 'nguyên_tắc', 'thị_trường', 'tại', 'thời_điểm', 'bán', 'và', 'quy_định', 'pháp_luật', 'hiện_hành', 'Theo', 'BIDV', 'việc', 'lựa_chọn', 'nhà_đầu_tư', 'nước_ngoài', 'có', 'ý_nghĩa', 'quan_trọng', 'và', 'sẽ', 'góp_phần', 'đến', 'sự', 'thành_công', 'của', 'quá_trình', 'cổ_phần_hoá', 'và', 'phát_triển', 'Hội_đồng_quản_trị', 'cũng', 'trả_lời', 'một_số', 'thắc_mắc', 'của', 'cổ_đông', 'về', 'sáp_nhập', 'nợ', 'xấu', 'cổ_tức', 'Trước', 'băn_khoăn', 'của', 'cổ_đông', 'về', 'việc', 'BIDV', 'tham_gia', 'mua_bán', 'sáp_nhập', 'tái', 'cơ_cấu', 'hệ_thống', 'ngân_hàng', 'Chủ_tịch', 'Hội_đồng_quản_trị', 'Trần_Bắc_Hà', 'cũng', 'thẳng_thắn', 'hiện', 'ngân_hàng', 'chưa', 'có', 'ý_tưởng', 'này', '\"', 'Chỉ', 'khi', 'nào', 'có', 'gợi_ý', 'trao_đổi', 'của', 'cơ_quan', 'nhà_nước', 'BIDV', 'mới', 'xem_xét', 'Ngay', 'cả', 'khi', 'việc', 'này', 'xảy', 'ra', 'BIDV', 'chỉ', 'tiến_hành', 'nếu', 'nó', 'không', 'làm', 'phương_hại', 'tổn_hại', 'quá', 'mức', 'đến', 'hoạt_động', '\"', 'ông', 'Hà', 'nói', 'Về', 'việc', 'xử_lý', 'nợ', 'xấu', 'năm', '2013', 'BIDV', 'đã', 'bán', 'hơn', '1', '000', 'tỷ', 'đồng', 'nợ', 'xấu', 'cho', 'VAMC', 'và', 'dự_kiến', 'bán', 'tiếp', 'hơn', '2', '000', 'tỷ', 'trong', 'năm', 'nay', 'đảm_bảo', 'nợ', 'xấu', 'dưới', 'tỷ_lệ', '3%', 'Tại', 'cuộc', 'họp', 'này', 'BIDV', 'cũng', 'trình', 'cổ_đông', 'việc', 'tăng', 'vốn', 'thông_qua', 'phát_hành', 'cổ_phần', 'riêng_lẻ', 'cho', 'cổ_đông', 'hiện_hữu', 'và', 'nhà_đầu_tư', 'tài_chính', 'Dự_kiến', 'đến', 'cuối', '2014', 'vốn_điều_lệ', 'của', 'BIDV', 'sẽ', 'tăng', 'lên', '33', '570', 'tỷ', 'đồng', 'từ', 'mức', '28', '112', 'tỷ', 'đồng_hiện', 'tại', 'Hội_đồng_quản_trị', 'trình', 'cổ_đông', 'kế_hoạch', 'chia', 'cổ_tức', 'năm', '2013', 'với', 'tỷ_lệ', '8', '5%', 'vốn_điều_lệ', 'tương_đương', '2', '389', 'tỷ', 'đồng', 'Trong', 'số', '8', '5%', 'này', 'có', '2', '1%', 'bằng', 'tiền_mặt', 'và', '6', '4%', 'là', 'bằng', 'cổ_phiếu', 'Theo', 'kế_hoạch', 'năm', '2014', 'ngân_hàng', 'đặt', 'mục_tiêu', 'lợi_nhuận', 'trước', 'thuế', '6', '000', 'tỷ', 'đồng', 'huy_động', 'vốn', 'và', 'dư_nợ', 'tín_dụng', 'cùng', 'tăng', '13%', 'nợ', 'xấu', 'dưới', '3%', 'Tại', 'Đại_hội', 'BIDV', 'thông_qua', 'đơn_từ', 'nhiệm', 'của', 'ông', 'Trần_Văn_Hiếu', 'nghỉ', 'hưu', 'và', 'bầu', 'bổ_sung', 'bà', 'Phan_Thị_Chinh', 'Phó', 'Tổng_Giám_đốc', 'BIDV', 'vào', 'Hội_đồng_quản_trị']\n['Theo', 'đó', 'Công_ty', 'tổ_chức', 'đại_hội', 'vào', '13h', 'Thứ', 'Năm', 'ngày', '31', 'tháng', '3', 'năm', '2016', 'tại', 'Hội_trường', 'lớn', 'tầng', '1', 'Khách_sạn', 'Daewoo', 'số', '360', 'Kim_Mã_Ngọc_Khánh', 'Ba_Đình', 'Hà_Nội', 'Trong', 'tài_liệu', 'phục_vụ', 'cho', 'đại_hội', 'FPT', 'trình', 'đại_hội', 'phương_án', 'chia', 'cổ_tức', 'năm', '2015', 'bằng', 'cổ_phiếu', 'theo', 'tỷ_lệ', '15%', 'và', 'thời_gian', 'thực_hiện', 'dự_kiến', 'vào', 'quý', 'II', '/', '2016', 'HĐQT', 'trình', 'ĐHĐCĐ', 'thông_qua', 'Chính_sách', 'trả', 'cổ_tức', 'bằng', 'tiền_mặt', 'năm', '2016', '20%', '2', '000', 'đồng', '/', 'Cổ_phiếu', 'căn_cứ', 'theo', 'số_lượng', 'cổ_phiếu', 'mới', 'sau', 'khi', 'đã', 'thực_hiện', 'chia', 'cổ_tức', 'bằng', 'cổ_phiếu', '15%', 'Tải', 'file', 'gốc']\n['HĐQT', 'của', 'CTCP', 'Chứng_khoán', 'Sài_Gòn', 'HOSE', 'SSI', 'thông_qua', 'nghị_quyết', 'về', 'việc', 'chi_trả', 'cổ_tức', 'bằng', 'tiền', 'năm', '2017', 'Ngày', 'đăng_ký', 'cuối_cùng', 'lập', 'danh_sách', 'cổ_đông', 'nhận', 'cổ_tức', 'là', '5/10', 'Công_ty', 'dự_kiến', 'sẽ', 'thanh_toán', 'vào', 'ngày', '19/10', 'Tại', 'ĐHĐCĐ', 'thường_niên', '2018', 'diễn', 'ra', 'vào', 'tháng', '4', 'cổ_đông', 'đã', 'thông_qua', 'tỷ_lệ', 'cổ_tức', 'năm', '2017', 'là', '10%', 'bằng', 'tiền_mặt', 'Ước_tính', 'công_ty', 'sẽ', 'chi', 'hơn', '500', 'tỷ', 'đồng', 'cho', 'đợt', 'chi_trả', 'lần', 'này', 'Nửa', 'đầu', 'năm', '2018', 'SSI', 'ghi_nhận', 'tổng', 'doanh_thu', '2', '144', 'tỷ', 'đồng', 'cao', 'hơn', '65%', 'so', 'với', 'cùng', 'kỳ', 'năm', 'trước', 'Lợi_nhuận', 'trước', 'thuế', 'tăng', 'gần', '21%', 'đạt', '885', '85', 'tỷ', 'đồng', 'Công_ty', 'đã', 'thực_hiện', '63%', 'kế_hoạch', 'doanh_thu', 'và', '55%', 'chỉ_tiêu', 'lợi_nhuận', 'trước', 'thuế', 'cả', 'năm', '2018', 'SSI', 'tiếp_tục', 'giữ', 'vị_trí', 'dẫn_đầu', 'về', 'thị_phần', 'môi_giới', 'cổ_phiếu', 'trên', '2', 'sàn', 'niêm_yết', 'với', 'tỷ_lệ', 'gần', '21%', 'tại', 'HOSE', 'và', '10', '81%', 'tại', 'HNX', 'Riêng', 'quý', 'II', 'thị_phần', 'của', 'SSI', 'trên', 'HOSE', 'lần', 'đầu', 'vượt', 'mốc', '23%', 'gấp', 'đôi', 'đơn_vị', 'giữ', 'vị_trí', 'thứ', '2', 'trên', 'thị_trường', 'Tại', 'ngày', '30/6', 'tổng_tài', 'sản', 'hợp_nhất', 'của', 'SSI', 'đạt', '20', '473', 'tỷ', 'đồng', 'Vốn', 'chủ_sở_hữu', 'đạt', '9', '148', '8', 'tỷ', 'đồng', 'chiếm', 'gần', '45%', 'tổng', 'nguồn', 'vốn', 'của', 'SSI', 'Trong', 'đó', 'vốn_điều_lệ', 'đạt', 'hơn', '5', '000', 'tỷ', 'đồng', 'Lợi_nhuận', 'sau', 'thuế', 'chưa', 'phân_phối', 'gần', '2', '720', 'tỷ', 'đồng', 'tương_đương', '54%', 'vốn_điều_lệ', 'Trên', 'thị_trường_chứng_khoán', 'cổ_phiếu', 'SSI', 'có', 'giá', '32', '600', 'đồng', '/', 'cp', 'kết', 'phiên', '20/9', 'tăng', '26%', 'so', 'với', 'mức', 'thấp', 'nhất', 'của', 'năm']\n['Doanh_thu', 'thuần', 'trong', 'quý', 'I', 'của', 'SSI', 'đạt', '382', '66', 'tỷ', 'đồng', 'tăng', 'hơn', 'gấp', '2', 'lần', 'so', 'với', 'cùng', 'kỳ', 'Trong', 'đó', 'đóng_góp', 'lớn', 'nhất', 'là', 'doanh_thu', 'hoạt_động', 'đầu_tư', 'chứng_khoán', 'gióp', 'vốn', 'với', '224', '78', 'tỷ', 'đồng', ';', 'tiếp', 'đến', 'là', 'doanh_thu', 'khác', 'đạt', '77', '65', 'tỷ', 'đồng', 'và', 'doanh_thu', 'hoạt_động', 'môi_giới', '76', '4', 'tỷ', 'đồng', 'Còn', 'lại', 'đến', 'từ', 'các', 'mảng', 'khác', 'Chi_phí', 'hoạt_động', 'kình', 'doanh', 'trong', 'kỳ', 'tăng', 'gấp', 'nhiều', 'lần', 'so', 'với', 'quý', 'I', '/', '2013', 'và', 'khoản', 'lợi_nhuận', 'khác', 'đạt', 'vỏn_vẹn', '1', '22', 'tỷ', 'đồng', 'chưa', 'bằng', '8%', 'nhưng', 'nhờ', 'nguồn', 'thu', 'ổn_định', 'nên', 'mức', 'lãi', 'sau', 'thuế', 'quý', 'I', 'vẫn', 'có', 'độ', 'tăng_trưởng', 'cao', 'khi', 'đạt', '244', '7', 'tỷ', 'đồng', 'Báo_cáo', 'tài_chính', 'quý', 'I', '/', '2014']\n"
     ]
    }
   ],
   "source": [
    "X_train['form'] = X_train_process.apply(lambda x: get_form(x))\n",
    "X_train['pos_tag'] = X_train_process.apply(lambda x: get_postag(x))"
   ]
  },
  {
   "cell_type": "code",
   "execution_count": 331,
   "metadata": {},
   "outputs": [],
   "source": [
    "X_train['form_text'] = X_train['form'].apply(lambda x: (\" \").join(x))"
   ]
  },
  {
   "cell_type": "code",
   "execution_count": 332,
   "metadata": {},
   "outputs": [
    {
     "output_type": "execute_result",
     "data": {
      "text/plain": [
       "0      Tên người thực_hiện giao_dịch Nghiêm_Xuân_Thàn...\n",
       "1      Sau 10 năm gắn_bó CEO Mekong_Capital ông Chris...\n",
       "2      Thông_tin mới từ CTCP FPT cho biết sau 4 tháng...\n",
       "3      Sáng ngày 6/4/2013 Đại_hội cổ_đông thường_niên...\n",
       "4      Tên cá_nhân thực_hiện giao_dịch Đặng_Thanh_Thu...\n",
       "                             ...                        \n",
       "530    Tập_đoàn VinGroup_Công_ty cổ_phần VIC công_bố ...\n",
       "531    Đại_diện Hội_đồng_quản_trị ông Lê_Đào_Nguyên c...\n",
       "532    Theo đó Công_ty tổ_chức đại_hội vào 13h Thứ Nă...\n",
       "533    HĐQT của CTCP Chứng_khoán Sài_Gòn HOSE SSI thô...\n",
       "534    Doanh_thu thuần trong quý I của SSI đạt 382 66...\n",
       "Name: form_text, Length: 535, dtype: object"
      ]
     },
     "metadata": {},
     "execution_count": 332
    }
   ],
   "source": [
    "X_train['form_text']"
   ]
  },
  {
   "cell_type": "code",
   "execution_count": 359,
   "metadata": {},
   "outputs": [],
   "source": [
    "def data_process(path):\n",
    "    X = pd.read_csv(path).drop('Unnamed: 0', axis=1)\n",
    "    X['list_label'] = X['label'].apply(lambda x: ast.literal_eval(x))\n",
    "    X_t = X.drop('label', axis=1)\n",
    "    y_t = X['list_label'].apply(lambda x: get_y(x)).to_list()    \n",
    "    # X_t['name_entity'] = X['name_entity'].apply(convertBoolArr)\n",
    "    # X_t['title_tag'] = X['title_tag'].apply(convertBoolArr)\n",
    "    X_t_process = X_t['NewsFullContent'].apply(lambda x: annotator.annotate(str(x)))\n",
    "    X_t['form'] = X_t_process.apply(lambda x: get_form(x))\n",
    "    X_t['pos_tag'] = X_t_process.apply(lambda x: get_postag(x))\n",
    "    X_t['form_text'] = X_t['form'].apply(lambda x: (\" \").join(x))\n",
    "    return X_t, y_t\n"
   ]
  },
  {
   "cell_type": "code",
   "execution_count": 361,
   "metadata": {
    "tags": [
     "outputPrepend"
    ]
   },
   "outputs": [
    {
     "output_type": "stream",
     "name": "stdout",
     "text": [
      "c', 'phí', 'để', 'mua', 'quyền', '\"', 'Đầu_tư', 'chứng_khoán', 'cơ_sở', 'thì', 'dù', 'biết', 'phải', 'cắt', 'lỗ', 'tuy_nhiên', 'tính', 'kỷ_luật', 'mỗi', 'nhà_đầu_tư', 'khác', 'nhau', 'và', 'điều', 'này', 'định_hình', 'trader', 'thành_công', 'trên', 'thị_trường', 'khác', 'với', 'CW', 'là', 'mức', 'lỗ', 'tối_đa', 'được', 'định', 'trước', 'và', 'nhà_đầu_tư', 'chỉ', 'coi', 'đây', 'là', 'phí', 'bảo_hiểm', 'giao_dịch', '\"', 'ông', 'Nguyễn_Duy_Linh', '–', 'Phó', 'Giám_đốc', 'Khối_Dịch', 'vụ', 'Chứng_khoán', 'Khách_hàng', 'Cá_nhân', 'phân_trần', 'Song', 'ngược_lại', 'đòn_bẩy', 'càng', 'cao', 'thì', 'đi', 'kèm', 'với', 'rủi_ro', 'càng', 'cao', 'tức', 'CW', 'biến_động', 'theo', 'chứng_khoán', 'cơ_sở', 'trong', 'trường_hợp', 'cổ_phiếu', 'giảm_giá', 'thì', 'tỷ_lệ', 'thua_lỗ', 'của', 'CW', 'sẽ', 'cao', 'hơn', 'dĩ_nhiên', 'trong', 'trường_hợp', 'nhà_đầu_tư', 'quyết_định', 'thực_hiện', 'quyền', 'Lấy', 'ví_dụ', 'cổ_phiếu', 'MBB', 'với', 'chứng_khoán', 'cơ_sở', 'nhà_đầu_tư', 'sẽ', 'bỏ', 'ra', 'chi_phí', 'ban_đầu', '220', 'triệu', 'để', 'sở_hữu', '10', '000', 'mã', 'MBB', 'Trong', 'khi', 'với', 'CW', 'nhà_đầu_tư', 'chỉ', 'bỏ', 'ra', 'số', 'vốn', 'ban_đầu', 'là', '25', 'triệu', 'đồng', 'để', 'nhận', 'về', 'quyền', 'mua', 'cổ_phiếu', 'MBB', 'thời_hạn', '6', 'tháng', 'với', 'giá', 'xác_định', '22', '000', 'đồng', '/', 'cp', 'Trường_hợp', 'mã', 'MBB', 'tăng_giá', 'lên', '27', '500', 'đồng', '/', 'cp', 'với', 'chứng_khoán', 'cơ_sở', 'nhà_đầu_tư', 'nắm', 'giữ', 'cổ_phiếu', 'sẽ', 'có', 'lời', '55', 'triệu', 'so', 'với', 'vốn', 'ban_đầu', '220', 'triệu', 'thì', 'tỷ_lệ', 'sinh_lợi', 'lúc', 'này', 'là', '25%', '/', 'vốn', 'Trong', 'khi', 'với', 'CW', 'nhà_đầu_tư', 'lãi', '30', 'triệu', 'song', 'so', 'với', 'vốn', 'bỏ', 'ra', 'thì', 'tỷ_suất', 'sinh_lợi', 'lên', 'đến', '120%', '/', 'vốn', 'đây', 'là', 'lợi_ích', 'khi', 'dùng', 'đòn_bẩy', 'Ngược_lại', 'trường_hợp', 'MBB', 'chỉ', 'tăng_giá', 'nhẹ', 'lên', '23', '000', 'đồng', 'lúc', 'này', 'với', 'chứng_khoán', 'cơ_sở', 'nhà_đầu_tư', 'có', 'lời', '10', 'triệu', 'tuy_nhiên', 'với', 'CW', 'do', 'chưa', 'bù_đắp', 'được', 'mức', 'phí', 'do_đó', 'sẽ', 'phải', 'thua_lỗ', '15', 'triệu', 'đồng', 'Đây', 'được', 'hiểu', 'là', 'rủi_ro', 'càng', 'cao', 'khi', 'dùng', 'đòn_bẩy', 'tài_chính', 'càng', 'cao', 'Tuy_nhiên', 'khi', 'MBB', 'giảm_giá', 'mạnh', 'về', 'chỉ', 'còn', '17', '000', 'đồng', '/', 'cp', 'dĩ_nhiên', 'nhà_đầu_tư', 'nắm', 'giữ', 'cổ_phiếu', 'cơ_sở', 'lúc', 'này', 'thua_lỗ', 'đậm', 'đến', '50', 'triệu', 'đồng', 'thì', 'chủ_nhân', 'CW', 'sẽ', 'có', 'quyền', 'không', 'thực_hiện', 'quyền', 'mua', 'MBB', 'và', 'chỉ', 'mất', 'đi', 'mức', 'lỗ', 'tối_đa', 'là', 'khoản', 'vốn', 'ban_đầu', '25', 'triệu', 'đồng', 'Một', 'rủi_ro', 'đáng', 'quan_tâm', 'khác', 'với', 'nhà_đầu_tư', 'khi', 'mua', 'CW', 'chính', 'là', 'rủi_ro', 'tổ_chức', 'phát_hành', 'với', 'Việt_Nam', 'lúc', 'này', 'là', 'các', 'CTCK', 'Để', 'hạn_chế', 'điều', 'này', 'nhà_đầu_tư', 'cần', 'phải', 'lựa_chọn', 'các', 'CTCK', 'có', 'uy_tín', 'vốn', 'lớn', '–', 'đặc_biệt', 'nguồn', 'tự', 'doanh', 'lớn', 'và', 'có', 'khả_năng', 'đảm_bảo', 'thanh', 'khoản', 'cho', 'CW', 'Cuối_cùng', 'một', 'nhược_điểm', 'so', 'với', 'chứng_khoán', 'cơ_sở', 'chính', 'là', 'vòng', 'đời', 'của', 'CW', 'chỉ', 'giới_hạn', '3', '24', 'tháng', 'đồng_nghĩa', 'sản_phẩm', 'này', 'sẽ', 'không', 'phù_hợp', 'với', 'nhà_đầu_tư', 'dài_hạn', 'Chia_sẻ', 'thêm', 'về', 'CW', 'đại_diện', 'SSI', 'cho', 'biết', 'hiện', 'cũng', 'có', 'rất', 'nhiều', 'nhà_đầu_tư', 'ngoại', 'quan_tâm', 'đến', 'sản_phẩm', 'này']\n",
      "['Tổng', 'thu_nhập', 'lãi', 'thuần', 'trong', 'quý', 'của', 'VCB', 'ở', 'mức', '2', '765', '62', 'tỷ', 'đồng', 'tăng', 'gần', '7%', 'so', 'với', 'cùng', 'kỳ', ';', 'lãi', 'thuần', 'từ', 'hoạt_động', 'dịch_vụ', 'đạt', '424', '23', 'tỷ', 'đồng', 'tăng', '10', '9%', 'Mảng', 'hoạt_động', 'kinh_doanh', 'ngoại_hối', 'kỳ', 'này', 'của', 'VCB', 'đạt', '442', '5', 'tỷ', 'đồng', 'giảm', 'nhẹ', 'so', 'với', 'cùng', 'kỳ', 'nhưng', 'lãi', 'thuần', 'từ', 'mua_bán', 'chứng_khoán', 'kinh_doanh', 'và', 'lãi', 'thuần', 'từ', 'mua_bán', 'đầu_tư', 'có', 'mức', 'tăng_trưởng', 'mạnh_mẽ', 'lần_lượt', 'là', '917', '5%', 'và', '253%', 'Ngoài_ra', 'khoản', 'lãi', 'thuần', 'từ', 'hoạt_động', 'khác', 'cũng', 'có', 'mức', 'tăng_trưởng', 'mạnh', 'so', 'với', 'quý', 'I', '/', '2013', 'khi', 'đạt', '240', '77', 'tỷ', 'đồng', 'nhưng', 'thu_nhập', 'từ', 'góp', 'vốn', 'mua', 'cổ_phần', 'lại', 'bị', 'âm', '346', 'triệu', 'đồng', 'trong', 'khi', 'cùng', 'kỳ', 'chỉ_tiêu', 'này', 'là', 'xấp_xỉ', '80', 'tỷ', 'đồng', 'Giảm', 'trừ', 'chi_phí', 'hoạt_động', 'và', 'chi_phí', 'dự_phòng', 'rủi_ro', 'tín_dụng', 'lợi_nhuận', 'thuần', 'quý', 'I', 'của', 'VCB', 'đạt', '1', '165', '96', 'tỷ', 'đồng', 'tăng', 'nhẹ', 'gần', '5%', 'so', 'với', 'quý', 'I', '/', '2013', 'Chi_tiết', 'báo_cáo', 'tài_chính', 'hợp_nhất', 'quý', 'I', '/', '2014']\n",
      "['Tên', 'cổ_phiếu', 'Cổ_phiếu', 'Công_ty', 'CP', 'FPT', 'Loại', 'cổ_phiếu', 'Cổ_phiếu', 'ưu_đãi', 'nhân_viên', 'loại', '3', 'Mệnh_giá', 'cổ_phiếu', '10', '000', 'đồng', '/', 'CP', 'Tổng', 'số_lượng', 'cổ_phiếu', 'đã', 'phát_hành', 'là', '397', '531', '640', 'CP', 'Số_lượng', 'cổ_phiếu', 'đang', 'lưu_hành', '397', '449', '264', 'CP', 'Số_lượng', 'cổ_phiếu', 'quỹ', '82', '376', 'CP', 'Số_lượng', 'cổ_phiếu', 'dự_kiến', 'phát_hành', '1', '986', '829', 'CP', 'Tổng', 'giá_trị', 'phát_hành', 'theo', 'mệnh_giá', '19', '868', '290', '000', 'đồng', 'Tỷ_lệ', 'phát_hành', '0', '5%', 'Nguồn', 'vốn', 'Không', 'có', 'Hạn_chế', 'chuyển_nhượng', '03', 'năm', 'kể', 'từ', 'ngày', 'phát_hành', 'Thời_gian', 'thực_hiện', 'Tháng', '04/2016', 'Tải', 'file', 'gốc']\n",
      "['Theo', 'đó', 'Cục', 'thuế', 'Tp_HCM', 'đã', 'có', 'quyết_định', 'về', 'việc', 'xử_lý', 'thuế', 'và', 'xử_phạt', 'vi_phạm', 'hành_chính', 'cho', 'các', 'năm', 'thanh_tra', '2007', '2010', 'với', 'PNJ', 'gồm', 'Truy_thu', 'thuế', 'GTGT', 'thuế', 'TNDN', 'là', '899', '907', '816', 'đồng', 'Tiền', 'phạt', 'chậm', 'nộp', '118', '276', '114', 'đồng', 'Phạt', 'việc', 'khai', 'sai', 'khai', 'thiếu', 'ghi', 'sai', '18', '096', '778', 'đồng', 'Công_ty', 'cam_kết', 'sẽ', 'nộp', 'các', 'khoản', 'trên', 'cho', 'Cục', 'thuế', 'đúng', 'thời_gian', 'quy_định']\n",
      "['Tên', 'người', 'thực_hiện', 'giao', 'dịchTrần', 'Trọng_Ngân_Mã', 'chứng_khoán', 'STB', 'Số_lượng', 'cổ_phiếu', 'nắm', 'giữ', 'trước', 'khi', 'giao', 'dich', '48', '000', '000', 'CP', 'Tên', 'của', 'người', 'liên_quan', 'tại', 'TCNY', 'đăng_ký', 'giao_dịch', 'Trầm_Bê_Chức', 'vụ', 'của', 'người', 'có', 'liên_quan', 'hiện_nay', 'tại', 'TCNY', 'Phó', 'Chủ_tịch', 'HĐQT', 'Quan_hệ', 'của', 'người', '/', 'tổ_chức', 'hiện', 'giao_dịch', 'với', 'người', 'có', 'liên_quan', 'con', 'Số_lượng', 'cổ_phiếu', 'đăng_ký', 'bán', '30', '000', '000', 'CP', 'Số_lượng', 'CP', 'đã', 'bán', '0', 'CP', 'Số_lượng', 'cổ_phiếu', 'nắm', 'giữ', 'sau', 'khi', 'thực_hiện', 'giao_dịch', '48', '000', '000', 'CP', 'Mục_đích', 'thực_hiện', 'giao_dịch', 'Cân_đối', 'tài_chính', 'Phương_thức', 'thực_hiện', 'giao_dịch', 'Khớp', 'lệnh', 'và', 'thoả_thuận', 'Thời_gian', 'thực_hiện', 'giao_dịch', 'từ', 'ngày', '1/2/2013', 'đến', '2/3/2013', 'Lý_do', 'không', 'giao_dịch', 'hết', 'số_lượng', 'đã', 'đăng_ký', 'Do', 'diễn_biến', 'giá', 'không', 'phù_hợp', 'Giao_dịch', 'liên_quan', 'STB', '–', 'Con', 'ông', 'Trầm_Bê', 'bán', 'bất_thành', '30', 'triệu', 'CPSTB']\n",
      "['Công_ty', 'TNHH', 'Một', 'thành_viên', 'Đầu_tư', 'SCIC', 'SIC', 'vừa', 'thông_báo', 'đăng_ký', 'bán', '500', '000', 'cổ_phiếu', 'Công_ty', 'cổ_phần', 'FPT', 'HoSE_FPT', 'trong', 'thời_gian', 'từ', '7/12', 'đến', '4/1/2019', 'Phương_thức', 'giao_dịch', 'là', 'khớp', 'lệnh', 'hoặc', 'thoả_thuận', 'Trước', 'giao_dịch', 'SIC', 'đang', 'sở_hữu', 'hơn', '2', 'triệu', 'cổ_phiếu', 'tỷ_lệ', '0', '33%', 'vốn', 'FPT', 'Tuy_nhiên', 'SIC', 'có', 'người', 'nội_bộ', 'là', 'ông', 'Lê_Song_Lai_Thành_viên', 'HĐQT', 'của', 'FPT', 'nên', 'thuộc', 'diện', 'phải', 'công_bố', 'thông_tin', 'Nếu', 'giao_dịch', 'thành_công', 'SIC', 'còn', 'sở_hữu', 'hơn', '1', '5', 'triệu', 'cp', 'tỷ_lệ', '0', '24%', 'Vào', 'tháng', '8', 'SIC', 'cũng', 'bán', 'thành_công', '216', '000', 'cổ_phiếu', 'FPT', 'thông_qua', 'phương_thức', 'khớp', 'lệnh', 'để', 'giảm', 'tỷ_lệ', 'sở_hữu', 'xuống', 'như', 'hiện_nay', 'Trên', 'thị_trường', 'cổ_phiếu', 'FPT', 'đang', 'giao_dịch', 'tại', 'mức', 'giá', '44', '600', 'đồng', '/', 'cp', '5/12', 'Tạm', 'tính', 'theo', 'giá', 'này', 'SIC', 'có_thể', 'thu', 'về', 'khoảng', '22', 'tỷ', 'đồng']\n",
      "['HĐQT', 'CTCP', 'Đầu_tư', 'Thế_giới', 'Di_động', 'MWG', 'vừa', 'công_bố', 'phương_án', 'phát_hành', 'cổ_phiếu', 'và', 'sử_dụng', 'cổ_phiếu', 'quỹ', 'theo', 'chương_trình', 'lựa_chọn', 'cho', 'người', 'lao_động', 'Trong', 'đó', 'Công_ty', 'dự_kiến', 'phát_hành', 'mới', 'gần', '9', '8', 'triệu', 'cổ_phiếu', ';', 'song_song', 'phân_phối', 'hơn', '856', 'ngàn', 'cổ_phiếu', 'quỹ', 'Tổng', 'giá_trị', 'cổ_phiếu', 'thưởng', 'hơn', '106', 'tỷ', 'đồng', 'trong', 'đó', 'tỷ_lệ', 'phát_hành', 'mới', 'vào', 'mức', '2', '4%', 'với', 'giá', 'ưu_đãi', 'chỉ', '10', '000', 'đồng', '/', 'cp', 'Được', 'biết', 'trên', 'thị_trường', 'sau', 'đợt', 'giảm', 'hiện', 'MWG', 'đang', 'hồi_phục', 'về', 'vùng', 'giá', '111', '000', 'đồng', '/', 'cp', 'Thời_gian', 'thực_hiện', 'nhằm', 'tháng', '12/2019', 'và', 'tháng', '1/2020', 'Cổ_phần', 'phát_hành', 'mới', 'dự', 'hạn_chế', 'chuyển_nhượng', 'trong', '4', 'năm', 'mỗi', 'năm', 'sẽ', 'có', '25%', 'số', 'cổ_phần', 'đã', 'mua', 'được', 'tự_do', 'chuyển_nhượng', ';', 'cụ_thể', 'năm', 'thứ', 'nhất', 'sẽ', 'có', '25%', 'số', 'cổ_phiếu', 'đã', 'mua', 'được', 'tự_do', 'chuyển_nhượng', 'hết', 'năm', 'thứ', 'hai', 'sẽ', 'có', '50%', 'số', 'cổ_phiếu', 'đã', 'mua', 'được', 'tự_do', 'chuyển_nhượng', 'hết', 'năm', 'thứ', 'ba', 'sẽ', 'có', '75%', 'số', 'cổ_phiếu', 'đã', 'mua', 'được', 'tự_do', 'chuyển_nhượng', 'và', 'hết', 'năm', 'thứ', 'tư', 'con_số', 'là', '100%', 'Về', 'hoạt_động', 'kinh_doanh', '11', 'tháng', 'đầu', 'năm', '2019', 'MWG', 'ghi_nhận', 'doanh_thu', 'thuần', 'hợp_nhất', 'đạt', '93', '086', 'tỷ', 'đồng', 'tăng_trưởng', '18%', 'so', 'với', 'cùng', 'kì', 'năm_ngoái', ';', 'lợi_nhuận', 'sau', 'thuế', 'đạt', '3', '542', 'tỷ', 'đồng', 'tăng_trưởng', '34%', 'Doanh_thu', 'online', 'đóng_góp', '13%', 'tổng', 'doanh_thu', 'của', 'MWG', 'tương_đương', '11', '832', 'tỷ', 'đồng', 'So', 'với', 'kế_hoạch', 'MWG', 'đã', 'thực_hiện', '86%', 'chỉ_tiêu', 'doanh_thu', 'và', '99%', 'chỉ_tiêu', 'lợi_nhuận', 'sau', 'thuế', 'Xét', 'theo', 'ngành_hàng', 'nhóm', 'sản_phẩm', 'điện_thoại', 'tiếp_tục', 'tăng_trưởng_dương', 'đạt', '30%', 'cho', 'sản_phẩm', 'điện_lạnh', 'gia_dụng', 'và', 'hơn', '150%', 'cho', 'thực_phẩm', 'và', 'FMCGs_Hai', 'ngành_hàng', 'mới', 'là', 'đồng_hồ', 'và', 'laptop', 'được', 'MWG', 'đẩy_mạnh', 'khai_thác', 'trong', 'năm', '2019', 'đang', 'đóng_góp', 'tích_cực', 'cho', 'Công_ty', 'Trung_bình', 'mỗi', 'ngày', 'của', 'tháng', '11', 'MWG', 'mở', 'mới', 'khoảng', '4', 'cửa_hàng', 'Tới', 'thời_điểm', '30/11', 'MWG', 'có', '2', '929', 'cửa_hàng', 'tăng', 'thêm', '117', 'cửa_hàng', 'so', 'với', 'cuối', 'tháng', '10', 'Trong', 'đó', 'chuỗi', 'Điện_Máy', 'Xanh', 'có', '983', 'cửa_hàng', 'tăng', 'thêm', '46', 'cửa_hàng', 'mới', 'do', 'cả', 'mở', 'mới', 'và', 'chuyển_đổi', 'từ', 'cửa_hàng', 'Thế_Giới', 'Di_Động', 'Chuỗi_Bách_Hoá_Xanh', 'thêm', '72', 'điểm', 'bán', 'nâng', 'tổng_số', 'cửa_hàng', 'lên', '938', 'Công_ty', 'đang', 'đẩy', 'nhanh', 'tiến_độ', 'mở_rộng', 'hướng', 'tới', 'mục_tiêu', '1', '000', 'cửa_hàng', 'Điện_Máy', 'Xanh', 'và', '1', '000', 'cửa_hàng', 'Bách_Hoá', 'Xanh', 'cuối', 'tháng', '12/2019']\n",
      "['Thông_tin', 'từ', 'CTCP', 'FPT', 'mã', 'FPT', 'cho', 'biết', 'kết_thúc', 'năm', '2019', 'doanh_thu', 'FPT', 'đạt', '27', '717', 'tỷ', 'đồng', 'tăng', '19', '4%', 'so', 'với', 'cùng', 'kỳ', 'vượt', '4%', 'kế_hoạch', 'năm', 'Lợi_nhuận', 'trước', 'thuế', 'của', 'FPT', 'đạt', '4', '665', 'tỷ', 'đồng', 'tăng', '20', '9%', 'so', 'với', 'cùng', 'kỳ', 'vượt', '5%', 'kế_hoạch', 'năm', 'Lợi_nhuận', 'sau', 'thuế', 'và', 'lợi_nhuận', 'sau', 'thuế', 'của', 'cổ_đông', 'công_ty', 'mẹ', 'lần_lượt', 'đạt', '3', '912', 'tỷ', 'đồng', 'và', '3', '135', 'tỷ', 'đồng', 'tăng', '21', '0%', 'và', '19', '7%', 'so', 'cùng', 'kỳ', 'năm', '2018', 'Lãi', 'cơ_bản', 'trên', 'cổ_phiếu', 'EPS', 'đạt', '4', '220', 'đồng', 'tăng', '19', '0%', 'Bên', 'cạnh', 'đó', 'tỷ_suất', 'lợi_nhuận', 'tiếp_tục', 'được', 'cải_thiện', 'đạt', '16', '8%', 'so', 'với', 'mức', '16', '6%', 'năm', '2018', 'Về', 'kết_quả', 'kinh_doanh', 'theo', 'khối', 'tiếp_tục', 'đóng', 'vai_trò', 'là', 'động_lực', 'tăng_trưởng', 'chính', 'khối', 'Công_nghệ', 'ghi_nhận', 'doanh_thu', 'và', 'lợi_nhuận', 'trước', 'thuế', 'đạt', 'lần_lượt', '15', '783', 'tỷ', 'đồng', 'và', '1', '973', 'tỷ', 'đồng', 'tăng', 'tương_ứng', '17', '8%', 'và', '29', '9%', 'so', 'với', 'cùng', 'kỳ', 'Khối_Viễn', 'thông', 'của', 'FPT', 'đạt', '10', '398', 'tỷ', 'đồng', 'doanh_thu', 'tăng', '17', '7%', ';', 'lợi_nhuận', 'trước', 'thuế', 'đạt', '1', '808', 'tỷ', 'đồng', 'tăng', '24', '1%', 'so', 'với', 'cùng', 'kỳ', 'Trong', 'đó', 'doanh_thu', 'và', 'lợi_nhuận', 'trước', 'thuế', 'của', 'mảng', 'dịch_vụ', 'Viễn_thông', 'lần_lượt', 'đạt', '9', '789', 'tỷ', 'đồng', 'và', '1', '488', 'tỷ', 'đồng', 'tăng', 'lần_lượt', '18', '0%', 'và', '30', '2%', 'so', 'với', 'cùng', 'kỳ', 'Về', 'kết_quả', 'kinh_doanh', 'theo', 'thị_trường', 'trong', 'năm', '2019', 'các', 'mảng', 'kinh_doanh', 'của', 'FPT', 'tại', 'thị_trường', 'nước_ngoài', 'mang', 'về', '11', '452', 'tỷ', 'đồng', 'doanh_thu', 'tăng', '25', '7%', 'chiếm', '41%', 'doanh_thu', 'của', 'Tập_đoàn', 'Trong', 'đó', 'doanh_thu', 'từ', 'thị_trường', 'nước_ngoài', 'của', 'khối', 'công_nghệ', 'đóng_góp', '10', '848', 'tỷ', 'đồng', 'tăng', '28', '5%', 'Thị_trường', 'Mỹ', 'và', 'thị_trường', 'Châu_Á', 'Thái_Bình_Dương', 'của', 'khối', 'công_nghệ', 'lần_lượt', 'tăng_trưởng', '47%', 'và', '43%', 'so', 'với', 'cùng', 'kỳ', 'Lợi_nhuận', 'trước', 'thuế', 'từ', 'các', 'thị_trường', 'nước_ngoài', 'đạt', '1', '894', 'tỷ', 'đồng', 'tăng', '26', '9%', 'chiếm', '41%', 'lợi_nhuận', 'trước', 'thuế', 'của', 'FPT', 'Trong', 'đó', 'lợi_nhuận', 'từ', 'thị_trường', 'nước_ngoài', 'của', 'khối', 'công_nghệ', 'đóng_góp', '1', '723', 'tỷ', 'đồng', 'tăng', '26', '7%', 'so', 'với', 'năm', '2018']\n",
      "['Dù', 'hoạt_động', 'chỉ', '23', 'ngày', 'doanh_thu', 'Bách_Hoá', 'Xanh', 'tăng', '109%', 'Dịch_Covid', 'chưa', 'ảnh_hưởng', 'nghiêm_trọng', 'MWG', 'chưa', 'có', 'ý_định', 'điều_chỉnh', 'kế_hoạch', '2020', 'MWG', 'lãi', '553', 'tỷ', 'đồng', 'tỷ_trọng', 'online', 'giảm', 'Trong', 'tháng', '1', 'CTCP', 'Đầu_tư', 'Thế_giới', 'Di_động', 'HoSE_MWG', 'ghi_nhận', 'doanh_thu', 'thuần', 'hợp_nhất', '12', '560', 'tỷ', 'đồng', 'tăng', '21%', 'so', 'với', 'cùng', 'kỳ', 'năm', '2019', 'và', 'tương_đương', 'với', '10%', 'kế_hoạch', 'cả', 'năm', 'Trong', 'đó', 'dù', 'thị_trường', 'chung', 'bão_hoà', 'nhưng', 'ngành_hàng', 'điện_thoại', 'vẫn', 'tăng_trưởng', 'trên', '10%', 'Ngoài_ra', 'sản_phẩm', 'điện_tử', 'tăng', '10%', 'nhóm', 'điện_lạnh', 'gia_dụng', 'tăng', 'trên', '20%', 'và', 'máy_tính_xách_tay', 'tăng', 'trên', '30%', 'Riêng', 'mảng', 'đồng_hồ', 'mang', 'về', 'hơn', '160', 'tỷ', 'doanh_thu', 'với', 'sản_lượng', '100', '000', 'chiếc', 'được', 'bán', 'ra', 'trong', 'tháng', '1', 'Lợi_nhuận', 'sau', 'thuế', 'theo', 'đó', 'tăng', '22%', 'lên', '553', 'tỷ', 'đồng', 'và', 'thực_hiện', 'được', '11%', 'kế_hoạch', 'năm', 'Biên', 'lợi_nhuận', 'ròng', 'cải_thiện', 'từ', 'mức', '4', '36%', 'lên', '4', '4%', 'so', 'với', 'cùng', 'kỳ', 'năm', '2019', 'Kết_quả', 'tăng_trưởng', 'của', 'MWG', 'đặt', 'trong', 'bối_cảnh', 'công_ty', 'kinh_doanh', 'không', 'đủ', '31', 'ngày', 'như', 'năm_ngoái', 'do', 'nghỉ', 'Tết_âm_lịch', 'Cụ_thể', 'chuỗi', 'Thế_Giới', 'Di_Động', 'và', 'Điện_Máy', 'Xanh', 'hoạt_động', '27', 'ngày', 'trong', 'khi', 'chuỗi', 'Bách_Hoá', 'Xanh_BHX', 'chỉ', 'có', '23', 'ngày', 'Trong', 'mô_hình', 'bán_lẻ', 'đa', 'kênh', 'Omni', 'channel', 'MWG', 'cho', 'biết', 'đang', 'tận_dụng', 'nguồn', 'nhân_viên', 'hàng_hoá', 'tại', 'các', 'cửa_hàng', 'để', 'đáp_ứng', 'hiệu_quả', 'các', 'đơn', 'hàng', 'online', 'Tuy_nhiên', 'trong', 'tháng', 'Tết', 'công_ty', 'dồn', 'nguồn_lực', 'để', 'phục_vụ', 'lượng', 'khách', 'đến', 'mua', 'trực_tiếp', 'ở', 'cửa_hàng', 'Do_đó', 'doanh_thu', 'online', 'sụt_giảm', 'chỉ', 'còn', 'đóng_góp', '5%', 'tổng', 'doanh_thu', 'Công_ty', 'dự_kiến', 'tỷ_trọng', 'này', 'sẽ', 'tăng', 'trở_lại', 'sau', 'Tết', 'Doanh_thu', 'Bách_Hoá', 'Xanh', 'cao', 'gấp', 'đôi', 'dù', 'hoạt_động', '23', 'ngày', 'Trong', 'tháng', '1', 'doanh_thu', 'bình_quân', 'mỗi', 'cửa_hàng', 'BHX', 'đạt', 'khoảng', '1', '25', 'tỷ', 'đồng', 'chỉ', 'tính', 'cửa_hàng', 'khai_trương', 'trước', '1/1', 'Do', 'chỉ', 'hoạt_động', '23', 'ngày', 'doanh_thu', 'bình_quân', 'mỗi', 'ngày', 'hơn', '53', 'triệu', 'đồng', '/', 'cửa_hàng', 'tăng', '20%', 'so', 'với', 'cùng', 'kỳ', 'Tăng_trưởng', 'doanh_thu', 'của', 'cả', 'chuỗi', 'BHX', 'là', '109%', 'nhờ', 'tăng', 'số', 'cửa_hàng', 'và', 'doanh_thu', 'bình_quân', 'Tính', 'đến', 'hết', 'tháng', '1', 'chuỗi', 'BHX', 'có', 'tổng_cộng', '1', '041', 'cửa_hàng', 'Trong', 'đó', 'số', 'cửa_hàng', 'tại', 'khu_vực', 'tỉnh', 'là', '603', 'tỷ_lệ', '58%', 'Chuỗi', 'có', '195', 'cửa_hàng', 'lớn', '300m2', 'chiếm', 'tỷ_trọng', '19%', 'Bách_Hoá', 'Xanh', 'chỉ', 'hoạt_động', '23', 'ngày', 'trong', 'tháng', '1', 'Công_ty', 'cho', 'biết', 'dịch', 'viêm', 'phổi', 'cấp', 'Covid', '19', 'đã', 'làm', 'ảnh_hưởng', 'tới', 'tình_hình', 'kinh_doanh', 'của', 'nhiều', 'doanh_nghiệp', 'tại', 'Việt_Nam', 'Lãnh_đạo', 'MWG', 'đã', 'cân_nhắc', 'các', 'tình_huống', 'có_thể', 'phát_sinh', 'và', 'chuẩn_bị', 'các', 'phương_án', 'ứng_phó', 'Tuy_nhiên', 'công_ty', 'nói', 'rằng', 'chưa', 'nhận', 'thấy', 'tác_động', 'tiêu_cực', 'ảnh_hưởng', 'nghiêm_trọng', 'đến', 'hoạt_động', 'kinh_doanh', 'và', 'chưa', 'có', 'ý_định', 'điều_chỉnh', 'kế_hoạch', 'năm', '2020', 'Trước', 'đó', 'MWG', 'đặt', 'kế_hoạch', 'doanh_thu', 'năm', '2020', 'là', '122', '554', 'tỷ', 'đồng', 'và', 'lãi', 'sau', 'thuế', '4', '835', 'tỷ', 'đồng', 'Các', 'mục_tiêu', 'này', 'ghi_nhận', 'mức', 'tăng', 'lần_lượt', '20%', 'và', '26%', 'so', 'với', 'năm', '2019']\n",
      "['Ngân_hàng', 'TMCP', 'Đầu_tư', 'và', 'Phát_triển', 'Việt_Nam', 'BIDV', 'vừa', 'công_bố', 'kết_quả', 'hoạt_động', 'kinh_doanh', 'quý', 'III', '/', '2015', 'Cụ_thể', 'sau', '9', 'tháng', 'lợi_nhuận', 'trước', 'thuế', 'của', 'Ngân_hàng', 'đạt', '5', '535', 'tỷ', 'đồng', 'tăng', '25%', 'so', 'với', 'cùng', 'kỳ', 'năm', 'trước', 'Tỷ_lệ', 'nợ', 'xấu', 'dưới', '2%', 'Thị_phần', 'tín_dụng', 'của', 'BIDV', 'đạt', '12', '9%', 'tăng', '1', '3%', 'so', 'với', 'năm', '2014', 'Huy_động', 'vốn', 'thị_trường', '1', 'đạt', 'gần', '625', 'nghìn', 'tỷ', 'đồng', 'tăng', '21%', 'so', 'với', 'đầu', 'năm', 'Tính', 'đến', 'hết', 'quý', 'III', 'tổng_tài', 'sản', 'BIDV', 'đạt', 'trên', '786', 'nghìn', 'tỷ', 'đồng', 'tăng', '20%', 'so', 'với', 'thời_điểm', 'cuối', 'năm', '2014', 'Dư_nợ', 'tín_dụng', 'đạt', 'trên', '570', 'nghìn', 'tỷ', 'đồng', 'tăng_trưởng', 'trên', '15%', 'so', 'với', 'đầu', 'năm']\n",
      "['SRC', 'cũng', 'cho', 'biết', 'sẽ', 'không', 'chịu', 'trách_nhiệm', 'về', 'thông_tin', 'hợp_tác', 'với', 'CTCP', 'Vincom_HOSE_VIC', 'trong', 'dự_án', 'này', 'Được', 'biết', 'năm', '2010', 'SRC', 'thực_hiện', 'được', '1', '151', 'tỷ', 'đồng', 'doanh_thu', 'thuần', 'tăng', 'nhẹ', '5%', 'so', 'với', 'cùng', 'kỳ', '2009', 'Tuy_nhiên', 'do', 'giá_vốn', 'hàng', 'bán', 'chiếm', 'tới', '1', '041', 'tỷ', 'đồng', 'nên', 'lãi_gộp', 'chỉ', 'ở', 'mức', '109', 'tỷ', 'đồng', 'ứng', 'với', 'tỷ_suất', 'lãi_gộp', 'biên', 'giảm', 'từ', '18', '7%', 'của', 'năm', '2009', 'xuống', 'còn', '9', '4%', 'Ngoài_ra', 'hoạt_động', 'tài_chính', 'năm', 'qua', 'lỗ', 'tới', '38', 'tỷ', 'đồng', 'trong', 'khi', 'năm', '2009', 'ở', 'mức', '26', 'tỷ', 'đồng', 'Theo', 'đó', 'kết_thúc', 'năm', 'SRC', 'lãi_ròng', '17', '6', 'tỷ', 'đồng', 'giảm', 'tới', '82%', 'so', 'năm', 'trước', 'Được', 'biết', 'từ', 'ngày', '28/02', 'đến', '02/03', 'cổ_phiếu', 'SRC', 'liên_tục', 'tăng', 'trần', 'từ', '22', '700', 'đồng', '/', 'cp', 'lên', '24', '900', 'đồng', '/', 'cp', 'Đặc_biệt', 'phiên', 'giao_dịch', 'sáng', 'ngày', '02/03', 'thanh', 'khoản', 'của', 'SRC', 'đạt', '575', '180', 'cp', 'và', 'dư', 'mua', '2', '000', 'cp']\n"
     ]
    }
   ],
   "source": [
    "X_train, y_train = data_process('./data/train_data.csv')\n",
    "X_test, y_test = data_process('./data/test_data.csv')"
   ]
  },
  {
   "cell_type": "code",
   "execution_count": 362,
   "metadata": {},
   "outputs": [],
   "source": [
    "from sklearn.feature_extraction.text import TfidfVectorizer\n",
    "\n",
    "tfidf = TfidfVectorizer()\n",
    "tfidf_matrix = tfidf.fit_transform(X_train['form_text'])\n",
    "feature_names = tfidf.get_feature_names()\n",
    "\n",
    "def get_ifidf_for_words(text):\n",
    "    tfidf_matrix= tfidf.transform([text]).todense()\n",
    "    feature_index = tfidf_matrix[0,:].nonzero()[1]\n",
    "    tfidf_scores = zip([feature_names[i] for i in feature_index], [tfidf_matrix[0, x] for x in feature_index])\n",
    "    return dict(tfidf_scores)"
   ]
  },
  {
   "cell_type": "code",
   "execution_count": 363,
   "metadata": {},
   "outputs": [],
   "source": [
    "X_train['ifidf_for_words'] = X_train['form_text'].apply(lambda x : get_ifidf_for_words(x))"
   ]
  },
  {
   "cell_type": "code",
   "execution_count": 364,
   "metadata": {},
   "outputs": [],
   "source": [
    "def get_tfidf_for_word(word, dic):\n",
    "    if word in dic.keys():\n",
    "        return dic[word]\n",
    "    else:\n",
    "        return 0\n",
    "\n",
    "def get_tfidf_for_docs(text, dic):\n",
    "    text_df = pd.DataFrame(text)\n",
    "    text_df.columns = ['word']\n",
    "    tfidf_words = text_df['word'].apply(lambda x: get_tfidf_for_word(x, dic))\n",
    "    return tfidf_words"
   ]
  },
  {
   "cell_type": "code",
   "execution_count": 365,
   "metadata": {},
   "outputs": [],
   "source": [
    "tfidf_docs = []\n",
    "for i,row in X_train[['form','ifidf_for_words']].iterrows():\n",
    "    tfidf_docs.append(get_tfidf_for_docs(row['form'],row['ifidf_for_words']))\n",
    "X_train['tfidf_docs'] = tfidf_docs"
   ]
  },
  {
   "cell_type": "code",
   "execution_count": 366,
   "metadata": {},
   "outputs": [
    {
     "output_type": "execute_result",
     "data": {
      "text/plain": [
       "                                           NewsTitle  \\\n",
       "0          VCB - Chủ tịch HĐQT đăng ký mua 10.000 CP   \n",
       "1  Sau 10 năm gắn bó, CEO Mekong Capital tiết lộ ...   \n",
       "2  4 tháng đầu năm, FPT báo lãi 1.113 tỷ đồng, tă...   \n",
       "3  Đại hội cổ đông năm 2013: Dự kiến trước tháng ...   \n",
       "4          VIC- Phó TGĐ đăng ký bán 11.000 CP từ 7/8   \n",
       "\n",
       "                                     NewsFullContent  \\\n",
       "0    Tên người thực hiện giao dịch Nghiêm Xuân Th...   \n",
       "1  Sau 10 năm gắn bó CEO Mekong Capital ông Chris...   \n",
       "2  Thông tin mới từ CTCP FPT cho biết sau 4 tháng...   \n",
       "3        Sáng ngày 6/4/2013 Đại hội cổ đông thườn...   \n",
       "4    Tên cá nhân thực hiện giao dịch Đặng Thanh T...   \n",
       "\n",
       "                                          list_label  \\\n",
       "0  [(tên, 1), (người, 0), (thực hiện, 1), (giao d...   \n",
       "1  [(sau, 0), (10, 0), (năm, 1), (gắn bó, 1), (ce...   \n",
       "2  [(thông tin, 1), (mới, 0), (từ, 1), (ctcp, 1),...   \n",
       "3  [(sáng, 1), (ngày, 1), (6/4/2013, 0), (đại hội...   \n",
       "4  [(tên, 1), (cá nhân, 1), (thực hiện, 1), (giao...   \n",
       "\n",
       "                                                form  \\\n",
       "0  [Tên, người, thực_hiện, giao_dịch, Nghiêm_Xuân...   \n",
       "1  [Sau, 10, năm, gắn_bó, CEO, Mekong_Capital, ôn...   \n",
       "2  [Thông_tin, mới, từ, CTCP, FPT, cho, biết, sau...   \n",
       "3  [Sáng, ngày, 6/4/2013, Đại_hội, cổ_đông, thườn...   \n",
       "4  [Tên, cá_nhân, thực_hiện, giao_dịch, Đặng_Than...   \n",
       "\n",
       "                                             pos_tag  \\\n",
       "0  [N, N, V, V, Np, V, Ny, N, N, E, N, V, N, Ny, ...   \n",
       "1  [E, M, N, V, Ny, Np, Nc, Np, R, A, V, N, Ny, N...   \n",
       "2  [N, A, E, Ny, Np, V, V, E, M, N, N, N, M, N, C...   \n",
       "3  [N, N, M, N, N, A, N, M, E, Ny, Ny, R, V, R, V...   \n",
       "4  [N, N, V, V, Np, V, Ny, N, N, E, N, V, N, Ny, ...   \n",
       "\n",
       "                                           form_text  \\\n",
       "0  Tên người thực_hiện giao_dịch Nghiêm_Xuân_Thàn...   \n",
       "1  Sau 10 năm gắn_bó CEO Mekong_Capital ông Chris...   \n",
       "2  Thông_tin mới từ CTCP FPT cho biết sau 4 tháng...   \n",
       "3  Sáng ngày 6/4/2013 Đại_hội cổ_đông thường_niên...   \n",
       "4  Tên cá_nhân thực_hiện giao_dịch Đặng_Thanh_Thu...   \n",
       "\n",
       "                                     ifidf_for_words  \\\n",
       "0  {'000': 0.06685812238906645, '10': 0.064727929...   \n",
       "1  {'10': 0.04171856896711965, '16': 0.0563790679...   \n",
       "2  {'025': 0.07691351045593753, '10': 0.025198740...   \n",
       "3  {'10': 0.02408314235801127, '150': 0.060900194...   \n",
       "4  {'000': 0.06174087593382586, '01': 0.151152681...   \n",
       "\n",
       "                                          tfidf_docs  \n",
       "0  0     0.000000\n",
       "1     0.081471\n",
       "2     0.381808\n",
       "3...  \n",
       "1  0      0.000000\n",
       "1      0.041719\n",
       "2      0.11272...  \n",
       "2  0      0.000000\n",
       "1      0.027940\n",
       "2      0.01812...  \n",
       "3  0      0.000000\n",
       "1      0.025390\n",
       "2      0.00000...  \n",
       "4  0     0.000000\n",
       "1     0.184373\n",
       "2     0.235056\n",
       "3...  "
      ],
      "text/html": "<div>\n<style scoped>\n    .dataframe tbody tr th:only-of-type {\n        vertical-align: middle;\n    }\n\n    .dataframe tbody tr th {\n        vertical-align: top;\n    }\n\n    .dataframe thead th {\n        text-align: right;\n    }\n</style>\n<table border=\"1\" class=\"dataframe\">\n  <thead>\n    <tr style=\"text-align: right;\">\n      <th></th>\n      <th>NewsTitle</th>\n      <th>NewsFullContent</th>\n      <th>list_label</th>\n      <th>form</th>\n      <th>pos_tag</th>\n      <th>form_text</th>\n      <th>ifidf_for_words</th>\n      <th>tfidf_docs</th>\n    </tr>\n  </thead>\n  <tbody>\n    <tr>\n      <th>0</th>\n      <td>VCB - Chủ tịch HĐQT đăng ký mua 10.000 CP</td>\n      <td>Tên người thực hiện giao dịch Nghiêm Xuân Th...</td>\n      <td>[(tên, 1), (người, 0), (thực hiện, 1), (giao d...</td>\n      <td>[Tên, người, thực_hiện, giao_dịch, Nghiêm_Xuân...</td>\n      <td>[N, N, V, V, Np, V, Ny, N, N, E, N, V, N, Ny, ...</td>\n      <td>Tên người thực_hiện giao_dịch Nghiêm_Xuân_Thàn...</td>\n      <td>{'000': 0.06685812238906645, '10': 0.064727929...</td>\n      <td>0     0.000000\n1     0.081471\n2     0.381808\n3...</td>\n    </tr>\n    <tr>\n      <th>1</th>\n      <td>Sau 10 năm gắn bó, CEO Mekong Capital tiết lộ ...</td>\n      <td>Sau 10 năm gắn bó CEO Mekong Capital ông Chris...</td>\n      <td>[(sau, 0), (10, 0), (năm, 1), (gắn bó, 1), (ce...</td>\n      <td>[Sau, 10, năm, gắn_bó, CEO, Mekong_Capital, ôn...</td>\n      <td>[E, M, N, V, Ny, Np, Nc, Np, R, A, V, N, Ny, N...</td>\n      <td>Sau 10 năm gắn_bó CEO Mekong_Capital ông Chris...</td>\n      <td>{'10': 0.04171856896711965, '16': 0.0563790679...</td>\n      <td>0      0.000000\n1      0.041719\n2      0.11272...</td>\n    </tr>\n    <tr>\n      <th>2</th>\n      <td>4 tháng đầu năm, FPT báo lãi 1.113 tỷ đồng, tă...</td>\n      <td>Thông tin mới từ CTCP FPT cho biết sau 4 tháng...</td>\n      <td>[(thông tin, 1), (mới, 0), (từ, 1), (ctcp, 1),...</td>\n      <td>[Thông_tin, mới, từ, CTCP, FPT, cho, biết, sau...</td>\n      <td>[N, A, E, Ny, Np, V, V, E, M, N, N, N, M, N, C...</td>\n      <td>Thông_tin mới từ CTCP FPT cho biết sau 4 tháng...</td>\n      <td>{'025': 0.07691351045593753, '10': 0.025198740...</td>\n      <td>0      0.000000\n1      0.027940\n2      0.01812...</td>\n    </tr>\n    <tr>\n      <th>3</th>\n      <td>Đại hội cổ đông năm 2013: Dự kiến trước tháng ...</td>\n      <td>Sáng ngày 6/4/2013 Đại hội cổ đông thườn...</td>\n      <td>[(sáng, 1), (ngày, 1), (6/4/2013, 0), (đại hội...</td>\n      <td>[Sáng, ngày, 6/4/2013, Đại_hội, cổ_đông, thườn...</td>\n      <td>[N, N, M, N, N, A, N, M, E, Ny, Ny, R, V, R, V...</td>\n      <td>Sáng ngày 6/4/2013 Đại_hội cổ_đông thường_niên...</td>\n      <td>{'10': 0.02408314235801127, '150': 0.060900194...</td>\n      <td>0      0.000000\n1      0.025390\n2      0.00000...</td>\n    </tr>\n    <tr>\n      <th>4</th>\n      <td>VIC- Phó TGĐ đăng ký bán 11.000 CP từ 7/8</td>\n      <td>Tên cá nhân thực hiện giao dịch Đặng Thanh T...</td>\n      <td>[(tên, 1), (cá nhân, 1), (thực hiện, 1), (giao...</td>\n      <td>[Tên, cá_nhân, thực_hiện, giao_dịch, Đặng_Than...</td>\n      <td>[N, N, V, V, Np, V, Ny, N, N, E, N, V, N, Ny, ...</td>\n      <td>Tên cá_nhân thực_hiện giao_dịch Đặng_Thanh_Thu...</td>\n      <td>{'000': 0.06174087593382586, '01': 0.151152681...</td>\n      <td>0     0.000000\n1     0.184373\n2     0.235056\n3...</td>\n    </tr>\n  </tbody>\n</table>\n</div>"
     },
     "metadata": {},
     "execution_count": 366
    }
   ],
   "source": [
    "X_train.head()"
   ]
  },
  {
   "cell_type": "code",
   "execution_count": 370,
   "metadata": {},
   "outputs": [],
   "source": [
    "def combine_feature(X):\n",
    "    features = []\n",
    "    for i in range(len(X)):\n",
    "        form = pd.DataFrame(X['form'][i])\n",
    "        \n",
    "        pos_tag = pd.DataFrame(X['pos_tag'][i])\n",
    "        tfidf_docs = pd.DataFrame(X['tfidf_docs'][i])\n",
    "        # name_entity = pd.DataFrame(X['name_entity'][i])\n",
    "        # title_tag = pd.DataFrame(X['title_tag'][i])\n",
    "        df_col_merged = pd.concat([form, pos_tag,tfidf_docs], axis=1)\n",
    "        feature = df_col_merged.values.tolist()\n",
    "        features.append(feature)\n",
    "    X['features'] = features "
   ]
  },
  {
   "cell_type": "code",
   "execution_count": 371,
   "metadata": {
    "tags": []
   },
   "outputs": [],
   "source": [
    "combine_feature(X_train)"
   ]
  },
  {
   "cell_type": "code",
   "execution_count": 372,
   "metadata": {},
   "outputs": [
    {
     "output_type": "execute_result",
     "data": {
      "text/plain": [
       "[['Doanh_thu', 'N', 0.0],\n",
       " ['bán', 'V', 0.07463305423271402],\n",
       " ['hàng', 'N', 0.10402367139426795],\n",
       " ['và', 'Cc', 0.058556752276450255],\n",
       " ['cung_cấp', 'V', 0.11505189698420606],\n",
       " ['dịch_vụ', 'N', 0.09669793486161343],\n",
       " ['quý', 'N', 0.23718129044143535],\n",
       " ['3', 'M', 0.0],\n",
       " ['năm', 'N', 0.2562100813992916],\n",
       " ['2014', 'M', 0.314816510088828],\n",
       " ['đạt', 'V', 0.365785533671213],\n",
       " ['2', 'M', 0.0],\n",
       " ['372', 'M', 0.10524545085265455],\n",
       " ['6', 'M', 0.0],\n",
       " ['tỷ', 'M', 0.30418217289291777],\n",
       " ['đồng', 'Nu', 0.19489892772242692],\n",
       " ['giảm', 'V', 0.03876139943919351],\n",
       " ['nhẹ', 'A', 0.06870489298441199],\n",
       " ['so', 'V', 0.09064134212974835],\n",
       " ['với', 'E', 0.06583077342793817],\n",
       " ['cùng', 'A', 0.0979041106828098],\n",
       " ['kỳ', 'N', 0.07327143711663733],\n",
       " ['năm_ngoái', 'N', 0.1764033465768105],\n",
       " ['Luỹ', 'Np', 0.0],\n",
       " ['kế', 'V', 0.05091672246096588],\n",
       " ['9', 'M', 0.0],\n",
       " ['tháng', 'N', 0.1882993140409917],\n",
       " ['đầu', 'N', 0.23960330903275098],\n",
       " ['năm', 'N', 0.2562100813992916],\n",
       " ['2014', 'M', 0.314816510088828],\n",
       " ['doanh_thu', 'N', 0.06796124280636397],\n",
       " ['thuần', 'A', 0.09976989385486067],\n",
       " ['đạt', 'V', 0.365785533671213],\n",
       " ['7', 'M', 0.0],\n",
       " ['271', 'M', 0.11761448595697953],\n",
       " ['8', 'M', 0.0],\n",
       " ['tỷ', 'M', 0.30418217289291777],\n",
       " ['tăng', 'V', 0.08371803786923443],\n",
       " ['14', 'M', 0.05029052678596932],\n",
       " ['15%', 'M', 0.0],\n",
       " ['so', 'V', 0.09064134212974835],\n",
       " ['với', 'E', 0.06583077342793817],\n",
       " ['9', 'M', 0.0],\n",
       " ['tháng', 'N', 0.1882993140409917],\n",
       " ['đầu', 'N', 0.23960330903275098],\n",
       " ['năm', 'N', 0.2562100813992916],\n",
       " ['2013', 'M', 0.05947458207752898],\n",
       " ['Lợi_nhuận', 'Np', 0.0],\n",
       " ['gộp', 'V', 0.13411302917186038],\n",
       " ['về', 'V', 0.0634845606563063],\n",
       " ['bán', 'V', 0.07463305423271402],\n",
       " ['hàng', 'N', 0.10402367139426795],\n",
       " ['và', 'Cc', 0.058556752276450255],\n",
       " ['cung_cấp', 'V', 0.11505189698420606],\n",
       " ['dịch_vụ', 'N', 0.09669793486161343],\n",
       " ['cũng', 'R', 0.06436582743633149],\n",
       " ['trong', 'E', 0.13141050694337],\n",
       " ['quý', 'N', 0.23718129044143535],\n",
       " ['này', 'P', 0.060030271700824075],\n",
       " ['tăng', 'V', 0.08371803786923443],\n",
       " ['mạnh', 'A', 0.05008658461639309],\n",
       " ['đạt', 'V', 0.365785533671213],\n",
       " ['214', 'M', 0.09077460744038715],\n",
       " ['7', 'M', 0.0],\n",
       " ['tỷ', 'M', 0.30418217289291777],\n",
       " ['tăng', 'V', 0.08371803786923443],\n",
       " ['40', 'M', 0.05366750212741223],\n",
       " ['24%', 'M', 0.0],\n",
       " ['so', 'V', 0.09064134212974835],\n",
       " ['với', 'E', 0.06583077342793817],\n",
       " ['cùng', 'A', 0.0979041106828098],\n",
       " ['kỳ', 'N', 0.07327143711663733],\n",
       " ['năm_ngoái', 'N', 0.1764033465768105],\n",
       " ['Tính', 'Np', 0.0],\n",
       " ['từ', 'E', 0.049598803973945685],\n",
       " ['đầu', 'N', 0.23960330903275098],\n",
       " ['năm', 'N', 0.2562100813992916],\n",
       " ['đến', 'E', 0.03014731975560384],\n",
       " ['cuối', 'N', 0.043966822775762034],\n",
       " ['quý', 'N', 0.23718129044143535],\n",
       " ['3', 'M', 0.0],\n",
       " ['năm', 'N', 0.2562100813992916],\n",
       " ['2014', 'M', 0.314816510088828],\n",
       " ['lợi_nhuận', 'N', 0.12219939952769356],\n",
       " ['gộp', 'V', 0.13411302917186038],\n",
       " ['đạt', 'V', 0.365785533671213],\n",
       " ['657', 'M', 0.11037906425084583],\n",
       " ['7', 'M', 0.0],\n",
       " ['tỷ', 'M', 0.30418217289291777],\n",
       " ['đồng', 'Nu', 0.19489892772242692],\n",
       " ['Lợi_nhuận', 'Np', 0.0],\n",
       " ['thuần', 'A', 0.09976989385486067],\n",
       " ['từ', 'E', 0.049598803973945685],\n",
       " ['hoạt_động', 'N', 0.03534739410810738],\n",
       " ['kinh_doanh', 'V', 0.03271112657112964],\n",
       " ['9', 'M', 0.0],\n",
       " ['tháng', 'N', 0.1882993140409917],\n",
       " ['đầu', 'N', 0.23960330903275098],\n",
       " ['năm', 'N', 0.2562100813992916],\n",
       " ['2014', 'M', 0.314816510088828],\n",
       " ['ghi_nhận', 'V', 0.04594315269703747],\n",
       " ['mức', 'N', 0.03365468091512958],\n",
       " ['tăng_trưởng', 'V', 0.03908684454947904],\n",
       " ['đột_biến', 'N', 0.08289021437574953],\n",
       " ['đạt', 'V', 0.365785533671213],\n",
       " ['261', 'M', 0.10524545085265455],\n",
       " ['9', 'M', 0.0],\n",
       " ['tỷ', 'M', 0.30418217289291777],\n",
       " ['đồng', 'Nu', 0.19489892772242692],\n",
       " ['trong', 'E', 0.13141050694337],\n",
       " ['khi', 'N', 0.028991500661706793],\n",
       " ['cùng', 'A', 0.0979041106828098],\n",
       " ['thời_điểm', 'N', 0.05317857440317117],\n",
       " ['này', 'P', 0.060030271700824075],\n",
       " ['năm_ngoái', 'N', 0.1764033465768105],\n",
       " ['chỉ', 'R', 0.04562448805741238],\n",
       " ['đạt', 'V', 0.365785533671213],\n",
       " ['161', 'M', 0.11761448595697953],\n",
       " ['8', 'M', 0.0],\n",
       " ['tỷ', 'M', 0.30418217289291777],\n",
       " ['Cũng', 'R', 0.0],\n",
       " ['theo', 'V', 0.0257069575044075],\n",
       " ['đó', 'P', 0.05029375343756077],\n",
       " ['lợi_nhuận', 'N', 0.12219939952769356],\n",
       " ['sau', 'E', 0.02628518836341299],\n",
       " ['thuế_thu_nhập', 'N', 0.10126351094592431],\n",
       " ['doanh_nghiệp', 'N', 0.04594315269703747],\n",
       " ['đạt', 'V', 0.365785533671213],\n",
       " ['51', 'M', 0.07184361718185396],\n",
       " ['6', 'M', 0.0],\n",
       " ['tỷ', 'M', 0.30418217289291777],\n",
       " ['đồng', 'Nu', 0.19489892772242692],\n",
       " ['trong', 'E', 0.13141050694337],\n",
       " ['quý', 'N', 0.23718129044143535],\n",
       " ['3', 'M', 0.0],\n",
       " ['năm', 'N', 0.2562100813992916],\n",
       " ['2014', 'M', 0.314816510088828],\n",
       " ['và', 'Cc', 0.058556752276450255],\n",
       " ['đạt', 'V', 0.365785533671213],\n",
       " ['187', 'M', 0.174387379858736],\n",
       " ['6', 'M', 0.0],\n",
       " ['tỷ', 'M', 0.30418217289291777],\n",
       " ['đồng', 'Nu', 0.19489892772242692],\n",
       " ['9', 'M', 0.0],\n",
       " ['tháng', 'N', 0.1882993140409917],\n",
       " ['đầu', 'N', 0.23960330903275098],\n",
       " ['năm', 'N', 0.2562100813992916],\n",
       " ['Trong', 'E', 0.0],\n",
       " ['đó', 'P', 0.05029375343756077],\n",
       " ['Lợi_ích', 'N', 0.0],\n",
       " ['của', 'E', 0.04177283569752486],\n",
       " ['các', 'L', 0.05466065148755391],\n",
       " ['cổ_đông', 'N', 0.07384863823454291],\n",
       " ['thiểu_số', 'N', 0.10524545085265455],\n",
       " ['trong', 'E', 0.13141050694337],\n",
       " ['9', 'M', 0.0],\n",
       " ['tháng', 'N', 0.1882993140409917],\n",
       " ['đầu', 'N', 0.23960330903275098],\n",
       " ['năm', 'N', 0.2562100813992916],\n",
       " ['đạt', 'V', 0.365785533671213],\n",
       " ['13', 'M', 0.04929335422159642],\n",
       " ['4', 'M', 0.0],\n",
       " ['tỷ', 'M', 0.30418217289291777],\n",
       " ['đồng', 'Nu', 0.19489892772242692],\n",
       " ['quý', 'N', 0.23718129044143535],\n",
       " ['3', 'M', 0.0],\n",
       " ['năm', 'N', 0.2562100813992916],\n",
       " ['2014', 'M', 0.314816510088828],\n",
       " ['đạt', 'V', 0.365785533671213],\n",
       " ['gần', 'A', 0.037217664006945074],\n",
       " ['47', 'M', 0.06460819547572025],\n",
       " ['tỷ', 'M', 0.30418217289291777],\n",
       " ['đồng', 'Nu', 0.19489892772242692],\n",
       " ['Lãi', 'Np', 0.0],\n",
       " ['thuộc', 'V', 0.055769310435354665],\n",
       " ['về', 'E', 0.0634845606563063],\n",
       " ['các', 'L', 0.05466065148755391],\n",
       " ['cổ_đông', 'N', 0.07384863823454291],\n",
       " ['của', 'E', 0.04177283569752486],\n",
       " ['Công_ty', 'N', 0.0],\n",
       " ['mẹ', 'N', 0.05522019801458436],\n",
       " ['đạt', 'V', 0.365785533671213],\n",
       " ['187', 'M', 0.174387379858736],\n",
       " ['6', 'M', 0.0],\n",
       " ['tỷ', 'M', 0.30418217289291777],\n",
       " ['trong', 'E', 0.13141050694337],\n",
       " ['9', 'M', 0.0],\n",
       " ['tháng', 'N', 0.1882993140409917],\n",
       " ['đầu', 'N', 0.23960330903275098],\n",
       " ['năm', 'N', 0.2562100813992916],\n",
       " ['riêng', 'A', 0.0544269676197877],\n",
       " ['quý', 'N', 0.23718129044143535],\n",
       " ['3', 'M', 0.0],\n",
       " ['đạt', 'V', 0.365785533671213],\n",
       " ['46', 'M', 0.069894983596428],\n",
       " ['9', 'M', 0.0],\n",
       " ['tỷ', 'M', 0.30418217289291777],\n",
       " ['đồng', 'Nu', 0.19489892772242692],\n",
       " ['Báo_cáo', 'V', 0.0],\n",
       " ['tài_chính', 'N', 0.04180116915604437],\n",
       " ['chi_tiết', 'A', 0.0588011155256035]]"
      ]
     },
     "metadata": {},
     "execution_count": 372
    }
   ],
   "source": [
    "X_train['features'][100]"
   ]
  },
  {
   "cell_type": "code",
   "execution_count": 373,
   "metadata": {},
   "outputs": [
    {
     "output_type": "execute_result",
     "data": {
      "text/plain": [
       "                                           NewsTitle  \\\n",
       "0                MWG lãi gần 900 tỷ đồng sau 5 tháng   \n",
       "1  6 tháng, PNJ báo lãi hợp nhất đạt hơn 146 tỷ đồng   \n",
       "2  2 tháng sau khi lên làm CEO, ông Trần Kinh Doa...   \n",
       "3  BIDV rao bán tàu Ocean Queen với giá khởi điểm...   \n",
       "4  PNJ trích dự phòng thêm 115 tỷ đồng, đặt kế ho...   \n",
       "\n",
       "                                     NewsFullContent  \\\n",
       "0  Về cơ cấu doanh thu doanh thu từ chuỗi bán lẻ ...   \n",
       "1    Theo đó doanh thu thuần trong quý 2 của PNJ ...   \n",
       "2  Ông Trần Kinh Doanh Tổng giám đốc Công ty cổ p...   \n",
       "3  Giá khởi điểm hơn 300 tỷ đồng nói trên không b...   \n",
       "4    Đồng thời PNJ dự kiến chỉ tiêu lợi nhuận 361...   \n",
       "\n",
       "                                          list_label  \\\n",
       "0  [(về, 1), (cơ cấu, 0), (doanh thu, 1), (doanh ...   \n",
       "1  [(theo, 1), (đó, 0), (doanh thu, 1), (thuần, 0...   \n",
       "2  [(ông, 0), (trần kinh doanh tổng giám đốc, 1),...   \n",
       "3  [(giá, 1), (khởi điểm, 0), (hơn, 1), (300, 0),...   \n",
       "4  [(đồng thời, 1), (pnj, 1), (dự kiến, 1), (chỉ ...   \n",
       "\n",
       "                                                form  \\\n",
       "0  [Về, cơ_cấu, doanh_thu, doanh_thu, từ, chuỗi, ...   \n",
       "1  [Theo, đó, doanh_thu, thuần, trong, quý, 2, củ...   \n",
       "2  [Ông, Trần_Kinh_Doanh_Tổng_giám_đốc, Công_ty, ...   \n",
       "3  [Giá, khởi_điểm, hơn, 300, tỷ, đồng, nói, trên...   \n",
       "4  [Đồng_thời, PNJ, dự_kiến, chỉ_tiêu, lợi_nhuận,...   \n",
       "\n",
       "                                             pos_tag  \\\n",
       "0  [E, N, N, N, E, N, V, N, Np, Np, R, V, N, E, M...   \n",
       "1  [V, P, N, A, E, N, M, E, Ny, V, M, M, M, V, M,...   \n",
       "2  [Nc, Np, N, N, Np, Np, Np, R, V, N, V, N, V, P...   \n",
       "3  [N, V, A, M, M, Nu, V, N, R, V, L, N, V, E, N,...   \n",
       "4  [C, Ny, V, N, N, M, M, M, Nu, V, M, V, E, N, M...   \n",
       "\n",
       "                                           form_text  \n",
       "0  Về cơ_cấu doanh_thu doanh_thu từ chuỗi bán_lẻ ...  \n",
       "1  Theo đó doanh_thu thuần trong quý 2 của PNJ đạ...  \n",
       "2  Ông Trần_Kinh_Doanh_Tổng_giám_đốc Công_ty cổ_p...  \n",
       "3  Giá khởi_điểm hơn 300 tỷ đồng nói trên không b...  \n",
       "4  Đồng_thời PNJ dự_kiến chỉ_tiêu lợi_nhuận 361 4...  "
      ],
      "text/html": "<div>\n<style scoped>\n    .dataframe tbody tr th:only-of-type {\n        vertical-align: middle;\n    }\n\n    .dataframe tbody tr th {\n        vertical-align: top;\n    }\n\n    .dataframe thead th {\n        text-align: right;\n    }\n</style>\n<table border=\"1\" class=\"dataframe\">\n  <thead>\n    <tr style=\"text-align: right;\">\n      <th></th>\n      <th>NewsTitle</th>\n      <th>NewsFullContent</th>\n      <th>list_label</th>\n      <th>form</th>\n      <th>pos_tag</th>\n      <th>form_text</th>\n    </tr>\n  </thead>\n  <tbody>\n    <tr>\n      <th>0</th>\n      <td>MWG lãi gần 900 tỷ đồng sau 5 tháng</td>\n      <td>Về cơ cấu doanh thu doanh thu từ chuỗi bán lẻ ...</td>\n      <td>[(về, 1), (cơ cấu, 0), (doanh thu, 1), (doanh ...</td>\n      <td>[Về, cơ_cấu, doanh_thu, doanh_thu, từ, chuỗi, ...</td>\n      <td>[E, N, N, N, E, N, V, N, Np, Np, R, V, N, E, M...</td>\n      <td>Về cơ_cấu doanh_thu doanh_thu từ chuỗi bán_lẻ ...</td>\n    </tr>\n    <tr>\n      <th>1</th>\n      <td>6 tháng, PNJ báo lãi hợp nhất đạt hơn 146 tỷ đồng</td>\n      <td>Theo đó doanh thu thuần trong quý 2 của PNJ ...</td>\n      <td>[(theo, 1), (đó, 0), (doanh thu, 1), (thuần, 0...</td>\n      <td>[Theo, đó, doanh_thu, thuần, trong, quý, 2, củ...</td>\n      <td>[V, P, N, A, E, N, M, E, Ny, V, M, M, M, V, M,...</td>\n      <td>Theo đó doanh_thu thuần trong quý 2 của PNJ đạ...</td>\n    </tr>\n    <tr>\n      <th>2</th>\n      <td>2 tháng sau khi lên làm CEO, ông Trần Kinh Doa...</td>\n      <td>Ông Trần Kinh Doanh Tổng giám đốc Công ty cổ p...</td>\n      <td>[(ông, 0), (trần kinh doanh tổng giám đốc, 1),...</td>\n      <td>[Ông, Trần_Kinh_Doanh_Tổng_giám_đốc, Công_ty, ...</td>\n      <td>[Nc, Np, N, N, Np, Np, Np, R, V, N, V, N, V, P...</td>\n      <td>Ông Trần_Kinh_Doanh_Tổng_giám_đốc Công_ty cổ_p...</td>\n    </tr>\n    <tr>\n      <th>3</th>\n      <td>BIDV rao bán tàu Ocean Queen với giá khởi điểm...</td>\n      <td>Giá khởi điểm hơn 300 tỷ đồng nói trên không b...</td>\n      <td>[(giá, 1), (khởi điểm, 0), (hơn, 1), (300, 0),...</td>\n      <td>[Giá, khởi_điểm, hơn, 300, tỷ, đồng, nói, trên...</td>\n      <td>[N, V, A, M, M, Nu, V, N, R, V, L, N, V, E, N,...</td>\n      <td>Giá khởi_điểm hơn 300 tỷ đồng nói trên không b...</td>\n    </tr>\n    <tr>\n      <th>4</th>\n      <td>PNJ trích dự phòng thêm 115 tỷ đồng, đặt kế ho...</td>\n      <td>Đồng thời PNJ dự kiến chỉ tiêu lợi nhuận 361...</td>\n      <td>[(đồng thời, 1), (pnj, 1), (dự kiến, 1), (chỉ ...</td>\n      <td>[Đồng_thời, PNJ, dự_kiến, chỉ_tiêu, lợi_nhuận,...</td>\n      <td>[C, Ny, V, N, N, M, M, M, Nu, V, M, V, E, N, M...</td>\n      <td>Đồng_thời PNJ dự_kiến chỉ_tiêu lợi_nhuận 361 4...</td>\n    </tr>\n  </tbody>\n</table>\n</div>"
     },
     "metadata": {},
     "execution_count": 373
    }
   ],
   "source": [
    "X_test.head()"
   ]
  },
  {
   "cell_type": "code",
   "execution_count": 374,
   "metadata": {},
   "outputs": [],
   "source": [
    "tfidf_matrix = tfidf.transform(X_test['form_text'])\n",
    "feature_names = tfidf.get_feature_names()\n",
    "\n",
    "def get_ifidf_for_words(text):\n",
    "    tfidf_matrix= tfidf.transform([text]).todense()\n",
    "    feature_index = tfidf_matrix[0,:].nonzero()[1]\n",
    "    tfidf_scores = zip([feature_names[i] for i in feature_index], [tfidf_matrix[0, x] for x in feature_index])\n",
    "    return dict(tfidf_scores)\n",
    "\n",
    "X_test['ifidf_for_words'] = X_test['form_text'].apply(lambda x : get_ifidf_for_words(x))\n",
    "\n",
    "tfidf_docs = []\n",
    "for i,row in X_test[['form','ifidf_for_words']].iterrows():\n",
    "    tfidf_docs.append(get_tfidf_for_docs(row['form'],row['ifidf_for_words']))\n",
    "X_test['tfidf_docs'] = tfidf_docs\n",
    "X_test = X_test.reset_index()\n",
    "combine_feature(X_test)\n"
   ]
  },
  {
   "cell_type": "code",
   "execution_count": 269,
   "metadata": {},
   "outputs": [],
   "source": [
    "X_train['y'] = y_train\n",
    "X_test['y'] = y_test\n",
    "\n",
    "X_train[['NewsTitle','NewsFullContent','y']].to_csv('training.csv')\n",
    "X_test[['NewsTitle','NewsFullContent','y']].to_csv('testing.csv')"
   ]
  },
  {
   "cell_type": "code",
   "execution_count": 182,
   "metadata": {},
   "outputs": [
    {
     "output_type": "execute_result",
     "data": {
      "text/plain": [
       "0      [1, 1, 0, 1, 1, 1, 1, 1, 0, 0, 0, 1, 0, 1, 1, ...\n",
       "1      [0, 1, 0, 1, 1, 1, 1, 1, 1, 0, 0, 1, 1, 0, 1, ...\n",
       "2      [1, 0, 0, 1, 0, 0, 1, 0, 0, 1, 1, 0, 1, 0, 1, ...\n",
       "3      [1, 0, 1, 1, 0, 0, 1, 1, 1, 0, 1, 0, 0, 1, 0, ...\n",
       "4      [1, 1, 1, 0, 0, 1, 1, 1, 0, 1, 0, 1, 0, 0, 0, ...\n",
       "                             ...                        \n",
       "514    [1, 1, 1, 1, 1, 1, 0, 0, 1, 1, 1, 1, 0, 1, 1, ...\n",
       "515    [1, 0, 1, 1, 1, 1, 0, 0, 1, 0, 0, 1, 1, 1, 0, ...\n",
       "516    [1, 0, 1, 1, 1, 1, 1, 0, 1, 0, 1, 1, 0, 0, 1, ...\n",
       "517    [0, 1, 0, 1, 1, 0, 0, 1, 0, 0, 1, 1, 0, 0, 1, ...\n",
       "518    [1, 1, 1, 1, 0, 1, 0, 1, 0, 0, 0, 0, 0, 1, 1, ...\n",
       "Name: y, Length: 519, dtype: object"
      ]
     },
     "metadata": {},
     "execution_count": 182
    }
   ],
   "source": [
    "X_train['y']"
   ]
  },
  {
   "cell_type": "code",
   "execution_count": 183,
   "metadata": {},
   "outputs": [],
   "source": [
    "def word2features(doc, i):\n",
    "    word = doc[i][0]\n",
    "    postag = doc[i][1]\n",
    "    tfidf = doc[i][2]\n",
    "    ner = doc[i][3]\n",
    "    title = doc[i][4]\n",
    "    # Common features for all words\n",
    "    features = [\n",
    "        'bias',\n",
    "        'word.lower=' + word.lower(),\n",
    "        'word.isner=%s' % ner,\n",
    "        'tfidf=%f' % tfidf,\n",
    "        'word.istitle=%s' % title,\n",
    "        'postag=' + postag\n",
    "    ]\n",
    "\n",
    "    # Features for words that are not\n",
    "    # at the beginning of a document\n",
    "    if i > 0:\n",
    "        word1 = doc[i-1][0]\n",
    "        postag1 = doc[i-1][1]\n",
    "        tfidf1 = doc[i-1][2]\n",
    "        ner1 = doc[i-1][3]\n",
    "        title1 = doc[i-1][4]\n",
    "        features.extend([\n",
    "            '-1:word.lower=' + word1.lower(),\n",
    "            '-1:word.isner=%s' % ner1,\n",
    "            '-1:tfidf=%f'  % tfidf1,\n",
    "            '-1:word.istitle=%s' % title1,\n",
    "            '-1:postag=' + postag1\n",
    "        ])\n",
    "    else:\n",
    "        # Indicate that it is the 'beginning of a document'\n",
    "        features.append('BOS')\n",
    "\n",
    "    # Features for words that are not\n",
    "    # at the end of a document\n",
    "    if i < len(doc)-1:\n",
    "        word1 = doc[i+1][0]\n",
    "        postag1 = doc[i+1][1]\n",
    "        tfidf1 = doc[i+1][2]\n",
    "        ner1 = doc[i+1][3]\n",
    "        title1 = doc[i+1][4]\n",
    "        features.extend([\n",
    "            '+1:word.lower=' + word1.lower(),\n",
    "            '+1:word.isner=%s' % ner1,\n",
    "            '+1:tfidf=%f'  % tfidf1,\n",
    "            '+1:word.istitle=%s' % title1,\n",
    "            '+1:postag=' + postag1\n",
    "        ])\n",
    "    else:\n",
    "        # Indicate that it is the 'end of a document'\n",
    "        features.append('EOS')\n",
    "\n",
    "    return features"
   ]
  },
  {
   "cell_type": "code",
   "execution_count": 184,
   "metadata": {},
   "outputs": [],
   "source": [
    "def extract_features(doc):\n",
    "    return [word2features(doc, i) for i in range(len(doc))]\n",
    "\n",
    "\n",
    "X_train1 = [extract_features(doc) for doc in X_train['features']]\n",
    "X_test1 = [extract_features(doc) for doc in X_test['features']]"
   ]
  },
  {
   "cell_type": "code",
   "execution_count": 195,
   "metadata": {},
   "outputs": [],
   "source": [
    "def convert(y):\n",
    "    y_ = y.copy()\n",
    "    for i in range(len(y)):\n",
    "        if y_[i] == 0:\n",
    "            y_[i] = 'N'\n",
    "        else:\n",
    "            y_[i] = 'I'\n",
    "    return y_\n",
    "\n"
   ]
  },
  {
   "cell_type": "code",
   "execution_count": 186,
   "metadata": {},
   "outputs": [],
   "source": [
    "for i in range(len(y_train)):\n",
    "    y_train[i] = convert(y_train[i])\n",
    "for i in range(len(y_test)):\n",
    "    y_test[i] = convert(y_test[i])"
   ]
  },
  {
   "cell_type": "code",
   "execution_count": 198,
   "metadata": {},
   "outputs": [],
   "source": [
    "from sklearn_crfsuite import CRF"
   ]
  },
  {
   "cell_type": "code",
   "execution_count": 199,
   "metadata": {},
   "outputs": [
    {
     "output_type": "execute_result",
     "data": {
      "text/plain": [
       "CRF(algorithm='lbfgs', all_possible_transitions=True, c1=0.1, c2=0.1,\n",
       "    keep_tempfiles=None, max_iterations=200)"
      ]
     },
     "metadata": {},
     "execution_count": 199
    }
   ],
   "source": [
    "crf = CRF(\n",
    "    algorithm='lbfgs',\n",
    "    c1=0.1,\n",
    "    c2=0.1,\n",
    "    max_iterations=200,\n",
    "    all_possible_transitions=True\n",
    ")\n",
    "crf.fit(X_train1, y_train)"
   ]
  },
  {
   "cell_type": "code",
   "execution_count": 242,
   "metadata": {},
   "outputs": [],
   "source": [
    "y_pred = crf.predict(X_test1)"
   ]
  },
  {
   "cell_type": "code",
   "execution_count": 248,
   "metadata": {},
   "outputs": [
    {
     "output_type": "execute_result",
     "data": {
      "text/plain": [
       "0.9908300341758874"
      ]
     },
     "metadata": {},
     "execution_count": 248
    }
   ],
   "source": [
    "import numpy as np\n",
    "from sklearn.metrics import classification_report\n",
    "\n",
    "\n",
    "crf.score(X_test1, y_test)"
   ]
  },
  {
   "cell_type": "code",
   "execution_count": 270,
   "metadata": {},
   "outputs": [],
   "source": [
    "data_test =  pd.read_csv('testing.csv')\n",
    "test_ner = pd.read_csv('testing_feature.csv')"
   ]
  },
  {
   "cell_type": "code",
   "execution_count": 271,
   "metadata": {},
   "outputs": [],
   "source": [
    "data_test = pd.concat([data_test, test_ner], axis=1).drop('Unnamed: 0',axis=1)"
   ]
  },
  {
   "cell_type": "code",
   "execution_count": 272,
   "metadata": {},
   "outputs": [
    {
     "output_type": "execute_result",
     "data": {
      "text/plain": [
       "                                           NewsTitle  \\\n",
       "0  Hai nguyên phó tổng giám đốc BIDV \"chia nhau\" ...   \n",
       "1  VIC - Thông qua chuyển nhượng cổ phần tại BĐS ...   \n",
       "2                 Masan Group bổ nhiệm Tổng giám đốc   \n",
       "3  ADB cung cấp 300 triệu USD vốn vay cho BIDV để...   \n",
       "4              BIDV được chào bán 510 triệu cổ phiếu   \n",
       "\n",
       "                                     NewsFullContent  \\\n",
       "0  14 giờ chiều nay 2 11 TAND TP Hà Nội đã tuyên ...   \n",
       "1    Theo đó Hội đồng quản trị thống nhất chuyển ...   \n",
       "2  Ông Danny Le  sinh năm 1984  – người được bổ n...   \n",
       "3  Hợp đồng vay tín chấp này bao gồm khoản vay A ...   \n",
       "4    Theo đó BIDV được phát hành và chào bán 510 ...   \n",
       "\n",
       "                                                   y  \\\n",
       "0  [0, 1, 1, 1, 0, 0, 1, 1, 1, 0, 0, 0, 0, 0, 1, ...   \n",
       "1  [1, 0, 1, 1, 1, 0, 0, 1, 1, 1, 0, 1, 1, 1, 0, ...   \n",
       "2  [1, 1, 1, 1, 0, 0, 0, 1, 1, 1, 0, 1, 1, 1, 1, ...   \n",
       "3  [1, 1, 0, 0, 1, 0, 1, 0, 0, 0, 1, 0, 0, 1, 1, ...   \n",
       "4  [1, 0, 1, 1, 1, 0, 1, 0, 0, 0, 1, 1, 0, 0, 1, ...   \n",
       "\n",
       "                                         name_entity  \\\n",
       "0  [False, False, False, False, False, False, Tru...   \n",
       "1  [False, False, False, False, False, False, Fal...   \n",
       "2  [True, True, False, False, False, False, False...   \n",
       "3  [False, False, False, False, False, False, Fal...   \n",
       "4  [False, False, True, False, False, False, Fals...   \n",
       "\n",
       "                                           title_tag  \n",
       "0  [True, False, False, False, False, False, Fals...  \n",
       "1  [False, False, False, False, True, False, Fals...  \n",
       "2  [False, False, False, False, False, False, Fal...  \n",
       "3  [False, True, False, False, False, False, True...  \n",
       "4  [False, False, True, True, False, False, True,...  "
      ],
      "text/html": "<div>\n<style scoped>\n    .dataframe tbody tr th:only-of-type {\n        vertical-align: middle;\n    }\n\n    .dataframe tbody tr th {\n        vertical-align: top;\n    }\n\n    .dataframe thead th {\n        text-align: right;\n    }\n</style>\n<table border=\"1\" class=\"dataframe\">\n  <thead>\n    <tr style=\"text-align: right;\">\n      <th></th>\n      <th>NewsTitle</th>\n      <th>NewsFullContent</th>\n      <th>y</th>\n      <th>name_entity</th>\n      <th>title_tag</th>\n    </tr>\n  </thead>\n  <tbody>\n    <tr>\n      <th>0</th>\n      <td>Hai nguyên phó tổng giám đốc BIDV \"chia nhau\" ...</td>\n      <td>14 giờ chiều nay 2 11 TAND TP Hà Nội đã tuyên ...</td>\n      <td>[0, 1, 1, 1, 0, 0, 1, 1, 1, 0, 0, 0, 0, 0, 1, ...</td>\n      <td>[False, False, False, False, False, False, Tru...</td>\n      <td>[True, False, False, False, False, False, Fals...</td>\n    </tr>\n    <tr>\n      <th>1</th>\n      <td>VIC - Thông qua chuyển nhượng cổ phần tại BĐS ...</td>\n      <td>Theo đó Hội đồng quản trị thống nhất chuyển ...</td>\n      <td>[1, 0, 1, 1, 1, 0, 0, 1, 1, 1, 0, 1, 1, 1, 0, ...</td>\n      <td>[False, False, False, False, False, False, Fal...</td>\n      <td>[False, False, False, False, True, False, Fals...</td>\n    </tr>\n    <tr>\n      <th>2</th>\n      <td>Masan Group bổ nhiệm Tổng giám đốc</td>\n      <td>Ông Danny Le  sinh năm 1984  – người được bổ n...</td>\n      <td>[1, 1, 1, 1, 0, 0, 0, 1, 1, 1, 0, 1, 1, 1, 1, ...</td>\n      <td>[True, True, False, False, False, False, False...</td>\n      <td>[False, False, False, False, False, False, Fal...</td>\n    </tr>\n    <tr>\n      <th>3</th>\n      <td>ADB cung cấp 300 triệu USD vốn vay cho BIDV để...</td>\n      <td>Hợp đồng vay tín chấp này bao gồm khoản vay A ...</td>\n      <td>[1, 1, 0, 0, 1, 0, 1, 0, 0, 0, 1, 0, 0, 1, 1, ...</td>\n      <td>[False, False, False, False, False, False, Fal...</td>\n      <td>[False, True, False, False, False, False, True...</td>\n    </tr>\n    <tr>\n      <th>4</th>\n      <td>BIDV được chào bán 510 triệu cổ phiếu</td>\n      <td>Theo đó BIDV được phát hành và chào bán 510 ...</td>\n      <td>[1, 0, 1, 1, 1, 0, 1, 0, 0, 0, 1, 1, 0, 0, 1, ...</td>\n      <td>[False, False, True, False, False, False, Fals...</td>\n      <td>[False, False, True, True, False, False, True,...</td>\n    </tr>\n  </tbody>\n</table>\n</div>"
     },
     "metadata": {},
     "execution_count": 272
    }
   ],
   "source": [
    "data_test.head()"
   ]
  },
  {
   "cell_type": "code",
   "execution_count": 273,
   "metadata": {},
   "outputs": [
    {
     "output_type": "error",
     "ename": "KeyError",
     "evalue": "'label'",
     "traceback": [
      "\u001b[1;31m---------------------------------------------------------------------------\u001b[0m",
      "\u001b[1;31mKeyError\u001b[0m                                  Traceback (most recent call last)",
      "\u001b[1;32m~\\Anaconda3\\lib\\site-packages\\pandas\\core\\indexes\\base.py\u001b[0m in \u001b[0;36mget_loc\u001b[1;34m(self, key, method, tolerance)\u001b[0m\n\u001b[0;32m   2645\u001b[0m             \u001b[1;32mtry\u001b[0m\u001b[1;33m:\u001b[0m\u001b[1;33m\u001b[0m\u001b[1;33m\u001b[0m\u001b[0m\n\u001b[1;32m-> 2646\u001b[1;33m                 \u001b[1;32mreturn\u001b[0m \u001b[0mself\u001b[0m\u001b[1;33m.\u001b[0m\u001b[0m_engine\u001b[0m\u001b[1;33m.\u001b[0m\u001b[0mget_loc\u001b[0m\u001b[1;33m(\u001b[0m\u001b[0mkey\u001b[0m\u001b[1;33m)\u001b[0m\u001b[1;33m\u001b[0m\u001b[1;33m\u001b[0m\u001b[0m\n\u001b[0m\u001b[0;32m   2647\u001b[0m             \u001b[1;32mexcept\u001b[0m \u001b[0mKeyError\u001b[0m\u001b[1;33m:\u001b[0m\u001b[1;33m\u001b[0m\u001b[1;33m\u001b[0m\u001b[0m\n",
      "\u001b[1;32mpandas\\_libs\\index.pyx\u001b[0m in \u001b[0;36mpandas._libs.index.IndexEngine.get_loc\u001b[1;34m()\u001b[0m\n",
      "\u001b[1;32mpandas\\_libs\\index.pyx\u001b[0m in \u001b[0;36mpandas._libs.index.IndexEngine.get_loc\u001b[1;34m()\u001b[0m\n",
      "\u001b[1;32mpandas\\_libs\\hashtable_class_helper.pxi\u001b[0m in \u001b[0;36mpandas._libs.hashtable.PyObjectHashTable.get_item\u001b[1;34m()\u001b[0m\n",
      "\u001b[1;32mpandas\\_libs\\hashtable_class_helper.pxi\u001b[0m in \u001b[0;36mpandas._libs.hashtable.PyObjectHashTable.get_item\u001b[1;34m()\u001b[0m\n",
      "\u001b[1;31mKeyError\u001b[0m: 'label'",
      "\nDuring handling of the above exception, another exception occurred:\n",
      "\u001b[1;31mKeyError\u001b[0m                                  Traceback (most recent call last)",
      "\u001b[1;32m<ipython-input-273-38e4137b865e>\u001b[0m in \u001b[0;36m<module>\u001b[1;34m\u001b[0m\n\u001b[1;32m----> 1\u001b[1;33m \u001b[0mdata_test\u001b[0m\u001b[1;33m[\u001b[0m\u001b[1;34m'list_label'\u001b[0m\u001b[1;33m]\u001b[0m \u001b[1;33m=\u001b[0m \u001b[0mdata_test\u001b[0m\u001b[1;33m[\u001b[0m\u001b[1;34m'label'\u001b[0m\u001b[1;33m]\u001b[0m\u001b[1;33m.\u001b[0m\u001b[0mapply\u001b[0m\u001b[1;33m(\u001b[0m\u001b[1;32mlambda\u001b[0m \u001b[0mx\u001b[0m\u001b[1;33m:\u001b[0m \u001b[0mast\u001b[0m\u001b[1;33m.\u001b[0m\u001b[0mliteral_eval\u001b[0m\u001b[1;33m(\u001b[0m\u001b[0mx\u001b[0m\u001b[1;33m)\u001b[0m\u001b[1;33m)\u001b[0m\u001b[1;33m\u001b[0m\u001b[1;33m\u001b[0m\u001b[0m\n\u001b[0m\u001b[0;32m      2\u001b[0m \u001b[1;32mdef\u001b[0m \u001b[0mget_y\u001b[0m\u001b[1;33m(\u001b[0m\u001b[0mtext\u001b[0m\u001b[1;33m)\u001b[0m\u001b[1;33m:\u001b[0m\u001b[1;33m\u001b[0m\u001b[1;33m\u001b[0m\u001b[0m\n\u001b[0;32m      3\u001b[0m     \u001b[1;32mreturn\u001b[0m \u001b[1;33m[\u001b[0m\u001b[0mword\u001b[0m\u001b[1;33m[\u001b[0m\u001b[1;36m1\u001b[0m\u001b[1;33m]\u001b[0m \u001b[1;32mfor\u001b[0m \u001b[0mword\u001b[0m \u001b[1;32min\u001b[0m \u001b[0mtext\u001b[0m\u001b[1;33m]\u001b[0m\u001b[1;33m\u001b[0m\u001b[1;33m\u001b[0m\u001b[0m\n\u001b[0;32m      4\u001b[0m \u001b[0my_data_test\u001b[0m \u001b[1;33m=\u001b[0m \u001b[0mdata_test\u001b[0m\u001b[1;33m[\u001b[0m\u001b[1;34m'list_label'\u001b[0m\u001b[1;33m]\u001b[0m\u001b[1;33m.\u001b[0m\u001b[0mapply\u001b[0m\u001b[1;33m(\u001b[0m\u001b[1;32mlambda\u001b[0m \u001b[0mx\u001b[0m\u001b[1;33m:\u001b[0m \u001b[0mget_y\u001b[0m\u001b[1;33m(\u001b[0m\u001b[0mx\u001b[0m\u001b[1;33m)\u001b[0m\u001b[1;33m)\u001b[0m\u001b[1;33m.\u001b[0m\u001b[0mto_list\u001b[0m\u001b[1;33m(\u001b[0m\u001b[1;33m)\u001b[0m\u001b[1;33m\u001b[0m\u001b[1;33m\u001b[0m\u001b[0m\n",
      "\u001b[1;32m~\\Anaconda3\\lib\\site-packages\\pandas\\core\\frame.py\u001b[0m in \u001b[0;36m__getitem__\u001b[1;34m(self, key)\u001b[0m\n\u001b[0;32m   2798\u001b[0m             \u001b[1;32mif\u001b[0m \u001b[0mself\u001b[0m\u001b[1;33m.\u001b[0m\u001b[0mcolumns\u001b[0m\u001b[1;33m.\u001b[0m\u001b[0mnlevels\u001b[0m \u001b[1;33m>\u001b[0m \u001b[1;36m1\u001b[0m\u001b[1;33m:\u001b[0m\u001b[1;33m\u001b[0m\u001b[1;33m\u001b[0m\u001b[0m\n\u001b[0;32m   2799\u001b[0m                 \u001b[1;32mreturn\u001b[0m \u001b[0mself\u001b[0m\u001b[1;33m.\u001b[0m\u001b[0m_getitem_multilevel\u001b[0m\u001b[1;33m(\u001b[0m\u001b[0mkey\u001b[0m\u001b[1;33m)\u001b[0m\u001b[1;33m\u001b[0m\u001b[1;33m\u001b[0m\u001b[0m\n\u001b[1;32m-> 2800\u001b[1;33m             \u001b[0mindexer\u001b[0m \u001b[1;33m=\u001b[0m \u001b[0mself\u001b[0m\u001b[1;33m.\u001b[0m\u001b[0mcolumns\u001b[0m\u001b[1;33m.\u001b[0m\u001b[0mget_loc\u001b[0m\u001b[1;33m(\u001b[0m\u001b[0mkey\u001b[0m\u001b[1;33m)\u001b[0m\u001b[1;33m\u001b[0m\u001b[1;33m\u001b[0m\u001b[0m\n\u001b[0m\u001b[0;32m   2801\u001b[0m             \u001b[1;32mif\u001b[0m \u001b[0mis_integer\u001b[0m\u001b[1;33m(\u001b[0m\u001b[0mindexer\u001b[0m\u001b[1;33m)\u001b[0m\u001b[1;33m:\u001b[0m\u001b[1;33m\u001b[0m\u001b[1;33m\u001b[0m\u001b[0m\n\u001b[0;32m   2802\u001b[0m                 \u001b[0mindexer\u001b[0m \u001b[1;33m=\u001b[0m \u001b[1;33m[\u001b[0m\u001b[0mindexer\u001b[0m\u001b[1;33m]\u001b[0m\u001b[1;33m\u001b[0m\u001b[1;33m\u001b[0m\u001b[0m\n",
      "\u001b[1;32m~\\Anaconda3\\lib\\site-packages\\pandas\\core\\indexes\\base.py\u001b[0m in \u001b[0;36mget_loc\u001b[1;34m(self, key, method, tolerance)\u001b[0m\n\u001b[0;32m   2646\u001b[0m                 \u001b[1;32mreturn\u001b[0m \u001b[0mself\u001b[0m\u001b[1;33m.\u001b[0m\u001b[0m_engine\u001b[0m\u001b[1;33m.\u001b[0m\u001b[0mget_loc\u001b[0m\u001b[1;33m(\u001b[0m\u001b[0mkey\u001b[0m\u001b[1;33m)\u001b[0m\u001b[1;33m\u001b[0m\u001b[1;33m\u001b[0m\u001b[0m\n\u001b[0;32m   2647\u001b[0m             \u001b[1;32mexcept\u001b[0m \u001b[0mKeyError\u001b[0m\u001b[1;33m:\u001b[0m\u001b[1;33m\u001b[0m\u001b[1;33m\u001b[0m\u001b[0m\n\u001b[1;32m-> 2648\u001b[1;33m                 \u001b[1;32mreturn\u001b[0m \u001b[0mself\u001b[0m\u001b[1;33m.\u001b[0m\u001b[0m_engine\u001b[0m\u001b[1;33m.\u001b[0m\u001b[0mget_loc\u001b[0m\u001b[1;33m(\u001b[0m\u001b[0mself\u001b[0m\u001b[1;33m.\u001b[0m\u001b[0m_maybe_cast_indexer\u001b[0m\u001b[1;33m(\u001b[0m\u001b[0mkey\u001b[0m\u001b[1;33m)\u001b[0m\u001b[1;33m)\u001b[0m\u001b[1;33m\u001b[0m\u001b[1;33m\u001b[0m\u001b[0m\n\u001b[0m\u001b[0;32m   2649\u001b[0m         \u001b[0mindexer\u001b[0m \u001b[1;33m=\u001b[0m \u001b[0mself\u001b[0m\u001b[1;33m.\u001b[0m\u001b[0mget_indexer\u001b[0m\u001b[1;33m(\u001b[0m\u001b[1;33m[\u001b[0m\u001b[0mkey\u001b[0m\u001b[1;33m]\u001b[0m\u001b[1;33m,\u001b[0m \u001b[0mmethod\u001b[0m\u001b[1;33m=\u001b[0m\u001b[0mmethod\u001b[0m\u001b[1;33m,\u001b[0m \u001b[0mtolerance\u001b[0m\u001b[1;33m=\u001b[0m\u001b[0mtolerance\u001b[0m\u001b[1;33m)\u001b[0m\u001b[1;33m\u001b[0m\u001b[1;33m\u001b[0m\u001b[0m\n\u001b[0;32m   2650\u001b[0m         \u001b[1;32mif\u001b[0m \u001b[0mindexer\u001b[0m\u001b[1;33m.\u001b[0m\u001b[0mndim\u001b[0m \u001b[1;33m>\u001b[0m \u001b[1;36m1\u001b[0m \u001b[1;32mor\u001b[0m \u001b[0mindexer\u001b[0m\u001b[1;33m.\u001b[0m\u001b[0msize\u001b[0m \u001b[1;33m>\u001b[0m \u001b[1;36m1\u001b[0m\u001b[1;33m:\u001b[0m\u001b[1;33m\u001b[0m\u001b[1;33m\u001b[0m\u001b[0m\n",
      "\u001b[1;32mpandas\\_libs\\index.pyx\u001b[0m in \u001b[0;36mpandas._libs.index.IndexEngine.get_loc\u001b[1;34m()\u001b[0m\n",
      "\u001b[1;32mpandas\\_libs\\index.pyx\u001b[0m in \u001b[0;36mpandas._libs.index.IndexEngine.get_loc\u001b[1;34m()\u001b[0m\n",
      "\u001b[1;32mpandas\\_libs\\hashtable_class_helper.pxi\u001b[0m in \u001b[0;36mpandas._libs.hashtable.PyObjectHashTable.get_item\u001b[1;34m()\u001b[0m\n",
      "\u001b[1;32mpandas\\_libs\\hashtable_class_helper.pxi\u001b[0m in \u001b[0;36mpandas._libs.hashtable.PyObjectHashTable.get_item\u001b[1;34m()\u001b[0m\n",
      "\u001b[1;31mKeyError\u001b[0m: 'label'"
     ]
    }
   ],
   "source": [
    "data_test['list_label'] = data_test['label'].apply(lambda x: ast.literal_eval(x))\n",
    "def get_y(text):\n",
    "    return [word[1] for word in text]\n",
    "y_data_test = data_test['list_label'].apply(lambda x: get_y(x)).to_list()"
   ]
  },
  {
   "cell_type": "code",
   "execution_count": 274,
   "metadata": {},
   "outputs": [],
   "source": [
    "data_test['name_entity'] = data_test['name_entity'].apply(convertBoolArr)\n",
    "data_test['title_tag'] = data_test['title_tag'].apply(convertBoolArr)"
   ]
  },
  {
   "cell_type": "code",
   "execution_count": 275,
   "metadata": {
    "tags": [
     "outputPrepend"
    ]
   },
   "outputs": [
    {
     "output_type": "stream",
     "name": "stdout",
     "text": [
      "ắm', '–', 'giải_trí']\n['Lý_do', 'là', 'quy_hoạch', 'chưa', 'được', 'phê_duyệt', 'và', 'Vingroup', 'đề_nghị', 'không', 'tiếp_tục', 'nghiên_cứu', 'quy_hoạch', 'Tổ_hợp', 'sân', 'golf', 'nghỉ_dưỡng', 'khu', 'đồi', 'Khe_Chè', 'được', 'kêu_gọi', 'đầu_tư', 'Ảnh_TTXTĐT_Quảng_Ninh', 'UBND', 'tỉnh', 'Quảng_Ninh', 'vừa', 'quyết_định', 'thu_hồi', 'địa_điểm', 'nghiên_cứu', 'quy_hoạch', 'tổ_hợp', 'sân', 'golf', ';', 'khu', 'du_lịch', 'vui_chơi', 'giải_trí', 'khách_sạn', '5', 'sao', 'biệt_thự', 'cao_cấp', 'tại', 'khu', 'hồ', 'Khe_Chè', 'thị_xã', 'Đông_Triều', 'Dự_án', 'này', 'đã', 'được', 'tỉnh', 'đồng_ý', 'chủ_trương', 'để', 'Tập_đoàn', 'Vingroup', 'nghiên_cứu', 'quy_hoạch', 'từ', 'năm', '2017', 'có', '2', 'lần', 'nghe', 'tập_đoàn', 'báo_cáo', 'phương_án', 'quy_hoạch', 'trong', 'năm', '2018', 'Tuy_nhiên', 'đến', 'nay', 'quy_hoạch', 'chưa', 'được', 'phê_duyệt', 'và', 'Vingroup', 'đề_nghị', 'không', 'tiếp_tục', 'nghiên_cứu', 'quy_hoạch', 'UBND', 'tỉnh', 'huỷ_bỏ', 'các', 'văn_bản', 'ban_hành', 'liên_quan', 'quá_trình', 'triển_khai', 'nghiên_cứu', 'quy_hoạch', 'dự_án', 'UBND', 'thị_xã', 'Đông_Triều', 'cần', 'xây_dựng', 'lại', 'khu_vực', 'theo', 'định_hướng', 'quy_hoạch', 'chung_quy_hoạch', 'phân_khu', 'tỷ_lệ', '1/2', '000', 'khu_vực', 'được', 'phê_duyệt', 'Dự_án', 'trên', 'nằm', 'trong', 'danh_mục', 'kêu_gọi', 'thu_hút', 'đầu_tư', 'của', 'tỉnh', 'Quảng_Ninh', 'từ', 'năm', '2015', 'Theo', 'đó', 'diện_tích', 'nghiên_cứu', 'quy_hoạch', 'khoảng', '270', 'ha', 'đầu_tư', 'sân', 'golf', '27', 'lỗ', 'Vốn', 'đầu_tư', 'dự_kiến', 'do', 'nhà_đầu_tư', 'đề_xuất', 'Tiến_độ', 'thực_hiện', 'dự_kiến', '2016', '2020', 'Dự_án', 'lúc', 'này', 'đã', 'được', 'cập_nhật', 'vào', 'quy_hoạch', 'chung', 'chưa', 'triển_khai', 'lập', 'quy_hoạch', 'lập', 'dự_án', 'đầu_tư', 'Trong', 'một', 'phương_án', 'quy_hoạch', 'từng', 'được', 'Vingroup', 'nêu', 'ra', 'Chủ_tịch', 'UBND', 'Quảng_Ninh', 'Nguyễn_Đức_Long', 'đã', 'yêu_cầu', 'trước_mắt', 'nghiên_cứu', 'sân', 'golf', '18', 'lỗ', 'diện_tích', 'tối_đa', '100', 'ha', 'và', 'dành', 'quỹ', 'đất', 'dự_trữ', 'phù_hợp', 'để', 'bố_trí', 'sân', 'golf', '9', 'lỗ', 'ở', 'giai_đoạn', 'sau', 'để', 'phù_hợp', 'với', 'điều_chỉnh', 'Quy_hoạch', 'sử_dụng', 'đất', 'đến', 'hết', 'năm', '2020', 'và', 'kế_hoạch', 'sử_dụng', 'đất', '5', 'năm', 'kỳ', 'cuối', '2016', '2020', 'đã', 'được', 'phê_duyệt', 'Ông', 'Nguyễn_Đức_Long', 'cũng', 'đề_nghị', 'không', 'nghiên_cứu', 'vào', 'đất', 'rừng', 'tự_nhiên', 'hạn_chế', 'tối_đa', 'việc', 'nghiên_cứu', 'vào', 'diện_tích', 'đất', 'lúa', 'và', 'hạn_chế', 'tối_đa', 'san', 'gạt', 'địa_hình', ';', 'việc', 'bố_trí', 'bãi_tắm', 'và', 'khu_biệt', 'thự', 'cao_cấp', 'ở', 'phía', 'Bắc', 'bãi_tắm', 'chưa', 'phù_hợp', 'với', 'điều_kiện', 'địa_hình', 'và', 'cảnh_quan', 'chung', 'khu_vực', ';', 'nghiên_cứu', 'tầng', 'cao', 'khách_sạn', 'chính', '5', 'tầng', 'để', 'đảm_bảo', 'quy_hoạch', 'chung', 'xây_dựng']\n['Tên', 'cá_nhân', 'thực_hiện', 'giao_dịch', 'Đặng_Thanh_Thuý_Mã', 'chứng_khoán', 'VIC', 'Chức_vụ', 'hiện_nay', 'tại', 'tổ_chức', 'niêm_yết', 'Phó', 'TGĐ', 'Số_lượng', 'tỷ_lệ', 'cổ_phiếu', 'nắm', 'giữ', 'trước', 'khi', 'giao_dịch', '95', '148', 'CP', 'tỷ_lệ', '0', '01%', 'Số_lượng', 'CP', 'đăng_ký', 'bán', '11', '000', 'CP', 'Số_lượng', 'tỷ_lệ', 'cổ_phiếu', 'dự_định', 'nắm', 'giữ', 'sau', 'khi', 'thực_hiện', 'giao_dịch', '85', '148', 'CP', 'Mục_đích', 'thực_hiện', 'giao_dịch', 'nhu_cầu', 'tài_chính', 'cá_nhân', 'Phương_thức', 'giao_dịch', 'Khớp', 'lệnh', 'và', 'thoả_thuận', 'Thời_gian', 'dự_kiến', 'thực_hiện', 'giao_dịch', 'từ', 'ngày', '7/8', 'đến', 'ngày', '5/9']\n['Cụ_thể', 'ngày', '30/12', 'Công_ty', 'TNHH', 'Quản_lý', 'Quỹ_SSI', 'công_ty', 'con', 'được', 'SSI', 'sở_hữu', '100%', 'vốn', 'vừa', 'bán', 'thành_công', '4', '08', 'triệu', 'cổ_phiếu', 'ELC', 'qua', 'đó', 'giảm', 'tổng', 'tỷ_lệ', 'sở_hữu', 'trực_tiếp', 'và', 'gián_tiếp', 'của', 'SSI', 'tại', 'ELC', 'xuống', 'còn', '4', '089', 'triệu', 'cổ_phiếu', 'Do_đó', 'CTCP', 'Đầu_tư', 'Phát_triển', 'Công_nghệ', 'Điện_tử', 'Viễn_thông', 'ELC', 'HOSE', 'không', 'còn', 'là', 'công_ty', 'liên_kết', 'của', 'SSI', 'trên', 'báo_cáo', 'hợp_nhất', 'Được', 'biết', 'cách', 'đây', 'ít', 'ngày', 'Quản_lý', 'quỹ', 'SSI', 'SSIAM', 'cũng', 'vừa', 'bán', 'ra', 'toàn_bộ', 'hơn', '1', '43', 'triệu', 'cổ_phiếu', 'NSC', 'tương_đương', '9', '38%', 'vốn_điều_lệ', 'của', 'CTCP', 'Giống', 'cây_trồng', 'Trung_ương', 'Số', 'cổ_phiếu', 'này', 'là', 'phần', 'mà', 'SSIAM', 'đã', 'nhận', 'chuyển_nhượng', 'và', 'trở_thành', 'cổ_đông', 'lớn', 'của', 'NSC', 'hồi', 'tháng', '5/2015', 'Tải', 'file', 'gốc']\n['Theo', 'Báo_cáo', 'kết_quả', 'hoạt_động', 'kinh_doanh', '11', 'tháng', 'năm', '2019', 'của', 'Công_ty', 'Cổ_phần', 'Thế_Giới', 'Di_Động', 'MWG', 'doanh_thu', 'thuần', 'hợp_nhất', 'luỹ', 'kế', 'đạt', '93', '086', 'tỷ', 'đồng', 'và', 'lợi_nhuận', 'sau', 'thuế', 'đạt', '3', '542', 'tỷ', 'đồng', 'tương_ứng', 'với', 'mức_độ', 'tăng_trưởng', 'lần_lượt', 'là', '18%', 'và', '34%', 'so', 'với', 'cùng', 'kỳ', 'năm', '2018', 'Với', 'kết_quả', 'này', 'MWG', 'đã', 'hoàn_thành', '86%', 'kế_hoạch', 'về', 'doanh_thu', 'và', '99%', 'kế_hoạch', 'về', 'lợi_nhuận', 'sau', 'thuế', 'năm', '2019', 'Trong', 'cơ_cấu', 'doanh_thu', 'của', 'MWG', 'mảng', 'online', 'đóng_góp', 'đến', '13%', 'tương_ứng', 'với', 'doanh_thu', 'luỹ', 'kế', '11', 'tháng', 'là', '11', '832', 'triệu', 'đồng', 'tăng', '8%', 'so', 'với', 'thời_điểm', 'tháng', '11/2018', 'Nếu', 'tính', 'theo', 'chuỗi', 'thương_hiệu', 'Điện_Máy', 'Xanh', 'chiếm', 'tỷ_trọng', 'lớn', 'nhất', 'với', 'doanh_thu', '52', '885', 'tỷ', 'đồng', 'chiếm', '56', '81%', 'Thế_giới', 'di_động', 'mang', 'về', '30', '684', 'tỷ', 'đồng', 'chiếm', '33%', 'và', 'doanh_thu', 'của', 'Bách_hoá', 'xanh', 'là', '9', '421', 'tỷ', 'đồng', 'chiếm', '19', '12%', 'Theo', 'MWG', 'những', 'tháng', 'gần', 'đây', 'công_ty', 'vẫn', 'đang', 'duy_trì', 'biên', 'lợi_nhuận', 'gộp', 'ở', 'mức', '20%', 'tăng', '2%', 'so', 'với', 'mức', 'trung_bình', 'cả', 'năm', '2018', 'và', '6', 'tháng', '2019', 'Biên', 'lợi_nhuận', 'ròng', 'luỹ', 'kế', '11', 'tháng', 'ở', 'mức', '3', '8%', 'cao', 'hơn', 'mức', '3', '3%', 'của', 'cùng', 'kỳ', 'năm', 'trước', 'Đại_diện', 'của', 'MWG', 'cho', 'biết', 'trung_bình', 'doanh_nghiệp', 'này', 'mở', 'mới', '4', 'cửa_hàng', 'mỗi', 'ngày', 'trong', 'tháng', '11', 'Tính', 'đến', 'hết', 'tháng', '11', 'MWG', 'có', '2', '929', 'cửa_hàng', 'trong', 'đó', 'chuỗi', 'Điện_máy', 'xanh', 'có', '983', 'cửa_hàng', 'và', 'Bách_hoá', 'xanh', 'có', '938', 'điểm', 'bán', 'Mục_tiêu', 'đến', 'cuối', 'năm', '2019', 'hai', 'chuỗi', 'này', 'sẽ', 'đạt', 'đến', '1', '000', 'cửa_hàng', 'trên', 'khắp', 'Việt_Nam', 'Hội_đồng_Quản_trị', 'MWG', 'cũng', 'vừa_mới', 'thông_qua', 'kế_hoạch', 'kinh_doanh', 'năm', '2020', 'theo', 'đó', 'chỉ_tiêu', 'doanh_thu', 'thuần', 'dự_kiến', 'đạt', '122', '445', 'tỷ', 'đồng', 'và', 'Lợi_nhuận', 'sau', 'thuế', 'ước', 'đạt', '4', '835', 'tỷ', 'đồng', 'vào', 'năm', '2020', 'Để', 'thực_hiện', 'kế_hoạch', 'này', 'MWG', 'sẽ', 'vẫn', 'tập_trung', 'vào', 'hoạt_động', 'kinh_doanh', 'bán_lẻ', 'sản_phẩm', 'điện_thoại', 'và', 'điện_máy', 'đồng_thời', 'kỳ_vọng', 'mảng', 'thực_phẩm', 'và', 'hàng_tiêu_dùng', 'thiết_yếu', 'trong', 'năm', 'tới', 'sẽ', 'tăng_trưởng', 'nhanh', 'nhất', 'với', 'tốc_độ', 'trên', '100%', 'so', 'với', 'năm', '2019']\n['Công_ty', 'cổ_phần', 'Đầu_tư', 'Thế_giới', 'Di_động', 'Mã_MWG', 'tiền_thân', 'là', 'Công_ty', 'TNHH', 'Thế_giới', 'Di_động', 'thành_lập', 'vào', 'tháng', '3/2004', 'Tới', 'năm', '2007', 'tiếp_nhận', 'vốn', 'đầu_tư', 'của', 'quỹ', 'Mekong_Capital', 'công_ty', 'chuyển_đổi', 'sang', 'hình_thức', 'công_ty', 'cổ_phần', 'và', 'đến', 'năm', '2009', 'Công_ty', 'cổ_phần', 'Đầu_tư', 'Thế_giới', 'Di_động', 'được', 'thành_lập', '\"', 'Đế_chế', '\"', 'tỷ', 'đô', 'Trải', 'qua', '9', 'năm', 'phát_triển', 'Thế_giới', 'Di_động', 'từ', 'một', 'doanh_nghiệp', 'với', 'doanh_thu', 'hơn', '86', 'triệu', 'USD', 'đến', 'hết', 'năm', '2017', 'doanh_thu', 'chạm', 'mốc', '2', '9', 'tỷ', 'USD', 'đứng_số', '1', 'Việt_Nam', 'về', 'thị_phần', 'bán_lẻ', 'điện_thoại_di_động', 'Không_chỉ', '\"', 'làm_mưa_làm_gió', '\"', 'mảng', 'bán', 'ẻ', 'điện_thoại', 'Công_ty', 'lấn', 'sang', 'mảng', 'điện_máy', 'với', 'chuỗi', 'Điện_máy', 'Xanh', 'với', 'tốc_độ', 'tăng_trưởng', 'chóng_mặt', 'cả', 'về', 'số_lượng', 'cửa_hàng', 'và', 'doanh_thu', '11', 'tháng', 'đầu', 'năm', '2017', 'doanh_thu', 'chuỗi', 'Điện_máy', 'Xanh', 'tăng', '124%', 'so', 'với', 'cùng', 'kỳ', '2016', 'đạt', '26', '091', 'tỷ', 'đồng', 'đóng_góp', '44%', 'vào', 'tổng', 'doanh_thu', 'Cuối', 'năm', '2017', 'Thế_giới', 'Di_động', 'đã', 'hoàn_tất', 'thương_vụ', 'thâu_tóm', 'Công_ty', 'cổ_phần', 'Thế_giới', 'số', 'Trần_Anh_Mã_TAG', 'và', 'sắp', 'hoàn_tất', 'nâng', 'sở_hữu', 'lên', '100%', 'cùng', 'thay_đổi', 'hàng_loạt', 'nhân_sự', 'cấp', 'cao', 'tại', 'đây', 'Trần_Anh', 'là', 'hệ_thống', 'điện_máy', 'có', 'quy_mô', 'lớn', 'ở', 'miền', 'Bắc', 'miền', 'Trung', 'với', 'số_lượng', '39', 'siêu_thị', 'chiếm', '14%', 'thị_phần', 'điện_máy', 'trên', 'cả', 'nước', 'Với', 'việc', 'sở_hữu', 'Trần_Anh', 'Thế_giới', 'Di_động', 'sẽ', 'tiếp_tục', 'mở_rộng', 'số_lượng', 'cửa_hàng', 'cũng', 'như', 'thị_phần', 'điện_máy', 'về', 'phía', 'Bắc', 'và', 'tiến', 'gần', 'đến', '\"', 'giấc', 'mơ', '10', 'tỷ', 'USD', '\"', 'Ngoài', 'mảng', 'điện_máy', 'công_ty', 'đã', 'chính_thức', 'mua', 'lại', 'chuỗi', 'dược_phẩm', 'Phúc_An_Khang', 'để', 'lấn_sân', 'sang', 'ngành', 'dược_phẩm', 'Phúc_An_Khang', 'là', 'chuỗi', 'bán_lẻ', 'dược_phẩm', 'được', 'thành_lập', 'từ', 'năm', '2006', 'với', 'khoảng', '20', 'cửa_hàng', 'tại', 'TP', 'HCM', 'Khi', 'thương_vụ', 'hoàn_tất', 'công_ty', 'sẽ', 'mở', 'cửa_hàng', 'mới', 'của', 'chuỗi', 'dược_phẩm', 'với', 'tên', 'gọi', 'nhà_thuốc', 'An_Khang', '\"', 'Đau_đầu', '\"', 'với', 'tồn_kho', 'Thế_Giới', 'Di_Động', 'vừa', 'công_bố', 'báo_cáo', 'tài_chính', 'hợp_nhất', 'quý', '4/2017', 'với', 'kết_quả', 'kinh_doanh', 'tiếp_tục', 'tăng_trưởng', 'so', 'với', 'các', 'kỳ', 'trước', 'Doanh_thu', 'quý', '4', 'của', 'công_ty', 'đạt', 'hơn', '19', '000', 'tỷ', 'đồng', 'lợi_nhuận', 'sau', 'thuế', '572', 'tỷ', 'đồng', 'tăng', '33%', 'và', '60%', 'so', 'với', 'cùng', 'kỳ', 'năm', '2016', 'Luỹ', 'kế', 'cả', 'năm', '2017', 'MWG', 'đạt', '66', '339', 'tỷ', 'đồng', 'doanh_thu', 'thuần', 'tăng', '48%', 'so', 'với', '2016', 'Lợi_nhuận', 'gộp', 'đạt', '11', '141', 'tỷ', 'đồng', 'tăng', 'vọt', 'tới', '54%', 'so', 'với', 'năm', 'trước', 'MWG', 'đạt', '2', '206', 'tỷ', 'đồng', 'lợi_nhuận', 'sau', 'thuế', 'cả', 'năm', 'tăng', '39%', 'so', 'với', 'năm', '2016', 'Năm', '2017', 'MWG', 'đặt', 'kế_hoạch', 'doanh_thu', '63', '280', 'tỷ', 'đồng', 'và', '2', '200', 'tỷ', 'đồng', 'lợi_nhuận', 'sau', 'thuế', 'hợp_nhất', 'Như_vậy', 'MWG', 'đã', 'kịp', 'hoàn_thành', 'kế_hoạch', 'cho', 'cả', 'năm', 'Tuy_nhiên', 'năm', '2017', 'các', 'loại', 'chi_phí', 'của', 'công_ty', 'đều', 'tăng', 'Trong', 'đó', 'chi_phí', 'bán', 'hàng', 'tăng', 'tới', 'gần', '3', '000', 'tỷ', 'đồng', 'đạt', '7', '017', 'tỷ', 'đồng', 'Chi_phí', 'quản_lý', 'doanh_nghiệp', 'cũng', 'tăng', '44%', 'từ', '934', 'tỷ', 'đồng', 'lên', '1', '346', 'tỷ', 'đồng', 'Còn', 'chi_phí', 'tài_chính', 'tăng', 'từ', '120', 'tỷ', 'lên', '232', 'tỷ', 'đồng', 'trong', 'đó', 'riêng', 'chi_phí', 'lãi', 'vay', 'chiếm', 'tới', '227', 'tỷ', 'đồng', 'Một', 'phần', 'đáng', 'chú_ý', 'hàng', 'tồn_kho', 'của', 'Thế_Giới', 'Di_Động', 'tăng', 'hơn', '3', '200', 'tỷ', 'đồng', 'chỉ', 'trong', '3', 'tháng', 'cuối', 'năm', 'lên', '12', '050', 'tỷ', 'đồng', 'Các', 'kỳ', 'trước', 'hàng', 'tồn_kho', 'của', 'Thế_Giới', 'Di_Động', 'luôn', 'dưới', '10', '000', 'tỷ', 'đồng', 'Với', 'việc', 'tồn_kho', 'tăng', 'vọt', 'vay', 'nợ', 'của', 'Thế_Giới', 'Di_Động', 'cũng', 'tăng', 'lên', 'Nợ', 'phải', 'trả', 'đến', 'cuối', '2017', 'là', '16', '904', 'tỷ', 'đồng', 'trong', 'khi', 'cuối', '2016', 'mới', 'là', '11', '000', 'tỷ', 'đồng', 'mức', 'tăng', '53%', 'Trong', 'đó', 'nợ', 'dài_hạn', 'phát_sinh', 'một', 'khoản', 'vay', 'hơn', '1', '192', 'tỷ', 'đồng', 'trong', 'đó', 'chủ_yếu', 'là', 'do', 'phát_hành', 'trái_phiếu', 'Nợ', 'vay', 'ngắn_hạn', 'chiếm', '5', '603', 'tỷ', 'đồng', 'tăng', '17%', 'Nguyên_nhân', 'khiến', 'tồn_kho', 'của', 'Thế_Giới', 'Di_Động', 'tăng', 'vọt', 'đến', 'từ', 'nhóm', 'hàng', 'Thiết_bị', 'điện_tử', 'khi', '\"', 'vượt', 'mặt', '\"', 'mặt_hàng', 'điện_thoại_di_động', 'trở_thành', 'nhóm', 'có', 'giá_trị', 'lớn', 'nhất', 'trong', 'cơ_cấu', 'hàng', 'tồn_kho', 'khi', 'tăng', 'từ', '3', '000', 'tỷ', 'đồng', 'hồi', 'đầu', 'năm', 'lên', 'trên', '5', '200', 'tỷ', 'đồng', 'trong', 'khi', 'giá_trị', 'của', 'điện_thoại_di_động', 'chỉ', 'là', 'hơn', '4', '100', 'tỷ', 'đồng', 'Sự', 'thay_đổi', 'trong', 'cơ_cấu', 'hàng', 'tồn_kho', 'diễn', 'ra', 'trong', 'bối_cảnh', 'thị_trường', 'điện_thoại', 'đã', 'bão_hoà', 'còn', 'thị_trường', 'điện_máy', 'lên_ngôi', 'các', 'siêu_thị', 'Điện_Máy', 'Xanh', 'được', 'mở_rộng', 'ồ_ạt', 'và', 'kéo_theo', 'đó', 'là', 'nguồn', 'hàng', 'cũng', 'phải', 'tăng', 'lên', 'để', 'đáp_ứng', 'cho', 'các', 'siêu_thị', 'Trong', 'năm', 'qua', 'đã', 'có', 'hơn', '350', 'siêu_thị', 'Điện_Máy', 'Xanh', 'mọc', 'lên', 'trên', 'khắp', 'cả', 'nước', 'Năm', '2018', 'Thế_Giới', 'Di_Động', 'đặt', 'mục_tiêu', 'doanh_thu', 'tăng', '28%', 'lên', '86', '390', 'tỷ', 'đồng', 'còn', 'lợi_nhuận', 'tăng', '18%', 'lên', '2', '603', 'tỷ', 'đồng']\n['Chứng_khoán', 'SSI', 'vừa', 'công_bố', 'nghị_quyết', 'tổ_chức', 'ĐHĐCĐ', 'thường_niên', 'năm', '2019', 'với', 'kế_hoạch', 'kinh_doanh', '3', '775', 'tỷ', 'doanh_thu', 'và', '1', '701', 'tỷ', 'lợi_nhuận', 'trước', 'thuế', 'Được', 'biết', 'chỉ_tiêu', '2019', 'được', 'đặt', 'ra', 'dựa', 'trên', 'giả_định', 'thị_trường_chứng_khoán', 'lạc_quan', 'sẽ', 'được', 'trình_bày', 'cụ_thể', 'với', 'cổ_đông', 'tại', 'Đại_hội', 'sắp', 'tới', 'SSI', 'cũng', 'cho', 'biết', 'sẽ', 'xem_xét', 'điều_chỉnh', 'phù_hợp', 'với', 'thực_tế', 'khi', 'VN', 'Index', 'và', 'thanh', 'khoản', 'không', 'phù_hợp', 'với', 'giả_định', 'Là', 'một', 'đơn_vị', 'với', 'kinh_doanh', 'môi_giới', 'chiếm', 'phần_lớn', 'nguồn', 'thu', 'hoạt_động', 'của', 'Chứng_khoán', 'SSI', 'phụ_thuộc', 'tương_đối', 'vào', 'biến_động', 'của', 'thị_trường', 'Trong', 'đó', 'nói', 'về', 'chứng_khoán', '2019', 'hầu_hết', 'các', 'đánh_giá', 'đều', 'nghiêng', 'về', 'những', 'kịch_bản', 'thận_trọng', 'trong', 'bối_cảnh', 'giảm', 'dần', 'của', 'các', 'gói', 'nới', 'lỏng', 'tiền_tệ', 'và', 'kích_thích', 'tài_khoá', 'đang', 'diễn', 'ra', 'trên', 'toàn_cầu', 'sự', 'chậm', 'lại', 'của', 'kinh_tế', 'Trung_Quốc', 'cùng', 'dấu_hiệu', 'suy_thoái', 'của', 'kinh_tế', 'Mỹ', 'và', 'toàn_cầu', 'nguy_cơ', 'tăng', 'lãi_suất', 'tại', 'các', 'quốc_gia', 'Đặc_biệt', 'trước', 'bối_cảnh', 'căng_thẳng', 'chính_trị', 'và', 'thương_mại', 'còn', 'nhiều', 'bất_cập', 'năm', '2019', 'được', 'xem', 'một', 'năm', 'tương_đối', 'khó_khăn', 'đối_với', 'thị_trường_chứng_khoán', 'Trở_lại', 'với', 'Chứng_khoán', 'SSI', 'năm', '2018', 'doanh_thu', 'tăng', 'gần', '27%', 'lên', '3', '672', 'tỷ', 'đồng', 'trong', 'đó', 'nguồn', 'thu', 'lớn', 'nhất', 'là', 'hoạt_động', 'môi_giới', 'đạt', '1', '131', 'tỷ', 'đồng', 'tăng', '45%', 'Lợi_nhuận', 'trước', 'thuế', 'đạt', '1', '623', 'tỷ', 'đồng', 'nhỉnh', 'hơn', 'so', 'với', 'kế_hoạch', 'năm', 'là', '1', '615', 'tỷ', 'đồng', 'Lợi_nhuận', 'sau', 'thuế', 'đạt', '1', '303', 'tỷ', 'đồng', 'tăng', '12%', 'so', 'với', 'cùng', 'kỳ', 'Với', 'kết_quả', 'này', 'SSI', 'vẫn', 'là', 'công_ty', 'chứng_khoán', 'có', 'lợi_nhuận', 'lớn', 'nhất', 'nhưng', 'khoảng_cách', 'so', 'với', 'công_ty', 'đứng', 'thứ', '2', 'là', 'TCBS', 'không', 'còn', 'nhiều', 'Tính', 'đến', 'năm', '2018', 'tổng_tài', 'sản', 'và', 'vốn', 'chủ_sở_hữu', 'của', 'SSI', 'đạt', '23', '800', 'tỷ', 'và', '9', '155', 'tỷ', 'đồng', 'Đáng', 'chú_ý', 'hơn', 'phân_nửa', 'tổng_tài', 'sản', 'của', 'SSI', 'tương_ứng', '12', '300', 'tỷ', 'đồng', 'là', 'các', 'khoản', 'tiền', 'gửi', 'ngắn_hạn', 'được', 'phân_loại', 'là', 'các', 'khoản', 'đầu_tư', 'nắm', 'giữ', 'đến', 'ngày', 'đáo_hạn', 'HTM', 'tăng', '4', '500', 'tỷ', 'so', 'với', 'đầu', 'năm', 'Các', 'khoản', 'tài_sản', 'tài_chính', 'ghi_nhận', 'qua', 'lãi', '/', 'lỗ', 'FVTPL', 'đạt', '2', '040', 'tỷ', 'và', 'tài_sản', 'tài_chính', 'sẵn_sàng', 'để', 'bán', 'AFS', 'đạt', '1', '265', 'tỷ', 'đồng', 'Bên', 'cạnh', 'đó', 'SSI', 'đang', 'cho', 'vay', 'xấp_xỉ', '6', '000', 'tỷ', 'đồng']\n['Mức', 'giá', 'phát_hành', 'là', '22', '000', 'đồng', '/', 'CP', 'thời_gian', 'hạn_chế', 'chuyển_nhượng', 'sau', '2', 'năm', 'Được', 'biết', 'hiện_nay', 'Vingroup', 'là', 'khách_hàng', 'lớn', 'nhất', 'của', 'TTF', 'với', 'doanh_thu', '500', 'tỷ', 'đồng', 'trong', 'năm', '2015', 'Ông', 'Võ_Trường_Thành_Chủ_tịch', 'HĐQT', 'cổ_đông', 'sáng_lập', 'TTF', 'cho', 'biết', 'năm', 'nay', 'Vingroup', 'có_thể', 'đặt', 'TTF', 'đơn', 'hàng', 'lên', 'đến', '1', '500', 'tỷ', 'đồng', 'chiếm', 'khoảng', 'hơn', '50%', 'doanh_thu', 'Cho', 'đến', 'thời_điểm', 'này', 'nhờ', 'mua', 'thêm', 'nhà_máy', 'của', 'doanh_nghiệp', 'Hàn_Quốc', 'để', 'mở_rộng', 'quy_mô', 'sản_xuất', 'TTF', 'có_thể', 'tăng', 'doanh_thu', 'thêm', '300', 'tỷ', 'đồng', 'so', 'với', 'kế_hoạch', '2', '760', 'tỷ', 'đồng', 'và', 'sang', 'năm', 'nhà_máy', 'này', 'có_thể', 'đóng_góp', '700', 'tỷ', 'đồng', 'doanh_thu', 'cho', 'TTF', 'Trước_mắt', 'TTF', 'có_thể', 'tăng', 'tỷ_trọng', 'doanh_thu', 'nội_địa', 'nhưng', 'nếu', 'mở_rộng', 'quy_mô', 'sản_xuất', 'thì', 'TTF', 'vẫn', 'duy_trì', 'được', 'doanh_thu', 'xuất_khẩu', 'Được', 'biết', 'năm', '2016', 'TTF', 'đặt', 'kế_hoạch', 'lợi_nhuận', 'hợp_nhất', 'trên', '430', 'tỷ', 'đồng', 'Với', 'khả_năng', 'vượt', 'doanh_thu', 'kế_hoạch', 'lợi_nhuận', 'dự_kiến', 'cũng', 'khả_quan', 'hơn', 'kế_hoạch']\n['Doanh_nghiệp', 'ghi_nhận', 'thị_phần', 'môi_giới', 'dẫn_đầu', 'tại', 'cả', 'HoSE', 'và', 'HNX', 'trong', 'quý', 'II', 'Công_ty', 'Chứng_khoán', 'HoSE_SSI', 'công_bố', 'quyết_định', 'HĐQT', 'lập', 'danh_sách', 'chi_trả', 'cổ_tức', 'năm', '2019', 'bằng', 'tiền', 'Ngày', 'đăng_ký', 'cuối_cùng', 'lập', 'danh_sách', 'là', '21/7', 'và', 'ngày', 'chi_trả', 'dự_kiến', 'là', '31/7', 'Theo', 'Nghị_quyết', 'ĐHĐCĐ', 'thường_niên', '2020', 'công_ty', 'chốt', 'phương_án', 'trả', 'cổ_tức', 'năm', '2019', 'bằng', 'tiền', 'tỷ_lệ', '10%', 'tương_đương', 'với', 'thanh_toán', '603', 'tỷ', 'đồng', 'Trong', 'quý', 'II', 'SSI', 'tiếp_tục', 'khẳng_định', 'vị_trí', 'công_ty', 'chứng_khoán', 'hàng_đầu', 'khi', 'đạt', 'thị_phần', 'môi_giới', 'cổ_phiếu', 'chứng_chỉ', 'quỹ', 'và', 'chứng', 'quyền', '14', '13%', 'bỏ', 'xa', 'các', 'đơn_vị', 'phía', 'sau', 'tại', 'HoSE_Doanh_nghiệp', 'cũng', 'ghi_nhận', 'thị_phần', 'dẫn_đầu', 'tại', 'HNX', 'với', '7', '63%', 'Luỹ', 'kế', 'nửa', 'đầu', 'năm', 'thị_phần', 'SSI', 'lần_lượt', '13', '41%', 'tại', 'HoSE', 'và', '7', '99%', 'tại', 'HNX', 'Về', 'hoạt_động', 'kinh_doanh', 'ông', 'Nguyễn_Hồng_Nam', 'Phó', 'Tổng_giám_đốc', 'Chứng_khoán', 'SSI', 'thông_tin', 'tại', 'cuộc', 'họp', 'ĐHĐCĐ', 'thường_niên', 'tổng', 'doanh_thu', 'và', 'thu_nhập', 'khác', '6', 'tháng', 'ước', 'đạt', '2', '370', 'tỷ', 'đồng', 'tăng', '58%', 'so', 'với', 'cùng', 'kỳ', 'và', 'hoàn_thành', '86%', 'kế_hoạch', 'năm', 'Lợi_nhuận', 'trước', 'thuế', '6', 'tháng', 'ước', 'đạt', '660', 'tỷ', 'đồng', 'tăng', '29', '4%', 'so', 'với', 'cùng', 'kỳ', 'và', 'đạt', '76%', 'kế_hoạch', 'cả', 'năm', '2020', 'Trong', 'bối_cảnh', 'dịch', 'Covid', '19', 'ảnh_hưởng', 'nghiêm_trọng', 'đến', 'nền', 'kinh_tế', 'Ban', 'lãnh_đạo', 'SSI', 'luôn', 'giữ', 'quan_điểm', 'bình_tĩnh', 'tuân_thủ', 'kỷ_luật', 'quản_trị', 'rủi_ro', 'một_cách', 'nghiêm_ngặt', 'đặt', 'mục_tiêu', 'bảo_toàn', 'vốn', 'quản_lý', 'rủi_ro', 'chặt_chẽ', 'không_chỉ', 'cho', 'công_ty', 'mà', 'cả', 'khách_hàng', 'lên', 'hàng_đầu', 'Trong', 'thời_gian', 'tới', 'đứng', 'trước', 'bối_cảnh', 'thị_trường', 'có', 'nhiều', 'biến_động', 'bên', 'cạnh', 'những', 'sản_phẩm', 'đầu_tư', 'truyền_thống', 'SSI', 'cũng', 'sẽ', 'đẩy_mạnh', 'cung_cấp', 'các', 'sản_phẩm', 'mới', 'nhằm', 'mở_rộng', 'cơ_hội', 'đầu_tư', 'an_toàn', 'hiệu_quả', 'cho', 'nhà_đầu_tư', 'Công_ty', 'cũng', 'đang', 'nỗ_lực', 'tập_trung', 'vào', 'việc', 'vận_dụng', 'công_nghệ', 'để', 'nâng', 'cao', 'trải_nghiệm', 'khách_hàng', 'với', 'một', 'chương_trình', 'hành_động', 'cụ_thể', 'sẽ', 'từng', 'bước', 'ra_mắt', 'các', 'sản_phẩm', 'mới', 'vào', 'đầu', 'quý', 'III']\n"
     ]
    }
   ],
   "source": [
    "X_train_process = data_test['NewsFullContent'].apply(lambda x: annotator.annotate(str(x)))\n",
    "data_test['form'] = X_train_process.apply(lambda x: get_form(x))\n",
    "data_test['pos_tag'] = X_train_process.apply(lambda x: get_postag(x))\n",
    "data_test['form_text'] = data_test['form'].apply(lambda x: (\" \").join(x))\n",
    "\n",
    "tfidf_matrix = tfidf.transform(data_test['form_text'])\n",
    "feature_names = tfidf.get_feature_names()\n",
    "\n",
    "def get_ifidf_for_words(text):\n",
    "    tfidf_matrix= tfidf.transform([text]).todense()\n",
    "    feature_index = tfidf_matrix[0,:].nonzero()[1]\n",
    "    tfidf_scores = zip([feature_names[i] for i in feature_index], [tfidf_matrix[0, x] for x in feature_index])\n",
    "    return dict(tfidf_scores)\n",
    "\n",
    "data_test['ifidf_for_words'] = data_test['form_text'].apply(lambda x : get_ifidf_for_words(x))\n",
    "\n",
    "tfidf_docs = []\n",
    "for i,row in data_test[['form','ifidf_for_words']].iterrows():\n",
    "    tfidf_docs.append(get_tfidf_for_docs(row['form'],row['ifidf_for_words']))\n",
    "data_test['tfidf_docs'] = tfidf_docs\n",
    "data_test = data_test.reset_index()\n",
    "combine_feature(data_test)\n"
   ]
  },
  {
   "cell_type": "code",
   "execution_count": 276,
   "metadata": {},
   "outputs": [
    {
     "output_type": "execute_result",
     "data": {
      "text/plain": [
       "   index                                          NewsTitle  \\\n",
       "0      0  Hai nguyên phó tổng giám đốc BIDV \"chia nhau\" ...   \n",
       "1      1  VIC - Thông qua chuyển nhượng cổ phần tại BĐS ...   \n",
       "2      2                 Masan Group bổ nhiệm Tổng giám đốc   \n",
       "3      3  ADB cung cấp 300 triệu USD vốn vay cho BIDV để...   \n",
       "4      4              BIDV được chào bán 510 triệu cổ phiếu   \n",
       "\n",
       "                                     NewsFullContent  \\\n",
       "0  14 giờ chiều nay 2 11 TAND TP Hà Nội đã tuyên ...   \n",
       "1    Theo đó Hội đồng quản trị thống nhất chuyển ...   \n",
       "2  Ông Danny Le  sinh năm 1984  – người được bổ n...   \n",
       "3  Hợp đồng vay tín chấp này bao gồm khoản vay A ...   \n",
       "4    Theo đó BIDV được phát hành và chào bán 510 ...   \n",
       "\n",
       "                                                   y  \\\n",
       "0  [0, 1, 1, 1, 0, 0, 1, 1, 1, 0, 0, 0, 0, 0, 1, ...   \n",
       "1  [1, 0, 1, 1, 1, 0, 0, 1, 1, 1, 0, 1, 1, 1, 0, ...   \n",
       "2  [1, 1, 1, 1, 0, 0, 0, 1, 1, 1, 0, 1, 1, 1, 1, ...   \n",
       "3  [1, 1, 0, 0, 1, 0, 1, 0, 0, 0, 1, 0, 0, 1, 1, ...   \n",
       "4  [1, 0, 1, 1, 1, 0, 1, 0, 0, 0, 1, 1, 0, 0, 1, ...   \n",
       "\n",
       "                                         name_entity  \\\n",
       "0  [0, 0, 0, 0, 0, 0, 1, 1, 1, 0, 0, 0, 0, 0, 0, ...   \n",
       "1  [0, 0, 0, 0, 0, 0, 0, 0, 0, 0, 0, 0, 0, 0, 0, ...   \n",
       "2  [1, 1, 0, 0, 0, 0, 0, 0, 0, 0, 0, 1, 0, 0, 0, ...   \n",
       "3  [0, 0, 0, 0, 0, 0, 0, 0, 0, 0, 0, 0, 0, 1, 0, ...   \n",
       "4  [0, 0, 1, 0, 0, 0, 0, 0, 0, 0, 0, 0, 0, 0, 0, ...   \n",
       "\n",
       "                                           title_tag  \\\n",
       "0  [1, 0, 0, 0, 0, 0, 0, 0, 0, 0, 0, 0, 0, 0, 0, ...   \n",
       "1  [0, 0, 0, 0, 1, 0, 0, 0, 1, 0, 0, 0, 0, 0, 0, ...   \n",
       "2  [0, 0, 0, 0, 0, 0, 0, 0, 1, 0, 1, 1, 0, 0, 0, ...   \n",
       "3  [0, 1, 0, 0, 0, 0, 1, 0, 0, 0, 1, 1, 0, 1, 1, ...   \n",
       "4  [0, 0, 1, 1, 0, 0, 1, 1, 0, 0, 1, 0, 0, 0, 0, ...   \n",
       "\n",
       "                                                form  \\\n",
       "0  [14, giờ, chiều, nay, 2, 11, TAND, TP, Hà_Nội,...   \n",
       "1  [Theo, đó, Hội_đồng_quản_trị, thống_nhất, chuy...   \n",
       "2  [Ông, Danny_Le, sinh, năm, 1984, –, người, đượ...   \n",
       "3  [Hợp_đồng, vay, tín_chấp, này, bao_gồm, khoản,...   \n",
       "4  [Theo, đó, BIDV, được, phát_hành, và, chào_bán...   \n",
       "\n",
       "                                             pos_tag  \\\n",
       "0  [M, Nu, N, P, M, M, Ny, Ny, Np, R, V, E, M, N,...   \n",
       "1  [V, P, Np, V, V, M, M, M, N, V, V, V, N, V, M,...   \n",
       "2  [Nc, Np, V, N, M, CH, N, V, V, V, N, Np, V, E,...   \n",
       "3  [N, V, N, P, V, N, V, Y, V, M, M, Nu, E, Ny, V...   \n",
       "4  [V, P, Ny, V, V, Cc, V, M, M, M, N, N, M, M, N...   \n",
       "\n",
       "                                           form_text  \\\n",
       "0  14 giờ chiều nay 2 11 TAND TP Hà_Nội đã tuyên_...   \n",
       "1  Theo đó Hội_đồng_quản_trị thống_nhất chuyển_nh...   \n",
       "2  Ông Danny_Le sinh năm 1984 – người được bổ_nhi...   \n",
       "3  Hợp_đồng vay tín_chấp này bao_gồm khoản vay A ...   \n",
       "4  Theo đó BIDV được phát_hành và chào_bán 510 04...   \n",
       "\n",
       "                                     ifidf_for_words  \\\n",
       "0  {'11': 0.014179074380723803, '12': 0.024824698...   \n",
       "1  {'25': 0.22544398693032078, '26': 0.1210106904...   \n",
       "2  {'1984': 0.10100345698972767, '2006': 0.084908...   \n",
       "3  {'100': 0.04232177691014406, '12': 0.033487241...   \n",
       "4  {'000': 0.04372682249192334, '011': 0.13658004...   \n",
       "\n",
       "                                          tfidf_docs  \\\n",
       "0  0      0.015490\n",
       "1      0.025945\n",
       "2      0.02329...   \n",
       "1  0     0.000000\n",
       "1     0.056321\n",
       "2     0.000000\n",
       "3...   \n",
       "2  0      0.000000\n",
       "1      0.000000\n",
       "2      0.07572...   \n",
       "3  0      0.000000\n",
       "1      0.286637\n",
       "2      0.09794...   \n",
       "4  0      0.000000\n",
       "1      0.093112\n",
       "2      0.00000...   \n",
       "\n",
       "                                            features  \n",
       "0  [[14, M, 0.015490478847519541, 0, 1], [giờ, Nu...  \n",
       "1  [[Theo, V, 0.0, 0, 0], [đó, P, 0.0563213809701...  \n",
       "2  [[Ông, Nc, 0.0, 1, 0], [Danny_Le, Np, 0.0, 1, ...  \n",
       "3  [[Hợp_đồng, N, 0.0, 0, 0], [vay, V, 0.28663658...  \n",
       "4  [[Theo, V, 0.0, 0, 0], [đó, P, 0.0931123754746...  "
      ],
      "text/html": "<div>\n<style scoped>\n    .dataframe tbody tr th:only-of-type {\n        vertical-align: middle;\n    }\n\n    .dataframe tbody tr th {\n        vertical-align: top;\n    }\n\n    .dataframe thead th {\n        text-align: right;\n    }\n</style>\n<table border=\"1\" class=\"dataframe\">\n  <thead>\n    <tr style=\"text-align: right;\">\n      <th></th>\n      <th>index</th>\n      <th>NewsTitle</th>\n      <th>NewsFullContent</th>\n      <th>y</th>\n      <th>name_entity</th>\n      <th>title_tag</th>\n      <th>form</th>\n      <th>pos_tag</th>\n      <th>form_text</th>\n      <th>ifidf_for_words</th>\n      <th>tfidf_docs</th>\n      <th>features</th>\n    </tr>\n  </thead>\n  <tbody>\n    <tr>\n      <th>0</th>\n      <td>0</td>\n      <td>Hai nguyên phó tổng giám đốc BIDV \"chia nhau\" ...</td>\n      <td>14 giờ chiều nay 2 11 TAND TP Hà Nội đã tuyên ...</td>\n      <td>[0, 1, 1, 1, 0, 0, 1, 1, 1, 0, 0, 0, 0, 0, 1, ...</td>\n      <td>[0, 0, 0, 0, 0, 0, 1, 1, 1, 0, 0, 0, 0, 0, 0, ...</td>\n      <td>[1, 0, 0, 0, 0, 0, 0, 0, 0, 0, 0, 0, 0, 0, 0, ...</td>\n      <td>[14, giờ, chiều, nay, 2, 11, TAND, TP, Hà_Nội,...</td>\n      <td>[M, Nu, N, P, M, M, Ny, Ny, Np, R, V, E, M, N,...</td>\n      <td>14 giờ chiều nay 2 11 TAND TP Hà_Nội đã tuyên_...</td>\n      <td>{'11': 0.014179074380723803, '12': 0.024824698...</td>\n      <td>0      0.015490\n1      0.025945\n2      0.02329...</td>\n      <td>[[14, M, 0.015490478847519541, 0, 1], [giờ, Nu...</td>\n    </tr>\n    <tr>\n      <th>1</th>\n      <td>1</td>\n      <td>VIC - Thông qua chuyển nhượng cổ phần tại BĐS ...</td>\n      <td>Theo đó Hội đồng quản trị thống nhất chuyển ...</td>\n      <td>[1, 0, 1, 1, 1, 0, 0, 1, 1, 1, 0, 1, 1, 1, 0, ...</td>\n      <td>[0, 0, 0, 0, 0, 0, 0, 0, 0, 0, 0, 0, 0, 0, 0, ...</td>\n      <td>[0, 0, 0, 0, 1, 0, 0, 0, 1, 0, 0, 0, 0, 0, 0, ...</td>\n      <td>[Theo, đó, Hội_đồng_quản_trị, thống_nhất, chuy...</td>\n      <td>[V, P, Np, V, V, M, M, M, N, V, V, V, N, V, M,...</td>\n      <td>Theo đó Hội_đồng_quản_trị thống_nhất chuyển_nh...</td>\n      <td>{'25': 0.22544398693032078, '26': 0.1210106904...</td>\n      <td>0     0.000000\n1     0.056321\n2     0.000000\n3...</td>\n      <td>[[Theo, V, 0.0, 0, 0], [đó, P, 0.0563213809701...</td>\n    </tr>\n    <tr>\n      <th>2</th>\n      <td>2</td>\n      <td>Masan Group bổ nhiệm Tổng giám đốc</td>\n      <td>Ông Danny Le  sinh năm 1984  – người được bổ n...</td>\n      <td>[1, 1, 1, 1, 0, 0, 0, 1, 1, 1, 0, 1, 1, 1, 1, ...</td>\n      <td>[1, 1, 0, 0, 0, 0, 0, 0, 0, 0, 0, 1, 0, 0, 0, ...</td>\n      <td>[0, 0, 0, 0, 0, 0, 0, 0, 1, 0, 1, 1, 0, 0, 0, ...</td>\n      <td>[Ông, Danny_Le, sinh, năm, 1984, –, người, đượ...</td>\n      <td>[Nc, Np, V, N, M, CH, N, V, V, V, N, Np, V, E,...</td>\n      <td>Ông Danny_Le sinh năm 1984 – người được bổ_nhi...</td>\n      <td>{'1984': 0.10100345698972767, '2006': 0.084908...</td>\n      <td>0      0.000000\n1      0.000000\n2      0.07572...</td>\n      <td>[[Ông, Nc, 0.0, 1, 0], [Danny_Le, Np, 0.0, 1, ...</td>\n    </tr>\n    <tr>\n      <th>3</th>\n      <td>3</td>\n      <td>ADB cung cấp 300 triệu USD vốn vay cho BIDV để...</td>\n      <td>Hợp đồng vay tín chấp này bao gồm khoản vay A ...</td>\n      <td>[1, 1, 0, 0, 1, 0, 1, 0, 0, 0, 1, 0, 0, 1, 1, ...</td>\n      <td>[0, 0, 0, 0, 0, 0, 0, 0, 0, 0, 0, 0, 0, 1, 0, ...</td>\n      <td>[0, 1, 0, 0, 0, 0, 1, 0, 0, 0, 1, 1, 0, 1, 1, ...</td>\n      <td>[Hợp_đồng, vay, tín_chấp, này, bao_gồm, khoản,...</td>\n      <td>[N, V, N, P, V, N, V, Y, V, M, M, Nu, E, Ny, V...</td>\n      <td>Hợp_đồng vay tín_chấp này bao_gồm khoản vay A ...</td>\n      <td>{'100': 0.04232177691014406, '12': 0.033487241...</td>\n      <td>0      0.000000\n1      0.286637\n2      0.09794...</td>\n      <td>[[Hợp_đồng, N, 0.0, 0, 0], [vay, V, 0.28663658...</td>\n    </tr>\n    <tr>\n      <th>4</th>\n      <td>4</td>\n      <td>BIDV được chào bán 510 triệu cổ phiếu</td>\n      <td>Theo đó BIDV được phát hành và chào bán 510 ...</td>\n      <td>[1, 0, 1, 1, 1, 0, 1, 0, 0, 0, 1, 1, 0, 0, 1, ...</td>\n      <td>[0, 0, 1, 0, 0, 0, 0, 0, 0, 0, 0, 0, 0, 0, 0, ...</td>\n      <td>[0, 0, 1, 1, 0, 0, 1, 1, 0, 0, 1, 0, 0, 0, 0, ...</td>\n      <td>[Theo, đó, BIDV, được, phát_hành, và, chào_bán...</td>\n      <td>[V, P, Ny, V, V, Cc, V, M, M, M, N, N, M, M, N...</td>\n      <td>Theo đó BIDV được phát_hành và chào_bán 510 04...</td>\n      <td>{'000': 0.04372682249192334, '011': 0.13658004...</td>\n      <td>0      0.000000\n1      0.093112\n2      0.00000...</td>\n      <td>[[Theo, V, 0.0, 0, 0], [đó, P, 0.0931123754746...</td>\n    </tr>\n  </tbody>\n</table>\n</div>"
     },
     "metadata": {},
     "execution_count": 276
    }
   ],
   "source": [
    "data_test.head()"
   ]
  },
  {
   "cell_type": "code",
   "execution_count": 281,
   "metadata": {},
   "outputs": [],
   "source": [
    "for i in range(len(y_test)):\n",
    "    y_test[i] = convert(y_test[i])"
   ]
  },
  {
   "cell_type": "code",
   "execution_count": 278,
   "metadata": {},
   "outputs": [],
   "source": [
    "X_test_data = [extract_features(doc) for doc in data_test['features']]\n",
    "y_pred = crf.predict(X_test_data)"
   ]
  },
  {
   "cell_type": "code",
   "execution_count": 282,
   "metadata": {},
   "outputs": [
    {
     "output_type": "execute_result",
     "data": {
      "text/plain": [
       "0.5636652793286637"
      ]
     },
     "metadata": {},
     "execution_count": 282
    }
   ],
   "source": [
    "crf.score(y_test, y_pred)"
   ]
  },
  {
   "cell_type": "code",
   "execution_count": 229,
   "metadata": {},
   "outputs": [],
   "source": [
    "data_test.to_csv('new_test_feature.csv')"
   ]
  },
  {
   "cell_type": "code",
   "execution_count": 231,
   "metadata": {},
   "outputs": [],
   "source": [
    "data_test['y'] = y_data_test"
   ]
  },
  {
   "cell_type": "code",
   "execution_count": 232,
   "metadata": {},
   "outputs": [],
   "source": [
    "X_test_new = pd.concat([X_test[['features','y']],data_test[['features','y']]], axis=0)"
   ]
  },
  {
   "cell_type": "code",
   "execution_count": 233,
   "metadata": {},
   "outputs": [],
   "source": [
    "X_test_new.to_csv('testing.csv')"
   ]
  },
  {
   "cell_type": "code",
   "execution_count": null,
   "metadata": {},
   "outputs": [],
   "source": []
  }
 ]
}