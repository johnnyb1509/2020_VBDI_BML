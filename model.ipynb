{
 "metadata": {
  "language_info": {
   "codemirror_mode": {
    "name": "ipython",
    "version": 3
   },
   "file_extension": ".py",
   "mimetype": "text/x-python",
   "name": "python",
   "nbconvert_exporter": "python",
   "pygments_lexer": "ipython3",
   "version": "3.8.3-final"
  },
  "orig_nbformat": 2,
  "kernelspec": {
   "name": "python3",
   "display_name": "Python 3",
   "language": "python"
  }
 },
 "nbformat": 4,
 "nbformat_minor": 2,
 "cells": [
  {
   "cell_type": "code",
   "execution_count": 1,
   "metadata": {},
   "outputs": [],
   "source": [
    "import numpy as np \n",
    "import pandas as pd \n",
    "import matplotlib.pyplot as plt \n",
    "from sklearn.model_selection import train_test_split\n",
    "from nltk import RegexpParser, Tree\n",
    "import pandas as pd\n",
    "import numpy as np"
   ]
  },
  {
   "cell_type": "code",
   "execution_count": 2,
   "metadata": {},
   "outputs": [],
   "source": [
    "from vncorenlp import VnCoreNLP\n",
    "annotator = VnCoreNLP(\"./VnCoreNLP-master/VnCoreNLP-1.1.1.jar\", annotators=\"wseg,pos\", max_heap_size='-Xmx500m')\n",
    "\n",
    "def word_segment(text):\n",
    "    annotated_text = annotator.annotate(text)['sentences'][0]\n",
    "    return [dic['form'].replace('_',' ').lower() for dic in annotated_text]"
   ]
  },
  {
   "cell_type": "code",
   "execution_count": 4,
   "metadata": {},
   "outputs": [],
   "source": [
    "data = pd.read_csv('data/data_labeled_updated.csv')"
   ]
  },
  {
   "cell_type": "code",
   "execution_count": 5,
   "metadata": {},
   "outputs": [
    {
     "output_type": "execute_result",
     "data": {
      "text/plain": [
       "   Unnamed: 0                                          NewsTitle  \\\n",
       "0           0             VCB ký hợp đồng vay vốn 100 triệu USD    \n",
       "1           1  Kết thúc Phiên 1, 30/10: STB và PPC đang &quot...   \n",
       "2           2                   Ngày 23/3, Hose đón tân binh PNJ   \n",
       "3           3                          Sắp khởi công Đại học FPT   \n",
       "4           4           SSI đứng đầu thị phần môi giới cổ phiếu    \n",
       "\n",
       "                                     NewsFullContent  \\\n",
       "0  Ông Nguyễn Hòa Bình Chủ tịch HĐQT của VCB cho ...   \n",
       "1  Trong khi thị trường Châu Âu có phiên tăng điể...   \n",
       "2  Kế hoạch này đã được đại diện PNJ bà Cao Thị N...   \n",
       "3  Theo đó tháng 7/2009 Đại học FPT sẽ chính thức...   \n",
       "4  Trong khi chỉ có 5 công ty nắm tới trên 30 ngh...   \n",
       "\n",
       "                                               label  \n",
       "0  [('ông', 0), ('nguyễn hoà bình chủ tịch', 0), ...  \n",
       "1  [('trong', 0), ('khi', 0), ('thị trường', 1), ...  \n",
       "2  [('kế hoạch', 1), ('này', 0), ('đã', 0), ('đượ...  \n",
       "3  [('theo', 1), ('đó', 0), ('tháng', 1), ('7/200...  \n",
       "4  [('trong', 0), ('khi', 0), ('chỉ', 1), ('có', ...  "
      ],
      "text/html": "<div>\n<style scoped>\n    .dataframe tbody tr th:only-of-type {\n        vertical-align: middle;\n    }\n\n    .dataframe tbody tr th {\n        vertical-align: top;\n    }\n\n    .dataframe thead th {\n        text-align: right;\n    }\n</style>\n<table border=\"1\" class=\"dataframe\">\n  <thead>\n    <tr style=\"text-align: right;\">\n      <th></th>\n      <th>Unnamed: 0</th>\n      <th>NewsTitle</th>\n      <th>NewsFullContent</th>\n      <th>label</th>\n    </tr>\n  </thead>\n  <tbody>\n    <tr>\n      <th>0</th>\n      <td>0</td>\n      <td>VCB ký hợp đồng vay vốn 100 triệu USD</td>\n      <td>Ông Nguyễn Hòa Bình Chủ tịch HĐQT của VCB cho ...</td>\n      <td>[('ông', 0), ('nguyễn hoà bình chủ tịch', 0), ...</td>\n    </tr>\n    <tr>\n      <th>1</th>\n      <td>1</td>\n      <td>Kết thúc Phiên 1, 30/10: STB và PPC đang &amp;quot...</td>\n      <td>Trong khi thị trường Châu Âu có phiên tăng điể...</td>\n      <td>[('trong', 0), ('khi', 0), ('thị trường', 1), ...</td>\n    </tr>\n    <tr>\n      <th>2</th>\n      <td>2</td>\n      <td>Ngày 23/3, Hose đón tân binh PNJ</td>\n      <td>Kế hoạch này đã được đại diện PNJ bà Cao Thị N...</td>\n      <td>[('kế hoạch', 1), ('này', 0), ('đã', 0), ('đượ...</td>\n    </tr>\n    <tr>\n      <th>3</th>\n      <td>3</td>\n      <td>Sắp khởi công Đại học FPT</td>\n      <td>Theo đó tháng 7/2009 Đại học FPT sẽ chính thức...</td>\n      <td>[('theo', 1), ('đó', 0), ('tháng', 1), ('7/200...</td>\n    </tr>\n    <tr>\n      <th>4</th>\n      <td>4</td>\n      <td>SSI đứng đầu thị phần môi giới cổ phiếu</td>\n      <td>Trong khi chỉ có 5 công ty nắm tới trên 30 ngh...</td>\n      <td>[('trong', 0), ('khi', 0), ('chỉ', 1), ('có', ...</td>\n    </tr>\n  </tbody>\n</table>\n</div>"
     },
     "metadata": {},
     "execution_count": 5
    }
   ],
   "source": [
    "data.head()"
   ]
  },
  {
   "cell_type": "code",
   "execution_count": 548,
   "metadata": {},
   "outputs": [],
   "source": [
    "X=data.drop('label', axis=1)\n",
    "y = data['label']"
   ]
  },
  {
   "cell_type": "code",
   "execution_count": 580,
   "metadata": {},
   "outputs": [],
   "source": [
    "X_train, X_test, y_train, y_test = train_test_split(X, y, test_size=0.2, random_state=42)"
   ]
  },
  {
   "cell_type": "code",
   "execution_count": 581,
   "metadata": {},
   "outputs": [],
   "source": [
    "X_train_process = X_train['NewsFullContent_lower'].apply(lambda x: annotator.annotate(str(x)))"
   ]
  },
  {
   "cell_type": "code",
   "execution_count": 582,
   "metadata": {},
   "outputs": [],
   "source": [
    "def get_postag(x):\n",
    "    pos = []\n",
    "    for dic in x['sentences'][0]:\n",
    "        pos.append(dic['posTag'])\n",
    "    return pos"
   ]
  },
  {
   "cell_type": "code",
   "execution_count": 583,
   "metadata": {},
   "outputs": [],
   "source": [
    "def get_form(x):\n",
    "    pos = []\n",
    "    for dic in x['sentences'][0]:\n",
    "        pos.append(dic['form'])\n",
    "    print(pos)\n",
    "    return pos"
   ]
  },
  {
   "cell_type": "code",
   "execution_count": 584,
   "metadata": {},
   "outputs": [],
   "source": [
    "def flatten(A):\n",
    "    rt = []\n",
    "    for i in A:\n",
    "        if isinstance(i,list): rt.extend(flatten(i))\n",
    "        else: rt.append(i)\n",
    "    return rt"
   ]
  },
  {
   "cell_type": "code",
   "execution_count": 585,
   "metadata": {
    "tags": [
     "outputPrepend"
    ]
   },
   "outputs": [
    {
     "output_type": "stream",
     "name": "stdout",
     "text": [
      "'83', 'tỷ', 'đồng', 'lợi_nhuận', 'sau', 'thuế', 'hai', 'tháng', 'đầu', 'năm', 'của', 'mwg', 'đạt', '414', 'tỷ', 'đồng', 'tăng_trưởng', '40%', 'so', 'với', 'cùng', 'kỳ', 'với', 'kết_quả', 'này', 'mwg', 'đã', 'hoàn_thành', '18%', 'kế_hoạch', 'doanh_thu', 'và', '19%', 'kế_hoạch', 'lợi_nhuận', 'sau', 'hai', 'tháng', 'đầu', 'năm', 'tóm_tắt', 'kết_quả', 'kinh_doanh', 'của', 'mwg', 'sau', 'hai', 'tháng', 'đầu', 'năm', 'nguồn', 'mwg', 'cũng', 'trong', 'tháng', 'hai', 'mwg', 'mở', 'mới', '12', 'siêu', 'trên', 'cả', 'nước', 'trong', 'đó', 'chỉ', 'có', 'một', 'siêu_thị', 'thế_giới', 'di_động', 'còn', 'lại', 'là', '5', 'siêu_thị', 'điện_máy', 'xanh', 'và', '6', 'siêu_thị', 'bách_hoá', 'xanh', 'sau', 'giai_đoạn', 'ồ_ạt', 'mở', 'mới', 'siêu_thị', 'trong', 'hai', 'tháng', 'đầu', 'năm', 'nay', 'mwg', 'chỉ', 'mở', '19', 'siêu_thị', 'thế_giới', 'di_động', 'mới', 'đến', 'cuối', 'tháng', 'hai', 'doanh_nghiệp', 'này', 'có', 'tổng_cộng', '1', '327', 'siêu_thị', 'trong', 'đó', 'chuỗi', 'thế_giới', 'di_động', 'có', '970', 'siêu_thị', 'chuỗi', 'điện_máy', 'xanh', 'có', '303', 'siêu_thị', 'còn', 'lại', 'là', 'bách_hoá', 'xanh']\n",
      "['tập_đoàn', 'vingroup', 'công_ty', 'cp', 'mã', 'vic', 'cho', 'biết', 'vào', 'ngày', '24/12', 'tập_đoàn', 'sẽ', 'đồng_loạt', 'khai_trương', '3', 'trung_tâm', 'thương_mại', 'vincom', 'mega', 'mall', 'thảo', 'điền', 'tphcm', 'vincom', 'plaza', 'việt_trì', 'phú_thọ', 'và', 'vincom', 'plaza', 'long_xuyên', 'an_giang', 'được', 'biết', 'vincom', 'mega', 'mall', 'thảo', 'điền', 'có', 'tổng', 'diện_tích', 'hơn', '65', '000m2', 'bao_gồm', 'sân', 'trượt_băng', 'trong', 'nhà', 'khu', 'vui_chơi', 'giải_trí', 'rạp', 'chiếu_phim', 'khu', 'mua_sắm', 'ẩm_thực', 'đây', 'là', 'tttm', 'thứ', '4', 'của', 'vingroup', 'tại', 'tphcm', 'còn', 'tttm', 'tại', 'long_xuyên', 'sẽ', 'là', 'vincom', 'thứ', 'hai', 'của', 'vingroup', 'tại', 'đồng_bằng', 'sông_cửu_long', 'sau', 'vincom', 'cần_thơ', 'tttm', 'vincom', 'việt_trì', 'có', '5', 'tầng', 'nổi', 'với', 'tổng', 'diện_tích', 'mặt', 'sàn', 'bán_lẻ', 'lên', 'tới', 'gần', '22', '000m2', 'với', '3', 'vincom', 'sắp', 'ra_mắt', 'vingroup', 'sẽ', 'nâng', 'số_lượng', 'vincom', 'phát_triển', 'trong', 'năm', 'nay', 'lên', 'con_số', '16', 'tttm', 'tại', '9', 'tỉnh_thành', 'được', 'biết', 'hồi', 'cuối', 'tháng', '11', 'tttm', 'vincom', 'nguyễn', 'chí', 'thanh', 'hà', 'nội', 'với', 'diện_tích', '55', '400m2', 'cũng', 'đã', 'chính_thức', 'khai_trương', 'công_ty', 'cổ_phần', 'vincom', 'retail', 'thành_viên', 'của', 'tập_đoàn', 'vingroup', 'là', 'đơn_vị', 'sở_hữu', 'quản_lý', 'và', 'vận_hành', 'chuỗi', 'tttm', 'vincom', 'và', 'vincom', 'mega', 'mall', 'với', 'tổng', 'giá_trị', 'tài_sản', 'năm', '2014', 'là', '1', '7', 'tỷ', 'usd']\n",
      "['nơi', 'nóng', 'nơi', 'lạnh', 'điểm', 'sơ', 'qua', 'trên', 'thị_trường', 'hiện_nay', 'có_thể', 'thấy', 'có', 'ít_nhất', '3', 'công_ty', 'chứng_khoán', 'chọn', 'cổ_phiếu', 'mwg', 'làm_chứng', 'khoán', 'cơ_sở', 'để', 'phát_hành', 'cw', 'công_ty', 'chứng_khoán', 'ngân_hàng', 'đầu_tư', 'và', 'phát_triển', 'việt_nam', 'bsc', 'là', 'công_ty', 'đầu_tiên', 'công_bố', 'phát_hành', 'chứng', 'quyền', 'mua', 'mwg', 'số_lượng', 'phát_hành', '1', 'triệu', 'cw', 'thời_hạn', '3', 'tháng', 'giá', 'thực_hiện', '88', '300', 'đồng', 'giá', 'chứng', 'quyền', '2', '000', 'đồng', 'tỷ_lệ', 'chuyển_đổi', 'là', '4/1', 'kết_quả', 'là', 'bsc', 'đã', 'cháy', 'hàng', 'chứng', 'quyền', 'mua', 'mwg', 'với', 'số_lượng', 'đặt', 'mua', 'vượt', 'số_lượng', 'dự_kiến', 'phát_hành', 'trong', 'khi', 'đó', 'công_ty', 'cổ_phần', 'chứng_khoán', 'vndirect', 'đã', 'hoàn_tất', 'phát_hành', '2', '4', 'triệu_chứng', 'quyền', 'mua', 'mwg', 'kỳ_hạn', '6', 'tháng', 'giá', 'thực_hiện', '90', '000', 'đồng', 'giá', 'chứng', 'quyền', 'là', '2', '990', 'đồng', 'và', 'tỷ_lệ', 'chuyển_đổi', 'là', '4/1', 'tuy_nhiên', 'kết_quả', 'là', 'chỉ', 'có', '409', '800', 'chứng', 'quyền', 'được', 'phát_hành', 'ngoài', '2', 'công_ty', 'trên', 'công_ty', 'chứng_khoán', 'ssi', 'sẽ', 'phát_hành', 'chứng', 'quyền', 'đối_với', 'mwg', 'nhưng', 'chưa', 'thực_hiện', 'trên', 'thực_tế', 'theo', 'đó', 'kết_quả', 'của', 'ssi', 'đối_với', 'chứng', 'quyền', 'mwg', 'vẫn', 'là', 'ẩn_số', 'tuy', 'cùng', 'sản_phẩm', 'trên', 'cổ_phiếu', 'cơ_sở', 'là', 'mwg', 'nhưng', 'thời_hạn', 'chứng', 'quyền', 'của', 'bsc', 'là', '3', 'tháng', 'của', 'vndirect', 'là', '6', 'tháng', 'và', 'các', 'yếu_tố', 'cơ_bản', 'khác', 'cũng', 'có', 'nhiều', 'khác_biệt', 'trong', 'đó', 'giá', 'chứng', 'quyền', 'của', 'vndirect', 'là', '2', '990', 'đồng', 'cao', 'hơn', 'mức', 'giá', '2', '000', 'đồng', 'của', 'bsc', 'nếu', 'chỉ', 'nhìn', 'vào', 'giá', 'thì', 'nhà_đầu_tư', 'dễ', 'có', 'cảm_giác', 'giá', 'chứng', 'quyền', 'vndirect', 'đắt', 'hơn', 'của', 'bsc', 'nhưng', 'thực_tế', 'việc', 'đánh_giá', 'đắt', 'rẻ', 'đối_với', 'tài_sản', 'tài_chính', 'này', 'là', 'điều', 'hết_sức', 'phức_tạp', 'giá', 'thực_hiện', 'trong', '2', 'đợt', 'phát_hành', 'chứng', 'quyền', 'mua', 'mwg', 'của', 'bsc', 'và', 'vndirect', 'cũng', 'mỗi', 'người', 'một', 'vẻ', 'của', 'bsc', 'là', '88', '300', 'đồng', 'của', 'vndirect', 'là', '90', '000', 'đồng', 'giá', 'thực_hiện', 'là', 'mức', 'giá', 'nhà_đầu_tư', 'sẽ', 'phải', 'bỏ', 'ra', 'mua', 'chứng_khoán', 'cơ_sở', 'từ', 'công_ty', 'chứng_khoán', 'khi', 'chứng', 'quyền', 'đáo_hạn', 'đây', 'là', 'cuộc_chơi', 'cho', 'thì', 'tương_lai', 'nên', 'trong', 'lúc', 'này', 'việc', 'đánh_giá', 'mức', 'giá', 'nào', 'hợp_lý', 'hơn', 'cũng', 'là', 'một', 'bài_toán', 'khá', 'hóc_búa', 'phụ_thuộc', 'vào', 'đánh_giá', 'của', 'nhà_đầu_tư', 'về', 'giá', 'cổ_phiếu', 'mwg', 'trong', 'vòng', '3', 'đến', '6', 'tháng', 'tới', 'kết_hợp', 'giá', 'thực_hiện', 'với', 'giá', 'chứng', 'quyền', 'của', '2', 'công_ty', 'có_thể', 'hiểu', 'đơn_giản', 'là', 'sau', '3', 'tháng', 'nếu', 'thị_giá', 'cổ_phiếu', 'mwg', 'cao', 'hơn', '90', '300', 'đồng', 'thì', 'nhà_đầu_tư', 'mua', 'chứng', 'quyền', 'tại', 'bsc', 'sẽ', 'có', 'lãi', 'thấp', 'hơn', 'thì', 'lỗ', ';', 'sau', '6', 'tháng', 'nếu', 'cổ_phiếu', 'mwg', 'cao', 'hơn', 'mức', '92', '990', 'đồng', 'thì', 'nhà_đầu_tư', 'mua', 'chứng', 'quyền', 'tại', 'vndirect', 'sẽ', 'có', 'lãi', 'chuyện', 'của', 'cổ_phiếu', 'mwg', 'với', 'sản_phẩm', 'mới', 'cw', 'đang', 'được', 'thị_trường', 'triển_khai', 'mọi', 'câu_chuyện', 'liên_quan', 'đến', 'cổ_phiếu', 'cơ_sở', 'không', 'còn', 'là', 'mối', 'quan_tâm', 'của', 'cổ_đông', 'công_ty', 'này', 'mà', 'sẽ', 'còn', 'được', 'các', 'nhà_đầu_tư', 'nắm', 'giữ', 'cw', 'và', 'công_ty', 'chứng_khoán', 'phát_hành', 'chứng', 'quyền', 'dõi', 'theo', 'từng', 'bước', 'cụ_thể', 'với', 'mwg', 'cổ_phiếu', 'này', 'ở', 'mức', 'giá', 'nào', 'sau', '3', 'và', '6', 'tháng', 'tới', 'sẽ', 'là', 'một', 'ẩn_số', 'vô_cùng', 'lý_thú', 'cho', 'cuộc_chơi', 'trên', 'sàn', 'chứng_khoán', 'thời_gian', 'tới', 'trong', 'khi', 'đó', 'mwg', 'vẫn', 'luôn', 'là', 'một', 'cổ_phiếu', 'khá', 'thú_vị', 'cho', 'nhà_đầu_tư', 'ông', 'nguyễn_thanh', 'tuấn', 'trưởng', 'phòng', 'phân_tích', 'các', 'doanh_nghiệp', 'nhỏ', 'và', 'vừa', 'của', 'công_ty', 'chứng_khoán', 'này', 'cho', 'biết', 'từ', 'khi', 'niêm_yết', 'đến', 'nay', 'mwg', 'luôn', 'tạo', 'cho', 'nhà_đầu_tư', 'đi', 'từ', 'ngạc_nhiên', 'này', 'đến', 'ngạc_nhiên', 'khác', 'theo', 'đó', 'dù', 'không', 'ít', 'người', 'nghi_ngờ', 'về', 'sự', 'tăng_trưởng', 'bền_vững', 'của', 'họ', 'nhưng', 'thực_tế', 'là', 'giá', 'cổ_phiếu', 'vẫn', 'tăng', 'liên_tục', 'trong', 'khi', 'đó', 'về', 'các', 'yếu_tố', 'cơ_bản', 'các', 'chỉ_số', 'tăng_trưởng', 'vẫn', 'duy_trì', 'ở', 'mức', 'cao', 'tuy_nhiên', 'tất_cả', 'những', 'thông_số', 'về', 'doanh_nghiệp', 'chỉ', 'là', 'câu_chuyện', 'của', 'quá_khứ', 'trong', 'khi', 'thì', 'tương_lai', 'mới', 'là', 'những', 'ẩn_số', 'thú_vị', 'cho', 'những', 'nhà_đầu_tư', 'thích', 'cảm_giác', 'mạnh']\n",
      "['tên', 'người', 'thực_hiện', 'giao_dịch', 'trần', 'minh', 'khoa', 'mã', 'chứng', 'khoánstb', 'chức_vụ', 'hiện_nay', 'tại', 'tổ_chức', 'niêm_yết', 'phó', 'tgđ', 'số_lượng', 'tỷ_lệ', 'cổ_phiếu', 'nắm', 'giữ', 'trước', 'khi', 'giao_dịch', '355', '000', 'cp', 'số_lượng', 'cp', 'đăng_ký', 'bán350', '000', 'cp', 'số_lượng', 'tỷ_lệ', 'cổ_phiếu', 'dự_định', 'nắm', 'giữ', 'sau', 'khi', 'thực_hiện', 'giao_dịch', '5', '000', 'cp', 'mục_đích', 'thực_hiện', 'giao_dịch', 'nhu_cầu', 'tài_chính', 'cá_nhân', 'phương_thức', 'giao_dịch', 'khớp', 'lệnh', 'và', 'thoả_thuận', 'thời_gian', 'dự_kiến', 'thực_hiện', 'giao_dịch', 'từ', 'ngày', '25/7', 'đến', '23/8']\n",
      "['như_vậy', 'với', 'khối_lượng', 'chứng_khoán', 'đang', 'lưu_hành', 'gần', '783', '9', 'triệu', 'đơn_vị', 'fpt', 'sẽ', 'phải_chi', 'tương_ứng', '783', '9', 'tỷ', 'đồng', 'để', 'trả', 'cổ_tức', 'cho', 'cổ_đông', 'hiện_hữu', 'ngày', 'giao_dịch', 'không', 'hưởng', 'quyền', 'nhận', 'cổ_tức', 'là', 'ngày', '17/8', 'thời_gian', 'thanh_toán', 'dự_kiến', 'từ', 'ngày', '1/9/2020', 'trước', 'đó', 'vào', 'giữa', 'tháng', '5', 'vừa_qua', 'fpt', 'đã', 'chốt', 'danh_sách', 'cổ_đông', 'trả', 'cổ_tức', 'còn', 'lại', 'năm', '2019', 'bằng', 'tiền_mặt', 'với', 'tỷ_lệ', '10%', 'và', 'bằng', 'cổ_phiếu', 'tỷ_lệ', '15%', 'thời_gian', 'thực_hiện', 'chia', 'cổ_tức', 'bằng', 'tiền_mặt', 'đã', 'được', 'thực_hiện', 'vào', 'đầu', 'tháng', '6/2020', 'năm', 'nay', 'fpt', 'dự_kiến', 'chia', 'cổ_tức', '20%', 'bằng', 'tiền_mặt', 'trong', 'khi', 'cổ_tức', 'năm', '2019', 'là', '20%', 'bằng', 'tiền_mặt', 'và', '15%', 'bằng', 'cổ_phiếu', 'cùng', 'với', 'kế_hoạch', 'kinh_doanh', 'năm', '2020', 'là', 'doanh_thu', '32', '450', 'tỷ', 'đồng', 'lợi_nhuận', 'trước', 'thuế', '5', '510', 'tỷ', 'đồng', 'trong', 'đó', 'theo', 'báo_cáo', 'mới', 'cập_nhật', '6', 'tháng', 'đầu', 'năm', 'công_ty', 'ghi_nhận', 'tổng', 'doanh_thu', 'và', 'lợi_nhuận', 'trước', 'thuế', 'lần_lượt', 'là', '13', '611', 'tỷ', 'đồng', 'và', '2', '428', 'tỷ', 'đồng', 'tăng_trưởng', 'tương_ứng', '9%', 'và', '14%', 'so', 'với', 'cùng', 'kỳ', 'so', 'với', 'kế_hoạch', 'cả', 'năm', '6', 'tháng', 'fpt', 'hoàn_thành', '41', '94%', 'mục_tiêu', 'doanh_thu', 'và', '44', '07%', 'mục_tiêu', 'lợi_nhuận', 'trên', 'thị_trường', 'đóng_cửa', 'phiên', '4/8', 'cổ_phiếu', 'fpt', 'tăng', '1', '4%', 'lên', '46', '550', 'đồng', '/', 'cp', 'với', 'khối_lượng', 'khớp', 'lệnh', 'hơn', '1', 'triệu', 'đơn_vị']\n",
      "['hôm_nay', 'tập_đoàn', 'masan', 'msn', 'một', 'trong', 'những', 'tập_đoàn', 'tư_nhân', 'lớn', 'nhất', 'việt_nam', 'đã', 'tuyên_bố', 'việc', 'kohlberg', 'kravis', 'robert', '&', 'co', 'l', 'p', 'kkr', 'hãng', 'đầu_tư', 'toàn_cầu', 'với', 'tổng_tài', 'sản', 'quản_lý', 'hơn', '61', 'tỷ', 'usd', 'đã', 'ký', 'hợp_đồng', 'mua', 'lại', '10%', 'cổ_phần', 'của', 'msn', 'trong', 'công_ty', 'con', 'là', 'ctcp', 'hàng_tiêu_dùng', 'masan', 'với', 'giá_trị', '159', 'tỷ', 'usd', 'kkr', 'định_giá', 'ctcp', 'hàng_tiêu_dùng', 'masan', 'có', 'tổng', 'giá_trị', 'là', '1', '6', 'tỷ', 'usd', 'đây', 'là', 'hợp_đồng', 'đầu_tư', 'private', 'equity', 'lớn', 'nhất', 'từ', 'trước', 'tới', 'nay', 'tại', 'việt_nam', 'theo', 'đó', 'msn', 'sẽ', 'phát_hành', '14', 'triệu', 'cổ_phiếu', 'phổ_thông', 'cho', 'kkr', 'và', 'giảm', 'lượng', 'nắm', 'giữ', 'của', 'mình', 'đối_với', 'ctcp', 'hàng_tiêu_dùng', 'masan', 'từ', '86', '6%', 'xuống', '78%', 'msn', 'đã', 'huy_động', 'được', 'hơn', '500', 'triệu', 'usd', 'thông_qua', 'vốn', 'đầu_tư', 'private', 'equity', 'trong', 'hai', 'năm', 'qua', 'và', 'hiện', 'là', 'một', 'trong', 'những', 'công_ty', 'lớn', 'nhất', 'trên', 'sàn', 'giao_dịch', 'chứng_khoán', 'tập_trung', 'của', 'việt_nam', 'ctcp', 'hàng_tiêu_dùng', 'masan', 'là', 'công_ty', 'chuyên', 'về', 'các', 'sản_phẩm', 'như', 'mỳ', 'ăn_liền', 'omachi', 'tiến', 'vua', 'nước_mắm', 'nam', 'ngư', 'tam', 'thái', 'từ', 'nước_tương', 'chinsu', 'trong', 'năm', '2010', 'doanh_thu', 'của', 'ctcp', 'hàng_tiêu_dùng', 'masan', 'đạt', '5', '690', 'tỷ', 'vnd', 'tăng', 'mạnh', 'từ', 'mức', '2', '004', 'tỷ', 'vnd', 'trong', 'năm', '2008', 'và', 'lợi_nhuận', 'ròng', 'đứng', 'ở', 'mức', '1', '253', 'tỷ', 'vnd']\n",
      "['trước', 'đó', 'ubcknn', 'đồng_ý', 'chốt', 'tỷ', 'lế', 'ở', 'hữu', 'của', 'nhà_đầu_tư', 'nước_ngoài', 'là', '10%', 'vốn_điều_lệ', 'thời_điểm', 'chốt', 'tính', 'cho', 'đến', 'tháng', '4/2014', 'trong', 'trường_hợp', 'stb', 'hoàn_thành', 'đợt', 'chuyển_nhượng', 'cho', 'đối_tác', 'nước_ngoài', 'trước', 'thời_điểm', 'tháng', '4/2014', 'stb', 'sẽ', 'phải', 'đề_nghị', 'xin', 'mở', 'room', 'trước', 'thời_hạn', 'lên', 'ubcknn', 'stb', 'thông_báo', 'chốt', 'tỷ_lệ', 'sở_hữu', 'cổ_đông', 'nước', 'ngoàistb']\n",
      "['trong', 'quý', 'i', '/', '2014', 'doanh_thu', 'thuần', 'vic', 'đạt', '6', '175', 'tỷ', 'đồng', 'tăng', 'gấp', '6', '28', 'lần', 'so', 'với', 'cùng', 'kỳ', 'trong', 'đó', 'doanh_thu', 'từ', 'chuyển_nhượng', 'bất_động_sản', 'chiếm', 'tỷ_trọng', 'lớn', 'nhất', 'với', '4', '871', '42', 'tỷ', 'đồng', 'sau', 'khi', 'giảm', 'trừ', 'giá_vốn', 'vic', 'lãi', '1', '409', '8', 'tỷ', 'đồng', 'tăng', 'gấp', '4', '6', 'lần', 'doanh_thu', 'hoạt_động', 'tài_chính', 'quý', 'này', 'chỉ', 'bằng', '34', '4%', 'so', 'với', 'cùng', 'kỳ', 'trong', 'khi', 'đó', 'các', 'chi_phí', 'hoạt_động', 'phải', 'trả', 'đều', 'tăng', 'cao', 'tuy_nhiên', 'nhờ', 'có', 'nguồn', 'thu', 'tốt', 'nên', 'lnst', 'của', 'cổ_đông', 'công_ty', 'mẹ', 'quý', 'i', '/', '2014', 'vic', 'đạt', '1', '075', '66', 'tỷ', 'đồng', 'tăng', 'mạnh', 'so', 'với', 'con_số', '287', '06', 'tỷ', 'đồng', 'đạt', 'được', 'ở', 'quý', 'i', '/', '2013', 'chi_tiết', 'báo_cáo', 'tài_chính', 'hợp_nhất', 'quý', 'i', '/', '2014']\n",
      "['theo', 'đó', 'hội_đồng_quản_trị', 'thống_nhất', 'thành_lập', 'chi_nhánh', 'nhà_bè', 'tại', 'số', '1842a', 'đường', 'huỳnh', 'tấn', 'phát', 'khu_phố', '6', 'thị_trấn', 'nhà_bè', 'thành_lập', 'chi_nhánh', 'bình', 'hưng', 'tại', 'số', '349', '351', 'đường', 'phạm', 'hùng', 'xã', 'bình', 'hưng', 'huyện', 'bình', 'hưng', 'thành_lập', 'chi_nhánh', 'thành', 'nam', 'tại', 'lô', 'e12', 'đường', 'n5', 'kcn', 'hoà', 'xá', 'xã', 'mỹ', 'xá', 'thành_lập', 'chi_nhánh', 'sa_pa', 'tại', 'số', '20', 'đường', 'ngũ', 'chi', 'sơn', 'thị_trấn', 'sa_pa', 'huyện', 'sa_pa', 'tỉnh', 'lào_cai', 'thành_lập', 'chi_nhánh', 'kỳ_anh', 'phường', 'sông', 'trí', 'xã', 'kỳ_anh', 'tỉnh', 'hà_tĩnh', 'thành_lập', 'chi_nhánh', 'thanh_trì', 'tại', 'số', '31/1', 'đường', 'phan', 'trọng', 'tuệ', 'thị_trấn', 'văn', 'điển', 'thành_lập', 'chi_nhánh', 'hoà', 'đức', 'tại', 'thôn', 'chùa', 'tổng', 'xã', 'la', 'phù', 'huyện', 'hoài_đức', 'thành_phố', 'hà_nội', 'thành_lập', 'chi_nhánh', 'gia_lâm', 'số', '741', 'đường', 'nguyễn_đức', 'thuận', 'xã', 'đặng_xá', 'huyện', 'gia_lâm', 'thành_phố', 'hà_nội', '08', 'chi_nhánh', 'đều', 'là', 'đơn_vị', 'trực_thuộc', 'bid', 'hạch', 'hoán', 'phụ_thuộc', 'có', 'con_dấu', 'tải', 'file', 'gốc']\n",
      "['ngày', '14', '15/1', 'ngân_hàng', 'tmcp', 'đầu_tư', 'và', 'phát_triển', 'việt_nam', 'bidv', 'hose', 'bid', 'tổ_chức', 'hội_nghị', 'triển_khai', 'nhiệm_vụ', 'và', 'kế_hoạch', 'kinh_doanh', 'năm', '2019', 'với', 'sự', 'có_mặt', 'của', 'thống_đốc', 'nhnn', 'lê_minh', 'hưng', 'báo_cáo', 'tại', 'hội_nghị', 'lãnh_đạo', 'ngân_hàng', 'cho', 'biết', 'lợi_nhuận', 'trước', 'thuế', 'hợp_nhất', 'năm', '2018', 'của', 'bidv', 'đạt', 'trên', '9', '625', 'tỷ', 'đồng', 'tăng', 'hơn', '11%', 'so', 'với', 'năm', '2017', 'và', 'vượt', 'kế_hoạch', 'đề', 'ra', 'hồi', 'đầu', 'năm', '9', '300', 'tỷ', 'đồng', 'lợi_nhuận', 'trước', 'thuế', 'riêng', 'khối', 'ngân_hàng', 'đạt', '8', '959', 'tỷ', 'đồng', 'tăng_trưởng', '12%', 'chênh_lệch', 'thu_chi', 'tăng_trưởng', '13%', 'tính', 'đến', 'cuối', 'năm', '2018', 'tổng_tài', 'sản', 'bidv', 'đạt', 'trên', '1', '2', 'triệu', 'tỷ', 'đồng', 'tăng', '9', '1%', 'so', 'với', '2017', 'bidv', 'tiếp_tục', 'là', 'ngân_hàng', 'thương_mại', 'có', 'quy_mô', 'tài_sản', 'lớn', 'nhất', 'việt_nam', 'nguồn', 'vốn', 'huy_động', 'đạt', 'trên', '1', '2', 'triệu', 'tỷ', 'đồng', 'tăng_trưởng', 'gần', '9%', 'trong', 'đó', 'tiền', 'gửi', 'tổ_chức', 'kinh_tế', 'và', 'dân_cư', 'tăng', '11%', 'lên', 'hơn', '1', 'triệu', 'tỷ', 'đồng_quy', 'mô', 'tín_dụng', 'và', 'đầu_tư', 'đạt', 'trên', '1', '21', 'triệu', 'tỷ', 'đồng', 'tăng_trưởng', '6', '8%', ';', 'trong', 'đó', 'cho', 'vay', 'nền', 'kinh_tế', 'hơn', '977', '000', 'tỷ', 'đồng', 'tăng', '13', '3%', 'thị_phần', 'huy_động', 'vốn', 'và', 'tín_dụng', 'lần_lượt', 'chiếm', 'khoảng', '12', '5%', 'và', '13%', 'huy_động', 'vốn', 'năm', '2018', 'ghi_nhận', 'nhiều', 'thương_vụ', 'lớn', 'như', 'ký', 'hợp_đồng', 'tín_dụng', '300', 'triệu', 'usd', 'với', 'adb', 'mức', 'lớn', 'nhất', 'mà', 'adb', 'cung_cấp', 'cho', 'một', 'ngân_hàng', 'thương_mại', 'châu_á', 'từ', 'trước', 'đến', 'nay', 'ngân_hàng', 'cũng', 'đã', 'phát_hành', 'thành_công', '4', '586', 'tỷ', 'đồng', 'trái_phiếu', 'tăng', 'vốn', 'phương_án', 'tăng', 'vốn_điều_lệ', 'của', 'bidv', 'vẫn', 'chưa', 'được', 'hoàn_tất', 'trong', 'năm', '2018', 'nhưng', 'đã', 'có', 'bước_tiến', 'triển', 'đáng', 'chú_ý', 'khi', 'ngân_hàng', 'đã', 'hoàn_tất', 'lấy', 'ý_kiến', 'cổ_đông', 'về', 'việc', 'bán', 'vốn', 'chiến_lược', 'cho', 'đối_tác', 'hàn_quốc', 'keb', 'hana', 'bank', 'tại', 'hội_nghị', 'lần', 'này', 'chủ_tịch', 'hđqt', 'bidv', 'phan', 'đức', 'tú', 'việc', 'hoàn_thành', 'bán', 'cổ_phần', 'cho', 'cổ_đông', 'chiến_lược', 'nước_ngoài', 'là', 'nhiệm_vụ', 'trọng_tâm', 'để', 'nâng', 'cao', 'năng_lực', 'tài_chính', 'của', 'ngân_hàng', 'ông', 'cũng', 'cho', 'biết', 'bidv', 'xác_định', 'mục_tiêu', 'hoàn_thành', 'các', 'chỉ_tiêu', 'cơ_bản', 'sớm', 'trước', 'một', 'năm', 'phương_án', 'tái', 'cơ_cấu', 'gắn', 'với', 'xử_lý', 'nợ', 'xấu', 'giai_đoạn', '2016', '2020', 'tạo', 'tiền_đề', 'phát_triển', 'bứt_phá', 'thực_chất', 'bền_vững', 'của', 'toàn', 'hệ_thống', 'từ', 'năm', '2020', 'với', 'mục_tiêu', 'này', 'năm', '2019', 'sẽ', 'là', 'năm', 'phải', '\"', 'chạy', 'nước_rút', '\"', 'của', 'ngân_hàng', 'chủ_tịch', 'bidv', 'cũng', 'đặt', 'mục_tiêu', 'áp_dụng', 'và', 'thực_thi', 'hiệu_quả', 'các', 'biện_pháp', 'xử_lý', 'nợ', 'xấu', 'cũ', 'không', 'để', 'nợ', 'xấu', 'mới', 'phát_sinh', ';', 'tiếp_tục', 'cơ_cấu', 'lại', 'nền', 'khách_hàng', 'cơ_cấu', 'tài_sản', 'nợ', 'có', ';', 'đẩy_mạnh', 'phát_triển', 'ngân_hàng', 'số', ';', 'quản_trị', 'tốt', 'mạng_lưới', 'chi_nhánh', 'và', 'đơn_vị', 'thành_viên', ';', 'hoàn_thiện', 'hệ_thống', 'quản_trị', 'điều_hành', ';', 'thực_hiện', 'tốt', 'nhiệm_vụ', 'cung_ứng', 'vốn', 'cho', 'nền', 'kinh_tế', ';', 'thực_thi', 'hiệu_quả', 'chính_sách', 'tiền_tệ', 'quốc_gia', 'góp_phần', 'ổn_định', 'các', 'chỉ_số', 'cân_đối', 'vĩ_mô', 'của', 'đất_nước', ';', 'thực_hành', 'văn_hoá', 'doanh_nghiệp', 'nâng', 'cao', 'đời_sống', 'cho', 'cán_bộ', 'nhân_viên', 'gia_tăng', 'quyền_lợi', 'cho', 'cổ_đông', 'và', 'trách_nhiệm', 'với', 'cộng_đồng', 'tại', 'hội_nghị', 'thống_đốc', 'biểu_dương', 'hoạt_động', 'kinh_doanh', 'và', 'chất_lượng', 'tín_dụng', 'của', 'bidv', 'thống_đốc', 'cũng', 'biểu_dương', 'hđqt', 'ban', 'điều_hành', 'các', 'cấp', 'tích_cực', 'thực_hiện', 'đề_án', 'tái', 'cơ_cấu', 'gắn', 'với', 'xử_lý', 'nợ', 'xấu', ';', 'đề_án', 'ngân_hàng', 'số', 'được', 'triển_khai', 'kịp', 'thờ', 'cùng', 'các', 'hoạt_động', 'hỗ_trợ', 'phát_triển', 'kinh_tế', 'xã_hội', 'các', 'địa_phương', ';', 'tiên_phong', 'trong', 'công_tác', 'an_sinh', 'xã_hội']\n",
      "['ngân_hàng', 'đt', '&', 'pt', 'việt_nam', 'bidv', 'công_bố', 'báo_cáo', 'tài_chính', 'hợp_nhất', 'quý', 'i', '/', '2014', 'với', '3', '497', '92', 'tỷ', 'đồng', 'thu_nhập', 'lãi', 'thuần', 'tăng', 'xấp_xỉ', '12%', 'so', 'với', 'cùng', 'kỳ', 'mảng', 'hoạt_động', 'dịch_vụ', 'bid', 'đạt', '605', '16', 'tỷ', 'đồng', 'tăng', '17', '52%', 'và', 'lãi', 'thuần', 'từ', 'hoạt_động', 'kinh_doanh', 'ngoại_hối', 'đạt', '202', '8', 'tỷ', 'đồng', 'tăng', 'gấp', '5', 'lần', 'khoản', 'lãi', 'khác', 'cũng', 'có', 'mức', 'tăng', 'gấp', '2', '37', 'lần', 'khi', 'đạt', '165', '07', 'tỷ', 'đồng', 'tuy_nhiên', 'mảng', 'hoạt_động', 'mua_bán', 'chứng_khoán', 'kinh_doanh', 'kỳ', 'này', 'của', 'bid', 'đạt', '60', '8', 'tỷ', 'đồng', 'giảm', '55', '3%', 'và', 'hoạt_động', 'mua_bán', 'chứng_khoán', 'đầu_tư', 'lỗ', '21', '6', 'tỷ', 'đồng', 'trong', 'khi', 'cùng', 'kỳ', 'lãi', '1', '08', 'tỷ', 'đồng', 'giảm', 'trừ', 'chi_phí', 'hoạt_động', 'và', 'chi_phí', 'dự_phòng', 'rủi_ro', 'tín_dụng', 'lợi_nhuận', 'ròng', 'quý', 'i', '/', '2014', 'của', 'bid', 'đạt', '1', '536', '5', 'tỷ', 'đồng', 'tăng_trưởng', '35%', 'so', 'với', 'cùng', 'kỳ', 'năm', '2013', 'chi_tiết', 'báo_cáo', 'tài_chính', 'hợp_nhất', 'quý', 'i', '/', '2014', 'và', 'giải_trình']\n"
     ]
    }
   ],
   "source": [
    "X_train['form'] = X_train_process.apply(lambda x: get_form(x))\n",
    "X_train['pos_tag'] = X_train_process.apply(lambda x: get_postag(x))"
   ]
  },
  {
   "cell_type": "code",
   "execution_count": 593,
   "metadata": {},
   "outputs": [],
   "source": [
    "X_train['form_text'] = X_train['form'].apply(lambda x: (\" \").join(x))"
   ]
  },
  {
   "cell_type": "code",
   "execution_count": 594,
   "metadata": {},
   "outputs": [
    {
     "output_type": "execute_result",
     "data": {
      "text/plain": [
       "29     ctcp vàng_bạc đá_quý phú_nhuận mã pnj công_bố ...\n",
       "305    quá_trình thoái vốn khỏi mảng bán_lẻ dự_kiến s...\n",
       "364    bidv ngày hôm_qua 15/11 đã có thông_báo chính_...\n",
       "199    cụ_thể hai quỹ có liên_quan đến ssi là daiwa –...\n",
       "511    ngân_hàng đấu_giá 2 khoản nợ của 2 doanh_nghiệ...\n",
       "                             ...                        \n",
       "71     trước đó ubcknn đồng_ý chốt tỷ lế ở hữu của nh...\n",
       "106    trong quý i / 2014 doanh_thu thuần vic đạt 6 1...\n",
       "270    theo đó hội_đồng_quản_trị thống_nhất thành_lập...\n",
       "435    ngày 14 15/1 ngân_hàng tmcp đầu_tư và phát_tri...\n",
       "102    ngân_hàng đt & pt việt_nam bidv công_bố báo_cá...\n",
       "Name: form_text, Length: 521, dtype: object"
      ]
     },
     "metadata": {},
     "execution_count": 594
    }
   ],
   "source": [
    "X_train['form_text']"
   ]
  },
  {
   "cell_type": "code",
   "execution_count": 595,
   "metadata": {},
   "outputs": [],
   "source": [
    "from sklearn.feature_extraction.text import TfidfVectorizer\n",
    "\n",
    "tfidf = TfidfVectorizer()\n",
    "tfidf_matrix = tfidf.fit_transform(X_train['form_text'])\n",
    "feature_names = tfidf.get_feature_names()\n",
    "\n",
    "def get_ifidf_for_words(text):\n",
    "    tfidf_matrix= tfidf.transform([text]).todense()\n",
    "    feature_index = tfidf_matrix[0,:].nonzero()[1]\n",
    "    tfidf_scores = zip([feature_names[i] for i in feature_index], [tfidf_matrix[0, x] for x in feature_index])\n",
    "    return dict(tfidf_scores)"
   ]
  },
  {
   "cell_type": "code",
   "execution_count": 596,
   "metadata": {},
   "outputs": [],
   "source": [
    "X_train['ifidf_for_words'] = X_train['form_text'].apply(lambda x : get_ifidf_for_words(x))"
   ]
  },
  {
   "cell_type": "code",
   "execution_count": 597,
   "metadata": {},
   "outputs": [],
   "source": [
    "def get_tfidf_for_word(word, dic):\n",
    "    if word in dic.keys():\n",
    "        return dic[word]\n",
    "    else:\n",
    "        return 0\n",
    "\n",
    "def get_tfidf_for_docs(text, dic):\n",
    "    text_df = pd.DataFrame(text)\n",
    "    text_df.columns = ['word']\n",
    "    tfidf_words = text_df['word'].apply(lambda x: get_tfidf_for_word(x, dic))\n",
    "    return tfidf_words"
   ]
  },
  {
   "cell_type": "code",
   "execution_count": 598,
   "metadata": {},
   "outputs": [],
   "source": [
    "tfidf_docs = []\n",
    "for i,row in X_train[['form','ifidf_for_words']].iterrows():\n",
    "    tfidf_docs.append(get_tfidf_for_docs(row['form'],row['ifidf_for_words']))\n",
    "X_train['tfidf_docs'] = tfidf_docs"
   ]
  },
  {
   "cell_type": "code",
   "execution_count": 599,
   "metadata": {},
   "outputs": [
    {
     "output_type": "execute_result",
     "data": {
      "text/plain": [
       "     Unnamed: 0                                          NewsTitle  \\\n",
       "29           29         PNJ lợi nhuận cả năm tăng 17% so với 2010    \n",
       "305         560  FPT – Thoái vốn khỏi mảng bán lẻ dự kiến sẽ ho...   \n",
       "364         619  BIDV bán đấu giá KCN Việt Hòa - Kenmark, giá k...   \n",
       "199         399           SSI đăng ký mua 5 triệu cổ phiếu của DHC   \n",
       "511         770  BIDV đấu giá nợ và tài sản tổng giá khởi điểm ...   \n",
       "\n",
       "                                 NewsFullContent_lower  \\\n",
       "29   ctcp vàng bạc đá quý phú nhuận mã pnj công bố ...   \n",
       "305  quá trình thoái vốn khỏi mảng bán lẻ dự kiến s...   \n",
       "364  bidv ngày hôm qua  15/11  đã có thông báo chín...   \n",
       "199    cụ thể hai quỹ có liên quan đến ssi là daiwa...   \n",
       "511    ngân hàng đấu giá 2 khoản nợ của 2 doanh ngh...   \n",
       "\n",
       "                                                  form  \\\n",
       "29   [ctcp, vàng_bạc, đá_quý, phú_nhuận, mã, pnj, c...   \n",
       "305  [quá_trình, thoái, vốn, khỏi, mảng, bán_lẻ, dự...   \n",
       "364  [bidv, ngày, hôm_qua, 15/11, đã, có, thông_báo...   \n",
       "199  [cụ_thể, hai, quỹ, có, liên_quan, đến, ssi, là...   \n",
       "511  [ngân_hàng, đấu_giá, 2, khoản, nợ, của, 2, doa...   \n",
       "\n",
       "                                               pos_tag  \\\n",
       "29   [V, N, N, V, N, N, V, N, V, N, N, Cc, N, M, N,...   \n",
       "305  [N, V, N, V, N, V, V, R, V, E, N, M, V, R, V, ...   \n",
       "364  [V, N, N, M, R, V, N, A, E, N, V, V, N, V, N, ...   \n",
       "199  [A, M, N, V, V, E, N, V, N, CH, V, N, N, N, Nb...   \n",
       "511  [N, V, M, N, N, E, M, N, E, N, N, M, M, M, Nu,...   \n",
       "\n",
       "                                             form_text  \\\n",
       "29   ctcp vàng_bạc đá_quý phú_nhuận mã pnj công_bố ...   \n",
       "305  quá_trình thoái vốn khỏi mảng bán_lẻ dự_kiến s...   \n",
       "364  bidv ngày hôm_qua 15/11 đã có thông_báo chính_...   \n",
       "199  cụ_thể hai quỹ có liên_quan đến ssi là daiwa –...   \n",
       "511  ngân_hàng đấu_giá 2 khoản nợ của 2 doanh_nghiệ...   \n",
       "\n",
       "                                       ifidf_for_words  \\\n",
       "29   {'010': 0.11612799290761981, '023': 0.13496699...   \n",
       "305  {'108': 0.0437121243807367, '15': 0.0210558782...   \n",
       "364  {'10': 0.017223550646880265, '11': 0.023037794...   \n",
       "199  {'01': 0.09777566697234044, '06': 0.0998546827...   \n",
       "511  {'10': 0.015970561146578535, '118': 0.04272266...   \n",
       "\n",
       "                                            tfidf_docs  \n",
       "29   0      0.057399\n",
       "1      0.079289\n",
       "2      0.07928...  \n",
       "305  0      0.075242\n",
       "1      0.117735\n",
       "2      0.05312...  \n",
       "364  0      0.244274\n",
       "1      0.109267\n",
       "2      0.04976...  \n",
       "199  0      0.054201\n",
       "1      0.054419\n",
       "2      0.12756...  \n",
       "511  0      0.062353\n",
       "1      0.230460\n",
       "2      0.00000...  "
      ],
      "text/html": "<div>\n<style scoped>\n    .dataframe tbody tr th:only-of-type {\n        vertical-align: middle;\n    }\n\n    .dataframe tbody tr th {\n        vertical-align: top;\n    }\n\n    .dataframe thead th {\n        text-align: right;\n    }\n</style>\n<table border=\"1\" class=\"dataframe\">\n  <thead>\n    <tr style=\"text-align: right;\">\n      <th></th>\n      <th>Unnamed: 0</th>\n      <th>NewsTitle</th>\n      <th>NewsFullContent_lower</th>\n      <th>form</th>\n      <th>pos_tag</th>\n      <th>form_text</th>\n      <th>ifidf_for_words</th>\n      <th>tfidf_docs</th>\n    </tr>\n  </thead>\n  <tbody>\n    <tr>\n      <th>29</th>\n      <td>29</td>\n      <td>PNJ lợi nhuận cả năm tăng 17% so với 2010</td>\n      <td>ctcp vàng bạc đá quý phú nhuận mã pnj công bố ...</td>\n      <td>[ctcp, vàng_bạc, đá_quý, phú_nhuận, mã, pnj, c...</td>\n      <td>[V, N, N, V, N, N, V, N, V, N, N, Cc, N, M, N,...</td>\n      <td>ctcp vàng_bạc đá_quý phú_nhuận mã pnj công_bố ...</td>\n      <td>{'010': 0.11612799290761981, '023': 0.13496699...</td>\n      <td>0      0.057399\n1      0.079289\n2      0.07928...</td>\n    </tr>\n    <tr>\n      <th>305</th>\n      <td>560</td>\n      <td>FPT – Thoái vốn khỏi mảng bán lẻ dự kiến sẽ ho...</td>\n      <td>quá trình thoái vốn khỏi mảng bán lẻ dự kiến s...</td>\n      <td>[quá_trình, thoái, vốn, khỏi, mảng, bán_lẻ, dự...</td>\n      <td>[N, V, N, V, N, V, V, R, V, E, N, M, V, R, V, ...</td>\n      <td>quá_trình thoái vốn khỏi mảng bán_lẻ dự_kiến s...</td>\n      <td>{'108': 0.0437121243807367, '15': 0.0210558782...</td>\n      <td>0      0.075242\n1      0.117735\n2      0.05312...</td>\n    </tr>\n    <tr>\n      <th>364</th>\n      <td>619</td>\n      <td>BIDV bán đấu giá KCN Việt Hòa - Kenmark, giá k...</td>\n      <td>bidv ngày hôm qua  15/11  đã có thông báo chín...</td>\n      <td>[bidv, ngày, hôm_qua, 15/11, đã, có, thông_báo...</td>\n      <td>[V, N, N, M, R, V, N, A, E, N, V, V, N, V, N, ...</td>\n      <td>bidv ngày hôm_qua 15/11 đã có thông_báo chính_...</td>\n      <td>{'10': 0.017223550646880265, '11': 0.023037794...</td>\n      <td>0      0.244274\n1      0.109267\n2      0.04976...</td>\n    </tr>\n    <tr>\n      <th>199</th>\n      <td>399</td>\n      <td>SSI đăng ký mua 5 triệu cổ phiếu của DHC</td>\n      <td>cụ thể hai quỹ có liên quan đến ssi là daiwa...</td>\n      <td>[cụ_thể, hai, quỹ, có, liên_quan, đến, ssi, là...</td>\n      <td>[A, M, N, V, V, E, N, V, N, CH, V, N, N, N, Nb...</td>\n      <td>cụ_thể hai quỹ có liên_quan đến ssi là daiwa –...</td>\n      <td>{'01': 0.09777566697234044, '06': 0.0998546827...</td>\n      <td>0      0.054201\n1      0.054419\n2      0.12756...</td>\n    </tr>\n    <tr>\n      <th>511</th>\n      <td>770</td>\n      <td>BIDV đấu giá nợ và tài sản tổng giá khởi điểm ...</td>\n      <td>ngân hàng đấu giá 2 khoản nợ của 2 doanh ngh...</td>\n      <td>[ngân_hàng, đấu_giá, 2, khoản, nợ, của, 2, doa...</td>\n      <td>[N, V, M, N, N, E, M, N, E, N, N, M, M, M, Nu,...</td>\n      <td>ngân_hàng đấu_giá 2 khoản nợ của 2 doanh_nghiệ...</td>\n      <td>{'10': 0.015970561146578535, '118': 0.04272266...</td>\n      <td>0      0.062353\n1      0.230460\n2      0.00000...</td>\n    </tr>\n  </tbody>\n</table>\n</div>"
     },
     "metadata": {},
     "execution_count": 599
    }
   ],
   "source": [
    "X_train.head()"
   ]
  },
  {
   "cell_type": "code",
   "execution_count": 600,
   "metadata": {},
   "outputs": [],
   "source": [
    "X_train = X_train.reset_index()"
   ]
  },
  {
   "cell_type": "code",
   "execution_count": 603,
   "metadata": {},
   "outputs": [],
   "source": [
    "def combine_feature(X):\n",
    "    features = []\n",
    "    for i in range(len(X_train)):\n",
    "        form = pd.DataFrame(X_train['form'][i])\n",
    "        pos_tag = pd.DataFrame(X_train['pos_tag'][i])\n",
    "        tfidf_docs = pd.DataFrame(X_train['tfidf_docs'][i])\n",
    "        df_col_merged = pd.concat([form, pos_tag,tfidf_docs], axis=1)\n",
    "        feature = df_col_merged.values.tolist()\n",
    "        features.append(feature)\n",
    "    X['features'] = features "
   ]
  },
  {
   "cell_type": "code",
   "execution_count": 604,
   "metadata": {},
   "outputs": [],
   "source": [
    "combine_feature(X_train)"
   ]
  },
  {
   "cell_type": "code",
   "execution_count": 605,
   "metadata": {},
   "outputs": [
    {
     "output_type": "execute_result",
     "data": {
      "text/plain": [
       "0      [[ctcp, V, 0.05739876783897788], [vàng_bạc, N,...\n",
       "1      [[quá_trình, N, 0.07524175082506061], [thoái, ...\n",
       "2      [[bidv, V, 0.24427389465937988], [ngày, N, 0.1...\n",
       "3      [[cụ_thể, A, 0.05420111420498017], [hai, M, 0....\n",
       "4      [[ngân_hàng, N, 0.062353015264098165], [đấu_gi...\n",
       "                             ...                        \n",
       "516    [[trước, E, 0.15261141740424186], [đó, P, 0.04...\n",
       "517    [[trong, E, 0.10188285734481316], [quý, N, 0.3...\n",
       "518    [[theo, V, 0.01641649536942139], [đó, P, 0.016...\n",
       "519    [[ngày, N, 0.019647684976328426], [14, M, 0.02...\n",
       "520    [[ngân_hàng, N, 0.0564885536401534], [đt, V, 0...\n",
       "Name: features, Length: 521, dtype: object"
      ]
     },
     "metadata": {},
     "execution_count": 605
    }
   ],
   "source": [
    "X_train['features']"
   ]
  },
  {
   "cell_type": "code",
   "execution_count": null,
   "metadata": {},
   "outputs": [],
   "source": []
  }
 ]
}