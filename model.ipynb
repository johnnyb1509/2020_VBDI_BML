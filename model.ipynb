{
 "metadata": {
  "language_info": {
   "codemirror_mode": {
    "name": "ipython",
    "version": 3
   },
   "file_extension": ".py",
   "mimetype": "text/x-python",
   "name": "python",
   "nbconvert_exporter": "python",
   "pygments_lexer": "ipython3",
   "version": "3.8.3-final"
  },
  "orig_nbformat": 2,
  "kernelspec": {
   "name": "python3",
   "display_name": "Python 3",
   "language": "python"
  }
 },
 "nbformat": 4,
 "nbformat_minor": 2,
 "cells": [
  {
   "cell_type": "code",
   "execution_count": 1,
   "metadata": {},
   "outputs": [],
   "source": [
    "import numpy as np \n",
    "import pandas as pd \n",
    "import matplotlib.pyplot as plt \n",
    "from sklearn.model_selection import train_test_split\n",
    "from nltk import RegexpParser, Tree\n",
    "import pandas as pd\n",
    "import numpy as np\n",
    "import ast\n",
    "from sklearn.metrics import classification_report"
   ]
  },
  {
   "cell_type": "code",
   "execution_count": 2,
   "metadata": {},
   "outputs": [],
   "source": [
    "from vncorenlp import VnCoreNLP\n",
    "annotator = VnCoreNLP(\"./VnCoreNLP-master/VnCoreNLP-1.1.1.jar\", annotators=\"wseg,pos\", max_heap_size='-Xmx500m')\n",
    "\n",
    "def word_segment(text):\n",
    "    annotated_text = annotator.annotate(text)['sentences'][0]\n",
    "    return [dic['form'].replace('_',' ').lower() for dic in annotated_text]"
   ]
  },
  {
   "cell_type": "code",
   "execution_count": 3,
   "metadata": {},
   "outputs": [],
   "source": [
    "def get_y(text):\n",
    "    return [word[1] for word in text]"
   ]
  },
  {
   "cell_type": "code",
   "execution_count": 4,
   "metadata": {},
   "outputs": [],
   "source": [
    "def convertBoolArr(arr):\n",
    "    return [0 if x.lstrip() == 'False' else 1 for x in arr[1:-1].split(',')]"
   ]
  },
  {
   "cell_type": "code",
   "execution_count": 5,
   "metadata": {},
   "outputs": [],
   "source": [
    "def get_postag(x):\n",
    "    pos = []\n",
    "    for dic in x['sentences'][0]:\n",
    "        pos.append(dic['posTag'])\n",
    "    return pos"
   ]
  },
  {
   "cell_type": "code",
   "execution_count": 6,
   "metadata": {},
   "outputs": [],
   "source": [
    "def get_form(x):\n",
    "    pos = []\n",
    "    for dic in x['sentences'][0]:\n",
    "        pos.append(dic['form'])\n",
    "    print(pos)\n",
    "    return pos"
   ]
  },
  {
   "cell_type": "code",
   "execution_count": 7,
   "metadata": {},
   "outputs": [],
   "source": [
    "def flatten(A):\n",
    "    rt = []\n",
    "    for i in A:\n",
    "        if isinstance(i,list): rt.extend(flatten(i))\n",
    "        else: rt.append(i)\n",
    "    return rt"
   ]
  },
  {
   "cell_type": "code",
   "execution_count": 8,
   "metadata": {},
   "outputs": [],
   "source": [
    "def data_process(path):\n",
    "    X = pd.read_csv(path).drop('Unnamed: 0', axis=1)\n",
    "    X['list_label'] = X['label'].apply(lambda x: ast.literal_eval(x))\n",
    "    X_t = X.drop('label', axis=1)\n",
    "    y_t = X['list_label'].apply(lambda x: get_y(x)).to_list()   \n",
    "    X_t_process = X_t['NewsFullContent'].apply(lambda x: annotator.annotate(str(x)))\n",
    "    X_t['form'] = X_t_process.apply(lambda x: get_form(x))\n",
    "    X_t['pos_tag'] = X_t_process.apply(lambda x: get_postag(x))\n",
    "    X_t['form_text'] = X_t['form'].apply(lambda x: (\" \").join(x))\n",
    "    return X_t, y_t\n"
   ]
  },
  {
   "cell_type": "code",
   "execution_count": 9,
   "metadata": {},
   "outputs": [],
   "source": [
    "def ner_title_feature(path):\n",
    "    X = pd.read_csv(path).drop('Unnamed: 0', axis=1)\n",
    "    X['name_entity'] = X['name_entity'].apply(convertBoolArr)\n",
    "    X['title_tag'] = X['title_tag'].apply(convertBoolArr)\n",
    "    return X"
   ]
  },
  {
   "cell_type": "code",
   "execution_count": 10,
   "metadata": {
    "tags": [
     "outputPrepend"
    ]
   },
   "outputs": [
    {
     "output_type": "stream",
     "name": "stdout",
     "text": [
      "c', 'phí', 'để', 'mua', 'quyền', '\"', 'Đầu_tư', 'chứng_khoán', 'cơ_sở', 'thì', 'dù', 'biết', 'phải', 'cắt', 'lỗ', 'tuy_nhiên', 'tính', 'kỷ_luật', 'mỗi', 'nhà_đầu_tư', 'khác', 'nhau', 'và', 'điều', 'này', 'định_hình', 'trader', 'thành_công', 'trên', 'thị_trường', 'khác', 'với', 'CW', 'là', 'mức', 'lỗ', 'tối_đa', 'được', 'định', 'trước', 'và', 'nhà_đầu_tư', 'chỉ', 'coi', 'đây', 'là', 'phí', 'bảo_hiểm', 'giao_dịch', '\"', 'ông', 'Nguyễn_Duy_Linh', '–', 'Phó', 'Giám_đốc', 'Khối_Dịch', 'vụ', 'Chứng_khoán', 'Khách_hàng', 'Cá_nhân', 'phân_trần', 'Song', 'ngược_lại', 'đòn_bẩy', 'càng', 'cao', 'thì', 'đi', 'kèm', 'với', 'rủi_ro', 'càng', 'cao', 'tức', 'CW', 'biến_động', 'theo', 'chứng_khoán', 'cơ_sở', 'trong', 'trường_hợp', 'cổ_phiếu', 'giảm_giá', 'thì', 'tỷ_lệ', 'thua_lỗ', 'của', 'CW', 'sẽ', 'cao', 'hơn', 'dĩ_nhiên', 'trong', 'trường_hợp', 'nhà_đầu_tư', 'quyết_định', 'thực_hiện', 'quyền', 'Lấy', 'ví_dụ', 'cổ_phiếu', 'MBB', 'với', 'chứng_khoán', 'cơ_sở', 'nhà_đầu_tư', 'sẽ', 'bỏ', 'ra', 'chi_phí', 'ban_đầu', '220', 'triệu', 'để', 'sở_hữu', '10', '000', 'mã', 'MBB', 'Trong', 'khi', 'với', 'CW', 'nhà_đầu_tư', 'chỉ', 'bỏ', 'ra', 'số', 'vốn', 'ban_đầu', 'là', '25', 'triệu', 'đồng', 'để', 'nhận', 'về', 'quyền', 'mua', 'cổ_phiếu', 'MBB', 'thời_hạn', '6', 'tháng', 'với', 'giá', 'xác_định', '22', '000', 'đồng', '/', 'cp', 'Trường_hợp', 'mã', 'MBB', 'tăng_giá', 'lên', '27', '500', 'đồng', '/', 'cp', 'với', 'chứng_khoán', 'cơ_sở', 'nhà_đầu_tư', 'nắm', 'giữ', 'cổ_phiếu', 'sẽ', 'có', 'lời', '55', 'triệu', 'so', 'với', 'vốn', 'ban_đầu', '220', 'triệu', 'thì', 'tỷ_lệ', 'sinh_lợi', 'lúc', 'này', 'là', '25%', '/', 'vốn', 'Trong', 'khi', 'với', 'CW', 'nhà_đầu_tư', 'lãi', '30', 'triệu', 'song', 'so', 'với', 'vốn', 'bỏ', 'ra', 'thì', 'tỷ_suất', 'sinh_lợi', 'lên', 'đến', '120%', '/', 'vốn', 'đây', 'là', 'lợi_ích', 'khi', 'dùng', 'đòn_bẩy', 'Ngược_lại', 'trường_hợp', 'MBB', 'chỉ', 'tăng_giá', 'nhẹ', 'lên', '23', '000', 'đồng', 'lúc', 'này', 'với', 'chứng_khoán', 'cơ_sở', 'nhà_đầu_tư', 'có', 'lời', '10', 'triệu', 'tuy_nhiên', 'với', 'CW', 'do', 'chưa', 'bù_đắp', 'được', 'mức', 'phí', 'do_đó', 'sẽ', 'phải', 'thua_lỗ', '15', 'triệu', 'đồng', 'Đây', 'được', 'hiểu', 'là', 'rủi_ro', 'càng', 'cao', 'khi', 'dùng', 'đòn_bẩy', 'tài_chính', 'càng', 'cao', 'Tuy_nhiên', 'khi', 'MBB', 'giảm_giá', 'mạnh', 'về', 'chỉ', 'còn', '17', '000', 'đồng', '/', 'cp', 'dĩ_nhiên', 'nhà_đầu_tư', 'nắm', 'giữ', 'cổ_phiếu', 'cơ_sở', 'lúc', 'này', 'thua_lỗ', 'đậm', 'đến', '50', 'triệu', 'đồng', 'thì', 'chủ_nhân', 'CW', 'sẽ', 'có', 'quyền', 'không', 'thực_hiện', 'quyền', 'mua', 'MBB', 'và', 'chỉ', 'mất', 'đi', 'mức', 'lỗ', 'tối_đa', 'là', 'khoản', 'vốn', 'ban_đầu', '25', 'triệu', 'đồng', 'Một', 'rủi_ro', 'đáng', 'quan_tâm', 'khác', 'với', 'nhà_đầu_tư', 'khi', 'mua', 'CW', 'chính', 'là', 'rủi_ro', 'tổ_chức', 'phát_hành', 'với', 'Việt_Nam', 'lúc', 'này', 'là', 'các', 'CTCK', 'Để', 'hạn_chế', 'điều', 'này', 'nhà_đầu_tư', 'cần', 'phải', 'lựa_chọn', 'các', 'CTCK', 'có', 'uy_tín', 'vốn', 'lớn', '–', 'đặc_biệt', 'nguồn', 'tự', 'doanh', 'lớn', 'và', 'có', 'khả_năng', 'đảm_bảo', 'thanh', 'khoản', 'cho', 'CW', 'Cuối_cùng', 'một', 'nhược_điểm', 'so', 'với', 'chứng_khoán', 'cơ_sở', 'chính', 'là', 'vòng', 'đời', 'của', 'CW', 'chỉ', 'giới_hạn', '3', '24', 'tháng', 'đồng_nghĩa', 'sản_phẩm', 'này', 'sẽ', 'không', 'phù_hợp', 'với', 'nhà_đầu_tư', 'dài_hạn', 'Chia_sẻ', 'thêm', 'về', 'CW', 'đại_diện', 'SSI', 'cho', 'biết', 'hiện', 'cũng', 'có', 'rất', 'nhiều', 'nhà_đầu_tư', 'ngoại', 'quan_tâm', 'đến', 'sản_phẩm', 'này']\n",
      "['Tổng', 'thu_nhập', 'lãi', 'thuần', 'trong', 'quý', 'của', 'VCB', 'ở', 'mức', '2', '765', '62', 'tỷ', 'đồng', 'tăng', 'gần', '7%', 'so', 'với', 'cùng', 'kỳ', ';', 'lãi', 'thuần', 'từ', 'hoạt_động', 'dịch_vụ', 'đạt', '424', '23', 'tỷ', 'đồng', 'tăng', '10', '9%', 'Mảng', 'hoạt_động', 'kinh_doanh', 'ngoại_hối', 'kỳ', 'này', 'của', 'VCB', 'đạt', '442', '5', 'tỷ', 'đồng', 'giảm', 'nhẹ', 'so', 'với', 'cùng', 'kỳ', 'nhưng', 'lãi', 'thuần', 'từ', 'mua_bán', 'chứng_khoán', 'kinh_doanh', 'và', 'lãi', 'thuần', 'từ', 'mua_bán', 'đầu_tư', 'có', 'mức', 'tăng_trưởng', 'mạnh_mẽ', 'lần_lượt', 'là', '917', '5%', 'và', '253%', 'Ngoài_ra', 'khoản', 'lãi', 'thuần', 'từ', 'hoạt_động', 'khác', 'cũng', 'có', 'mức', 'tăng_trưởng', 'mạnh', 'so', 'với', 'quý', 'I', '/', '2013', 'khi', 'đạt', '240', '77', 'tỷ', 'đồng', 'nhưng', 'thu_nhập', 'từ', 'góp', 'vốn', 'mua', 'cổ_phần', 'lại', 'bị', 'âm', '346', 'triệu', 'đồng', 'trong', 'khi', 'cùng', 'kỳ', 'chỉ_tiêu', 'này', 'là', 'xấp_xỉ', '80', 'tỷ', 'đồng', 'Giảm', 'trừ', 'chi_phí', 'hoạt_động', 'và', 'chi_phí', 'dự_phòng', 'rủi_ro', 'tín_dụng', 'lợi_nhuận', 'thuần', 'quý', 'I', 'của', 'VCB', 'đạt', '1', '165', '96', 'tỷ', 'đồng', 'tăng', 'nhẹ', 'gần', '5%', 'so', 'với', 'quý', 'I', '/', '2013', 'Chi_tiết', 'báo_cáo', 'tài_chính', 'hợp_nhất', 'quý', 'I', '/', '2014']\n",
      "['Tên', 'cổ_phiếu', 'Cổ_phiếu', 'Công_ty', 'CP', 'FPT', 'Loại', 'cổ_phiếu', 'Cổ_phiếu', 'ưu_đãi', 'nhân_viên', 'loại', '3', 'Mệnh_giá', 'cổ_phiếu', '10', '000', 'đồng', '/', 'CP', 'Tổng', 'số_lượng', 'cổ_phiếu', 'đã', 'phát_hành', 'là', '397', '531', '640', 'CP', 'Số_lượng', 'cổ_phiếu', 'đang', 'lưu_hành', '397', '449', '264', 'CP', 'Số_lượng', 'cổ_phiếu', 'quỹ', '82', '376', 'CP', 'Số_lượng', 'cổ_phiếu', 'dự_kiến', 'phát_hành', '1', '986', '829', 'CP', 'Tổng', 'giá_trị', 'phát_hành', 'theo', 'mệnh_giá', '19', '868', '290', '000', 'đồng', 'Tỷ_lệ', 'phát_hành', '0', '5%', 'Nguồn', 'vốn', 'Không', 'có', 'Hạn_chế', 'chuyển_nhượng', '03', 'năm', 'kể', 'từ', 'ngày', 'phát_hành', 'Thời_gian', 'thực_hiện', 'Tháng', '04/2016', 'Tải', 'file', 'gốc']\n",
      "['Theo', 'đó', 'Cục', 'thuế', 'Tp_HCM', 'đã', 'có', 'quyết_định', 'về', 'việc', 'xử_lý', 'thuế', 'và', 'xử_phạt', 'vi_phạm', 'hành_chính', 'cho', 'các', 'năm', 'thanh_tra', '2007', '2010', 'với', 'PNJ', 'gồm', 'Truy_thu', 'thuế', 'GTGT', 'thuế', 'TNDN', 'là', '899', '907', '816', 'đồng', 'Tiền', 'phạt', 'chậm', 'nộp', '118', '276', '114', 'đồng', 'Phạt', 'việc', 'khai', 'sai', 'khai', 'thiếu', 'ghi', 'sai', '18', '096', '778', 'đồng', 'Công_ty', 'cam_kết', 'sẽ', 'nộp', 'các', 'khoản', 'trên', 'cho', 'Cục', 'thuế', 'đúng', 'thời_gian', 'quy_định']\n",
      "['Tên', 'người', 'thực_hiện', 'giao', 'dịchTrần', 'Trọng_Ngân_Mã', 'chứng_khoán', 'STB', 'Số_lượng', 'cổ_phiếu', 'nắm', 'giữ', 'trước', 'khi', 'giao', 'dich', '48', '000', '000', 'CP', 'Tên', 'của', 'người', 'liên_quan', 'tại', 'TCNY', 'đăng_ký', 'giao_dịch', 'Trầm_Bê_Chức', 'vụ', 'của', 'người', 'có', 'liên_quan', 'hiện_nay', 'tại', 'TCNY', 'Phó', 'Chủ_tịch', 'HĐQT', 'Quan_hệ', 'của', 'người', '/', 'tổ_chức', 'hiện', 'giao_dịch', 'với', 'người', 'có', 'liên_quan', 'con', 'Số_lượng', 'cổ_phiếu', 'đăng_ký', 'bán', '30', '000', '000', 'CP', 'Số_lượng', 'CP', 'đã', 'bán', '0', 'CP', 'Số_lượng', 'cổ_phiếu', 'nắm', 'giữ', 'sau', 'khi', 'thực_hiện', 'giao_dịch', '48', '000', '000', 'CP', 'Mục_đích', 'thực_hiện', 'giao_dịch', 'Cân_đối', 'tài_chính', 'Phương_thức', 'thực_hiện', 'giao_dịch', 'Khớp', 'lệnh', 'và', 'thoả_thuận', 'Thời_gian', 'thực_hiện', 'giao_dịch', 'từ', 'ngày', '1/2/2013', 'đến', '2/3/2013', 'Lý_do', 'không', 'giao_dịch', 'hết', 'số_lượng', 'đã', 'đăng_ký', 'Do', 'diễn_biến', 'giá', 'không', 'phù_hợp', 'Giao_dịch', 'liên_quan', 'STB', '–', 'Con', 'ông', 'Trầm_Bê', 'bán', 'bất_thành', '30', 'triệu', 'CPSTB']\n",
      "['Công_ty', 'TNHH', 'Một', 'thành_viên', 'Đầu_tư', 'SCIC', 'SIC', 'vừa', 'thông_báo', 'đăng_ký', 'bán', '500', '000', 'cổ_phiếu', 'Công_ty', 'cổ_phần', 'FPT', 'HoSE_FPT', 'trong', 'thời_gian', 'từ', '7/12', 'đến', '4/1/2019', 'Phương_thức', 'giao_dịch', 'là', 'khớp', 'lệnh', 'hoặc', 'thoả_thuận', 'Trước', 'giao_dịch', 'SIC', 'đang', 'sở_hữu', 'hơn', '2', 'triệu', 'cổ_phiếu', 'tỷ_lệ', '0', '33%', 'vốn', 'FPT', 'Tuy_nhiên', 'SIC', 'có', 'người', 'nội_bộ', 'là', 'ông', 'Lê_Song_Lai_Thành_viên', 'HĐQT', 'của', 'FPT', 'nên', 'thuộc', 'diện', 'phải', 'công_bố', 'thông_tin', 'Nếu', 'giao_dịch', 'thành_công', 'SIC', 'còn', 'sở_hữu', 'hơn', '1', '5', 'triệu', 'cp', 'tỷ_lệ', '0', '24%', 'Vào', 'tháng', '8', 'SIC', 'cũng', 'bán', 'thành_công', '216', '000', 'cổ_phiếu', 'FPT', 'thông_qua', 'phương_thức', 'khớp', 'lệnh', 'để', 'giảm', 'tỷ_lệ', 'sở_hữu', 'xuống', 'như', 'hiện_nay', 'Trên', 'thị_trường', 'cổ_phiếu', 'FPT', 'đang', 'giao_dịch', 'tại', 'mức', 'giá', '44', '600', 'đồng', '/', 'cp', '5/12', 'Tạm', 'tính', 'theo', 'giá', 'này', 'SIC', 'có_thể', 'thu', 'về', 'khoảng', '22', 'tỷ', 'đồng']\n",
      "['HĐQT', 'CTCP', 'Đầu_tư', 'Thế_giới', 'Di_động', 'MWG', 'vừa', 'công_bố', 'phương_án', 'phát_hành', 'cổ_phiếu', 'và', 'sử_dụng', 'cổ_phiếu', 'quỹ', 'theo', 'chương_trình', 'lựa_chọn', 'cho', 'người', 'lao_động', 'Trong', 'đó', 'Công_ty', 'dự_kiến', 'phát_hành', 'mới', 'gần', '9', '8', 'triệu', 'cổ_phiếu', ';', 'song_song', 'phân_phối', 'hơn', '856', 'ngàn', 'cổ_phiếu', 'quỹ', 'Tổng', 'giá_trị', 'cổ_phiếu', 'thưởng', 'hơn', '106', 'tỷ', 'đồng', 'trong', 'đó', 'tỷ_lệ', 'phát_hành', 'mới', 'vào', 'mức', '2', '4%', 'với', 'giá', 'ưu_đãi', 'chỉ', '10', '000', 'đồng', '/', 'cp', 'Được', 'biết', 'trên', 'thị_trường', 'sau', 'đợt', 'giảm', 'hiện', 'MWG', 'đang', 'hồi_phục', 'về', 'vùng', 'giá', '111', '000', 'đồng', '/', 'cp', 'Thời_gian', 'thực_hiện', 'nhằm', 'tháng', '12/2019', 'và', 'tháng', '1/2020', 'Cổ_phần', 'phát_hành', 'mới', 'dự', 'hạn_chế', 'chuyển_nhượng', 'trong', '4', 'năm', 'mỗi', 'năm', 'sẽ', 'có', '25%', 'số', 'cổ_phần', 'đã', 'mua', 'được', 'tự_do', 'chuyển_nhượng', ';', 'cụ_thể', 'năm', 'thứ', 'nhất', 'sẽ', 'có', '25%', 'số', 'cổ_phiếu', 'đã', 'mua', 'được', 'tự_do', 'chuyển_nhượng', 'hết', 'năm', 'thứ', 'hai', 'sẽ', 'có', '50%', 'số', 'cổ_phiếu', 'đã', 'mua', 'được', 'tự_do', 'chuyển_nhượng', 'hết', 'năm', 'thứ', 'ba', 'sẽ', 'có', '75%', 'số', 'cổ_phiếu', 'đã', 'mua', 'được', 'tự_do', 'chuyển_nhượng', 'và', 'hết', 'năm', 'thứ', 'tư', 'con_số', 'là', '100%', 'Về', 'hoạt_động', 'kinh_doanh', '11', 'tháng', 'đầu', 'năm', '2019', 'MWG', 'ghi_nhận', 'doanh_thu', 'thuần', 'hợp_nhất', 'đạt', '93', '086', 'tỷ', 'đồng', 'tăng_trưởng', '18%', 'so', 'với', 'cùng', 'kì', 'năm_ngoái', ';', 'lợi_nhuận', 'sau', 'thuế', 'đạt', '3', '542', 'tỷ', 'đồng', 'tăng_trưởng', '34%', 'Doanh_thu', 'online', 'đóng_góp', '13%', 'tổng', 'doanh_thu', 'của', 'MWG', 'tương_đương', '11', '832', 'tỷ', 'đồng', 'So', 'với', 'kế_hoạch', 'MWG', 'đã', 'thực_hiện', '86%', 'chỉ_tiêu', 'doanh_thu', 'và', '99%', 'chỉ_tiêu', 'lợi_nhuận', 'sau', 'thuế', 'Xét', 'theo', 'ngành_hàng', 'nhóm', 'sản_phẩm', 'điện_thoại', 'tiếp_tục', 'tăng_trưởng_dương', 'đạt', '30%', 'cho', 'sản_phẩm', 'điện_lạnh', 'gia_dụng', 'và', 'hơn', '150%', 'cho', 'thực_phẩm', 'và', 'FMCGs_Hai', 'ngành_hàng', 'mới', 'là', 'đồng_hồ', 'và', 'laptop', 'được', 'MWG', 'đẩy_mạnh', 'khai_thác', 'trong', 'năm', '2019', 'đang', 'đóng_góp', 'tích_cực', 'cho', 'Công_ty', 'Trung_bình', 'mỗi', 'ngày', 'của', 'tháng', '11', 'MWG', 'mở', 'mới', 'khoảng', '4', 'cửa_hàng', 'Tới', 'thời_điểm', '30/11', 'MWG', 'có', '2', '929', 'cửa_hàng', 'tăng', 'thêm', '117', 'cửa_hàng', 'so', 'với', 'cuối', 'tháng', '10', 'Trong', 'đó', 'chuỗi', 'Điện_Máy', 'Xanh', 'có', '983', 'cửa_hàng', 'tăng', 'thêm', '46', 'cửa_hàng', 'mới', 'do', 'cả', 'mở', 'mới', 'và', 'chuyển_đổi', 'từ', 'cửa_hàng', 'Thế_Giới', 'Di_Động', 'Chuỗi_Bách_Hoá_Xanh', 'thêm', '72', 'điểm', 'bán', 'nâng', 'tổng_số', 'cửa_hàng', 'lên', '938', 'Công_ty', 'đang', 'đẩy', 'nhanh', 'tiến_độ', 'mở_rộng', 'hướng', 'tới', 'mục_tiêu', '1', '000', 'cửa_hàng', 'Điện_Máy', 'Xanh', 'và', '1', '000', 'cửa_hàng', 'Bách_Hoá', 'Xanh', 'cuối', 'tháng', '12/2019']\n",
      "['Thông_tin', 'từ', 'CTCP', 'FPT', 'mã', 'FPT', 'cho', 'biết', 'kết_thúc', 'năm', '2019', 'doanh_thu', 'FPT', 'đạt', '27', '717', 'tỷ', 'đồng', 'tăng', '19', '4%', 'so', 'với', 'cùng', 'kỳ', 'vượt', '4%', 'kế_hoạch', 'năm', 'Lợi_nhuận', 'trước', 'thuế', 'của', 'FPT', 'đạt', '4', '665', 'tỷ', 'đồng', 'tăng', '20', '9%', 'so', 'với', 'cùng', 'kỳ', 'vượt', '5%', 'kế_hoạch', 'năm', 'Lợi_nhuận', 'sau', 'thuế', 'và', 'lợi_nhuận', 'sau', 'thuế', 'của', 'cổ_đông', 'công_ty', 'mẹ', 'lần_lượt', 'đạt', '3', '912', 'tỷ', 'đồng', 'và', '3', '135', 'tỷ', 'đồng', 'tăng', '21', '0%', 'và', '19', '7%', 'so', 'cùng', 'kỳ', 'năm', '2018', 'Lãi', 'cơ_bản', 'trên', 'cổ_phiếu', 'EPS', 'đạt', '4', '220', 'đồng', 'tăng', '19', '0%', 'Bên', 'cạnh', 'đó', 'tỷ_suất', 'lợi_nhuận', 'tiếp_tục', 'được', 'cải_thiện', 'đạt', '16', '8%', 'so', 'với', 'mức', '16', '6%', 'năm', '2018', 'Về', 'kết_quả', 'kinh_doanh', 'theo', 'khối', 'tiếp_tục', 'đóng', 'vai_trò', 'là', 'động_lực', 'tăng_trưởng', 'chính', 'khối', 'Công_nghệ', 'ghi_nhận', 'doanh_thu', 'và', 'lợi_nhuận', 'trước', 'thuế', 'đạt', 'lần_lượt', '15', '783', 'tỷ', 'đồng', 'và', '1', '973', 'tỷ', 'đồng', 'tăng', 'tương_ứng', '17', '8%', 'và', '29', '9%', 'so', 'với', 'cùng', 'kỳ', 'Khối_Viễn', 'thông', 'của', 'FPT', 'đạt', '10', '398', 'tỷ', 'đồng', 'doanh_thu', 'tăng', '17', '7%', ';', 'lợi_nhuận', 'trước', 'thuế', 'đạt', '1', '808', 'tỷ', 'đồng', 'tăng', '24', '1%', 'so', 'với', 'cùng', 'kỳ', 'Trong', 'đó', 'doanh_thu', 'và', 'lợi_nhuận', 'trước', 'thuế', 'của', 'mảng', 'dịch_vụ', 'Viễn_thông', 'lần_lượt', 'đạt', '9', '789', 'tỷ', 'đồng', 'và', '1', '488', 'tỷ', 'đồng', 'tăng', 'lần_lượt', '18', '0%', 'và', '30', '2%', 'so', 'với', 'cùng', 'kỳ', 'Về', 'kết_quả', 'kinh_doanh', 'theo', 'thị_trường', 'trong', 'năm', '2019', 'các', 'mảng', 'kinh_doanh', 'của', 'FPT', 'tại', 'thị_trường', 'nước_ngoài', 'mang', 'về', '11', '452', 'tỷ', 'đồng', 'doanh_thu', 'tăng', '25', '7%', 'chiếm', '41%', 'doanh_thu', 'của', 'Tập_đoàn', 'Trong', 'đó', 'doanh_thu', 'từ', 'thị_trường', 'nước_ngoài', 'của', 'khối', 'công_nghệ', 'đóng_góp', '10', '848', 'tỷ', 'đồng', 'tăng', '28', '5%', 'Thị_trường', 'Mỹ', 'và', 'thị_trường', 'Châu_Á', 'Thái_Bình_Dương', 'của', 'khối', 'công_nghệ', 'lần_lượt', 'tăng_trưởng', '47%', 'và', '43%', 'so', 'với', 'cùng', 'kỳ', 'Lợi_nhuận', 'trước', 'thuế', 'từ', 'các', 'thị_trường', 'nước_ngoài', 'đạt', '1', '894', 'tỷ', 'đồng', 'tăng', '26', '9%', 'chiếm', '41%', 'lợi_nhuận', 'trước', 'thuế', 'của', 'FPT', 'Trong', 'đó', 'lợi_nhuận', 'từ', 'thị_trường', 'nước_ngoài', 'của', 'khối', 'công_nghệ', 'đóng_góp', '1', '723', 'tỷ', 'đồng', 'tăng', '26', '7%', 'so', 'với', 'năm', '2018']\n",
      "['Dù', 'hoạt_động', 'chỉ', '23', 'ngày', 'doanh_thu', 'Bách_Hoá', 'Xanh', 'tăng', '109%', 'Dịch_Covid', 'chưa', 'ảnh_hưởng', 'nghiêm_trọng', 'MWG', 'chưa', 'có', 'ý_định', 'điều_chỉnh', 'kế_hoạch', '2020', 'MWG', 'lãi', '553', 'tỷ', 'đồng', 'tỷ_trọng', 'online', 'giảm', 'Trong', 'tháng', '1', 'CTCP', 'Đầu_tư', 'Thế_giới', 'Di_động', 'HoSE_MWG', 'ghi_nhận', 'doanh_thu', 'thuần', 'hợp_nhất', '12', '560', 'tỷ', 'đồng', 'tăng', '21%', 'so', 'với', 'cùng', 'kỳ', 'năm', '2019', 'và', 'tương_đương', 'với', '10%', 'kế_hoạch', 'cả', 'năm', 'Trong', 'đó', 'dù', 'thị_trường', 'chung', 'bão_hoà', 'nhưng', 'ngành_hàng', 'điện_thoại', 'vẫn', 'tăng_trưởng', 'trên', '10%', 'Ngoài_ra', 'sản_phẩm', 'điện_tử', 'tăng', '10%', 'nhóm', 'điện_lạnh', 'gia_dụng', 'tăng', 'trên', '20%', 'và', 'máy_tính_xách_tay', 'tăng', 'trên', '30%', 'Riêng', 'mảng', 'đồng_hồ', 'mang', 'về', 'hơn', '160', 'tỷ', 'doanh_thu', 'với', 'sản_lượng', '100', '000', 'chiếc', 'được', 'bán', 'ra', 'trong', 'tháng', '1', 'Lợi_nhuận', 'sau', 'thuế', 'theo', 'đó', 'tăng', '22%', 'lên', '553', 'tỷ', 'đồng', 'và', 'thực_hiện', 'được', '11%', 'kế_hoạch', 'năm', 'Biên', 'lợi_nhuận', 'ròng', 'cải_thiện', 'từ', 'mức', '4', '36%', 'lên', '4', '4%', 'so', 'với', 'cùng', 'kỳ', 'năm', '2019', 'Kết_quả', 'tăng_trưởng', 'của', 'MWG', 'đặt', 'trong', 'bối_cảnh', 'công_ty', 'kinh_doanh', 'không', 'đủ', '31', 'ngày', 'như', 'năm_ngoái', 'do', 'nghỉ', 'Tết_âm_lịch', 'Cụ_thể', 'chuỗi', 'Thế_Giới', 'Di_Động', 'và', 'Điện_Máy', 'Xanh', 'hoạt_động', '27', 'ngày', 'trong', 'khi', 'chuỗi', 'Bách_Hoá', 'Xanh_BHX', 'chỉ', 'có', '23', 'ngày', 'Trong', 'mô_hình', 'bán_lẻ', 'đa', 'kênh', 'Omni', 'channel', 'MWG', 'cho', 'biết', 'đang', 'tận_dụng', 'nguồn', 'nhân_viên', 'hàng_hoá', 'tại', 'các', 'cửa_hàng', 'để', 'đáp_ứng', 'hiệu_quả', 'các', 'đơn', 'hàng', 'online', 'Tuy_nhiên', 'trong', 'tháng', 'Tết', 'công_ty', 'dồn', 'nguồn_lực', 'để', 'phục_vụ', 'lượng', 'khách', 'đến', 'mua', 'trực_tiếp', 'ở', 'cửa_hàng', 'Do_đó', 'doanh_thu', 'online', 'sụt_giảm', 'chỉ', 'còn', 'đóng_góp', '5%', 'tổng', 'doanh_thu', 'Công_ty', 'dự_kiến', 'tỷ_trọng', 'này', 'sẽ', 'tăng', 'trở_lại', 'sau', 'Tết', 'Doanh_thu', 'Bách_Hoá', 'Xanh', 'cao', 'gấp', 'đôi', 'dù', 'hoạt_động', '23', 'ngày', 'Trong', 'tháng', '1', 'doanh_thu', 'bình_quân', 'mỗi', 'cửa_hàng', 'BHX', 'đạt', 'khoảng', '1', '25', 'tỷ', 'đồng', 'chỉ', 'tính', 'cửa_hàng', 'khai_trương', 'trước', '1/1', 'Do', 'chỉ', 'hoạt_động', '23', 'ngày', 'doanh_thu', 'bình_quân', 'mỗi', 'ngày', 'hơn', '53', 'triệu', 'đồng', '/', 'cửa_hàng', 'tăng', '20%', 'so', 'với', 'cùng', 'kỳ', 'Tăng_trưởng', 'doanh_thu', 'của', 'cả', 'chuỗi', 'BHX', 'là', '109%', 'nhờ', 'tăng', 'số', 'cửa_hàng', 'và', 'doanh_thu', 'bình_quân', 'Tính', 'đến', 'hết', 'tháng', '1', 'chuỗi', 'BHX', 'có', 'tổng_cộng', '1', '041', 'cửa_hàng', 'Trong', 'đó', 'số', 'cửa_hàng', 'tại', 'khu_vực', 'tỉnh', 'là', '603', 'tỷ_lệ', '58%', 'Chuỗi', 'có', '195', 'cửa_hàng', 'lớn', '300m2', 'chiếm', 'tỷ_trọng', '19%', 'Bách_Hoá', 'Xanh', 'chỉ', 'hoạt_động', '23', 'ngày', 'trong', 'tháng', '1', 'Công_ty', 'cho', 'biết', 'dịch', 'viêm', 'phổi', 'cấp', 'Covid', '19', 'đã', 'làm', 'ảnh_hưởng', 'tới', 'tình_hình', 'kinh_doanh', 'của', 'nhiều', 'doanh_nghiệp', 'tại', 'Việt_Nam', 'Lãnh_đạo', 'MWG', 'đã', 'cân_nhắc', 'các', 'tình_huống', 'có_thể', 'phát_sinh', 'và', 'chuẩn_bị', 'các', 'phương_án', 'ứng_phó', 'Tuy_nhiên', 'công_ty', 'nói', 'rằng', 'chưa', 'nhận', 'thấy', 'tác_động', 'tiêu_cực', 'ảnh_hưởng', 'nghiêm_trọng', 'đến', 'hoạt_động', 'kinh_doanh', 'và', 'chưa', 'có', 'ý_định', 'điều_chỉnh', 'kế_hoạch', 'năm', '2020', 'Trước', 'đó', 'MWG', 'đặt', 'kế_hoạch', 'doanh_thu', 'năm', '2020', 'là', '122', '554', 'tỷ', 'đồng', 'và', 'lãi', 'sau', 'thuế', '4', '835', 'tỷ', 'đồng', 'Các', 'mục_tiêu', 'này', 'ghi_nhận', 'mức', 'tăng', 'lần_lượt', '20%', 'và', '26%', 'so', 'với', 'năm', '2019']\n",
      "['Ngân_hàng', 'TMCP', 'Đầu_tư', 'và', 'Phát_triển', 'Việt_Nam', 'BIDV', 'vừa', 'công_bố', 'kết_quả', 'hoạt_động', 'kinh_doanh', 'quý', 'III', '/', '2015', 'Cụ_thể', 'sau', '9', 'tháng', 'lợi_nhuận', 'trước', 'thuế', 'của', 'Ngân_hàng', 'đạt', '5', '535', 'tỷ', 'đồng', 'tăng', '25%', 'so', 'với', 'cùng', 'kỳ', 'năm', 'trước', 'Tỷ_lệ', 'nợ', 'xấu', 'dưới', '2%', 'Thị_phần', 'tín_dụng', 'của', 'BIDV', 'đạt', '12', '9%', 'tăng', '1', '3%', 'so', 'với', 'năm', '2014', 'Huy_động', 'vốn', 'thị_trường', '1', 'đạt', 'gần', '625', 'nghìn', 'tỷ', 'đồng', 'tăng', '21%', 'so', 'với', 'đầu', 'năm', 'Tính', 'đến', 'hết', 'quý', 'III', 'tổng_tài', 'sản', 'BIDV', 'đạt', 'trên', '786', 'nghìn', 'tỷ', 'đồng', 'tăng', '20%', 'so', 'với', 'thời_điểm', 'cuối', 'năm', '2014', 'Dư_nợ', 'tín_dụng', 'đạt', 'trên', '570', 'nghìn', 'tỷ', 'đồng', 'tăng_trưởng', 'trên', '15%', 'so', 'với', 'đầu', 'năm']\n",
      "['SRC', 'cũng', 'cho', 'biết', 'sẽ', 'không', 'chịu', 'trách_nhiệm', 'về', 'thông_tin', 'hợp_tác', 'với', 'CTCP', 'Vincom_HOSE_VIC', 'trong', 'dự_án', 'này', 'Được', 'biết', 'năm', '2010', 'SRC', 'thực_hiện', 'được', '1', '151', 'tỷ', 'đồng', 'doanh_thu', 'thuần', 'tăng', 'nhẹ', '5%', 'so', 'với', 'cùng', 'kỳ', '2009', 'Tuy_nhiên', 'do', 'giá_vốn', 'hàng', 'bán', 'chiếm', 'tới', '1', '041', 'tỷ', 'đồng', 'nên', 'lãi_gộp', 'chỉ', 'ở', 'mức', '109', 'tỷ', 'đồng', 'ứng', 'với', 'tỷ_suất', 'lãi_gộp', 'biên', 'giảm', 'từ', '18', '7%', 'của', 'năm', '2009', 'xuống', 'còn', '9', '4%', 'Ngoài_ra', 'hoạt_động', 'tài_chính', 'năm', 'qua', 'lỗ', 'tới', '38', 'tỷ', 'đồng', 'trong', 'khi', 'năm', '2009', 'ở', 'mức', '26', 'tỷ', 'đồng', 'Theo', 'đó', 'kết_thúc', 'năm', 'SRC', 'lãi_ròng', '17', '6', 'tỷ', 'đồng', 'giảm', 'tới', '82%', 'so', 'năm', 'trước', 'Được', 'biết', 'từ', 'ngày', '28/02', 'đến', '02/03', 'cổ_phiếu', 'SRC', 'liên_tục', 'tăng', 'trần', 'từ', '22', '700', 'đồng', '/', 'cp', 'lên', '24', '900', 'đồng', '/', 'cp', 'Đặc_biệt', 'phiên', 'giao_dịch', 'sáng', 'ngày', '02/03', 'thanh', 'khoản', 'của', 'SRC', 'đạt', '575', '180', 'cp', 'và', 'dư', 'mua', '2', '000', 'cp']\n"
     ]
    }
   ],
   "source": [
    "X_train, y_train = data_process('./data/train_data.csv')\n",
    "X_test, y_test = data_process('./data/test_data.csv')"
   ]
  },
  {
   "cell_type": "code",
   "execution_count": 11,
   "metadata": {},
   "outputs": [],
   "source": [
    "ner_title_train = ner_title_feature('./data/training_feature.csv')\n",
    "ner_title_test = ner_title_feature('./data/testing_feature.csv')\n",
    "X_train = pd.concat([X_train, ner_title_train], axis=1)\n",
    "X_test = pd.concat([X_test, ner_title_test], axis=1)"
   ]
  },
  {
   "cell_type": "code",
   "execution_count": 12,
   "metadata": {
    "tags": [
     "outputPrepend"
    ]
   },
   "outputs": [
    {
     "output_type": "stream",
     "name": "stdout",
     "text": [
      ", 'tấn', 'năm']\n['Công_ty', 'cũng', 'lấy', 'ý_kiến', 'bằng', 'văn_bản', 'việc', 'nộp', 'vào', 'Ngân_sách', 'Nhà_nước', 'khoản', 'chênh_lệch', 'giá', 'khí', 'đối_với', 'lượng', 'khí', 'trong', 'bao_tiêu', 'Tổng_công_ty', 'Khí', 'Việt_Nam_PV', 'Gas_HoSE_GAS', 'thông_báo', 'kế_hoạch', 'chi_trả', 'cổ_tức', 'còn', 'lại', 'của', 'năm', '2019', 'với', 'tỷ_lệ', '35', 'tương_đương', 'với', 'số', 'tiền', 'gần', '6', '700', 'tỷ', 'đồng', 'Ngày', 'bắt_đầu', 'chi_trả', 'dự_kiến', 'từ', '1', '10', 'đến', '5', '11', 'Trước', 'đó', 'tại', 'Đại_hội', 'cổ_đông', 'mới_đây', 'PV', 'Gas', 'đã', 'quyết_định', 'nâng', 'mức', 'cổ_tức', 'cho', 'năm', '2019', 'từ', '30', 'lên', '45', 'tương_đương', 'tổng_số', 'tiền', '8', '613', 'tỷ', 'đồng', 'Trong', 'đó', 'công_ty', 'đã', 'tạm_ứng', 'cổ_tức', 'đợt', '1', 'với', 'tỷ_lệ', '10', 'hồi', 'tháng', '8', '2019', 'Xây_dựng', 'kế_hoạch', 'cho', 'năm', '2019', 'công_ty', 'ngành', 'khí', 'đặt', 'mục_tiêu', 'đạt', '66', '163', 'tỷ', 'đồng', 'doanh_thu', 'lợi_nhuận', 'trước', 'thuế', 'ước', '8', '294', 'tỷ', 'đồng', 'và', 'lợi_nhuận', 'sau', 'thuế', 'dự_kiến', 'đạt', '6', '636', 'tỷ', 'đồng', 'Kế_hoạch', 'lợi_nhuận', 'này', 'giảm', '45', 'so', 'với', 'mức', 'đạt', 'được', 'của', 'năm', '2019', 'PV', 'Gas', 'tiếp_tục', 'đề', 'ra', 'chính_sách', 'cổ_tức', 'cho', 'năm', '2020', 'với', 'tỷ_lệ', '30', 'tương_đương', 'với', 'số', 'tiền', 'khoảng', '5', '742', 'tỷ', 'đồng', 'CEO', 'Dương_Mạnh_Sơn', 'cho', 'biết', 'nếu', 'kết_quả', 'kinh_doanh', 'tốt', 'hơn', 'sẽ', 'nâng', 'mức', 'cổ_tức', 'được', 'chia', 'Song_song', 'vấn_đề', 'cổ_tức', 'tổng_công_ty', 'còn', 'xin', 'ý_kiến', 'cổ_đông', 'bằng', 'văn_bản', 'liên_quan', 'đến', 'việc', 'nộp', 'vào', 'Ngân_sách', 'Nhà_nước', 'khoản', 'chênh_lệch', 'giá', 'khí', 'đối_với', 'lượng', 'khí', 'trong', 'bao_tiêu', 'do', 'PV', 'Gas', 'bán', 'cho', 'sản_xuất', 'điện', 'theo', 'Quyết_định', 'số', '01', '2020', 'ngày', '12', '5', '2020', 'của', 'Thủ_tướng', 'Chính_phủ', 'Nội_dung', 'chi_tiết', 'chưa', 'được', 'trình_bày']\n['Tổng_Công_ty', 'Khí', 'Việt_Nam_CTCP', 'mã', 'CK', 'GAS', 'đã', 'công_bố', 'BCTC', 'quý', '2', '2020', 'với', 'doanh_thu', 'và', 'lợi_nhuận', 'giảm', 'mạnh', 'so', 'với', 'cùng', 'kỳ', 'Theo', 'đó', 'doanh_thu', 'thuần', 'trong', 'kỳ', 'đạt', '15', '627', 'tỷ', 'đồng', 'giảm', '23', 'so', 'với', 'cùng', 'kỳ', 'tỷ_trọng', 'giá_vốn', 'hàng', 'bán', 'trong', 'doanh_thu', 'thuần', 'tăng', 'cao', 'khiến', 'lợi_nhuận', 'gộp', 'chỉ', 'đạt', '2', '402', '3', 'tỷ', 'đồng', 'giảm', '46', 'so', 'với', 'quý', '2', '2019', 'Trong', 'kỳ', 'GAS', 'có', '402', 'tỷ', 'đồng', 'doanh_thu', 'từ', 'hoạt_động', 'tài_chính', 'tăng', '40', 'so', 'với', 'cùng', 'kỳ', 'chủ_yếu', 'do', 'tăng', 'lãi', 'tiền', 'gửi', 'tiền', 'cho', 'vay', 'và', 'lãi', 'chênh_lệch', 'tỷ_giá', 'chi_phí', 'tài_chính', 'giảm', 'hơn', 'một_nửa', 'xuống', 'còn', '34', 'tỷ', 'đồng', 'chi_phí', 'bán', 'hàng', 'và', 'chi_phí', 'QLDN', 'đều', 'thấp', 'hơn', 'cùng', 'kỳ', 'nhưng', 'kết_quả', 'LNST', 'vẫn', 'giảm', 'mạnh', '43', 'xuống', 'còn', '1', '713', 'tỷ', 'đồng', 'trong', 'đó', 'LNST', 'công_ty', 'mẹ', 'là', '1', '714', '3', 'tỷ', 'đồng', 'Luỹ', 'kế', '6', 'tháng', 'đầu', 'năm', '2020', 'GAS', 'đạt', '32', '721', 'tỷ', 'đồng', 'doanh_thu', 'thuần', 'giảm', '16', 'so', 'với', 'cùng', 'kỳ', 'LNST', 'đạt', '4', '063', 'tỷ', 'đồng', 'giảm', '34', 'so', 'với', 'nửa', 'đầu', 'năm', '2019', 'trong', 'đó', 'chi_phí', 'lãi', 'vay', 'giảm', 'đáng_kể', 'và', 'hàng', 'trăm', 'tỷ', 'đồng', 'lãi', 'tiền', 'gửi', 'là', 'lực', 'đỡ', 'quan_trọng', 'cho', 'kết_quả', 'kinh_doanh', 'nửa', 'đầu', 'năm', '2020', 'của', 'GAS', 'Lợi_nhuận', 'của', 'PVGAS', 'chỉ', 'bằng', '64', 'cùng', 'kỳ', 'năm', 'trước', 'là', 'do', 'từ', 'đầu', 'năm', '2020', 'đến', 'nay', 'dịch_bệnh', 'Covid', '19', 'diễn_biến', 'phức_tạp', 'lan', 'rộng', 'bùng_phát', 'tại', 'nhiều', 'quốc_gia', 'khu_vực', 'trên', 'thế_giới', 'đã', 'tác_động', 'ảnh_hưởng', 'xấu', 'đến', 'nền', 'kinh_tế', 'toàn_cầu', 'và', 'Việt_Nam', 'sản_xuất', 'lẫn', 'tiêu_thụ', 'sản_phẩm', 'đều', 'đình_đốn', 'nhu_cầu', 'nhiên_liệu', 'sụt_giảm', 'trong', 'đó', 'có', 'khí', 'và', 'LPG', 'Giá', 'dầu', 'bắt_đầu', 'giảm', 'từ', 'đầu', 'tháng', '2', 'liên_tục', 'giảm', 'sâu', 'trong', 'tháng', '3', '4', 'và', 'ghi_nhận', 'thấp', 'nhất', 'trong', 'hơn', 'hai', 'thập_niên', 'qua', 'kể', 'từ', 'lần', 'giá', 'dầu', 'chạm', 'đáy', 'vào', 'cuối', 'năm', '1999', 'Giá', 'dầu', 'Brent_Dated_Brent', 'trung_bình', '6', 'tháng', 'đầu', 'năm', 'khoảng', '40', 'USD', 'thùng', 'thấp', 'hơn', 'nhiều', 'so', 'với', 'giá', 'kế_hoạch', '60USD', 'thùng', 'Giá_CP', 'của', 'LPG', 'liên_tục', 'giảm', 'từ', 'tháng', 'đầu', 'năm', 'trong', '4', '6', 'tháng', 'đầu', 'năm', 'giá', 'từ', '578', 'USD', 'tấn', 'trong', 'tháng', '01', 'giảm', 'xuống', 'còn', '235', 'USD', 'tấn', 'trong', 'tháng', '4', '2020', 'tương_ứng', 'giảm', '60', 'Bên', 'cạnh', 'đó', 'các', 'sự_cố', 'phía', 'thượng_nguồn', 'ngày_một', 'tăng_sản', 'lượng', 'sụt_giảm', 'nhu_cầu', 'tiêu_thụ', 'khí_các', 'sản_phẩm', 'khí', 'của', 'khách_hàng', 'ở', 'mức', 'thấp', 'không', 'ổn_định', 'một_số', 'dự_án', 'lớn', 'có', 'tiến_độ', 'sát', 'và', 'phức_tạp', 'trong', 'quá_trình', 'triển_khai', 'có', 'nhiều', 'phát_sinh', 'phải', 'xử_lý', 'đặc_biệt', 'do', 'ảnh_hưởng', 'của', 'dịch_bệnh', 'Covid', '19', 'nên', 'việc', 'đảm_bảo', 'tiến_độ', 'hoàn_thành', 'là', 'hết_sức', 'khó_khăn', 'Năm', '2020', 'GAS', 'đặt', 'kế_hoạch', 'doanh_thu', '66', '163', '5', 'tỷ', 'giảm', '12', 'và', 'lợi_nhuận', 'sau', 'thuế', '6', '636', 'tỷ', 'giảm', 'mạnh', '45', 'so', 'với', 'kết_quả', 'thực_hiện', 'năm', '2019', 'Như_vậy', 'với', 'kế_hoạch', 'này', 'kết_thúc', 'nửa', 'đầu', 'năm', '2020', 'GAS', 'đã', 'hoàn_thành', 'được', '49', 'mục_tiêu', 'về', 'doanh_thu', 'và', '61', 'mục_tiêu', 'về', 'lợi_nhuận']\n['Tính', 'đến', '10h', 'ngày', '27', '07', '2020', 'trên', 'sàn', 'HOSE', 'VN', 'Index', 'đạt', 'mức', '808', '14', 'điểm', 'thay_đổi', '2', '54', 'Toàn', 'sàn', 'có', '36', 'mã', 'tăng', '325', 'mã', 'giảm', 'và', '24', 'mã', 'đứng', 'giá', 'tham_chiếu', 'Trên', 'sàn', 'HNX', 'HNX', 'Index', 'đạt', 'mức', '106', '49', 'điểm', 'tương_đương', 'thay_đổi', '2', '60', 'Toàn', 'sàn', 'có', '16', 'mã', 'tăng', '109', 'mã', 'giảm', 'và', '228', 'mã', 'đứng', 'giá', 'tham_chiếu', 'Khối_lượng', 'giao_dịch', 'toàn', 'thị_trường', 'đạt', '159', '55', 'triệu', 'đơn_vị', 'tương_ứng', 'giá_trị', '2', '162', '88', 'tỉ', 'đồng', 'Trong', 'đó', 'giao_dịch', 'thoả_thuận', 'trên', 'HOSE', '179', '43', 'tỉ', 'đồng', 'Giao_dịch', 'khối', 'ngoại', 'hiện', 'mua', 'ròng', 'trên', 'cả', '3', 'sàn', 'với', 'tổng', 'giá_trị', '67', '09', 'tỉ', 'đồng', 'tập_trung', 'vào', 'các', 'mã', 'GAS', '9', '55', 'tỷ', 'đồng', 'HPG', '5', '08', 'tỷ', 'đồng', 'SSI', '4', '85', 'tỷ', 'đồng']\n['PV', 'GAS', 'thông_qua', 'chủ_trương', 'thoái', 'toàn_bộ', 'phần', 'vốn', 'góp', 'tại', 'Công_ty', 'cổ_phần', 'Kinh_doanh', 'Khí_Miền_Nam_PVGas', 'South_Tính', 'tới', '30', '6', '2020', 'PV', 'GAS', 'đang', 'ghi_nhận', 'đầu_tư', 'vào', 'công_ty', 'liên_kết', 'liên_doanh', 'tại', 'PVGas_South', 'với', 'tổng', 'giá_trị', '326', '5', 'tỷ', 'đồng', 'tương_ứng', 'tỷ_lệ', 'sở_hữu', 'là', '35', '26', 'vốn_điều_lệ', 'Theo', 'tìm_hiểu', 'PVGas_South', 'hoạt_động', 'trong', 'lĩnh_vực', 'xuất_nhập_khẩu', 'và', 'kinh_doanh', 'khí', 'lỏng', 'LPG', 'sản_xuất', 'kinh_doanh', 'khí_thiên_nhiên', 'nén', 'CNG', 'Trong', 'đó', 'PVGas_South', 'đứng', 'đầu', 'thị_trường', 'LPG', 'dân_dụng', 'tại', 'miền', 'Nam', 'sở_hữu', 'hệ_thống', 'kho', 'chứa', 'trạm', 'chiết', 'nạp', 'mạng_lưới', 'phân_phối', 'rộng', 'khắp', 'từ', 'Đà_Nẵng', 'đến', 'Cà_Mau', 'sản_xuất', 'và', 'cung_cấp', 'CNG', 'cho', 'phương_tiện', 'giao_thông', 'vận_tải', 'và', 'khách_hàng', 'công_nghiệp', 'tại', 'khu_vực', 'Đông_Nam_Bộ', 'và', 'Tây_Nam_Bộ', 'PVGas_South', 'có', 'vốn_điều_lệ', 'là', '500', 'tỷ', 'đồng', 'Đóng_cửa', 'phiên', 'giao_dịch', 'ngày', '1', '10', 'cổ_phiếu', 'PVGas_South_PGS', 'đóng_cửa', 'giá', '15', '100', 'đồng', 'ước_tính', 'theo', 'giá', 'thị_trường', 'nếu', 'GAS', 'thoái', 'toàn_bộ', 'sẽ', 'thu', 'được', '250', '66', 'tỷ', 'đồng', 'giá_trị', 'này', 'thấp', 'hơn', 'khá', 'nhiều', 'so', 'với', 'giá_trị', 'sổ_sách', 'là', '326', '5', 'tỷ', 'đồng', 'Trong', '6', 'tháng', 'đầu', 'năm', '2020', 'PVGas_South', 'ghi_nhận', 'doanh_thu', 'là', '2', '298', '3', 'tỷ', 'đồng', 'giảm', '27', '2', 'so', 'với', 'cùng', 'kỳ', 'lợi_nhuận', 'sau', 'thuế', 'là', 'âm', '20', '2', 'tỷ', 'đồng', 'so', 'với', '6', 'tháng', 'đầu', 'năm', '2019', 'là', 'dương', '37', '9', 'tỷ', 'đồng', 'PVGas_South', 'giải_thích', 'kết_quả', 'kinh_doanh', 'lỗ', 'do', 'dịch', 'Covid', '19', 'diễn_biến', 'phức_tạp', 'cùng', 'chính_sách', 'giãn', 'cách', 'xã_hội', 'của', 'Chính_phủ', 'dẫn', 'đến', 'sản_lượng', 'LPG', 'giảm', 'mạnh', 'so', 'với', '6', 'tháng', 'đầu', 'năm', '2019', 'Ngoài_ra', 'giá', 'dầu', 'trên', 'thế_giới', 'giảm', 'mạnh', 'giá', 'mua', 'khí', 'CNG', 'đầu', 'vào', 'tăng', 'so', 'với', 'cùng', 'kỳ', 'năm', '2019', 'trong', 'khi', 'đó', 'giá', 'bán', 'CNG', 'không_thể', 'tăng', 'do', 'tham_chiếu', 'với', 'giá', 'LPG', 'những', 'điều', 'trên', 'là', 'nguyên_nhân', 'chính', 'dẫn', 'tới', 'lỗ', 'Như_vậy', 'có_thể', 'thấy', 'đây', 'là', 'động_thái', 'GAS', 'cắt', 'lỗ', 'doanh_nghiệp', 'hoạt_động', 'kinh_doanh', 'không', 'hiệu_quả', 'Ngoài_ra', 'trong', '6', 'tháng', 'đầu', 'năm', '2020', 'GAS', 'công_bố', 'doanh_thu', 'là', '32', '721', 'tỷ', 'đồng', 'lợi_nhuận', 'sau', 'thuế', 'là', '4', '063', '4', 'tỷ', 'đồng_lần', 'lượt', 'giảm', '16', '1', 'và', '33', '7', 'so', 'với', '6', 'tháng', 'đầu', 'năm', '2019', 'Như_vậy', 'mặc_dù', 'kết_quả', 'kinh_doanh', 'giảm', 'mạnh', 'nhưng', 'do', 'doanh_nghiệp', 'đặt', 'kế_hoạch', 'kinh_doanh', 'tương_đối', 'thấp', 'nên', 'sau', '6', 'tháng', 'đầu', 'năm', 'hoàn_thành', 'tới', '61', '2', 'kế_hoạch', 'lợi_nhuận', 'năm', 'Trong', '6', 'tháng', 'đầu', 'năm', 'lợi_nhuận', 'giảm', 'tới', '33', '7', 'là', 'do', 'hoạt_động', 'kinh_doanh', 'chính', 'và', 'cụ_thể', 'là', 'lợi_nhuận', 'gộp', 'giảm', '35', '2', 'về', 'mức', '5', '714', 'tỷ', 'đồng', 'Ngoài_ra', 'doanh_nghiệp', 'có', 'thuyết_minh', 'doanh_thu', 'bán', 'khí', 'và', 'vận_chuyển', 'khí', 'trong', '6', 'tháng', 'đầu', 'năm', 'đã', 'giảm', '18', '8', 'về', 'mức', '31', '718', '8', 'tỷ', 'đồng', 'Như_vậy', 'có_thể', 'thấy', 'kết_quả', 'kinh_doanh', 'đi', 'xuống', 'trong', '6', 'tháng', 'đầu', 'năm', 'chủ_yếu', 'do', 'hoạt_động', 'kinh_doanh', 'cốt_lõi', 'Xét', 'về', 'dòng', 'tiền', 'trong', '6', 'tháng', 'đầu', 'năm', '2020', 'dòng', 'tiền', 'hoạt_động', 'kinh_doanh', 'chính', 'tạo', 'ra', 'được', '5', '932', '7', 'tỷ', 'đồng', 'trong', 'khi', 'cùng', 'kỳ', 'là', '8', '022', '8', 'tỷ', 'đồng', 'Trong', 'khi', 'đó', 'dòng', 'tiền', 'hoạt_động', 'đầu_tư', 'là', 'dương', '2', '832', 'tỷ', 'đồng', 'và', 'dòng', 'tiền_tài', 'chính', 'là', 'âm', '601', '6', 'tỷ', 'đồng', 'do', 'doanh_nghiệp', 'trả', 'bớt', 'nợ', 'vay', 'Tính', 'tới', '30', '06', '2020', 'tổng_tài', 'sản', 'của', 'doanh_nghiệp', 'tăng', '8', '1', 'lên', 'mức', '67', '211', '6', 'tỷ', 'đồng', 'Trong', 'đó', 'tài_sản', 'chủ_yếu', 'của', 'doanh_nghiệp', 'là', 'tiền', 'và', 'đầu_tư', 'tài_chính', 'ngắn_hạn', 'trị_giá', '33', '640', '9', 'tỷ', 'đồng', 'chiếm', '50', '1', 'tổng_tài', 'sản', 'tài_sản_cố_định', 'là', '14', '629', '8', 'tỷ', 'đồng', 'chiếm', '21', '8', 'tổng_tài', 'sản', 'các', 'khoản', 'phải', 'thu', 'ngắn_hạn', 'là', '10', '710', '7', 'tỷ', 'đồng', 'chiếm', '15', '9', 'tổng_tài', 'sản', 'của', 'doanh_nghiệp', 'Đóng_cửa', 'phiên', 'giao_dịch', 'ngày', '1', '10', '2020', 'cổ_phiếu', 'GAS', 'tăng', '1', '100', 'đồng', 'tương_ứng', 'tăng', '1', '54', 'lên', '72', '400', 'đồng', 'cổ_phiếu']\n['Buông', 'tay', 'vì', 'không_thể', 'về', 'chung', 'một', 'nhà', 'Tổng_công_ty', 'Khí', 'Việt_Nam_PV', 'Gas', 'thành_viên', 'của', 'Tập_đoàn', 'Dầu_khí', 'Việt_Nam', 'PVN', 'thông_báo', 'chấp_thuận', 'chủ_trương', 'thoái', 'toàn_bộ', 'phần', 'vốn', 'còn', 'lại', 'ở', 'Công_ty', 'Cổ_phần', 'Kinh_doanh', 'Khí', 'miền', 'Nam_Gas_South_Gas', 'South', 'ban_đầu', 'là', 'công_ty', 'với', '100', 'vốn', 'thuộc', 'sở_hữu', 'của', 'PV', 'Gas', 'Sau', 'khi', 'tiến_hành', 'cổ_phần_hoá', 'Gas_South_PV_Gas', 'hiện', 'chỉ', 'còn', 'sở_hữu', '35', '3', 'cổ_phần', 'doanh_nghiệp', 'này', 'Tỷ_lệ', 'sở_hữu', 'này', 'chỉ', 'đủ', 'để', 'PV', 'Gas', 'phủ_quyết', 'các', 'quyết_định', 'quan_trọng', 'của', 'Gas_South', 'chứ', 'không', 'có', 'quyền', 'chi_phối', 'Tạm', 'tính', 'theo', 'thị_giá', 'cổ_phiếu', 'Gas_South', 'giao_dịch', 'trên', 'sàn', 'HNX', 'số', 'tiền', 'PV', 'Gas', 'thu', 'về', 'từ', 'việc', 'bán', 'hết', 'cổ_phiếu', 'công_ty', 'này', 'ước_tính', 'khoảng', '280', 'tỉ', 'đồng', 'Cuối', 'năm', '2019', 'PV', 'Gas', 'đặt', 'tham_vọng', 'nắm', 'quyền', 'kiểm_soát', 'Gas_South', 'một', 'lần', 'nữa', 'Hội_đồng_quản_trị', 'Gas_South', 'khi', 'đó', 'đưa', 'ra', 'kế_hoạch', 'phát_hành', '16', '1', 'triệu', 'cổ_phiếu', 'riêng_lẻ', 'với', 'tổng', 'giá_trị', '377', 'tỉ', 'đồng', 'cho', 'PV', 'Gas', 'để', 'tăng', 'vốn_điều_lệ', 'Nếu', 'phương_án', 'phát_hành', 'cổ_phiếu', 'này', 'được', 'thực_thi', 'PV', 'Gas', 'sẽ', 'nâng', 'tỷ_lệ', 'sở_hữu', 'tại', 'Gas_South', 'lên', '51', 'qua', 'đó', 'giữ', 'quyền', 'chi_phối', 'Gas_South_Tuy', 'nhiên', 'mục_tiêu', 'thâu_tóm', 'trở_lại', 'Gas_South', 'của', 'PV', 'Gas', 'không', 'thành', 'Tại', 'đại_hội', 'cổ_đông', 'bất_thường', 'được', 'tổ_chức', 'vào', 'tháng', '10', '2019', 'cổ_đông', 'của', 'Gas_South', 'không', 'thông_qua', 'phương_án', 'phát_hành', 'cổ_phiếu', 'này', 'cho', 'PV', 'Gas_PV_Gas', 'đã', 'công_bố', 'Báo_cáo', 'Tài_chính', 'quý', 'II', '2020', 'với', 'doanh_thu', 'và', 'lợi_nhuận', 'giảm', 'mạnh', 'so', 'với', 'cùng', 'kỳ', 'Theo', 'đó', 'doanh_thu', 'thuần', 'trong', 'kỳ', 'đạt', '15', '627', 'tỉ', 'đồng', 'giảm', '23', 'so', 'với', 'cùng', 'kỳ', 'tỷ_trọng', 'giá_vốn', 'hàng', 'bán', 'trong', 'doanh_thu', 'thuần', 'tăng', 'cao', 'khiến', 'lợi_nhuận', 'gộp', 'chỉ', 'đạt', '2', '402', '3', 'tỉ', 'đồng', 'giảm', '46', 'so', 'với', 'quý', 'II', '2019', 'Trong', 'kỳ', 'PV', 'Gas', 'có', '402', 'tỉ', 'đồng', 'doanh_thu', 'từ', 'hoạt_động', 'tài_chính', 'tăng', '40', 'so', 'với', 'cùng', 'kỳ', 'chủ_yếu', 'do', 'tăng', 'lãi', 'tiền', 'gửi', 'tiền', 'cho', 'vay', 'và', 'lãi', 'chênh_lệch', 'tỷ_giá', 'chi_phí', 'tài_chính', 'giảm', 'hơn', 'một_nửa', 'xuống', 'còn', '34', 'tỉ', 'đồng', 'chi_phí', 'bán', 'hàng', 'và', 'chi_phí', 'quản_lý', 'doanh_nghiệp', 'đều', 'thấp', 'hơn', 'cùng', 'kỳ', 'nhưng', 'kết_quả', 'lợi_nhuận', 'sau', 'thuế', 'vẫn', 'giảm', 'mạnh', '43', 'xuống', 'còn', '1', '713', 'tỉ', 'đồng', 'trong', 'đó', 'lợi_nhuận', 'sau', 'thuế', 'công_ty', 'mẹ', 'là', '1', '714', '3', 'tỉ', 'đồng', 'Ngành', 'Gas', 'chịu', 'tác_động', 'nhiều', 'từ_dịch', 'bệnh', 'Tình_hình', 'kinh_doanh', 'gas', 'đang', 'dần', 'khởi_sắc', 'và', 'có', 'dấu_hiệu', 'tăng_trưởng', 'hơn', 'Nhất_là', 'sau', 'ngày', '1', '10', 'các', 'doanh_nghiệp', 'kinh_doanh', 'gas', 'khu_vực', 'phía', 'Nam', 'cho', 'biết', 'giá', 'bán_lẻ', 'gas', 'tăng', 'thêm', '500', 'đồng', 'kg', 'đã', 'bao_gồm', 'thuế_giá_trị', 'gia_tăng', 'tương_đương', 'mức', 'tăng', '6', '000', 'đồng', 'bình', '12kg', 'Theo', 'Chi_hội', 'Gas', 'miền', 'Nam', 'giá', 'hợp_đồng', 'nhập_khẩu', 'CP', 'tháng', '10', 'tăng', '17', '5', 'USD', 'mỗi', 'tấn', 'giá', 'chốt', 'nhập', 'trong', 'tháng', '10', 'là', '377', '5', 'USD', 'mỗi', 'tấn', 'khiến', 'giá', 'gas', 'bán_lẻ', 'trong', 'nước', 'tăng', 'mức', 'tương_ứng', 'Giá_Gas', 'chịu', 'nhiều', 'tác_động', 'từ', 'giá', 'dầu', 'tình_hình', 'giá', 'dầu', 'bắt_đầu', 'giảm', 'từ', 'đầu', 'tháng', '2', 'liên_tục', 'giảm', 'sâu', 'trong', 'tháng', '3', '4', 'và', 'ghi_nhận', 'thấp', 'nhất', 'trong', 'hơn', 'hai', 'thập_niên', 'qua', 'kể', 'từ', 'lần', 'giá', 'dầu', 'chạm', 'đáy', 'vào', 'cuối', 'năm', '1999', 'Luỹ', 'kế', '6', 'tháng', 'đầu', 'năm', '2020', 'PV', 'Gas', 'đạt', '32', '721', 'tỉ', 'đồng', 'doanh_thu', 'thuần', 'giảm', '16', 'so', 'với', 'cùng', 'kỳ', 'Lợi_nhuận', 'sau', 'thuế', 'đạt', '4', '063', 'tỉ', 'đồng', 'giảm', '34', 'so', 'với', 'nửa', 'đầu', 'năm', '2019', 'trong', 'đó', 'chi_phí', 'lãi', 'vay', 'giảm', 'đáng_kể', 'và', 'hàng', 'trăm', 'tỉ', 'đồng', 'lãi', 'tiền', 'gửi', 'là', 'lực', 'đỡ', 'quan_trọng', 'cho', 'kết_quả', 'kinh_doanh', 'nửa', 'đầu', 'năm', '2020', 'của', 'PV', 'Gas_Trong', 'khi', 'đó', 'Gas_South', 'báo_cáo', 'doanh_thu', '2', '500', 'tỉ', 'đồng', 'và', 'lỗ', 'sau', 'thuế', '20', 'tỉ', 'đồng', 'Lợi_nhuận', 'của', 'PV', 'Gas', 'chỉ', 'bằng', '64', 'cùng', 'kỳ', 'năm', 'trước', 'là', 'do', 'từ', 'đầu', 'năm', '2020', 'đến', 'nay', 'dịch_bệnh', 'COVID', '19', 'diễn_biến', 'phức_tạp', 'lan', 'rộng', 'bùng_phát', 'tại', 'nhiều', 'quốc_gia', 'khu_vực', 'trên', 'thế_giới', 'đã', 'tác_động', 'ảnh_hưởng', 'xấu', 'đến', 'nền', 'kinh_tế', 'toàn_cầu', 'và', 'Việt_Nam', 'sản_xuất', 'lẫn', 'tiêu_thụ', 'sản_phẩm', 'đều', 'đình_đốn', 'nhu_cầu', 'nhiên_liệu', 'sụt_giảm', 'trong', 'đó', 'có', 'khí', 'và', 'LPG', 'Năm', '2020', 'PV', 'Gas', 'đặt', 'kế_hoạch', 'doanh_thu', '66', '163', '5', 'tỉ', 'giảm', '12', 'và', 'lợi_nhuận', 'sau', 'thuế', '6', '636', 'tỉ', 'giảm', 'mạnh', '45', 'so', 'với', 'kết_quả', 'thực_hiện', 'năm', '2019', 'Như_vậy', 'với', 'kế_hoạch', 'này', 'kết_thúc', 'nửa', 'đầu', 'năm', '2020', 'PV', 'Gas', 'đã', 'hoàn_thành', 'được', '49', 'mục_tiêu', 'về', 'doanh_thu', 'và', '61', 'mục_tiêu', 'về', 'lợi_nhuận']\n['Doanh_nghiệp', 'có', 'lãi', '6', '247', 'tỷ', 'đồng', 'sau', '9', 'tháng', 'giảm', '31', 'và', 'hoàn_thành', '94', 'kế_hoạch', 'năm', 'Tổng_công_ty', 'rót', 'thêm', 'tiền', 'để', 'đẩy', 'nhanh', 'các', 'dự_án', 'dở_dang', 'lớn', 'Tổng_Công_ty', 'Khí', 'Việt_Nam_PV', 'Gas_HoSE_GAS', 'vừa', 'công_bố', 'báo_cáo', 'tài_chính', 'hợp_nhất', 'quý', 'III', 'với', 'doanh_thu', 'thuần', 'giảm', 'hơn', '16', 'còn', '15', '937', 'tỷ', 'đồng', 'Lợi_nhuận', 'gộp', 'giảm', 'mạnh', '33', 'còn', '2', '906', 'tỷ', 'đồng', 'Trong', 'kỳ', 'doanh_thu', 'tài_chính', 'cũng', 'giảm', '14', 'còn', '384', 'tỷ', 'chủ_yếu', 'do', 'giảm', 'thu', 'lãi', 'tiền', 'gửi', 'Tuy_nhiên', 'các', 'chi_phí', 'tài_chính', 'chi_phí', 'bán', 'hàng', 'và', 'quản_lý', 'doanh_nghiệp', 'cũng', 'đều', 'được', 'tiết_giảm', 'so', 'với', 'cùng', 'kỳ', 'năm', 'trước', 'Theo', 'đó', 'lợi_nhuận', 'sau', 'thuế', 'cổ_đông', 'công_ty', 'mẹ', 'đạt', '2', '023', 'tỷ', 'đồng', 'giảm', '30', 'so', 'với', 'cùng', 'kỳ', 'Đơn_vị', 'tỷ', 'đồng', 'Luỹ', 'kế', '9', 'tháng', 'đầu', 'năm', 'PV', 'Gas', 'ghi_nhận', 'doanh_thu', 'giảm', '16', 'còn', '48', '625', 'tỷ', 'đồng', 'và', 'lợi_nhuận', 'cổ_đông', 'công_ty', 'mẹ', 'giảm', '31', 'còn', '6', '129', 'tỷ', 'đồng', 'Thu_nhập', 'trên', 'mỗi', 'cổ', 'phấn', 'sau', '9', 'tháng', 'đạt', '3', '057', 'đồng', 'Trong', 'buổi', 'báo_cáo', 'sản_xuất', '9', 'tháng', 'đầu', 'năm', 'lãnh_đạo', 'PV', 'Gas', 'cho', 'biết', 'các', 'chỉ_tiêu', 'tài_chính', 'thấp', 'hơn', 'cùng', 'kỳ', 'chủ_yếu', 'do', 'sản_lượng', 'khí', 'vào', 'bờ', 'giảm', '12', 'giá', 'dầu', 'trung_bình', 'các', 'mặt_hàng', 'giảm', 'như', 'Brent', 'giảm', '37', 'FO', 'giảm', '40', 'LPG', 'giảm', '10', 'Năm', '2020', 'tổng_công_ty', 'đặt', 'mục_tiêu', 'doanh_thu', '66', '164', 'tỷ', 'đồng', 'và', 'lợi_nhuận', 'sau', 'thuế', '6', '636', 'tỷ', 'đồng', 'Như_vậy', 'doanh_nghiệp', 'đã', 'hoàn_thành', 'hơn', '94', 'kế_hoạch', 'lợi_nhuận', 'năm', 'sau', '9', 'tháng', 'Tại', 'cuối', 'tháng', '9', 'tổng_tài', 'sản', 'của', 'PV', 'Gas', 'đạt', 'hơn', '61', '700', 'tỷ', 'đồng', 'phần_lớn', 'là', 'tiền', 'và', 'tiền', 'gửi', 'ngân_hàng', 'với', 'giá_trị', '26', '732', 'tỷ', 'đồng', 'giảm', '2', '660', 'tỷ', 'đồng', 'so', 'với', 'thời_điểm', 'đầu', 'năm', 'Trong', 'khi', 'đó', 'giá_trị', 'khoản', 'mục', 'tài_sản', 'dở_dang', 'dài_hạn', 'lại', 'tăng', '3', '400', 'tỷ', 'lên', '6', '420', 'tỷ', 'đồng', 'Các', 'dựa', 'án', 'dở_dang', 'được', 'tăng', 'mạnh', 'đầu_tư', 'là', 'đường_ống', 'dẫn', 'khí', 'Nam_Côn_Sơn', '2', '–', 'Giai_đoạn', 'II', 'dự_án', 'đường_ống', 'thu_gom', 'vận_chuyển', 'khí', 'mỏ', 'Sao_Vàng', 'Đại_Nguyệt', 'kho', 'chứa', 'LNG', 'quy_mô', '1', 'triệu', 'tấn', 'năm', 'tại', 'Thị_Vải_Tổng', 'công_ty', 'rót', 'thêm', 'tiền', 'để', 'đẩy', 'nhanh', 'các', 'dự_án', 'dở_dang', 'lớn']\n"
     ]
    }
   ],
   "source": [
    "X_test_new, y_test_new = data_process('./data/newtest.csv')\n",
    "ner_title_testnew = ner_title_feature('./data/newtest_feature.csv')\n",
    "X_test_new = pd.concat([X_test_new, ner_title_testnew], axis=1)"
   ]
  },
  {
   "cell_type": "code",
   "execution_count": 13,
   "metadata": {},
   "outputs": [],
   "source": [
    "from sklearn.feature_extraction.text import TfidfVectorizer\n",
    "\n",
    "tfidf = TfidfVectorizer()\n",
    "tfidf_matrix = tfidf.fit_transform(X_train['form_text'])\n",
    "feature_names = tfidf.get_feature_names()\n",
    "\n",
    "def get_ifidf_for_words(text):\n",
    "    tfidf_matrix= tfidf.transform([text]).todense()\n",
    "    feature_index = tfidf_matrix[0,:].nonzero()[1]\n",
    "    tfidf_scores = zip([feature_names[i] for i in feature_index], [tfidf_matrix[0, x] \n",
    "for x in feature_index])\n",
    "    return dict(tfidf_scores)"
   ]
  },
  {
   "cell_type": "code",
   "execution_count": 14,
   "metadata": {},
   "outputs": [],
   "source": [
    "X_train['ifidf_for_words'] = X_train['form_text'].apply(lambda x : get_ifidf_for_words(x))"
   ]
  },
  {
   "cell_type": "code",
   "execution_count": 15,
   "metadata": {},
   "outputs": [],
   "source": [
    "def get_tfidf_for_word(word, dic):\n",
    "    if word in dic.keys():\n",
    "        return dic[word]\n",
    "    else:\n",
    "        return 0\n",
    "\n",
    "def get_tfidf_for_docs(text, dic):\n",
    "    text_df = pd.DataFrame(text)\n",
    "    text_df.columns = ['word']\n",
    "    tfidf_words = text_df['word'].apply(lambda x: get_tfidf_for_word(x, dic))\n",
    "    return tfidf_words"
   ]
  },
  {
   "cell_type": "code",
   "execution_count": 16,
   "metadata": {},
   "outputs": [],
   "source": [
    "tfidf_docs = []\n",
    "for i,row in X_train[['form','ifidf_for_words']].iterrows():\n",
    "    tfidf_docs.append(get_tfidf_for_docs(row['form'],row['ifidf_for_words']))\n",
    "X_train['tfidf_docs'] = tfidf_docs"
   ]
  },
  {
   "cell_type": "code",
   "execution_count": 17,
   "metadata": {},
   "outputs": [
    {
     "output_type": "execute_result",
     "data": {
      "text/plain": [
       "                                           NewsTitle  \\\n",
       "0          VCB - Chủ tịch HĐQT đăng ký mua 10.000 CP   \n",
       "1  Sau 10 năm gắn bó, CEO Mekong Capital tiết lộ ...   \n",
       "2  4 tháng đầu năm, FPT báo lãi 1.113 tỷ đồng, tă...   \n",
       "3  Đại hội cổ đông năm 2013: Dự kiến trước tháng ...   \n",
       "4          VIC- Phó TGĐ đăng ký bán 11.000 CP từ 7/8   \n",
       "\n",
       "                                     NewsFullContent  \\\n",
       "0    Tên người thực hiện giao dịch Nghiêm Xuân Th...   \n",
       "1  Sau 10 năm gắn bó CEO Mekong Capital ông Chris...   \n",
       "2  Thông tin mới từ CTCP FPT cho biết sau 4 tháng...   \n",
       "3        Sáng ngày 6/4/2013 Đại hội cổ đông thườn...   \n",
       "4    Tên cá nhân thực hiện giao dịch Đặng Thanh T...   \n",
       "\n",
       "                                          list_label  \\\n",
       "0  [(tên, 1), (người, 0), (thực hiện, 1), (giao d...   \n",
       "1  [(sau, 0), (10, 0), (năm, 1), (gắn bó, 1), (ce...   \n",
       "2  [(thông tin, 1), (mới, 0), (từ, 1), (ctcp, 1),...   \n",
       "3  [(sáng, 1), (ngày, 1), (6/4/2013, 0), (đại hội...   \n",
       "4  [(tên, 1), (cá nhân, 1), (thực hiện, 1), (giao...   \n",
       "\n",
       "                                                form  \\\n",
       "0  [Tên, người, thực_hiện, giao_dịch, Nghiêm_Xuân...   \n",
       "1  [Sau, 10, năm, gắn_bó, CEO, Mekong_Capital, ôn...   \n",
       "2  [Thông_tin, mới, từ, CTCP, FPT, cho, biết, sau...   \n",
       "3  [Sáng, ngày, 6/4/2013, Đại_hội, cổ_đông, thườn...   \n",
       "4  [Tên, cá_nhân, thực_hiện, giao_dịch, Đặng_Than...   \n",
       "\n",
       "                                             pos_tag  \\\n",
       "0  [N, N, V, V, Np, V, Ny, N, N, E, N, V, N, Ny, ...   \n",
       "1  [E, M, N, V, Ny, Np, Nc, Np, R, A, V, N, Ny, N...   \n",
       "2  [N, A, E, Ny, Np, V, V, E, M, N, N, N, M, N, C...   \n",
       "3  [N, N, M, N, N, A, N, M, E, Ny, Ny, R, V, R, V...   \n",
       "4  [N, N, V, V, Np, V, Ny, N, N, E, N, V, N, Ny, ...   \n",
       "\n",
       "                                           form_text  \\\n",
       "0  Tên người thực_hiện giao_dịch Nghiêm_Xuân_Thàn...   \n",
       "1  Sau 10 năm gắn_bó CEO Mekong_Capital ông Chris...   \n",
       "2  Thông_tin mới từ CTCP FPT cho biết sau 4 tháng...   \n",
       "3  Sáng ngày 6/4/2013 Đại_hội cổ_đông thường_niên...   \n",
       "4  Tên cá_nhân thực_hiện giao_dịch Đặng_Thanh_Thu...   \n",
       "\n",
       "                                         name_entity  \\\n",
       "0  [0, 0, 0, 0, 1, 0, 0, 0, 0, 0, 0, 0, 0, 0, 0, ...   \n",
       "1  [0, 0, 0, 0, 0, 1, 0, 1, 0, 0, 0, 0, 1, 1, 1, ...   \n",
       "2  [0, 0, 0, 1, 1, 0, 0, 0, 0, 0, 0, 0, 0, 0, 0, ...   \n",
       "3  [0, 0, 0, 0, 0, 0, 0, 0, 0, 0, 1, 0, 0, 0, 0, ...   \n",
       "4  [0, 0, 0, 0, 1, 0, 1, 0, 0, 0, 0, 0, 0, 0, 0, ...   \n",
       "\n",
       "                                           title_tag  \\\n",
       "0  [0, 0, 0, 0, 0, 0, 1, 0, 0, 0, 0, 0, 1, 1, 0, ...   \n",
       "1  [1, 1, 1, 1, 1, 1, 0, 0, 0, 0, 0, 0, 0, 1, 1, ...   \n",
       "2  [0, 0, 0, 0, 1, 0, 0, 0, 1, 1, 1, 1, 0, 0, 0, ...   \n",
       "3  [0, 0, 0, 1, 1, 0, 1, 1, 0, 0, 1, 0, 0, 0, 0, ...   \n",
       "4  [0, 0, 0, 0, 0, 0, 1, 0, 0, 0, 0, 0, 1, 1, 0, ...   \n",
       "\n",
       "                                     ifidf_for_words  \\\n",
       "0  {'000': 0.06685812238906645, '10': 0.064727929...   \n",
       "1  {'10': 0.04171856896711965, '16': 0.0563790679...   \n",
       "2  {'025': 0.07691351045593753, '10': 0.025198740...   \n",
       "3  {'10': 0.02408314235801127, '150': 0.060900194...   \n",
       "4  {'000': 0.06174087593382586, '01': 0.151152681...   \n",
       "\n",
       "                                          tfidf_docs  \n",
       "0  0     0.000000\n",
       "1     0.081471\n",
       "2     0.381808\n",
       "3...  \n",
       "1  0      0.000000\n",
       "1      0.041719\n",
       "2      0.11272...  \n",
       "2  0      0.000000\n",
       "1      0.027940\n",
       "2      0.01812...  \n",
       "3  0      0.000000\n",
       "1      0.025390\n",
       "2      0.00000...  \n",
       "4  0     0.000000\n",
       "1     0.184373\n",
       "2     0.235056\n",
       "3...  "
      ],
      "text/html": "<div>\n<style scoped>\n    .dataframe tbody tr th:only-of-type {\n        vertical-align: middle;\n    }\n\n    .dataframe tbody tr th {\n        vertical-align: top;\n    }\n\n    .dataframe thead th {\n        text-align: right;\n    }\n</style>\n<table border=\"1\" class=\"dataframe\">\n  <thead>\n    <tr style=\"text-align: right;\">\n      <th></th>\n      <th>NewsTitle</th>\n      <th>NewsFullContent</th>\n      <th>list_label</th>\n      <th>form</th>\n      <th>pos_tag</th>\n      <th>form_text</th>\n      <th>name_entity</th>\n      <th>title_tag</th>\n      <th>ifidf_for_words</th>\n      <th>tfidf_docs</th>\n    </tr>\n  </thead>\n  <tbody>\n    <tr>\n      <th>0</th>\n      <td>VCB - Chủ tịch HĐQT đăng ký mua 10.000 CP</td>\n      <td>Tên người thực hiện giao dịch Nghiêm Xuân Th...</td>\n      <td>[(tên, 1), (người, 0), (thực hiện, 1), (giao d...</td>\n      <td>[Tên, người, thực_hiện, giao_dịch, Nghiêm_Xuân...</td>\n      <td>[N, N, V, V, Np, V, Ny, N, N, E, N, V, N, Ny, ...</td>\n      <td>Tên người thực_hiện giao_dịch Nghiêm_Xuân_Thàn...</td>\n      <td>[0, 0, 0, 0, 1, 0, 0, 0, 0, 0, 0, 0, 0, 0, 0, ...</td>\n      <td>[0, 0, 0, 0, 0, 0, 1, 0, 0, 0, 0, 0, 1, 1, 0, ...</td>\n      <td>{'000': 0.06685812238906645, '10': 0.064727929...</td>\n      <td>0     0.000000\n1     0.081471\n2     0.381808\n3...</td>\n    </tr>\n    <tr>\n      <th>1</th>\n      <td>Sau 10 năm gắn bó, CEO Mekong Capital tiết lộ ...</td>\n      <td>Sau 10 năm gắn bó CEO Mekong Capital ông Chris...</td>\n      <td>[(sau, 0), (10, 0), (năm, 1), (gắn bó, 1), (ce...</td>\n      <td>[Sau, 10, năm, gắn_bó, CEO, Mekong_Capital, ôn...</td>\n      <td>[E, M, N, V, Ny, Np, Nc, Np, R, A, V, N, Ny, N...</td>\n      <td>Sau 10 năm gắn_bó CEO Mekong_Capital ông Chris...</td>\n      <td>[0, 0, 0, 0, 0, 1, 0, 1, 0, 0, 0, 0, 1, 1, 1, ...</td>\n      <td>[1, 1, 1, 1, 1, 1, 0, 0, 0, 0, 0, 0, 0, 1, 1, ...</td>\n      <td>{'10': 0.04171856896711965, '16': 0.0563790679...</td>\n      <td>0      0.000000\n1      0.041719\n2      0.11272...</td>\n    </tr>\n    <tr>\n      <th>2</th>\n      <td>4 tháng đầu năm, FPT báo lãi 1.113 tỷ đồng, tă...</td>\n      <td>Thông tin mới từ CTCP FPT cho biết sau 4 tháng...</td>\n      <td>[(thông tin, 1), (mới, 0), (từ, 1), (ctcp, 1),...</td>\n      <td>[Thông_tin, mới, từ, CTCP, FPT, cho, biết, sau...</td>\n      <td>[N, A, E, Ny, Np, V, V, E, M, N, N, N, M, N, C...</td>\n      <td>Thông_tin mới từ CTCP FPT cho biết sau 4 tháng...</td>\n      <td>[0, 0, 0, 1, 1, 0, 0, 0, 0, 0, 0, 0, 0, 0, 0, ...</td>\n      <td>[0, 0, 0, 0, 1, 0, 0, 0, 1, 1, 1, 1, 0, 0, 0, ...</td>\n      <td>{'025': 0.07691351045593753, '10': 0.025198740...</td>\n      <td>0      0.000000\n1      0.027940\n2      0.01812...</td>\n    </tr>\n    <tr>\n      <th>3</th>\n      <td>Đại hội cổ đông năm 2013: Dự kiến trước tháng ...</td>\n      <td>Sáng ngày 6/4/2013 Đại hội cổ đông thườn...</td>\n      <td>[(sáng, 1), (ngày, 1), (6/4/2013, 0), (đại hội...</td>\n      <td>[Sáng, ngày, 6/4/2013, Đại_hội, cổ_đông, thườn...</td>\n      <td>[N, N, M, N, N, A, N, M, E, Ny, Ny, R, V, R, V...</td>\n      <td>Sáng ngày 6/4/2013 Đại_hội cổ_đông thường_niên...</td>\n      <td>[0, 0, 0, 0, 0, 0, 0, 0, 0, 0, 1, 0, 0, 0, 0, ...</td>\n      <td>[0, 0, 0, 1, 1, 0, 1, 1, 0, 0, 1, 0, 0, 0, 0, ...</td>\n      <td>{'10': 0.02408314235801127, '150': 0.060900194...</td>\n      <td>0      0.000000\n1      0.025390\n2      0.00000...</td>\n    </tr>\n    <tr>\n      <th>4</th>\n      <td>VIC- Phó TGĐ đăng ký bán 11.000 CP từ 7/8</td>\n      <td>Tên cá nhân thực hiện giao dịch Đặng Thanh T...</td>\n      <td>[(tên, 1), (cá nhân, 1), (thực hiện, 1), (giao...</td>\n      <td>[Tên, cá_nhân, thực_hiện, giao_dịch, Đặng_Than...</td>\n      <td>[N, N, V, V, Np, V, Ny, N, N, E, N, V, N, Ny, ...</td>\n      <td>Tên cá_nhân thực_hiện giao_dịch Đặng_Thanh_Thu...</td>\n      <td>[0, 0, 0, 0, 1, 0, 1, 0, 0, 0, 0, 0, 0, 0, 0, ...</td>\n      <td>[0, 0, 0, 0, 0, 0, 1, 0, 0, 0, 0, 0, 1, 1, 0, ...</td>\n      <td>{'000': 0.06174087593382586, '01': 0.151152681...</td>\n      <td>0     0.000000\n1     0.184373\n2     0.235056\n3...</td>\n    </tr>\n  </tbody>\n</table>\n</div>"
     },
     "metadata": {},
     "execution_count": 17
    }
   ],
   "source": [
    "X_train.head()"
   ]
  },
  {
   "cell_type": "code",
   "execution_count": 18,
   "metadata": {},
   "outputs": [],
   "source": [
    "def combine_feature(X):\n",
    "    features = []\n",
    "    for i in range(len(X)):\n",
    "        form = pd.DataFrame(X['form'][i])\n",
    "        \n",
    "        pos_tag = pd.DataFrame(X['pos_tag'][i])\n",
    "        tfidf_docs = pd.DataFrame(X['tfidf_docs'][i])\n",
    "        name_entity = pd.DataFrame(X['name_entity'][i])\n",
    "        title_tag = pd.DataFrame(X['title_tag'][i])\n",
    "        df_col_merged = pd.concat([form, pos_tag,tfidf_docs,name_entity,title_tag], axis=1)\n",
    "        feature = df_col_merged.values.tolist()\n",
    "        features.append(feature)\n",
    "    X['features'] = features "
   ]
  },
  {
   "cell_type": "code",
   "execution_count": 19,
   "metadata": {
    "tags": []
   },
   "outputs": [],
   "source": [
    "combine_feature(X_train)"
   ]
  },
  {
   "cell_type": "code",
   "execution_count": 20,
   "metadata": {},
   "outputs": [],
   "source": [
    "tfidf_matrix = tfidf.transform(X_test['form_text'])\n",
    "feature_names = tfidf.get_feature_names()\n",
    "\n",
    "def get_ifidf_for_words(text):\n",
    "    tfidf_matrix= tfidf.transform([text]).todense()\n",
    "    feature_index = tfidf_matrix[0,:].nonzero()[1]\n",
    "    tfidf_scores = zip([feature_names[i] for i in feature_index], [tfidf_matrix[0, x] for x in feature_index])\n",
    "    return dict(tfidf_scores)\n",
    "\n",
    "X_test['ifidf_for_words'] = X_test['form_text'].apply(lambda x : get_ifidf_for_words(x))\n",
    "\n",
    "tfidf_docs = []\n",
    "for i,row in X_test[['form','ifidf_for_words']].iterrows():\n",
    "    tfidf_docs.append(get_tfidf_for_docs(row['form'],row['ifidf_for_words']))\n",
    "X_test['tfidf_docs'] = tfidf_docs\n",
    "X_test = X_test.reset_index()\n",
    "combine_feature(X_test)\n"
   ]
  },
  {
   "cell_type": "code",
   "execution_count": 21,
   "metadata": {},
   "outputs": [],
   "source": [
    "def test_feature(X):\n",
    "    tfidf_matrix = tfidf.transform(X['form_text'])\n",
    "    feature_names = tfidf.get_feature_names()\n",
    "    X['ifidf_for_words'] = X['form_text'].apply(lambda x : get_ifidf_for_words(x))\n",
    "    tfidf_docs = []\n",
    "    for i,row in X[['form','ifidf_for_words']].iterrows():\n",
    "        tfidf_docs.append(get_tfidf_for_docs(row['form'],row['ifidf_for_words']))\n",
    "    X['tfidf_docs'] = tfidf_docs\n",
    "    X = X.reset_index()\n",
    "    combine_feature(X)\n",
    "    return X\n"
   ]
  },
  {
   "cell_type": "code",
   "execution_count": 22,
   "metadata": {},
   "outputs": [],
   "source": [
    "X_test_new = test_feature(X_test_new)"
   ]
  },
  {
   "cell_type": "code",
   "execution_count": 23,
   "metadata": {},
   "outputs": [],
   "source": [
    "X_train['y'] = y_train\n",
    "X_test['y'] = y_test\n",
    "X_test_new['y']= y_test_new\n",
    "X_train[['features','y']].to_csv('training.csv')\n",
    "X_test[['features','y']].to_csv('testing.csv')\n",
    "X_test_new[['features','y']].to_csv('newtest.csv')"
   ]
  },
  {
   "cell_type": "code",
   "execution_count": 24,
   "metadata": {},
   "outputs": [
    {
     "output_type": "execute_result",
     "data": {
      "text/plain": [
       "Index(['index', 'NewsTitle', 'NewsFullContent', 'list_label', 'form',\n",
       "       'pos_tag', 'form_text', 'name_entity', 'title_tag', 'ifidf_for_words',\n",
       "       'tfidf_docs', 'features', 'y'],\n",
       "      dtype='object')"
      ]
     },
     "metadata": {},
     "execution_count": 24
    }
   ],
   "source": [
    "X_test.columns"
   ]
  },
  {
   "cell_type": "code",
   "execution_count": 25,
   "metadata": {},
   "outputs": [],
   "source": [
    "def word2features(doc, i):\n",
    "    word = doc[i][0]\n",
    "    postag = doc[i][1]\n",
    "    tfidf = doc[i][2]\n",
    "    ner = doc[i][3]\n",
    "    title = doc[i][4]\n",
    "    # Common features for all words\n",
    "    features = [\n",
    "        'bias',\n",
    "        'word.lower=' + word.lower(),\n",
    "        'word.isner=%s' % ner,\n",
    "        'tfidf=%f' % tfidf,\n",
    "        'word.istitle=%s' % title,\n",
    "        'postag=' + postag\n",
    "    ]\n",
    "\n",
    "    # Features for words that are not\n",
    "    # at the beginning of a document\n",
    "    if i > 0:\n",
    "        word1 = doc[i-1][0]\n",
    "        postag1 = doc[i-1][1]\n",
    "        tfidf1 = doc[i-1][2]\n",
    "        ner1 = doc[i-1][3]\n",
    "        title1 = doc[i-1][4]\n",
    "        features.extend([\n",
    "            '-1:word.lower=' + word1.lower(),\n",
    "            '-1:word.isner=%s' % ner1,\n",
    "            '-1:tfidf=%f'  % tfidf1,\n",
    "            '-1:word.istitle=%s' % title1,\n",
    "            '-1:postag=' + postag1\n",
    "        ])\n",
    "    else:\n",
    "        # Indicate that it is the 'beginning of a document'\n",
    "        features.append('BOS')\n",
    "\n",
    "    # Features for words that are not\n",
    "    # at the end of a document\n",
    "    if i < len(doc)-1:\n",
    "        word1 = doc[i+1][0]\n",
    "        postag1 = doc[i+1][1]\n",
    "        tfidf1 = doc[i+1][2]\n",
    "        ner1 = doc[i+1][3]\n",
    "        title1 = doc[i+1][4]\n",
    "        features.extend([\n",
    "            '+1:word.lower=' + word1.lower(),\n",
    "            '+1:word.isner=%s' % ner1,\n",
    "            '+1:tfidf=%f'  % tfidf1,\n",
    "            '+1:word.istitle=%s' % title1,\n",
    "            '+1:postag=' + postag1\n",
    "        ])\n",
    "    else:\n",
    "        # Indicate that it is the 'end of a document'\n",
    "        features.append('EOS')\n",
    "\n",
    "    return features"
   ]
  },
  {
   "cell_type": "code",
   "execution_count": 26,
   "metadata": {},
   "outputs": [],
   "source": [
    "def extract_features(doc):\n",
    "    return [word2features(doc, i) for i in range(len(doc))]\n",
    "\n",
    "\n",
    "X_train1 = [extract_features(doc) for doc in X_train['features']]\n",
    "X_test1 = [extract_features(doc) for doc in X_test['features']]\n",
    "X_test_new1 = [extract_features(doc) for doc in X_test_new['features']]"
   ]
  },
  {
   "cell_type": "code",
   "execution_count": 27,
   "metadata": {},
   "outputs": [],
   "source": [
    "def convert(y):\n",
    "    y_ = y.copy()\n",
    "    for i in range(len(y)):\n",
    "        if y_[i] == 0:\n",
    "            y_[i] = 'N'\n",
    "        else:\n",
    "            y_[i] = 'I'\n",
    "    return y_"
   ]
  },
  {
   "cell_type": "code",
   "execution_count": 28,
   "metadata": {},
   "outputs": [],
   "source": [
    "for i in range(len(y_train)):\n",
    "    y_train[i] = convert(y_train[i])\n",
    "for i in range(len(y_test)):\n",
    "    y_test[i] = convert(y_test[i])\n",
    "for i in range(len(y_test_new)):\n",
    "    y_test_new[i] = convert(y_test_new[i])"
   ]
  },
  {
   "cell_type": "code",
   "execution_count": 29,
   "metadata": {},
   "outputs": [],
   "source": [
    "from sklearn_crfsuite import CRF"
   ]
  },
  {
   "cell_type": "code",
   "execution_count": 30,
   "metadata": {},
   "outputs": [
    {
     "output_type": "execute_result",
     "data": {
      "text/plain": [
       "CRF(algorithm='lbfgs', all_possible_transitions=True, c1=0.1, c2=0.1,\n",
       "    keep_tempfiles=None, max_iterations=200)"
      ]
     },
     "metadata": {},
     "execution_count": 30
    }
   ],
   "source": [
    "crf = CRF(\n",
    "    algorithm='lbfgs',\n",
    "    c1=0.1,\n",
    "    c2=0.1,\n",
    "    max_iterations=200,\n",
    "    all_possible_transitions=True\n",
    ")\n",
    "crf.fit(X_train1, y_train)"
   ]
  },
  {
   "cell_type": "code",
   "execution_count": 35,
   "metadata": {},
   "outputs": [
    {
     "output_type": "stream",
     "name": "stdout",
     "text": [
      "Accuracy: 0.9911981159846924\n"
     ]
    }
   ],
   "source": [
    "y_pred = crf.predict(X_test1)\n",
    "print(\"Accuracy:\", crf.score(X_test1, y_test))"
   ]
  },
  {
   "cell_type": "code",
   "execution_count": 37,
   "metadata": {},
   "outputs": [
    {
     "output_type": "stream",
     "name": "stdout",
     "text": [
      "              precision    recall  f1-score   support\n\n           N       0.99      0.98      0.99     12860\n           I       0.99      1.00      0.99     21110\n\n    accuracy                           0.99     33970\n   macro avg       0.99      0.99      0.99     33970\nweighted avg       0.99      0.99      0.99     33970\n\n"
     ]
    }
   ],
   "source": [
    "import numpy as np\n",
    "from sklearn.metrics import classification_report\n",
    "\n",
    "# Create a mapping of labels to indices\n",
    "labels = {\"N\": 0, \"I\": 1}\n",
    "\n",
    "# Convert the sequences of tags into a 1-dimensional array\n",
    "predictions = np.array([labels[tag] for row in y_pred for tag in row])\n",
    "truths = np.array([labels[tag] for row in y_test for tag in row])\n",
    "\n",
    "# Print out the classification report\n",
    "print(classification_report(\n",
    "    truths, predictions,\n",
    "    target_names=[\"N\", \"I\"]))\n"
   ]
  },
  {
   "cell_type": "code",
   "execution_count": 40,
   "metadata": {},
   "outputs": [
    {
     "output_type": "stream",
     "name": "stdout",
     "text": [
      "Accuaracy:  0.9863709992738647\n"
     ]
    }
   ],
   "source": [
    "y_pred_1 = crf.predict(X_test_new1)\n",
    "print(\"Accuaracy: \",crf.score(X_test_new1, y_test_new))"
   ]
  },
  {
   "cell_type": "code",
   "execution_count": 38,
   "metadata": {},
   "outputs": [
    {
     "output_type": "stream",
     "name": "stdout",
     "text": [
      "              precision    recall  f1-score   support\n\n           N       0.98      0.98      0.98      7222\n           I       0.99      0.99      0.99     10681\n\n    accuracy                           0.99     17903\n   macro avg       0.99      0.99      0.99     17903\nweighted avg       0.99      0.99      0.99     17903\n\n"
     ]
    }
   ],
   "source": [
    "# Create a mapping of labels to indices\n",
    "labels = {\"N\": 0, \"I\": 1}\n",
    "\n",
    "# Convert the sequences of tags into a 1-dimensional array\n",
    "predictions = np.array([labels[tag] for row in y_pred_1 for tag in row])\n",
    "truths = np.array([labels[tag] for row in y_test_new for tag in row])\n",
    "\n",
    "# Print out the classification report\n",
    "print(classification_report(\n",
    "    truths, predictions,\n",
    "    target_names=[\"N\", \"I\"]))"
   ]
  },
  {
   "cell_type": "code",
   "execution_count": 41,
   "metadata": {},
   "outputs": [
    {
     "output_type": "execute_result",
     "data": {
      "text/plain": [
       "('6 tháng, PNJ báo lãi hợp nhất đạt hơn 146 tỷ đồng',\n",
       " '  Theo đó doanh thu thuần trong quý 2 của PNJ đạt 2 471 tỷ tăng 21% so với cùng kỳ  Trong đó doanh thu từ vàng bạc đá quý đạt 1 760 tỷ doanh thu bán xăng dầu đạt gần 700 tỷ; doanh thu từ bán đồng hồ phụ kiện đạt hơn 2 tỷ và doanh thu từ cung cấp dịch vụ đạt 9 6 tỷ     Lợi nhuận gộp trong quý 2 của PNJ tăng 47 2% đạt 201 tỷ; doanh thu tài chính tăng hơn 1 633% đạt 12 3 tỷ; chi phí bán hàng tăng 23 8% lên hơn 80 tỷ chi phí quản lý tăng gần 34% lên 30 5 tỷ     Trong quý này công ty ghi nhận lỗ từ công ty liên doanh liên kết là hơn 616 triệu  cùng kỳ lãi 2 8 tỷ ; lợi nhuận sau thuế trong quý 2 tăng 170% so với cùng kỳ đạt 63 8 tỷ đồng; lợi nhuận sau thuế của cổ đông công ty mẹ tăng 150 8% so với cùng kỳ đạt 59 2 tỷ     Lũy kế 6 tháng đầu năm 2014 doanh thu thuần của PNJ đạt 4 924 6 tỷ tăng 29% so với cùng kỳ; lợi nhuận sau thuế đạt 146 4 tỷ tăng 63 5% so với cùng kỳ  EPS đạt 1 822 đồng riêng EPS quý 2 đạt 783 đồng     Theo PNJ có bốn nguyên nhân làm cho doanh thu và lợi nhuận trong quý 2/2014 tăng so với cùng kỳ gồm Một là doanh thu tăng từ hoạt động kinh doanh hợp nhất bán xăng dầu Công ty SFC làm tăng 32% so với cùng kỳ; doanh thu từ hoạt động kinh doanh vàng bạc giảm 11% chủ yếu do doanh thu hoạt động vàng miếng giảm 443 tỷ tương đương giảm 21 5%; hoạt động kinh doanh nữ trang tăng 10% so với cùng kỳ     Hai là lợi nhuận trước thuế đạt 77 5 tỷ tăng so với cùng kỳ do hợp nhất kết quả hoạt động kinh doanh SFC là 11 7 tỷ lợi nhuận từ hoạt động kinh doanh của PNJ tăng 33 8 tỷ tương ứng tăng 128% do giá vàng ổn định hoạt động kinh doanh tăng trưởng tốt ở các mặt hàng có giá trị     Ba là chi phí phát sinh của PNJ trong kỳ tăng 14%; chi phí bán hàng và quản lý hợp nhất từ SFC là 15 46 tỷ tương tăng 18% đồng thời PNJ áp dụng các chính sách khuyến mãi giảm giá kích cầu trong tình hình sức mua có dấu hiệu tốt     Bốn là trong kỳ PNJ ghi nhận khoản thu nhập từ cổ tức từ Ngân hàng Thương mại Cổ phần Đông Á là gần 7 7 tỷ đồng tăng so với cùng kỳ         ',\n",
       " array(['theo', 'doanh_thu', 'trong', 'quý', 'của', 'pnj', 'tỷ', 'tăng',\n",
       "        'với', 'trong', 'doanh_thu', 'từ', 'đá_quý', 'tỷ', 'doanh_thu',\n",
       "        'bán', 'gần', 'tỷ', 'doanh_thu', 'từ', 'bán', 'đồng_hồ',\n",
       "        'phụ_kiện', 'hơn', 'tỷ', 'và', 'doanh_thu', 'từ', 'cung_cấp', 'tỷ',\n",
       "        'lợi_nhuận', 'trong', 'quý', 'của', 'pnj', 'tăng', 'tỷ',\n",
       "        'doanh_thu', 'tài_chính', 'tăng', 'hơn', 'tỷ', 'chi_phí', 'bán',\n",
       "        'hàng', 'tăng', 'lên', 'hơn', 'tỷ', 'chi_phí', 'quản_lý', 'tăng',\n",
       "        'gần', 'lên', 'tỷ', 'trong', 'quý', 'công_ty', 'từ', 'công_ty',\n",
       "        'liên_doanh', 'liên_kết', 'là', 'hơn', 'triệu', 'tỷ', 'lợi_nhuận',\n",
       "        'trong', 'quý', 'tăng', 'với', 'tỷ', 'đồng', 'lợi_nhuận', 'của',\n",
       "        'cổ_đông', 'công_ty', 'mẹ', 'tăng', 'với', 'tỷ', 'tháng', 'đầu',\n",
       "        'năm', 'doanh_thu', 'của', 'pnj', 'tỷ', 'tăng', 'với', 'lợi_nhuận',\n",
       "        'tỷ', 'tăng', 'với', 'đồng', 'quý', 'đồng', 'theo', 'pnj', 'có',\n",
       "        'nguyên_nhân', 'làm', 'cho', 'doanh_thu', 'và', 'lợi_nhuận',\n",
       "        'trong', 'quý', 'tăng', 'với', 'một', 'là', 'doanh_thu', 'tăng',\n",
       "        'từ', 'hoạt_động', 'kinh_doanh', 'hợp_nhất', 'bán', 'công_ty',\n",
       "        'làm', 'tăng', 'với', 'doanh_thu', 'từ', 'hoạt_động', 'kinh_doanh',\n",
       "        'giảm', 'chủ_yếu', 'doanh_thu', 'hoạt_động', 'vàng', 'giảm', 'tỷ',\n",
       "        'tương_đương', 'giảm', 'hoạt_động', 'kinh_doanh', 'tăng', 'với',\n",
       "        'là', 'lợi_nhuận', 'trước', 'tỷ', 'tăng', 'với', 'hợp_nhất',\n",
       "        'kết_quả', 'hoạt_động', 'kinh_doanh', 'là', 'tỷ', 'lợi_nhuận',\n",
       "        'từ', 'hoạt_động', 'kinh_doanh', 'của', 'pnj', 'tăng', 'tỷ',\n",
       "        'tương_ứng', 'tăng', 'giá', 'vàng', 'ổn_định', 'hoạt_động',\n",
       "        'kinh_doanh', 'tăng_trưởng', 'tốt', 'ở', 'mặt_hàng', 'có',\n",
       "        'giá_trị', 'là', 'chi_phí', 'phát_sinh', 'của', 'pnj', 'trong',\n",
       "        'tăng', 'chi_phí', 'bán', 'hàng', 'và', 'quản_lý', 'hợp_nhất',\n",
       "        'từ', 'là', 'tỷ', 'tăng', 'đồng_thời', 'pnj', 'áp_dụng',\n",
       "        'chính_sách', 'khuyến_mãi', 'giảm_giá', 'kích_cầu', 'trong', 'có',\n",
       "        'dấu_hiệu', 'tốt', 'là', 'trong', 'pnj', 'thu_nhập', 'từ',\n",
       "        'cổ_tức', 'từ', 'ngân_hàng', 'thương_mại', 'cổ_phần', 'đông_á',\n",
       "        'là', 'gần', 'tỷ', 'đồng', 'tăng', 'với'], dtype=object))"
      ]
     },
     "metadata": {},
     "execution_count": 41
    }
   ],
   "source": [
    "def test_result(X_test, X_test1, y_pred, row_to_check = 0):\n",
    "    x_ = X_test1[row_to_check]\n",
    "    y_ = y_pred[row_to_check]\n",
    "    x_word = []\n",
    "    for i in range(len(x_)):\n",
    "        x_word.append(x_[i][1].split(sep='=')[-1])\n",
    "    df = pd.DataFrame({'X_test': x_word, 'y_pred': y_})\n",
    "    df = df[df['y_pred'] == 'I']\n",
    "    key_extract = df['X_test'].values\n",
    "    full_content = X_test['NewsFullContent'].loc[row_to_check]\n",
    "    title = X_test['NewsTitle'].loc[row_to_check]\n",
    "    return title, full_content, key_extract\n",
    "\n",
    "test_result(X_test, X_test1, y_pred,row_to_check = 1)"
   ]
  },
  {
   "cell_type": "code",
   "execution_count": 42,
   "metadata": {},
   "outputs": [
    {
     "output_type": "execute_result",
     "data": {
      "text/plain": [
       "('BIDV rao bán tàu Ocean Queen với giá khởi điểm hơn 300 tỷ đồng',\n",
       " 'Giá khởi điểm hơn 300 tỷ đồng nói trên không bao gồm các chi phí liên quan đến việc chuyển quyền sở hữu/sử dụng tài sản phí đăng ký và các phí khác  nếu có  khi thực hiện mua khoản nợ  Các chi phí này do người trúng đấu giá chịu  Các đơn vị tham gia đấu giá phải đặt cọc hơn 15 tỷ đồng     Tàu Ocean Queen có giấy chứng nhận đăng ký tàu biển số HP BUI 001190 4 cấp tại Hải Phòng ngày 9/8/2017     Trước đó hồi năm 2011 Tổng Công ty Công nghiệp Tàu thuỷ Nam Triệu đã hạ thuỷ tàu chở hàng rời 53 000 tấn mang tên Ocean Queen  Tàu được đóng mới cho chủ tàu là Công ty Vận tải biển Hoa Ngọc Lan     Ocean Queen do công ty Carl Bro  Đan Mạch  thiết kế với chiều dài 190m rộng 32 26m trọng tải 53 000 tấn  Tàu được Tổng Công ty Công nghiệp Tàu thuỷ Nam Triệu đóng và hạ thuỷ từ năm 2007 nhưng chủ tàu Graig  Vương quốc Anh  không nhận tàu     Được biết năm 2010 Hoa Ngọc Lan đã đàm phán với Nam Triệu mua Ocean Queen với giá 33 triệu USD tương ứng khoảng 627 tỷ đồng  tỷ giá 19 000 đồng/USD   Theo thỏa thuận bên mua tàu có trách nhiệm làm việc với ngân hàng để cho Nam Triệu vay khoảng 150 tỷ đồng để hoàn thiện tàu       Cùng thời điểm  tháng 10/2010  ký hợp đồng mua tàu Hoa Ngọc Lan cũng được Ngân hàng BIDV chi nhánh Bắc Hà Nội ký hợp đồng cấp tín dụng tối đa 29 7 triệu USD để đầu tư mua tàu 53 000 DWT thời hạn vay 8 năm thế chấp bằng chính con tàu này       Công ty Hoa Ngọc Lan được thành lập năm 2008 có trụ sở tại Thái Bình hoạt động trong ngành vận tải biển  Hoa Ngọc Lan từng gây chú ý vào cuối năm 2013 khi đề nghị mua lại hơn chục con tàu đóng dở kèm nợ vay hàng nghìn tỷ đồng để đóng những tàu ấy của Vinashin   ',\n",
       " array(['giá', 'hơn', 'tỷ', 'đồng', 'nói', 'trên', 'không', 'bao_gồm',\n",
       "        'chi_phí', 'liên_quan', 'đến', 'quyền_sở_hữu', 'sử_dụng',\n",
       "        'tài_sản', 'phí', 'đăng_ký', 'và', 'phí', 'khác', 'thực_hiện',\n",
       "        'mua', 'nợ', 'chi_phí', 'trúng', 'đấu_giá', 'chịu', 'tham_gia',\n",
       "        'đấu_giá', 'phải', 'hơn', 'tỷ', 'đồng', 'tàu', 'có', 'giấy',\n",
       "        'chứng_nhận', 'đăng_ký', 'tàu_biển', 'số', 'cấp', 'tại',\n",
       "        'hải_phòng', 'ngày', 'trước', 'năm', 'tổng_công_ty', 'công_nghiệp',\n",
       "        'tàu_thuỷ', 'nam_triệu', 'đã', 'hạ_thuỷ', 'tàu', 'hàng', 'rời',\n",
       "        'tấn', 'mang', 'tên', 'được', 'đóng', 'cho', 'tàu', 'là',\n",
       "        'công_ty', 'vận_tải_biển', 'hoa_ngọc_lan_ocean', 'queen',\n",
       "        'công_ty', 'carl_bro_đan_mạch', 'thiết_kế', 'với', 'chiều', 'rộng',\n",
       "        'tấn', 'được', 'tổng_công_ty', 'công_nghiệp', 'tàu_thuỷ',\n",
       "        'nam_triệu', 'đóng', 'và', 'từ', 'năm', 'nhưng', 'tàu', 'không',\n",
       "        'nhận', 'tàu', 'được', 'biết', 'năm', 'hoa_ngọc_lan', 'đã',\n",
       "        'đàm_phán', 'với', 'nam_triệu', 'mua', 'với', 'giá', 'triệu',\n",
       "        'tương_ứng', 'khoảng', 'tỷ', 'đồng', 'đồng', 'theo', 'mua', 'tàu',\n",
       "        'có', 'trách_nhiệm', 'làm_việc', 'với', 'ngân_hàng', 'cho',\n",
       "        'nam_triệu', 'vay', 'khoảng', 'tỷ', 'đồng', 'hoàn_thiện', 'tàu',\n",
       "        'tháng', 'hợp_đồng', 'mua', 'tàu', 'hoa_ngọc_lan', 'cũng', 'được',\n",
       "        'ngân_hàng', 'bidv', 'chi_nhánh', 'bắc', 'hà', 'nội', 'hợp_đồng',\n",
       "        'cấp', 'tín_dụng', 'tối_đa', 'triệu', 'đầu_tư', 'mua', 'tàu',\n",
       "        'vay', 'năm', 'thế_chấp', 'bằng', 'chính', 'tàu', 'công_ty',\n",
       "        'hoa_ngọc_lan', 'được', 'thành_lập', 'năm', 'có', 'tại',\n",
       "        'thái_bình', 'hoạt_động', 'trong', 'vận_tải_biển', 'hoa_ngọc_lan',\n",
       "        'chú_ý', 'năm', 'đề_nghị', 'mua', 'hơn', 'tàu', 'đóng', 'kèm',\n",
       "        'nợ', 'vay', 'hàng', 'nghìn', 'tỷ', 'đồng', 'đóng', 'những', 'tàu',\n",
       "        'của', 'vinashin'], dtype=object))"
      ]
     },
     "metadata": {},
     "execution_count": 42
    }
   ],
   "source": [
    "test_result(X_test, X_test1, y_pred,row_to_check = 3)"
   ]
  },
  {
   "cell_type": "code",
   "execution_count": 43,
   "metadata": {},
   "outputs": [
    {
     "output_type": "execute_result",
     "data": {
      "text/plain": [
       "('STB - Lãi ròng quý I chỉ bằng 25,44% so với cùng kỳ',\n",
       " '  Trong quý I ngoài thu nhập thuần từ lãi của STB đạt 1 238 72 tỷ đồng giảm trên 36% so với cùng kỳ còn lại các mảng khác đều có mức tăng trưởng     Cụ thể như lãi thuần từ hoạt động dịch vụ đạt 312 93 tỷ đồng tăng gần 27%; lãi thuần từ hoạt động khác đạt 90 53 tỷ đồng trong khi cùng kỳ đạt có trên 9 tỷ đồng     Mảng kinh doanh ngoại hối đạt 63 25 tỷ đồng tăng 45 8%     Quý này STB phải chi 1 464 55 tỷ đồng cho chi phí hoạt động tăng gần 33% đã làm cho lợi nhuận thuần của các cổ đông giảm mạnh so với cùng kỳ còn 161 95 tỷ đồng     Tải file gốc        ',\n",
       " array(['trong', 'quý', 'ngoài', 'thu_nhập', 'từ', 'của', 'stb', 'tỷ',\n",
       "        'đồng', 'giảm', 'trên', 'với', 'mảng', 'khác', 'đều', 'có',\n",
       "        'tăng_trưởng', 'cụ_thể', 'từ', 'hoạt_động', 'tỷ', 'đồng', 'tăng',\n",
       "        'gần', 'từ', 'hoạt_động', 'khác', 'tỷ', 'đồng', 'trong', 'có',\n",
       "        'trên', 'tỷ', 'đồng', 'mảng', 'kinh_doanh', 'tỷ', 'đồng', 'tăng',\n",
       "        'quý', 'stb', 'tỷ', 'đồng', 'cho', 'chi_phí', 'hoạt_động', 'tăng',\n",
       "        'gần', 'đã', 'làm', 'cho', 'lợi_nhuận', 'của', 'cổ_đông', 'giảm',\n",
       "        'với', 'tỷ', 'đồng', 'tải', 'gốc'], dtype=object))"
      ]
     },
     "metadata": {},
     "execution_count": 43
    }
   ],
   "source": [
    "test_result(X_test, X_test1, y_pred,row_to_check = 18)"
   ]
  },
  {
   "cell_type": "code",
   "execution_count": null,
   "metadata": {},
   "outputs": [],
   "source": []
  }
 ]
}